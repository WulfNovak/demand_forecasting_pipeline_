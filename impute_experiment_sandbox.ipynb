{
 "cells": [
  {
   "cell_type": "code",
   "execution_count": 11,
   "id": "2aa388bb",
   "metadata": {},
   "outputs": [],
   "source": [
    "# Setup\n",
    "import numpy as np\n",
    "import pickle\n",
    "import pandas as pd\n",
    "from datetime import datetime\n",
    "import matplotlib.pyplot as plt\n",
    "import plotly.express as px\n",
    "from pathlib import Path\n",
    "import seaborn as sns\n",
    "from sklearn.metrics import mean_absolute_error\n",
    "from statsforecast import StatsForecast\n",
    "from statsforecast.models import AutoETS\n",
    "from prophet import Prophet\n",
    "\n",
    "# Multiple outputs per cell\n",
    "%config InteractiveShell.ast_node_interactivity = 'all'\n",
    "\n",
    "# Functions\n",
    "def create_hour_minute(df):\n",
    "    '''\n",
    "    This function is supplemental to the following 'add_time_features' function,\n",
    "    creating an hour_minute variable\n",
    "    '''\n",
    "    # Initialize empty variable\n",
    "    df['hour_minute'] = None\n",
    "\n",
    "    # Conditions\n",
    "    conditions = [df['utc_timestamp'].dt.minute == 15,\n",
    "                  df['utc_timestamp'].dt.minute == 30,\n",
    "                  df['utc_timestamp'].dt.minute == 45]\n",
    "    \n",
    "    transform = [df['utc_timestamp'].dt.hour + .25,\n",
    "                 df['utc_timestamp'].dt.hour + .5,\n",
    "                 df['utc_timestamp'].dt.hour + .75]\n",
    "    \n",
    "    # given conditions, transform \n",
    "    converted_times = np.select(conditions, transform, df['utc_timestamp'].dt.hour)\n",
    "\n",
    "    return converted_times\n",
    "\n",
    "def create_window_idx(data, num_windows=24):\n",
    "    # indices to loop over for get mae across 24 samples\n",
    "    impute_windows = list(data.sample(num_windows, random_state=24).index)\n",
    "    return impute_windows\n",
    "\n",
    "def create_impute_groups(data, y):\n",
    "    '''\n",
    "    Given dataframe with variable to impute, returns \n",
    "    a group number for that NA, how many consecutive\n",
    "    NAs there are, and the first + last index values of \n",
    "    the consecutive NAs\n",
    "    '''\n",
    "    # note NA values in dataframe\n",
    "    df = (data.set_index('utc_timestamp') # data or self.data\n",
    "            .isna()\n",
    "            .reset_index(drop=True)\n",
    "          )\n",
    "    \n",
    "    # Assign groups of NAs a unique group number\n",
    "    group_num = 0\n",
    "    groups = [0]\n",
    "    for i in range(len(df[y].values)-1): # y or self.y\n",
    "        value = df[y].values[i]\n",
    "        next_value = df[y].values[i+1]\n",
    "\n",
    "        if value == False and next_value == True:\n",
    "            group_num += 1\n",
    "        if next_value == None:\n",
    "            continue\n",
    "        if value == False:\n",
    "            groups.append(0)\n",
    "        else: \n",
    "            groups.append(group_num)\n",
    "\n",
    "    # Add na groups and index columns to df\n",
    "    df['missing_group_num'] = groups \n",
    "    df['index'] = list(range(0, len(df)))\n",
    "\n",
    "    missing_lengths = (df.groupby('missing_group_num', as_index=False)\n",
    "                       .agg(consecutive = ('missing_group_num', 'count'),\n",
    "                            first_na_idx = ('index', 'min'),\n",
    "                            # adding 2 to last index for imputation\n",
    "                            last_na_idx = ('index', lambda x: x.max() + 2)) \n",
    "                       .iloc[1:] # remove non_na groups\n",
    "                       .sort_values('first_na_idx')\n",
    "                       )\n",
    "    \n",
    "    return missing_lengths\n",
    "\n",
    "def forecast_impute(data, y, model_type='AutoETS'): # AutoETS AAA\n",
    "    '''\n",
    "    function description\n",
    "    '''\n",
    "    # from statsforecast import StatsForecast\n",
    "    # from statsforecast.models import AutoETS\n",
    "    data = data.reset_index(drop=True)\n",
    "    impute_info = create_impute_groups(data, y) \n",
    "        \n",
    "    first_na = impute_info['first_na_idx'].iloc[0] \n",
    "\n",
    "    # Defining start, end, and horizon points of training window\n",
    "    one_year_data = 2880 * 12 # Selecting all data available, up to 1 year\n",
    "    start = max(first_na - one_year_data, 0)  \n",
    "    end = first_na - 1 # first_na - 1, or first_na?\n",
    "    \n",
    "    horizon = impute_info['consecutive'].iloc[0]\n",
    "    fcst_df = (data.iloc[start:end] \n",
    "            .assign(index = 1) \n",
    "            [['index', 'utc_timestamp', y]]) # --- This needs to be generalized\n",
    "\n",
    "    if model_type == 'AutoETS':\n",
    "        pd.options.mode.chained_assignment = None\n",
    "\n",
    "        fcst_df = (data.iloc[start:end] \n",
    "            .assign(index = 1) \n",
    "            [['index', 'utc_timestamp', y]])\n",
    "\n",
    "        impute_model = StatsForecast(\n",
    "            models=[AutoETS(model='AAA', season_length=96)], # --- season_length=96 (1 day) or maybe 1 week\n",
    "            freq='15min', # --- Needs generalizaiton\n",
    "            n_jobs=-1,\n",
    "            verbose=False\n",
    "            ) \n",
    "\n",
    "        result = impute_model.forecast(\n",
    "            df=fcst_df, \n",
    "            id_col='index',\n",
    "            time_col='utc_timestamp', # --- Needs generalization \n",
    "            target_col=y, # --- Needs generalization\n",
    "            h=horizon,\n",
    "            # show progress = False,\n",
    "            ).rename(columns={'AutoETS': 'imputed'})\n",
    "        \n",
    "        return result['imputed'] # --- Needs generalization\n",
    "    \n",
    "    if model_type == 'Prophet':\n",
    "        fcst_df = (data.iloc[start:end] \n",
    "           .rename(columns={'utc_timestamp': 'ds',\n",
    "                             f\"{y}\": 'y'})\n",
    "            [['ds', 'y']])\n",
    "            \n",
    "        fcst_df['ds'] = fcst_df['ds'].dt.tz_localize(None)\n",
    "        \n",
    "        model = (Prophet(\n",
    "            yearly_seasonality=True,\n",
    "            weekly_seasonality=True,\n",
    "            seasonality_mode='additive',\n",
    "            )\n",
    "            .add_seasonality(name='intraday', \n",
    "                             period=96/2,  # (4 * 24 / 2) 15 min intervals\n",
    "                             fourier_order=4)\n",
    "            .fit(fcst_df[1:])) # ds and y only\n",
    "        # further improvement if holidays are added\n",
    "\n",
    "        # create dataframe of length horizon with the ds component\n",
    "        predict_window = (data.iloc[first_na-1:first_na+horizon-1]\n",
    "                          .rename(columns={'utc_timestamp': 'ds'})\n",
    "                          [['ds']])\n",
    "        predict_window['ds'] = predict_window['ds'].dt.tz_localize(None)        \n",
    "        \n",
    "        result = (model.predict(predict_window)\n",
    "                  .rename(columns={'yhat': 'to_impute'}))\n",
    "        \n",
    "        return result['to_impute'] # --- Needs generalization\n",
    "    \n",
    "def create_impute_data(data):\n",
    "    '''\n",
    "    Creates main dataset for this experiment, which includes day,\n",
    "    weekday, and hour_minute. The chosen country, 'AT' (Austria),\n",
    "    has complete data, making experimentation easy. \n",
    "    '''\n",
    "    impute_data = (data.assign(\n",
    "            day = lambda x: x['utc_timestamp'].dt.day,\n",
    "            weekday = lambda x: x['utc_timestamp'].dt.strftime('%a'),\n",
    "            hour_minute = lambda x: create_hour_minute(x)\n",
    "        )\n",
    "        .loc[lambda x: x.country == 'AT']\n",
    "        .reset_index(drop=True)\n",
    "        ) \n",
    "\n",
    "    return impute_data\n",
    "\n",
    "def create_weekday_impute(data):\n",
    "    '''\n",
    "    Creates average over a weekday time period, \n",
    "    for imputing load_actal_entsoe_transparency values.\n",
    "    '''\n",
    "    # Weekday impute method\n",
    "    weekday_impute = (data.groupby(['weekday', 'hour_minute'], as_index=False)\n",
    "                    .agg(avg_weekday_actuals = ('load_actual_entsoe_transparency', lambda x: x.mean().round(2)))\n",
    "                    )\n",
    "    week_order = ['Mon', 'Tue', 'Wed', 'Thu', 'Fri', 'Sat', 'Sun']\n",
    "    weekday_impute['weekday'] = pd.Categorical(\n",
    "        weekday_impute['weekday'], \n",
    "        categories=week_order, \n",
    "        ordered=True\n",
    "        )\n",
    "    weekday_impute = weekday_impute.sort_values(by=['weekday','hour_minute'])\n",
    "    \n",
    "    return weekday_impute"
   ]
  },
  {
   "cell_type": "code",
   "execution_count": 2,
   "id": "f218ecdc",
   "metadata": {},
   "outputs": [],
   "source": [
    "# Read in data for developing imputation method\n",
    "cd = Path.cwd()\n",
    "data_dir = str(cd.parents[1])\n",
    "load_energy_dt = data_dir + '/datasets/country_energy/country_load.pickle'\n",
    "\n",
    "# Read pickle data \n",
    "with open(load_energy_dt, 'rb') as f:\n",
    "    country_actuals = (pickle.load(f)[['utc_timestamp', 'country', 'load_actual_entsoe_transparency']])"
   ]
  },
  {
   "cell_type": "code",
   "execution_count": 3,
   "id": "03245f4f",
   "metadata": {},
   "outputs": [
    {
     "data": {
      "image/png": "[encoded data removed]",
      "text/plain": [
       "<Figure size 1200x400 with 2 Axes>"
      ]
     },
     "metadata": {},
     "output_type": "display_data"
    }
   ],
   "source": [
    "missing_lengths = create_impute_groups(country_actuals, 'load_actual_entsoe_transparency')\n",
    "\n",
    "# Hist of missing lengths, omitting complete data\n",
    "fig, ax = plt.subplots(1, 2, figsize=(12,4))\n",
    "_ = sns.histplot(data=missing_lengths[1:], x='consecutive', stat='count', ax=ax[0])\n",
    "_ = sns.histplot(data=missing_lengths[1:], x='consecutive', stat='count', ax=ax[1])\n",
    "_ = ax[1].set_xlim(1,100)\n",
    "_ = plt.suptitle(\"Dist'n of consecutive missing days\")\n",
    "plt.show()"
   ]
  },
  {
   "cell_type": "code",
   "execution_count": 4,
   "id": "2b19db78",
   "metadata": {},
   "outputs": [
    {
     "data": {
      "application/vnd.microsoft.datawrangler.viewer.v0+json": {
       "columns": [
        {
         "name": "index",
         "rawType": "int64",
         "type": "integer"
        },
        {
         "name": "utc_timestamp",
         "rawType": "datetime64[ns, UTC]",
         "type": "unknown"
        },
        {
         "name": "country",
         "rawType": "object",
         "type": "string"
        },
        {
         "name": "load_actual_entsoe_transparency",
         "rawType": "float64",
         "type": "float"
        }
       ],
       "ref": "0d757c83-eee0-458e-9b4d-08cc584b542c",
       "rows": [
        [
         "0",
         "2014-12-31 23:15:00+00:00",
         "AT",
         "6088.0"
        ],
        [
         "1",
         "2014-12-31 23:30:00+00:00",
         "AT",
         "6060.0"
        ],
        [
         "2",
         "2014-12-31 23:45:00+00:00",
         "AT",
         "5957.6"
        ],
        [
         "3",
         "2015-01-01 00:00:00+00:00",
         "AT",
         "6017.2"
        ],
        [
         "4",
         "2015-01-01 00:15:00+00:00",
         "AT",
         "5966.8"
        ]
       ],
       "shape": {
        "columns": 3,
        "rows": 5
       }
      },
      "text/html": [
       "<div>\n",
       "<style scoped>\n",
       "    .dataframe tbody tr th:only-of-type {\n",
       "        vertical-align: middle;\n",
       "    }\n",
       "\n",
       "    .dataframe tbody tr th {\n",
       "        vertical-align: top;\n",
       "    }\n",
       "\n",
       "    .dataframe thead th {\n",
       "        text-align: right;\n",
       "    }\n",
       "</style>\n",
       "<table border=\"1\" class=\"dataframe\">\n",
       "  <thead>\n",
       "    <tr style=\"text-align: right;\">\n",
       "      <th></th>\n",
       "      <th>utc_timestamp</th>\n",
       "      <th>country</th>\n",
       "      <th>load_actual_entsoe_transparency</th>\n",
       "    </tr>\n",
       "  </thead>\n",
       "  <tbody>\n",
       "    <tr>\n",
       "      <th>0</th>\n",
       "      <td>2014-12-31 23:15:00+00:00</td>\n",
       "      <td>AT</td>\n",
       "      <td>6088.0</td>\n",
       "    </tr>\n",
       "    <tr>\n",
       "      <th>1</th>\n",
       "      <td>2014-12-31 23:30:00+00:00</td>\n",
       "      <td>AT</td>\n",
       "      <td>6060.0</td>\n",
       "    </tr>\n",
       "    <tr>\n",
       "      <th>2</th>\n",
       "      <td>2014-12-31 23:45:00+00:00</td>\n",
       "      <td>AT</td>\n",
       "      <td>5957.6</td>\n",
       "    </tr>\n",
       "    <tr>\n",
       "      <th>3</th>\n",
       "      <td>2015-01-01 00:00:00+00:00</td>\n",
       "      <td>AT</td>\n",
       "      <td>6017.2</td>\n",
       "    </tr>\n",
       "    <tr>\n",
       "      <th>4</th>\n",
       "      <td>2015-01-01 00:15:00+00:00</td>\n",
       "      <td>AT</td>\n",
       "      <td>5966.8</td>\n",
       "    </tr>\n",
       "  </tbody>\n",
       "</table>\n",
       "</div>"
      ],
      "text/plain": [
       "              utc_timestamp country  load_actual_entsoe_transparency\n",
       "0 2014-12-31 23:15:00+00:00      AT                           6088.0\n",
       "1 2014-12-31 23:30:00+00:00      AT                           6060.0\n",
       "2 2014-12-31 23:45:00+00:00      AT                           5957.6\n",
       "3 2015-01-01 00:00:00+00:00      AT                           6017.2\n",
       "4 2015-01-01 00:15:00+00:00      AT                           5966.8"
      ]
     },
     "execution_count": 4,
     "metadata": {},
     "output_type": "execute_result"
    }
   ],
   "source": [
    "country_actuals.head()"
   ]
  },
  {
   "cell_type": "code",
   "execution_count": 5,
   "id": "302f7b39",
   "metadata": {},
   "outputs": [
    {
     "data": {
      "application/vnd.microsoft.datawrangler.viewer.v0+json": {
       "columns": [
        {
         "name": "index",
         "rawType": "int64",
         "type": "integer"
        },
        {
         "name": "country",
         "rawType": "bool",
         "type": "boolean"
        },
        {
         "name": "load_actual_entsoe_transparency",
         "rawType": "bool",
         "type": "boolean"
        }
       ],
       "ref": "a868e244-561a-41e6-92b4-d54c1066efed",
       "rows": [
        [
         "0",
         "False",
         "False"
        ],
        [
         "1",
         "False",
         "False"
        ],
        [
         "2",
         "False",
         "False"
        ],
        [
         "3",
         "False",
         "False"
        ],
        [
         "4",
         "False",
         "False"
        ],
        [
         "5",
         "False",
         "False"
        ],
        [
         "6",
         "False",
         "False"
        ],
        [
         "7",
         "False",
         "False"
        ],
        [
         "8",
         "False",
         "False"
        ],
        [
         "9",
         "False",
         "False"
        ],
        [
         "10",
         "False",
         "False"
        ],
        [
         "11",
         "False",
         "False"
        ],
        [
         "12",
         "False",
         "False"
        ],
        [
         "13",
         "False",
         "False"
        ],
        [
         "14",
         "False",
         "False"
        ],
        [
         "15",
         "False",
         "False"
        ],
        [
         "16",
         "False",
         "False"
        ],
        [
         "17",
         "False",
         "False"
        ],
        [
         "18",
         "False",
         "False"
        ],
        [
         "19",
         "False",
         "False"
        ],
        [
         "20",
         "False",
         "False"
        ],
        [
         "21",
         "False",
         "False"
        ],
        [
         "22",
         "False",
         "False"
        ],
        [
         "23",
         "False",
         "False"
        ],
        [
         "24",
         "False",
         "False"
        ],
        [
         "25",
         "False",
         "False"
        ],
        [
         "26",
         "False",
         "False"
        ],
        [
         "27",
         "False",
         "False"
        ],
        [
         "28",
         "False",
         "False"
        ],
        [
         "29",
         "False",
         "False"
        ],
        [
         "30",
         "False",
         "False"
        ],
        [
         "31",
         "False",
         "False"
        ],
        [
         "32",
         "False",
         "False"
        ],
        [
         "33",
         "False",
         "False"
        ],
        [
         "34",
         "False",
         "False"
        ],
        [
         "35",
         "False",
         "False"
        ],
        [
         "36",
         "False",
         "False"
        ],
        [
         "37",
         "False",
         "False"
        ],
        [
         "38",
         "False",
         "False"
        ],
        [
         "39",
         "False",
         "False"
        ],
        [
         "40",
         "False",
         "False"
        ],
        [
         "41",
         "False",
         "False"
        ],
        [
         "42",
         "False",
         "False"
        ],
        [
         "43",
         "False",
         "False"
        ],
        [
         "44",
         "False",
         "False"
        ],
        [
         "45",
         "False",
         "False"
        ],
        [
         "46",
         "False",
         "False"
        ],
        [
         "47",
         "False",
         "False"
        ],
        [
         "48",
         "False",
         "False"
        ],
        [
         "49",
         "False",
         "False"
        ]
       ],
       "shape": {
        "columns": 2,
        "rows": 910674
       }
      },
      "text/html": [
       "<div>\n",
       "<style scoped>\n",
       "    .dataframe tbody tr th:only-of-type {\n",
       "        vertical-align: middle;\n",
       "    }\n",
       "\n",
       "    .dataframe tbody tr th {\n",
       "        vertical-align: top;\n",
       "    }\n",
       "\n",
       "    .dataframe thead th {\n",
       "        text-align: right;\n",
       "    }\n",
       "</style>\n",
       "<table border=\"1\" class=\"dataframe\">\n",
       "  <thead>\n",
       "    <tr style=\"text-align: right;\">\n",
       "      <th></th>\n",
       "      <th>country</th>\n",
       "      <th>load_actual_entsoe_transparency</th>\n",
       "    </tr>\n",
       "  </thead>\n",
       "  <tbody>\n",
       "    <tr>\n",
       "      <th>0</th>\n",
       "      <td>False</td>\n",
       "      <td>False</td>\n",
       "    </tr>\n",
       "    <tr>\n",
       "      <th>1</th>\n",
       "      <td>False</td>\n",
       "      <td>False</td>\n",
       "    </tr>\n",
       "    <tr>\n",
       "      <th>2</th>\n",
       "      <td>False</td>\n",
       "      <td>False</td>\n",
       "    </tr>\n",
       "    <tr>\n",
       "      <th>3</th>\n",
       "      <td>False</td>\n",
       "      <td>False</td>\n",
       "    </tr>\n",
       "    <tr>\n",
       "      <th>4</th>\n",
       "      <td>False</td>\n",
       "      <td>False</td>\n",
       "    </tr>\n",
       "    <tr>\n",
       "      <th>...</th>\n",
       "      <td>...</td>\n",
       "      <td>...</td>\n",
       "    </tr>\n",
       "    <tr>\n",
       "      <th>910669</th>\n",
       "      <td>False</td>\n",
       "      <td>False</td>\n",
       "    </tr>\n",
       "    <tr>\n",
       "      <th>910670</th>\n",
       "      <td>False</td>\n",
       "      <td>False</td>\n",
       "    </tr>\n",
       "    <tr>\n",
       "      <th>910671</th>\n",
       "      <td>False</td>\n",
       "      <td>False</td>\n",
       "    </tr>\n",
       "    <tr>\n",
       "      <th>910672</th>\n",
       "      <td>False</td>\n",
       "      <td>False</td>\n",
       "    </tr>\n",
       "    <tr>\n",
       "      <th>910673</th>\n",
       "      <td>False</td>\n",
       "      <td>True</td>\n",
       "    </tr>\n",
       "  </tbody>\n",
       "</table>\n",
       "<p>910674 rows × 2 columns</p>\n",
       "</div>"
      ],
      "text/plain": [
       "        country  load_actual_entsoe_transparency\n",
       "0         False                            False\n",
       "1         False                            False\n",
       "2         False                            False\n",
       "3         False                            False\n",
       "4         False                            False\n",
       "...         ...                              ...\n",
       "910669    False                            False\n",
       "910670    False                            False\n",
       "910671    False                            False\n",
       "910672    False                            False\n",
       "910673    False                             True\n",
       "\n",
       "[910674 rows x 2 columns]"
      ]
     },
     "execution_count": 5,
     "metadata": {},
     "output_type": "execute_result"
    },
    {
     "data": {
      "text/plain": [
       "148843"
      ]
     },
     "execution_count": 5,
     "metadata": {},
     "output_type": "execute_result"
    },
    {
     "data": {
      "application/vnd.microsoft.datawrangler.viewer.v0+json": {
       "columns": [
        {
         "name": "index",
         "rawType": "int64",
         "type": "integer"
        },
        {
         "name": "missing_group_num",
         "rawType": "int64",
         "type": "integer"
        },
        {
         "name": "consecutive",
         "rawType": "int64",
         "type": "integer"
        },
        {
         "name": "first_na_idx",
         "rawType": "int64",
         "type": "integer"
        },
        {
         "name": "last_na_idx",
         "rawType": "int64",
         "type": "integer"
        }
       ],
       "ref": "203bbcda-50b6-4308-9513-8b926de48730",
       "rows": [
        [
         "1",
         "1",
         "1",
         "151779",
         "151781"
        ],
        [
         "2",
         "2",
         "9",
         "289359",
         "289369"
        ],
        [
         "3",
         "3",
         "1",
         "303558",
         "303560"
        ],
        [
         "4",
         "4",
         "20",
         "448481",
         "448502"
        ],
        [
         "5",
         "5",
         "47",
         "449094",
         "449142"
        ],
        [
         "6",
         "6",
         "1",
         "455337",
         "455339"
        ],
        [
         "7",
         "7",
         "1",
         "607116",
         "607118"
        ],
        [
         "8",
         "8",
         "1",
         "758895",
         "758897"
        ],
        [
         "9",
         "9",
         "20",
         "889555",
         "889576"
        ],
        [
         "10",
         "10",
         "13",
         "892030",
         "892044"
        ],
        [
         "11",
         "11",
         "11",
         "892260",
         "892272"
        ],
        [
         "12",
         "12",
         "9",
         "892390",
         "892400"
        ],
        [
         "13",
         "13",
         "11",
         "892680",
         "892692"
        ],
        [
         "14",
         "14",
         "9",
         "892698",
         "892708"
        ],
        [
         "15",
         "15",
         "14",
         "892741",
         "892756"
        ],
        [
         "16",
         "16",
         "10",
         "892789",
         "892800"
        ],
        [
         "17",
         "17",
         "10",
         "893041",
         "893052"
        ],
        [
         "18",
         "18",
         "9",
         "893314",
         "893324"
        ],
        [
         "19",
         "19",
         "13",
         "893338",
         "893352"
        ],
        [
         "20",
         "20",
         "9",
         "893470",
         "893480"
        ],
        [
         "21",
         "21",
         "10",
         "893549",
         "893560"
        ],
        [
         "22",
         "22",
         "10",
         "893641",
         "893652"
        ],
        [
         "23",
         "23",
         "31",
         "893720",
         "893752"
        ],
        [
         "24",
         "24",
         "15",
         "893760",
         "893776"
        ],
        [
         "25",
         "25",
         "11",
         "893824",
         "893836"
        ],
        [
         "26",
         "26",
         "19",
         "893908",
         "893928"
        ],
        [
         "27",
         "27",
         "24",
         "893951",
         "893976"
        ],
        [
         "28",
         "28",
         "19",
         "893996",
         "894016"
        ],
        [
         "29",
         "29",
         "9",
         "894090",
         "894100"
        ],
        [
         "30",
         "30",
         "35",
         "894260",
         "894296"
        ],
        [
         "31",
         "31",
         "31",
         "894332",
         "894364"
        ],
        [
         "32",
         "32",
         "11",
         "894404",
         "894416"
        ],
        [
         "33",
         "33",
         "58",
         "894473",
         "894532"
        ],
        [
         "34",
         "34",
         "14",
         "894565",
         "894580"
        ],
        [
         "35",
         "35",
         "45",
         "894654",
         "894700"
        ],
        [
         "36",
         "36",
         "15",
         "894716",
         "894732"
        ],
        [
         "37",
         "37",
         "42",
         "894785",
         "894828"
        ],
        [
         "38",
         "38",
         "19",
         "895040",
         "895060"
        ],
        [
         "39",
         "39",
         "15",
         "895080",
         "895096"
        ],
        [
         "40",
         "40",
         "11",
         "895256",
         "895268"
        ],
        [
         "41",
         "41",
         "21",
         "895282",
         "895304"
        ],
        [
         "42",
         "42",
         "25",
         "895314",
         "895340"
        ],
        [
         "43",
         "43",
         "15",
         "895344",
         "895360"
        ],
        [
         "44",
         "44",
         "23",
         "895692",
         "895716"
        ],
        [
         "45",
         "45",
         "27",
         "895784",
         "895812"
        ],
        [
         "46",
         "46",
         "15",
         "895876",
         "895892"
        ],
        [
         "47",
         "47",
         "18",
         "895941",
         "895960"
        ],
        [
         "48",
         "48",
         "14",
         "896061",
         "896076"
        ],
        [
         "49",
         "49",
         "138",
         "896085",
         "896224"
        ],
        [
         "50",
         "50",
         "11",
         "896280",
         "896292"
        ]
       ],
       "shape": {
        "columns": 4,
        "rows": 80
       }
      },
      "text/html": [
       "<div>\n",
       "<style scoped>\n",
       "    .dataframe tbody tr th:only-of-type {\n",
       "        vertical-align: middle;\n",
       "    }\n",
       "\n",
       "    .dataframe tbody tr th {\n",
       "        vertical-align: top;\n",
       "    }\n",
       "\n",
       "    .dataframe thead th {\n",
       "        text-align: right;\n",
       "    }\n",
       "</style>\n",
       "<table border=\"1\" class=\"dataframe\">\n",
       "  <thead>\n",
       "    <tr style=\"text-align: right;\">\n",
       "      <th></th>\n",
       "      <th>missing_group_num</th>\n",
       "      <th>consecutive</th>\n",
       "      <th>first_na_idx</th>\n",
       "      <th>last_na_idx</th>\n",
       "    </tr>\n",
       "  </thead>\n",
       "  <tbody>\n",
       "    <tr>\n",
       "      <th>1</th>\n",
       "      <td>1</td>\n",
       "      <td>1</td>\n",
       "      <td>151779</td>\n",
       "      <td>151781</td>\n",
       "    </tr>\n",
       "    <tr>\n",
       "      <th>2</th>\n",
       "      <td>2</td>\n",
       "      <td>9</td>\n",
       "      <td>289359</td>\n",
       "      <td>289369</td>\n",
       "    </tr>\n",
       "    <tr>\n",
       "      <th>3</th>\n",
       "      <td>3</td>\n",
       "      <td>1</td>\n",
       "      <td>303558</td>\n",
       "      <td>303560</td>\n",
       "    </tr>\n",
       "    <tr>\n",
       "      <th>4</th>\n",
       "      <td>4</td>\n",
       "      <td>20</td>\n",
       "      <td>448481</td>\n",
       "      <td>448502</td>\n",
       "    </tr>\n",
       "    <tr>\n",
       "      <th>5</th>\n",
       "      <td>5</td>\n",
       "      <td>47</td>\n",
       "      <td>449094</td>\n",
       "      <td>449142</td>\n",
       "    </tr>\n",
       "    <tr>\n",
       "      <th>...</th>\n",
       "      <td>...</td>\n",
       "      <td>...</td>\n",
       "      <td>...</td>\n",
       "      <td>...</td>\n",
       "    </tr>\n",
       "    <tr>\n",
       "      <th>76</th>\n",
       "      <td>76</td>\n",
       "      <td>16</td>\n",
       "      <td>905955</td>\n",
       "      <td>905972</td>\n",
       "    </tr>\n",
       "    <tr>\n",
       "      <th>77</th>\n",
       "      <td>77</td>\n",
       "      <td>12</td>\n",
       "      <td>905991</td>\n",
       "      <td>906004</td>\n",
       "    </tr>\n",
       "    <tr>\n",
       "      <th>78</th>\n",
       "      <td>78</td>\n",
       "      <td>24</td>\n",
       "      <td>906011</td>\n",
       "      <td>906036</td>\n",
       "    </tr>\n",
       "    <tr>\n",
       "      <th>79</th>\n",
       "      <td>79</td>\n",
       "      <td>9</td>\n",
       "      <td>906062</td>\n",
       "      <td>906072</td>\n",
       "    </tr>\n",
       "    <tr>\n",
       "      <th>80</th>\n",
       "      <td>80</td>\n",
       "      <td>20</td>\n",
       "      <td>906079</td>\n",
       "      <td>906100</td>\n",
       "    </tr>\n",
       "  </tbody>\n",
       "</table>\n",
       "<p>80 rows × 4 columns</p>\n",
       "</div>"
      ],
      "text/plain": [
       "    missing_group_num  consecutive  first_na_idx  last_na_idx\n",
       "1                   1            1        151779       151781\n",
       "2                   2            9        289359       289369\n",
       "3                   3            1        303558       303560\n",
       "4                   4           20        448481       448502\n",
       "5                   5           47        449094       449142\n",
       "..                ...          ...           ...          ...\n",
       "76                 76           16        905955       905972\n",
       "77                 77           12        905991       906004\n",
       "78                 78           24        906011       906036\n",
       "79                 79            9        906062       906072\n",
       "80                 80           20        906079       906100\n",
       "\n",
       "[80 rows x 4 columns]"
      ]
     },
     "execution_count": 5,
     "metadata": {},
     "output_type": "execute_result"
    }
   ],
   "source": [
    "test = country_actuals.set_index('utc_timestamp').isna().reset_index(drop=True)\n",
    "test\n",
    "group_num = 0 \n",
    "groups = [0] ### --- Problem is that 'to_impute' must be hardcoded\n",
    "for i in range(len(test['load_actual_entsoe_transparency'].values)-1): # y or self.y\n",
    "    value = test['load_actual_entsoe_transparency'].values[i]\n",
    "    next_value = test['load_actual_entsoe_transparency'].values[i+1]\n",
    "\n",
    "    if value == False and next_value == True:\n",
    "        group_num += 1\n",
    "    if next_value == None:\n",
    "        continue\n",
    "    if value == False:\n",
    "        groups.append(0)\n",
    "    else: \n",
    "        groups.append(group_num)\n",
    "# groups\n",
    "sum(groups)\n",
    "create_impute_groups(country_actuals, 'load_actual_entsoe_transparency')"
   ]
  },
  {
   "cell_type": "code",
   "execution_count": 6,
   "id": "d61f3b19",
   "metadata": {},
   "outputs": [
    {
     "data": {
      "image/png": "[encoded data removed]",
      "text/plain": [
       "<Figure size 1500x300 with 1 Axes>"
      ]
     },
     "metadata": {},
     "output_type": "display_data"
    }
   ],
   "source": [
    "### Developing imputation algorithm with AT due \n",
    "# # to there being a full dataset\n",
    "plot_dt = country_actuals.loc[lambda x: x.country == 'AT']\n",
    "\n",
    "_ = plt.figure(figsize=(15, 3))\n",
    "\n",
    "_ = sns.lineplot(\n",
    "    data=plot_dt, \n",
    "    x='utc_timestamp', \n",
    "    y='load_actual_entsoe_transparency', \n",
    "    linewidth=0.25)\n",
    "\n",
    "plt.show()"
   ]
  },
  {
   "cell_type": "markdown",
   "id": "b912f5b9",
   "metadata": {},
   "source": [
    "Seasonal decompose"
   ]
  },
  {
   "cell_type": "code",
   "execution_count": 12,
   "id": "5c82b648",
   "metadata": {},
   "outputs": [
    {
     "name": "stdout",
     "output_type": "stream",
     "text": [
      "0        NaN\n",
      "1        NaN\n",
      "2        NaN\n",
      "3        NaN\n",
      "4        NaN\n",
      "          ..\n",
      "151773   NaN\n",
      "151774   NaN\n",
      "151775   NaN\n",
      "151776   NaN\n",
      "151777   NaN\n",
      "Name: trend, Length: 151778, dtype: float64\n",
      "0        -1042.566418\n",
      "1        -1109.452742\n",
      "2        -1175.620687\n",
      "3        -1169.283256\n",
      "4        -1229.987633\n",
      "             ...     \n",
      "151773    -844.839820\n",
      "151774    -934.581514\n",
      "151775    -971.737440\n",
      "151776   -1058.691035\n",
      "151777   -1122.033658\n",
      "Name: seasonal, Length: 151778, dtype: float64\n",
      "0        NaN\n",
      "1        NaN\n",
      "2        NaN\n",
      "3        NaN\n",
      "4        NaN\n",
      "          ..\n",
      "151773   NaN\n",
      "151774   NaN\n",
      "151775   NaN\n",
      "151776   NaN\n",
      "151777   NaN\n",
      "Name: resid, Length: 151778, dtype: float64\n"
     ]
    },
    {
     "data": {
      "image/png": "[encoded data removed]",
      "text/plain": [
       "<Figure size 640x480 with 4 Axes>"
      ]
     },
     "metadata": {},
     "output_type": "display_data"
    },
    {
     "name": "stdout",
     "output_type": "stream",
     "text": [
      "0         5632.037529\n",
      "1         5633.421512\n",
      "2         5634.804972\n",
      "3         5636.187906\n",
      "4         5637.570315\n",
      "             ...     \n",
      "151774            NaN\n",
      "151775            NaN\n",
      "151776            NaN\n",
      "151777            NaN\n",
      "151778            NaN\n",
      "Name: trend, Length: 151779, dtype: float64\n",
      "0         280.653448\n",
      "1         283.078048\n",
      "2         247.788498\n",
      "3         214.867797\n",
      "4         191.307370\n",
      "             ...    \n",
      "151774           NaN\n",
      "151775           NaN\n",
      "151776           NaN\n",
      "151777           NaN\n",
      "151778           NaN\n",
      "Name: season, Length: 151779, dtype: float64\n",
      "0         175.309023\n",
      "1         143.500440\n",
      "2          75.006531\n",
      "3         166.144297\n",
      "4         137.922315\n",
      "             ...    \n",
      "151774           NaN\n",
      "151775           NaN\n",
      "151776           NaN\n",
      "151777           NaN\n",
      "151778           NaN\n",
      "Name: resid, Length: 151779, dtype: float64\n"
     ]
    },
    {
     "data": {
      "image/png": "[encoded data removed]",
      "text/plain": [
       "<Figure size 640x480 with 4 Axes>"
      ]
     },
     "metadata": {},
     "output_type": "display_data"
    }
   ],
   "source": [
    "# Create seasonal weekday impute\n",
    "# naive implementation\n",
    "from statsmodels.tsa.seasonal import seasonal_decompose\n",
    "# computationally intensive implementations\n",
    "from statsmodels.tsa.seasonal import STL\n",
    "from statsmodels.tsa.seasonal import MSTL\n",
    "from matplotlib import pyplot\n",
    "input_data = create_impute_data(country_actuals)\n",
    "\n",
    "# removing missing value at end\n",
    "seasonal_impute_df = input_data['load_actual_entsoe_transparency'][:-1]\n",
    "\n",
    "# How to get seasonal decomposition with missing data?\n",
    "result = seasonal_decompose(\n",
    "    seasonal_impute_df, \n",
    "    model='additive',\n",
    "    period = 96 * 7# 96 * 7, 96 * 365.25 \n",
    "    )\n",
    "print(result.trend)\n",
    "print(result.seasonal)\n",
    "print(result.resid)\n",
    "_ = result.plot()\n",
    "pyplot.show()\n",
    "\n",
    "result = STL(input_data['load_actual_entsoe_transparency'],\n",
    "          period= 96 * 7).fit() # 96 * 7, 96 * 365.25\n",
    "print(result.trend)\n",
    "print(result.seasonal)\n",
    "print(result.resid)\n",
    "_ = result.plot()\n",
    "plt.show()\n",
    "\n",
    "# result = MSTL(input_data['load_actual_entsoe_transparency'],\n",
    "#           period= 96 * 7).fit() # 96 * 7, 96 * 365.25\n",
    "# print(result.trend)\n",
    "# print(result.seasonal)\n",
    "# print(result.resid)\n",
    "# _ = result.plot()\n",
    "# plt.show()"
   ]
  },
  {
   "cell_type": "code",
   "execution_count": 14,
   "id": "b222af43",
   "metadata": {},
   "outputs": [
    {
     "data": {
      "application/vnd.plotly.v1+json": {
       "config": {
        "plotlyServerURL": "https://plot.ly"
       },
       "data": [
        {
         "hovertemplate": "weekday=Mon<br>hour_minute=%{x}<br>avg_weekday_actuals=%{y}<extra></extra>",
         "legendgroup": "Mon",
         "line": {
          "color": "#636efa",
          "dash": "solid"
         },
         "marker": {
          "symbol": "circle"
         },
         "mode": "lines",
         "name": "Mon",
         "orientation": "v",
         "showlegend": true,
         "type": "scatter",
         "x": {
          "bdata": "AAAAAAAAAAAAAAAAAADQPwAAAAAAAOA/AAAAAAAA6D8AAAAAAADwPwAAAAAAAPQ/AAAAAAAA+D8AAAAAAAD8PwAAAAAAAABAAAAAAAAAAkAAAAAAAAAEQAAAAAAAAAZAAAAAAAAACEAAAAAAAAAKQAAAAAAAAAxAAAAAAAAADkAAAAAAAAAQQAAAAAAAABFAAAAAAAAAEkAAAAAAAAATQAAAAAAAABRAAAAAAAAAFUAAAAAAAAAWQAAAAAAAABdAAAAAAAAAGEAAAAAAAAAZQAAAAAAAABpAAAAAAAAAG0AAAAAAAAAcQAAAAAAAAB1AAAAAAAAAHkAAAAAAAAAfQAAAAAAAACBAAAAAAACAIEAAAAAAAAAhQAAAAAAAgCFAAAAAAAAAIkAAAAAAAIAiQAAAAAAAACNAAAAAAACAI0AAAAAAAAAkQAAAAAAAgCRAAAAAAAAAJUAAAAAAAIAlQAAAAAAAACZAAAAAAACAJkAAAAAAAAAnQAAAAAAAgCdAAAAAAAAAKEAAAAAAAIAoQAAAAAAAAClAAAAAAACAKUAAAAAAAAAqQAAAAAAAgCpAAAAAAAAAK0AAAAAAAIArQAAAAAAAACxAAAAAAACALEAAAAAAAAAtQAAAAAAAgC1AAAAAAAAALkAAAAAAAIAuQAAAAAAAAC9AAAAAAACAL0AAAAAAAAAwQAAAAAAAQDBAAAAAAACAMEAAAAAAAMAwQAAAAAAAADFAAAAAAABAMUAAAAAAAIAxQAAAAAAAwDFAAAAAAAAAMkAAAAAAAEAyQAAAAAAAgDJAAAAAAADAMkAAAAAAAAAzQAAAAAAAQDNAAAAAAACAM0AAAAAAAMAzQAAAAAAAADRAAAAAAABANEAAAAAAAIA0QAAAAAAAwDRAAAAAAAAANUAAAAAAAEA1QAAAAAAAgDVAAAAAAADANUAAAAAAAAA2QAAAAAAAQDZAAAAAAACANkAAAAAAAMA2QAAAAAAAADdAAAAAAABAN0AAAAAAAIA3QAAAAAAAwDdA",
          "dtype": "f8"
         },
         "xaxis": "x",
         "y": {
          "bdata": "cT0K12ORtUDhehSux1q1QGZmZmYmLrVAw/UoXI/+tED2KFyPwge1QM3MzMxM6LRAUrgehevNtEDhehSuh8K0QB+F61F457RAzczMzAz5tED2KFyPAhy1QAAAAABAUrVAw/UoXM8DtkDsUbgeBWu2QIXrUbie5bZAmpmZmdmFt0DsUbgeheu4QBSuR+G6zblAexSuRyGIukBSuB6Fq0O7QLgehesRubxAMzMzM/ODvUC4HoXrUSK+QFyPwvVopr5Aj8L1KFywv0C4HoXrsQrAQOF6FK5nKcBAZmZmZiZDwEAfhetRGFHAQK5H4XoUZ8BApHA9Cld6wECamZmZmYTAQNejcD2qe8BAj8L1KNyOwEAK16NwHZzAQDMzMzPTpcBAhetRuD6vwEBSuB6Fq8DAQOF6FK5nxsBAAAAAAGDBwEDNzMzMLJrAQGZmZmbmhMBAKVyPwhV3wEBSuB6Fa2zAQIXrUbi+Z8BAH4XrUfhOwEDsUbgepTvAQI/C9SicKcBAH4XrUTgswECamZmZmSPAQD0K16MwFcBAKVyPwlUGwEAK16NwfQbAQB+F61E4AMBA16NwPcrsv0B7FK5HIda/QFK4HoXr2b9AuB6F61HPv0CF61G4nsa/QLgehetRyL9Aw/UoXE/vv0CamZmZ+QbAQGZmZmYGGsBAUrgehYswwEDD9ShcT0bAQIXrUbheWcBA9ihcj+JrwEA9CtejEHTAQEjhehQuT8BAj8L1KBxBwEBxPQrXYzTAQB+F61EYHsBArkfhehSjv0DD9ShcT0K/QI/C9Shc5b5AKVyPwvV+vkCPwvUoHOK9QArXo3A9ZL1AZmZmZmb6vEC4HoXr0Xu8QHE9CtcjS7xAXI/C9ejau0CkcD0KF1O7QK5H4XoU2rpAH4XrUbjGukC4HoXr0Vm6QKRwPQpX5rlACtejcH2EuUBSuB6Fa1O5QGZmZmYm3bhAPQrXo/B6uEDNzMzMzB+4QM3MzMwM4bdASOF6FK6Rt0CamZmZWVG3QNejcD3KEbdA",
          "dtype": "f8"
         },
         "yaxis": "y"
        },
        {
         "hovertemplate": "weekday=Tue<br>hour_minute=%{x}<br>avg_weekday_actuals=%{y}<extra></extra>",
         "legendgroup": "Tue",
         "line": {
          "color": "#EF553B",
          "dash": "solid"
         },
         "marker": {
          "symbol": "circle"
         },
         "mode": "lines",
         "name": "Tue",
         "orientation": "v",
         "showlegend": true,
         "type": "scatter",
         "x": {
          "bdata": "AAAAAAAAAAAAAAAAAADQPwAAAAAAAOA/AAAAAAAA6D8AAAAAAADwPwAAAAAAAPQ/AAAAAAAA+D8AAAAAAAD8PwAAAAAAAABAAAAAAAAAAkAAAAAAAAAEQAAAAAAAAAZAAAAAAAAACEAAAAAAAAAKQAAAAAAAAAxAAAAAAAAADkAAAAAAAAAQQAAAAAAAABFAAAAAAAAAEkAAAAAAAAATQAAAAAAAABRAAAAAAAAAFUAAAAAAAAAWQAAAAAAAABdAAAAAAAAAGEAAAAAAAAAZQAAAAAAAABpAAAAAAAAAG0AAAAAAAAAcQAAAAAAAAB1AAAAAAAAAHkAAAAAAAAAfQAAAAAAAACBAAAAAAACAIEAAAAAAAAAhQAAAAAAAgCFAAAAAAAAAIkAAAAAAAIAiQAAAAAAAACNAAAAAAACAI0AAAAAAAAAkQAAAAAAAgCRAAAAAAAAAJUAAAAAAAIAlQAAAAAAAACZAAAAAAACAJkAAAAAAAAAnQAAAAAAAgCdAAAAAAAAAKEAAAAAAAIAoQAAAAAAAAClAAAAAAACAKUAAAAAAAAAqQAAAAAAAgCpAAAAAAAAAK0AAAAAAAIArQAAAAAAAACxAAAAAAACALEAAAAAAAAAtQAAAAAAAgC1AAAAAAAAALkAAAAAAAIAuQAAAAAAAAC9AAAAAAACAL0AAAAAAAAAwQAAAAAAAQDBAAAAAAACAMEAAAAAAAMAwQAAAAAAAADFAAAAAAABAMUAAAAAAAIAxQAAAAAAAwDFAAAAAAAAAMkAAAAAAAEAyQAAAAAAAgDJAAAAAAADAMkAAAAAAAAAzQAAAAAAAQDNAAAAAAACAM0AAAAAAAMAzQAAAAAAAADRAAAAAAABANEAAAAAAAIA0QAAAAAAAwDRAAAAAAAAANUAAAAAAAEA1QAAAAAAAgDVAAAAAAADANUAAAAAAAAA2QAAAAAAAQDZAAAAAAACANkAAAAAAAMA2QAAAAAAAADdAAAAAAABAN0AAAAAAAIA3QAAAAAAAwDdA",
          "dtype": "f8"
         },
         "xaxis": "x2",
         "y": {
          "bdata": "j8L1KJwSt0CkcD0K19m2QArXo3B9qrZAPQrXo/B5tkCamZmZmXi2QAAAAADAU7ZACtejcP03tkBmZmZmZiO2QLgeheuROrZA7FG4HoVCtkBSuB6F61m2QHsUrkfhh7ZAXI/C9Wgtt0ApXI/CNZC3QJqZmZnZBLhAzczMzIyguECkcD0K1/m5QOF6FK5H1rpAH4XrUXiFu0BSuB6Fqzi8QArXo3B9tr1AUrgehWt2vkApXI/CdQ2/QOF6FK5HkL9AH4XrUbhAwEBmZmZmJm7AQAAAAACgicBAZmZmZqaewEBSuB6F66XAQB+F61GYuMBA7FG4HsXLwECF61G4ftLAQArXo3Ddx8BA7FG4HgXWwEDNzMzMjOXAQBSuR+Ga8MBAzczMzMzywEBxPQrXYwPBQKRwPQqXBsFA9ihcj6L/wEBxPQrX49fAQD0K16PQwcBApHA9Cje1wEDXo3A9aqrAQDMzMzPzo8BAzczMzAyMwECF61G4nnbAQFyPwvWoZMBApHA9CpdnwECPwvUo3F/AQB+F61G4UMBAFK5H4Ro9wECPwvUo/D/AQJqZmZmZNsBAzczMzKwrwED2KFyPwh7AQIXrUbi+IcBAj8L1KLwXwECkcD0K1xLAQClcj8I1FMBAPQrXo9AgwECkcD0K9yzAQNejcD0KQ8BAMzMzM9NVwEDXo3A9SmzAQArXo3Ade8BAuB6F63GKwEAAAAAAQJHAQHsUrkehZcBAexSuR+FVwEB7FK5HAUbAQDMzMzOzL8BAXI/C9SjUv0AK16Nw/Xq/QMP1KFyPJb9AMzMzM/O9vkDNzMzMzBm+QDMzMzOzn71AH4XrUfg4vUBcj8L16La8QEjhehRuerxAPQrXo3AKvEBmZmZmZoC7QKRwPQrXDLtACtejcH35ukAfhetROJG6QNejcD1KGLpAMzMzM7O3uUCkcD0Kl3a5QKRwPQqX/rhA7FG4HoWYuEAUrkfhuj64QPYoXI/CGbhAuB6F69HCt0AUrkfheoO3QArXo3C9QbdA",
          "dtype": "f8"
         },
         "yaxis": "y2"
        },
        {
         "hovertemplate": "weekday=Wed<br>hour_minute=%{x}<br>avg_weekday_actuals=%{y}<extra></extra>",
         "legendgroup": "Wed",
         "line": {
          "color": "#00cc96",
          "dash": "solid"
         },
         "marker": {
          "symbol": "circle"
         },
         "mode": "lines",
         "name": "Wed",
         "orientation": "v",
         "showlegend": true,
         "type": "scatter",
         "x": {
          "bdata": "AAAAAAAAAAAAAAAAAADQPwAAAAAAAOA/AAAAAAAA6D8AAAAAAADwPwAAAAAAAPQ/AAAAAAAA+D8AAAAAAAD8PwAAAAAAAABAAAAAAAAAAkAAAAAAAAAEQAAAAAAAAAZAAAAAAAAACEAAAAAAAAAKQAAAAAAAAAxAAAAAAAAADkAAAAAAAAAQQAAAAAAAABFAAAAAAAAAEkAAAAAAAAATQAAAAAAAABRAAAAAAAAAFUAAAAAAAAAWQAAAAAAAABdAAAAAAAAAGEAAAAAAAAAZQAAAAAAAABpAAAAAAAAAG0AAAAAAAAAcQAAAAAAAAB1AAAAAAAAAHkAAAAAAAAAfQAAAAAAAACBAAAAAAACAIEAAAAAAAAAhQAAAAAAAgCFAAAAAAAAAIkAAAAAAAIAiQAAAAAAAACNAAAAAAACAI0AAAAAAAAAkQAAAAAAAgCRAAAAAAAAAJUAAAAAAAIAlQAAAAAAAACZAAAAAAACAJkAAAAAAAAAnQAAAAAAAgCdAAAAAAAAAKEAAAAAAAIAoQAAAAAAAAClAAAAAAACAKUAAAAAAAAAqQAAAAAAAgCpAAAAAAAAAK0AAAAAAAIArQAAAAAAAACxAAAAAAACALEAAAAAAAAAtQAAAAAAAgC1AAAAAAAAALkAAAAAAAIAuQAAAAAAAAC9AAAAAAACAL0AAAAAAAAAwQAAAAAAAQDBAAAAAAACAMEAAAAAAAMAwQAAAAAAAADFAAAAAAABAMUAAAAAAAIAxQAAAAAAAwDFAAAAAAAAAMkAAAAAAAEAyQAAAAAAAgDJAAAAAAADAMkAAAAAAAAAzQAAAAAAAQDNAAAAAAACAM0AAAAAAAMAzQAAAAAAAADRAAAAAAABANEAAAAAAAIA0QAAAAAAAwDRAAAAAAAAANUAAAAAAAEA1QAAAAAAAgDVAAAAAAADANUAAAAAAAAA2QAAAAAAAQDZAAAAAAACANkAAAAAAAMA2QAAAAAAAADdAAAAAAABAN0AAAAAAAIA3QAAAAAAAwDdA",
          "dtype": "f8"
         },
         "xaxis": "x3",
         "y": {
          "bdata": "uB6F69FLt0DD9ShcDxK3QMP1KFyP4LZAMzMzM7OrtkBI4XoULqq2QK5H4XpUhLZA7FG4HkVltkCPwvUoHFO2QK5H4XpUbrZA16NwPcp2tkBmZmZm5pC2QClcj8K1v7ZApHA9Ctdjt0CuR+F61Mm3QArXo3B9N7hAAAAAAMDUuEAAAAAAgCq6QK5H4XrUDLtAmpmZmdnBu0BSuB6Fa3y8QK5H4XpU8b1A4XoUrke9vkBmZmZm5ku/QLgehevR1b9ACtejcB1mwEAUrkfhepHAQBSuR+G6rMBAH4XrUdjEwEAK16NwfcXAQArXo3Cd18BAPQrXozDowECF61G4vvHAQI/C9Sg86MBA4XoUrif4wECkcD0KdwXBQArXo3AdDsFAuB6F69ERwUBI4XoUjiDBQEjhehRuJcFAAAAAAAAbwUA9Ctej0PPAQI/C9Sjc4cBAuB6F65HTwEDsUbgeRcjAQMP1KFyPwsBAcT0K12OnwEAUrkfhepPAQHsUrkcBgsBASOF6FA6CwEBSuB6FK33AQDMzMzPzbsBAmpmZmVldwEA9CtejUF7AQD0K16NwVMBAXI/C9ahJwED2KFyPYkPAQD0K16NQRcBAKVyPwjVAwEB7FK5HoTvAQFK4HoWrO8BAFK5H4ZpEwECF61G4XlLAQArXo3D9acBAw/UoXE98wEDD9Shcb4/AQOF6FK6HnsBAmpmZmTmuwEAfhetReLPAQPYoXI8Cj8BA16NwPap8wEBI4XoU7m3AQLgehevxVMBA4XoUrmcHwEBcj8L1qLW/QD0K16OwYb9ACtejcD3+vkB7FK5HYVu+QJqZmZmZ4L1ApHA9Chd5vUAzMzMzMwC9QNejcD2KtLxAuB6F69FIvECamZmZ2cW7QFK4HoUrUrtACtejcD04u0D2KFyPQs+6QOxRuB5FUrpA4XoUrkfsuUBSuB6FK6q5QClcj8J1LblApHA9ClfDuECkcD0KV2O4QFK4HoWrMLhA9ihcj0LXt0DNzMzMjJS3QB+F61E4UrdA",
          "dtype": "f8"
         },
         "yaxis": "y3"
        },
        {
         "hovertemplate": "weekday=Thu<br>hour_minute=%{x}<br>avg_weekday_actuals=%{y}<extra></extra>",
         "legendgroup": "Thu",
         "line": {
          "color": "#ab63fa",
          "dash": "solid"
         },
         "marker": {
          "symbol": "circle"
         },
         "mode": "lines",
         "name": "Thu",
         "orientation": "v",
         "showlegend": true,
         "type": "scatter",
         "x": {
          "bdata": "AAAAAAAAAAAAAAAAAADQPwAAAAAAAOA/AAAAAAAA6D8AAAAAAADwPwAAAAAAAPQ/AAAAAAAA+D8AAAAAAAD8PwAAAAAAAABAAAAAAAAAAkAAAAAAAAAEQAAAAAAAAAZAAAAAAAAACEAAAAAAAAAKQAAAAAAAAAxAAAAAAAAADkAAAAAAAAAQQAAAAAAAABFAAAAAAAAAEkAAAAAAAAATQAAAAAAAABRAAAAAAAAAFUAAAAAAAAAWQAAAAAAAABdAAAAAAAAAGEAAAAAAAAAZQAAAAAAAABpAAAAAAAAAG0AAAAAAAAAcQAAAAAAAAB1AAAAAAAAAHkAAAAAAAAAfQAAAAAAAACBAAAAAAACAIEAAAAAAAAAhQAAAAAAAgCFAAAAAAAAAIkAAAAAAAIAiQAAAAAAAACNAAAAAAACAI0AAAAAAAAAkQAAAAAAAgCRAAAAAAAAAJUAAAAAAAIAlQAAAAAAAACZAAAAAAACAJkAAAAAAAAAnQAAAAAAAgCdAAAAAAAAAKEAAAAAAAIAoQAAAAAAAAClAAAAAAACAKUAAAAAAAAAqQAAAAAAAgCpAAAAAAAAAK0AAAAAAAIArQAAAAAAAACxAAAAAAACALEAAAAAAAAAtQAAAAAAAgC1AAAAAAAAALkAAAAAAAIAuQAAAAAAAAC9AAAAAAACAL0AAAAAAAAAwQAAAAAAAQDBAAAAAAACAMEAAAAAAAMAwQAAAAAAAADFAAAAAAABAMUAAAAAAAIAxQAAAAAAAwDFAAAAAAAAAMkAAAAAAAEAyQAAAAAAAgDJAAAAAAADAMkAAAAAAAAAzQAAAAAAAQDNAAAAAAACAM0AAAAAAAMAzQAAAAAAAADRAAAAAAABANEAAAAAAAIA0QAAAAAAAwDRAAAAAAAAANUAAAAAAAEA1QAAAAAAAgDVAAAAAAADANUAAAAAAAAA2QAAAAAAAQDZAAAAAAACANkAAAAAAAMA2QAAAAAAAADdAAAAAAABAN0AAAAAAAIA3QAAAAAAAwDdA",
          "dtype": "f8"
         },
         "xaxis": "x4",
         "y": {
          "bdata": "zczMzMxYt0BxPQrXIxy3QHE9Ctej67ZAj8L1KBy3tkDsUbgexbi2QK5H4XoUk7ZAFK5H4fpwtkB7FK5HIV22QIXrUbgecLZAMzMzM7N5tkDD9Shcz4y2QIXrUbheu7ZAXI/C9ahWt0DD9ShcT7K3QLgehetRHLhAmpmZmVm0uEDsUbgeBQS6QDMzMzPz2LpAhetRuN6Du0BxPQrXozO8QK5H4XpUoL1Aw/UoXI9qvkDsUbgeBQK/QHE9Ctdjg79AexSuR2E4wEDXo3A9ymTAQAAAAADgfcBACtejcL2TwEBI4XoUDp7AQLgehevxrMBAAAAAAGC+wEAUrkfhesnAQDMzMzNTwsBAj8L1KPzOwEC4HoXr8d7AQFK4HoWL58BAzczMzGzqwEDD9Shcj/vAQOF6FK7n/8BAw/UoXA/3wECPwvUoPMrAQB+F61H4tMBA7FG4HuWkwEC4HoXr0ZfAQHE9CtfjjsBAAAAAAOB1wEDhehSuh2HAQGZmZmamTsBAw/UoXG9RwEDD9ShcD0rAQFyPwvXIPMBAFK5H4TorwEAfhetRuCjAQMP1KFxvIMBAPQrXo9AVwECuR+F6VAnAQEjhehQOBsBAw/UoXM8BwEDXo3A9iv+/QFK4HoVrAcBAZmZmZsYSwEB7FK5HgSPAQDMzMzOzOMBAPQrXo/BKwEB7FK5H4WXAQBSuR+H6c8BAMzMzM1ODwECPwvUovIvAQMP1KFxPaMBAmpmZmZlZwECF61G4XkrAQFyPwvUoMsBAAAAAAIDVv0A9Ctej8H+/QHsUrkfhKr9APQrXo3DIvkCamZmZWSm+QJqZmZlZq71AuB6F69FKvUAzMzMzc9O8QArXo3D9mbxAZmZmZqYuvED2KFyPwqq7QOxRuB5FOrtAFK5H4ToZu0DsUbgehbW6QK5H4XrUPLpAPQrXo7DjuUAzMzMzM5e5QOxRuB5FHrlAj8L1KFy7uEAfhetR+F64QB+F61G4FbhAZmZmZia8t0Bcj8L16Hu3QPYoXI8COLdA",
          "dtype": "f8"
         },
         "yaxis": "y4"
        },
        {
         "hovertemplate": "weekday=Fri<br>hour_minute=%{x}<br>avg_weekday_actuals=%{y}<extra></extra>",
         "legendgroup": "Fri",
         "line": {
          "color": "#FFA15A",
          "dash": "solid"
         },
         "marker": {
          "symbol": "circle"
         },
         "mode": "lines",
         "name": "Fri",
         "orientation": "v",
         "showlegend": true,
         "type": "scatter",
         "x": {
          "bdata": "AAAAAAAAAAAAAAAAAADQPwAAAAAAAOA/AAAAAAAA6D8AAAAAAADwPwAAAAAAAPQ/AAAAAAAA+D8AAAAAAAD8PwAAAAAAAABAAAAAAAAAAkAAAAAAAAAEQAAAAAAAAAZAAAAAAAAACEAAAAAAAAAKQAAAAAAAAAxAAAAAAAAADkAAAAAAAAAQQAAAAAAAABFAAAAAAAAAEkAAAAAAAAATQAAAAAAAABRAAAAAAAAAFUAAAAAAAAAWQAAAAAAAABdAAAAAAAAAGEAAAAAAAAAZQAAAAAAAABpAAAAAAAAAG0AAAAAAAAAcQAAAAAAAAB1AAAAAAAAAHkAAAAAAAAAfQAAAAAAAACBAAAAAAACAIEAAAAAAAAAhQAAAAAAAgCFAAAAAAAAAIkAAAAAAAIAiQAAAAAAAACNAAAAAAACAI0AAAAAAAAAkQAAAAAAAgCRAAAAAAAAAJUAAAAAAAIAlQAAAAAAAACZAAAAAAACAJkAAAAAAAAAnQAAAAAAAgCdAAAAAAAAAKEAAAAAAAIAoQAAAAAAAAClAAAAAAACAKUAAAAAAAAAqQAAAAAAAgCpAAAAAAAAAK0AAAAAAAIArQAAAAAAAACxAAAAAAACALEAAAAAAAAAtQAAAAAAAgC1AAAAAAAAALkAAAAAAAIAuQAAAAAAAAC9AAAAAAACAL0AAAAAAAAAwQAAAAAAAQDBAAAAAAACAMEAAAAAAAMAwQAAAAAAAADFAAAAAAABAMUAAAAAAAIAxQAAAAAAAwDFAAAAAAAAAMkAAAAAAAEAyQAAAAAAAgDJAAAAAAADAMkAAAAAAAAAzQAAAAAAAQDNAAAAAAACAM0AAAAAAAMAzQAAAAAAAADRAAAAAAABANEAAAAAAAIA0QAAAAAAAwDRAAAAAAAAANUAAAAAAAEA1QAAAAAAAgDVAAAAAAADANUAAAAAAAAA2QAAAAAAAQDZAAAAAAACANkAAAAAAAMA2QAAAAAAAADdAAAAAAABAN0AAAAAAAIA3QAAAAAAAwDdA",
          "dtype": "f8"
         },
         "xaxis": "x5",
         "y": {
          "bdata": "mpmZmRk6t0BmZmZmJv+2QKRwPQqXy7ZAXI/C9WibtkB7FK5HIZW2QNejcD1KbLZAhetRuN5MtkC4HoXr0Ty2QPYoXI8CUrZAhetRuJ5XtkC4HoXrkW62QKRwPQqXmrZAmpmZmdk1t0DNzMzMjJi3QHE9CtdjB7hA4XoUrkeXuEAK16Nw/d65QJqZmZnZtLpAAAAAAIBhu0B7FK5HIQ28QMP1KFxPeL1AzczMzIw4vkD2KFyPAsq+QOxRuB7FTL9ASOF6FC4iwECamZmZmUvAQM3MzMwMaMBA16NwPcp+wEAK16NwPY3AQHE9CtfjnMBArkfhevSrwEAK16Nw3bTAQArXo3A9rMBAmpmZmfm4wEBxPQrXQ8TAQFyPwvVIysBAUrgehUvIwEBI4XoU7tHAQClcj8I10cBA9ihcjyLDwEDNzMzMjJ7AQK5H4XrUgcBAmpmZmTlnwEBcj8L1CEvAQHE9CtdDOMBApHA9CpcVwEBxPQrXI+u/QHsUrkehtb9AUrgehauev0DhehSuh36/QI/C9SjcW79ArkfhelQxv0D2KFyPgiS/QNejcD3KDb9AcT0K12P2vkAzMzMzc9u+QFyPwvVo3L5A9ihcj8LUvkAfhetR+Ne+QOxRuB7F4L5ApHA9Ctcav0ApXI/CNT6/QOF6FK5Hbr9A16NwPcqXv0BmZmZmJtK/QHE9Ctdj7b9Aj8L1KFwGwEDhehSuhwjAQOF6FK5Hyb9A9ihcjwKbv0CkcD0K13a/QArXo3C9Pr9AZmZmZuajvkCF61G4nku+QOxRuB6F+r1AmpmZmVmZvUB7FK5HofG8QAAAAACAd7xAcT0K1yMdvECamZmZ2ai7QFyPwvUobLtArkfhepQQu0AzMzMz85e6QFyPwvUoLbpAUrgehastukDhehSuR865QGZmZmYmXrlAw/UoXE8JuUCF61G4nsK4QJqZmZkZU7hAexSuRyHut0BmZmZm5pS3QK5H4XpUebdA7FG4HoUXt0BI4XoULtO2QDMzMzMzi7ZA",
          "dtype": "f8"
         },
         "yaxis": "y5"
        },
        {
         "hovertemplate": "weekday=Sat<br>hour_minute=%{x}<br>avg_weekday_actuals=%{y}<extra></extra>",
         "legendgroup": "Sat",
         "line": {
          "color": "#19d3f3",
          "dash": "solid"
         },
         "marker": {
          "symbol": "circle"
         },
         "mode": "lines",
         "name": "Sat",
         "orientation": "v",
         "showlegend": true,
         "type": "scatter",
         "x": {
          "bdata": "AAAAAAAAAAAAAAAAAADQPwAAAAAAAOA/AAAAAAAA6D8AAAAAAADwPwAAAAAAAPQ/AAAAAAAA+D8AAAAAAAD8PwAAAAAAAABAAAAAAAAAAkAAAAAAAAAEQAAAAAAAAAZAAAAAAAAACEAAAAAAAAAKQAAAAAAAAAxAAAAAAAAADkAAAAAAAAAQQAAAAAAAABFAAAAAAAAAEkAAAAAAAAATQAAAAAAAABRAAAAAAAAAFUAAAAAAAAAWQAAAAAAAABdAAAAAAAAAGEAAAAAAAAAZQAAAAAAAABpAAAAAAAAAG0AAAAAAAAAcQAAAAAAAAB1AAAAAAAAAHkAAAAAAAAAfQAAAAAAAACBAAAAAAACAIEAAAAAAAAAhQAAAAAAAgCFAAAAAAAAAIkAAAAAAAIAiQAAAAAAAACNAAAAAAACAI0AAAAAAAAAkQAAAAAAAgCRAAAAAAAAAJUAAAAAAAIAlQAAAAAAAACZAAAAAAACAJkAAAAAAAAAnQAAAAAAAgCdAAAAAAAAAKEAAAAAAAIAoQAAAAAAAAClAAAAAAACAKUAAAAAAAAAqQAAAAAAAgCpAAAAAAAAAK0AAAAAAAIArQAAAAAAAACxAAAAAAACALEAAAAAAAAAtQAAAAAAAgC1AAAAAAAAALkAAAAAAAIAuQAAAAAAAAC9AAAAAAACAL0AAAAAAAAAwQAAAAAAAQDBAAAAAAACAMEAAAAAAAMAwQAAAAAAAADFAAAAAAABAMUAAAAAAAIAxQAAAAAAAwDFAAAAAAAAAMkAAAAAAAEAyQAAAAAAAgDJAAAAAAADAMkAAAAAAAAAzQAAAAAAAQDNAAAAAAACAM0AAAAAAAMAzQAAAAAAAADRAAAAAAABANEAAAAAAAIA0QAAAAAAAwDRAAAAAAAAANUAAAAAAAEA1QAAAAAAAgDVAAAAAAADANUAAAAAAAAA2QAAAAAAAQDZAAAAAAACANkAAAAAAAMA2QAAAAAAAADdAAAAAAABAN0AAAAAAAIA3QAAAAAAAwDdA",
          "dtype": "f8"
         },
         "xaxis": "x6",
         "y": {
          "bdata": "XI/C9SiLtkCPwvUo3Ee2QIXrUbheCbZAhetRuN7NtUAzMzMz88C1QOxRuB5FkrVAH4XrUXhotUDD9Shcj0W1QGZmZmamObVAKVyPwvUptUAAAAAAgCS1QLgehesRK7VAmpmZmZlstUBmZmZmppK1QClcj8I1tbVAhetRuN7otUBxPQrX4262QB+F61E4xrZAuB6F61EOt0DXo3A9yli3QNejcD2KErhArkfhetRyuECkcD0Kl9W4QIXrUbieNrlASOF6FK4JukAfhetRuGa6QMP1KFyPuLpACtejcP0Ju0AfhetROG27QLgehesRqLtAzczMzIzdu0C4HoXrkRC8QOxRuB7FQrxAj8L1KJxlvEDhehSux3+8QFK4HoXrlrxAj8L1KFyrvEAzMzMzM8S8QAAAAAAAz7xAUrgehavBvEBI4XoUbo28QFyPwvXoY7xACtejcP03vEDD9ShcTwW8QEjhehSu3rtACtejcD2bu0AAAAAAgGa7QHsUrkfhLrtAmpmZmdkNu0CuR+F6VOi6QK5H4XrU1rpApHA9CperukBSuB6F65u6QLgeheuRf7pAZmZmZiaOukA9CtejsHi6QFK4HoVrgbpAFK5H4bp7ukDD9ShcT5C6QDMzMzOzprpAKVyPwjXWukBI4XoU7vG6QJqZmZnZJrtAFK5H4bpiu0BxPQrXo6q7QDMzMzPzsLtArkfhetS5u0D2KFyPQtC7QFyPwvVoqrtAj8L1KFyCu0BxPQrX42S7QI/C9ShcQLtAKVyPwrXWukAfhetROKq6QK5H4XrUdbpAcT0K16M3ukAAAAAAgMK5QPYoXI+CbblAMzMzM/MzuUAUrkfhuum4QK5H4XqU57hAUrgehWufuEA9CtejcD64QAAAAACA87dAmpmZmZkLuEC4HoXrUb+3QBSuR+H6WbdAH4XrUTgMt0DsUbgexdG2QM3MzMyMabZAPQrXo3AJtkAfhetReLa1QD0K16NwhbVA4XoUrkcstUDsUbgexea0QKRwPQrXo7RA",
          "dtype": "f8"
         },
         "yaxis": "y6"
        },
        {
         "hovertemplate": "weekday=Sun<br>hour_minute=%{x}<br>avg_weekday_actuals=%{y}<extra></extra>",
         "legendgroup": "Sun",
         "line": {
          "color": "#FF6692",
          "dash": "solid"
         },
         "marker": {
          "symbol": "circle"
         },
         "mode": "lines",
         "name": "Sun",
         "orientation": "v",
         "showlegend": true,
         "type": "scatter",
         "x": {
          "bdata": "AAAAAAAAAAAAAAAAAADQPwAAAAAAAOA/AAAAAAAA6D8AAAAAAADwPwAAAAAAAPQ/AAAAAAAA+D8AAAAAAAD8PwAAAAAAAABAAAAAAAAAAkAAAAAAAAAEQAAAAAAAAAZAAAAAAAAACEAAAAAAAAAKQAAAAAAAAAxAAAAAAAAADkAAAAAAAAAQQAAAAAAAABFAAAAAAAAAEkAAAAAAAAATQAAAAAAAABRAAAAAAAAAFUAAAAAAAAAWQAAAAAAAABdAAAAAAAAAGEAAAAAAAAAZQAAAAAAAABpAAAAAAAAAG0AAAAAAAAAcQAAAAAAAAB1AAAAAAAAAHkAAAAAAAAAfQAAAAAAAACBAAAAAAACAIEAAAAAAAAAhQAAAAAAAgCFAAAAAAAAAIkAAAAAAAIAiQAAAAAAAACNAAAAAAACAI0AAAAAAAAAkQAAAAAAAgCRAAAAAAAAAJUAAAAAAAIAlQAAAAAAAACZAAAAAAACAJkAAAAAAAAAnQAAAAAAAgCdAAAAAAAAAKEAAAAAAAIAoQAAAAAAAAClAAAAAAACAKUAAAAAAAAAqQAAAAAAAgCpAAAAAAAAAK0AAAAAAAIArQAAAAAAAACxAAAAAAACALEAAAAAAAAAtQAAAAAAAgC1AAAAAAAAALkAAAAAAAIAuQAAAAAAAAC9AAAAAAACAL0AAAAAAAAAwQAAAAAAAQDBAAAAAAACAMEAAAAAAAMAwQAAAAAAAADFAAAAAAABAMUAAAAAAAIAxQAAAAAAAwDFAAAAAAAAAMkAAAAAAAEAyQAAAAAAAgDJAAAAAAADAMkAAAAAAAAAzQAAAAAAAQDNAAAAAAACAM0AAAAAAAMAzQAAAAAAAADRAAAAAAABANEAAAAAAAIA0QAAAAAAAwDRAAAAAAAAANUAAAAAAAEA1QAAAAAAAgDVAAAAAAADANUAAAAAAAAA2QAAAAAAAQDZAAAAAAACANkAAAAAAAMA2QAAAAAAAADdAAAAAAABAN0AAAAAAAIA3QAAAAAAAwDdA",
          "dtype": "f8"
         },
         "xaxis": "x7",
         "y": {
          "bdata": "MzMzM3O7tEBmZmZmpna0QM3MzMwMOrRAUrgehWsBtEAK16Nw/QK0QHsUrkfh1LNA4XoUrseus0BSuB6Fa4qzQD0K16PwfbNAcT0K1yNqs0DNzMzMTGGzQFyPwvXoXbNA7FG4HkV9s0B7FK5HoYuzQHE9CtcjoLNAPQrXo7C3s0AzMzMzc/uzQJqZmZmZJ7RAXI/C9ehatEDXo3A9Coy0QK5H4XoUDbVAexSuR2FUtUCuR+F6lJy1QJqZmZmZ5LVASOF6FC6btkAfhetRuOe2QI/C9SgcLbdApHA9Cpdzt0CF61G4nuG3QK5H4XoUI7hAAAAAAIBluEDhehSuh6O4QOF6FK6H9rhAKVyPwjUtuUCuR+F6VGC5QMP1KFyPl7lAzczMzAzSuUAUrkfhegO6QKRwPQoXGrpA7FG4HkUZukBxPQrX4wC6QB+F61F447lApHA9Cle1uUDXo3A9yn25QClcj8J1SblAhetRuN7/uEAfhetROMy4QHE9CtejnbhAmpmZmdl+uECPwvUoHFC4QDMzMzOzMLhA7FG4HkUNuEDD9ShcT/23QOxRuB6F37dAhetRuB7dt0Bcj8L1KM+3QBSuR+H647dAMzMzM7Pnt0B7FK5H4fm3QClcj8J1GrhACtejcP1muECamZmZGZe4QM3MzMwM1rhApHA9CtcXuUCF61G4npC5QFK4HoXrzblAPQrXo3D4uUAfhetROCy6QFK4HoXrPbpAXI/C9ShPukBmZmZmple6QFyPwvUoW7pAw/UoXA8qukCF61G43g26QNejcD1K5rlAexSuR6GvuUC4HoXrkWK5QD0K16MwHblA9ihcj8LquECPwvUonLC4QHsUrkeh1bhACtejcD2VuECuR+F6FDq4QBSuR+G6+rdAw/UoXE8tuEB7FK5HYeO3QHE9CtcjhbdAw/UoXA9At0BI4XoUbiG3QHsUrkchvrZAXI/C9ehjtkDhehSuRx22QEjhehQuLrZACtejcH3ltUBcj8L1KKy1QIXrUbjedrVA",
          "dtype": "f8"
         },
         "yaxis": "y7"
        }
       ],
       "layout": {
        "annotations": [
         {
          "font": {},
          "showarrow": false,
          "text": "weekday=Mon",
          "x": 0.06285714285714285,
          "xanchor": "center",
          "xref": "paper",
          "y": 1,
          "yanchor": "bottom",
          "yref": "paper"
         },
         {
          "font": {},
          "showarrow": false,
          "text": "weekday=Tue",
          "x": 0.20857142857142852,
          "xanchor": "center",
          "xref": "paper",
          "y": 1,
          "yanchor": "bottom",
          "yref": "paper"
         },
         {
          "font": {},
          "showarrow": false,
          "text": "weekday=Wed",
          "x": 0.3542857142857142,
          "xanchor": "center",
          "xref": "paper",
          "y": 1,
          "yanchor": "bottom",
          "yref": "paper"
         },
         {
          "font": {},
          "showarrow": false,
          "text": "weekday=Thu",
          "x": 0.5,
          "xanchor": "center",
          "xref": "paper",
          "y": 1,
          "yanchor": "bottom",
          "yref": "paper"
         },
         {
          "font": {},
          "showarrow": false,
          "text": "weekday=Fri",
          "x": 0.6457142857142856,
          "xanchor": "center",
          "xref": "paper",
          "y": 1,
          "yanchor": "bottom",
          "yref": "paper"
         },
         {
          "font": {},
          "showarrow": false,
          "text": "weekday=Sat",
          "x": 0.7914285714285713,
          "xanchor": "center",
          "xref": "paper",
          "y": 1,
          "yanchor": "bottom",
          "yref": "paper"
         },
         {
          "font": {},
          "showarrow": false,
          "text": "weekday=Sun",
          "x": 0.937142857142857,
          "xanchor": "center",
          "xref": "paper",
          "y": 1,
          "yanchor": "bottom",
          "yref": "paper"
         }
        ],
        "legend": {
         "title": {
          "text": "weekday"
         },
         "tracegroupgap": 0
        },
        "template": {
         "data": {
          "bar": [
           {
            "error_x": {
             "color": "#2a3f5f"
            },
            "error_y": {
             "color": "#2a3f5f"
            },
            "marker": {
             "line": {
              "color": "#E5ECF6",
              "width": 0.5
             },
             "pattern": {
              "fillmode": "overlay",
              "size": 10,
              "solidity": 0.2
             }
            },
            "type": "bar"
           }
          ],
          "barpolar": [
           {
            "marker": {
             "line": {
              "color": "#E5ECF6",
              "width": 0.5
             },
             "pattern": {
              "fillmode": "overlay",
              "size": 10,
              "solidity": 0.2
             }
            },
            "type": "barpolar"
           }
          ],
          "carpet": [
           {
            "aaxis": {
             "endlinecolor": "#2a3f5f",
             "gridcolor": "white",
             "linecolor": "white",
             "minorgridcolor": "white",
             "startlinecolor": "#2a3f5f"
            },
            "baxis": {
             "endlinecolor": "#2a3f5f",
             "gridcolor": "white",
             "linecolor": "white",
             "minorgridcolor": "white",
             "startlinecolor": "#2a3f5f"
            },
            "type": "carpet"
           }
          ],
          "choropleth": [
           {
            "colorbar": {
             "outlinewidth": 0,
             "ticks": ""
            },
            "type": "choropleth"
           }
          ],
          "contour": [
           {
            "colorbar": {
             "outlinewidth": 0,
             "ticks": ""
            },
            "colorscale": [
             [
              0,
              "#0d0887"
             ],
             [
              0.1111111111111111,
              "#46039f"
             ],
             [
              0.2222222222222222,
              "#7201a8"
             ],
             [
              0.3333333333333333,
              "#9c179e"
             ],
             [
              0.4444444444444444,
              "#bd3786"
             ],
             [
              0.5555555555555556,
              "#d8576b"
             ],
             [
              0.6666666666666666,
              "#ed7953"
             ],
             [
              0.7777777777777778,
              "#fb9f3a"
             ],
             [
              0.8888888888888888,
              "#fdca26"
             ],
             [
              1,
              "#f0f921"
             ]
            ],
            "type": "contour"
           }
          ],
          "contourcarpet": [
           {
            "colorbar": {
             "outlinewidth": 0,
             "ticks": ""
            },
            "type": "contourcarpet"
           }
          ],
          "heatmap": [
           {
            "colorbar": {
             "outlinewidth": 0,
             "ticks": ""
            },
            "colorscale": [
             [
              0,
              "#0d0887"
             ],
             [
              0.1111111111111111,
              "#46039f"
             ],
             [
              0.2222222222222222,
              "#7201a8"
             ],
             [
              0.3333333333333333,
              "#9c179e"
             ],
             [
              0.4444444444444444,
              "#bd3786"
             ],
             [
              0.5555555555555556,
              "#d8576b"
             ],
             [
              0.6666666666666666,
              "#ed7953"
             ],
             [
              0.7777777777777778,
              "#fb9f3a"
             ],
             [
              0.8888888888888888,
              "#fdca26"
             ],
             [
              1,
              "#f0f921"
             ]
            ],
            "type": "heatmap"
           }
          ],
          "histogram": [
           {
            "marker": {
             "pattern": {
              "fillmode": "overlay",
              "size": 10,
              "solidity": 0.2
             }
            },
            "type": "histogram"
           }
          ],
          "histogram2d": [
           {
            "colorbar": {
             "outlinewidth": 0,
             "ticks": ""
            },
            "colorscale": [
             [
              0,
              "#0d0887"
             ],
             [
              0.1111111111111111,
              "#46039f"
             ],
             [
              0.2222222222222222,
              "#7201a8"
             ],
             [
              0.3333333333333333,
              "#9c179e"
             ],
             [
              0.4444444444444444,
              "#bd3786"
             ],
             [
              0.5555555555555556,
              "#d8576b"
             ],
             [
              0.6666666666666666,
              "#ed7953"
             ],
             [
              0.7777777777777778,
              "#fb9f3a"
             ],
             [
              0.8888888888888888,
              "#fdca26"
             ],
             [
              1,
              "#f0f921"
             ]
            ],
            "type": "histogram2d"
           }
          ],
          "histogram2dcontour": [
           {
            "colorbar": {
             "outlinewidth": 0,
             "ticks": ""
            },
            "colorscale": [
             [
              0,
              "#0d0887"
             ],
             [
              0.1111111111111111,
              "#46039f"
             ],
             [
              0.2222222222222222,
              "#7201a8"
             ],
             [
              0.3333333333333333,
              "#9c179e"
             ],
             [
              0.4444444444444444,
              "#bd3786"
             ],
             [
              0.5555555555555556,
              "#d8576b"
             ],
             [
              0.6666666666666666,
              "#ed7953"
             ],
             [
              0.7777777777777778,
              "#fb9f3a"
             ],
             [
              0.8888888888888888,
              "#fdca26"
             ],
             [
              1,
              "#f0f921"
             ]
            ],
            "type": "histogram2dcontour"
           }
          ],
          "mesh3d": [
           {
            "colorbar": {
             "outlinewidth": 0,
             "ticks": ""
            },
            "type": "mesh3d"
           }
          ],
          "parcoords": [
           {
            "line": {
             "colorbar": {
              "outlinewidth": 0,
              "ticks": ""
             }
            },
            "type": "parcoords"
           }
          ],
          "pie": [
           {
            "automargin": true,
            "type": "pie"
           }
          ],
          "scatter": [
           {
            "fillpattern": {
             "fillmode": "overlay",
             "size": 10,
             "solidity": 0.2
            },
            "type": "scatter"
           }
          ],
          "scatter3d": [
           {
            "line": {
             "colorbar": {
              "outlinewidth": 0,
              "ticks": ""
             }
            },
            "marker": {
             "colorbar": {
              "outlinewidth": 0,
              "ticks": ""
             }
            },
            "type": "scatter3d"
           }
          ],
          "scattercarpet": [
           {
            "marker": {
             "colorbar": {
              "outlinewidth": 0,
              "ticks": ""
             }
            },
            "type": "scattercarpet"
           }
          ],
          "scattergeo": [
           {
            "marker": {
             "colorbar": {
              "outlinewidth": 0,
              "ticks": ""
             }
            },
            "type": "scattergeo"
           }
          ],
          "scattergl": [
           {
            "marker": {
             "colorbar": {
              "outlinewidth": 0,
              "ticks": ""
             }
            },
            "type": "scattergl"
           }
          ],
          "scattermap": [
           {
            "marker": {
             "colorbar": {
              "outlinewidth": 0,
              "ticks": ""
             }
            },
            "type": "scattermap"
           }
          ],
          "scattermapbox": [
           {
            "marker": {
             "colorbar": {
              "outlinewidth": 0,
              "ticks": ""
             }
            },
            "type": "scattermapbox"
           }
          ],
          "scatterpolar": [
           {
            "marker": {
             "colorbar": {
              "outlinewidth": 0,
              "ticks": ""
             }
            },
            "type": "scatterpolar"
           }
          ],
          "scatterpolargl": [
           {
            "marker": {
             "colorbar": {
              "outlinewidth": 0,
              "ticks": ""
             }
            },
            "type": "scatterpolargl"
           }
          ],
          "scatterternary": [
           {
            "marker": {
             "colorbar": {
              "outlinewidth": 0,
              "ticks": ""
             }
            },
            "type": "scatterternary"
           }
          ],
          "surface": [
           {
            "colorbar": {
             "outlinewidth": 0,
             "ticks": ""
            },
            "colorscale": [
             [
              0,
              "#0d0887"
             ],
             [
              0.1111111111111111,
              "#46039f"
             ],
             [
              0.2222222222222222,
              "#7201a8"
             ],
             [
              0.3333333333333333,
              "#9c179e"
             ],
             [
              0.4444444444444444,
              "#bd3786"
             ],
             [
              0.5555555555555556,
              "#d8576b"
             ],
             [
              0.6666666666666666,
              "#ed7953"
             ],
             [
              0.7777777777777778,
              "#fb9f3a"
             ],
             [
              0.8888888888888888,
              "#fdca26"
             ],
             [
              1,
              "#f0f921"
             ]
            ],
            "type": "surface"
           }
          ],
          "table": [
           {
            "cells": {
             "fill": {
              "color": "#EBF0F8"
             },
             "line": {
              "color": "white"
             }
            },
            "header": {
             "fill": {
              "color": "#C8D4E3"
             },
             "line": {
              "color": "white"
             }
            },
            "type": "table"
           }
          ]
         },
         "layout": {
          "annotationdefaults": {
           "arrowcolor": "#2a3f5f",
           "arrowhead": 0,
           "arrowwidth": 1
          },
          "autotypenumbers": "strict",
          "coloraxis": {
           "colorbar": {
            "outlinewidth": 0,
            "ticks": ""
           }
          },
          "colorscale": {
           "diverging": [
            [
             0,
             "#8e0152"
            ],
            [
             0.1,
             "#c51b7d"
            ],
            [
             0.2,
             "#de77ae"
            ],
            [
             0.3,
             "#f1b6da"
            ],
            [
             0.4,
             "#fde0ef"
            ],
            [
             0.5,
             "#f7f7f7"
            ],
            [
             0.6,
             "#e6f5d0"
            ],
            [
             0.7,
             "#b8e186"
            ],
            [
             0.8,
             "#7fbc41"
            ],
            [
             0.9,
             "#4d9221"
            ],
            [
             1,
             "#276419"
            ]
           ],
           "sequential": [
            [
             0,
             "#0d0887"
            ],
            [
             0.1111111111111111,
             "#46039f"
            ],
            [
             0.2222222222222222,
             "#7201a8"
            ],
            [
             0.3333333333333333,
             "#9c179e"
            ],
            [
             0.4444444444444444,
             "#bd3786"
            ],
            [
             0.5555555555555556,
             "#d8576b"
            ],
            [
             0.6666666666666666,
             "#ed7953"
            ],
            [
             0.7777777777777778,
             "#fb9f3a"
            ],
            [
             0.8888888888888888,
             "#fdca26"
            ],
            [
             1,
             "#f0f921"
            ]
           ],
           "sequentialminus": [
            [
             0,
             "#0d0887"
            ],
            [
             0.1111111111111111,
             "#46039f"
            ],
            [
             0.2222222222222222,
             "#7201a8"
            ],
            [
             0.3333333333333333,
             "#9c179e"
            ],
            [
             0.4444444444444444,
             "#bd3786"
            ],
            [
             0.5555555555555556,
             "#d8576b"
            ],
            [
             0.6666666666666666,
             "#ed7953"
            ],
            [
             0.7777777777777778,
             "#fb9f3a"
            ],
            [
             0.8888888888888888,
             "#fdca26"
            ],
            [
             1,
             "#f0f921"
            ]
           ]
          },
          "colorway": [
           "#636efa",
           "#EF553B",
           "#00cc96",
           "#ab63fa",
           "#FFA15A",
           "#19d3f3",
           "#FF6692",
           "#B6E880",
           "#FF97FF",
           "#FECB52"
          ],
          "font": {
           "color": "#2a3f5f"
          },
          "geo": {
           "bgcolor": "white",
           "lakecolor": "white",
           "landcolor": "#E5ECF6",
           "showlakes": true,
           "showland": true,
           "subunitcolor": "white"
          },
          "hoverlabel": {
           "align": "left"
          },
          "hovermode": "closest",
          "mapbox": {
           "style": "light"
          },
          "paper_bgcolor": "white",
          "plot_bgcolor": "#E5ECF6",
          "polar": {
           "angularaxis": {
            "gridcolor": "white",
            "linecolor": "white",
            "ticks": ""
           },
           "bgcolor": "#E5ECF6",
           "radialaxis": {
            "gridcolor": "white",
            "linecolor": "white",
            "ticks": ""
           }
          },
          "scene": {
           "xaxis": {
            "backgroundcolor": "#E5ECF6",
            "gridcolor": "white",
            "gridwidth": 2,
            "linecolor": "white",
            "showbackground": true,
            "ticks": "",
            "zerolinecolor": "white"
           },
           "yaxis": {
            "backgroundcolor": "#E5ECF6",
            "gridcolor": "white",
            "gridwidth": 2,
            "linecolor": "white",
            "showbackground": true,
            "ticks": "",
            "zerolinecolor": "white"
           },
           "zaxis": {
            "backgroundcolor": "#E5ECF6",
            "gridcolor": "white",
            "gridwidth": 2,
            "linecolor": "white",
            "showbackground": true,
            "ticks": "",
            "zerolinecolor": "white"
           }
          },
          "shapedefaults": {
           "line": {
            "color": "#2a3f5f"
           }
          },
          "ternary": {
           "aaxis": {
            "gridcolor": "white",
            "linecolor": "white",
            "ticks": ""
           },
           "baxis": {
            "gridcolor": "white",
            "linecolor": "white",
            "ticks": ""
           },
           "bgcolor": "#E5ECF6",
           "caxis": {
            "gridcolor": "white",
            "linecolor": "white",
            "ticks": ""
           }
          },
          "title": {
           "x": 0.05
          },
          "xaxis": {
           "automargin": true,
           "gridcolor": "white",
           "linecolor": "white",
           "ticks": "",
           "title": {
            "standoff": 15
           },
           "zerolinecolor": "white",
           "zerolinewidth": 2
          },
          "yaxis": {
           "automargin": true,
           "gridcolor": "white",
           "linecolor": "white",
           "ticks": "",
           "title": {
            "standoff": 15
           },
           "zerolinecolor": "white",
           "zerolinewidth": 2
          }
         }
        },
        "title": {
         "text": "AT Hourly Profiles by Weekday"
        },
        "xaxis": {
         "anchor": "y",
         "domain": [
          0,
          0.1257142857142857
         ],
         "title": {
          "text": "hour_minute"
         }
        },
        "xaxis2": {
         "anchor": "y2",
         "domain": [
          0.14571428571428569,
          0.27142857142857135
         ],
         "matches": "x",
         "title": {
          "text": "hour_minute"
         }
        },
        "xaxis3": {
         "anchor": "y3",
         "domain": [
          0.29142857142857137,
          0.41714285714285704
         ],
         "matches": "x",
         "title": {
          "text": "hour_minute"
         }
        },
        "xaxis4": {
         "anchor": "y4",
         "domain": [
          0.4371428571428571,
          0.5628571428571428
         ],
         "matches": "x",
         "title": {
          "text": "hour_minute"
         }
        },
        "xaxis5": {
         "anchor": "y5",
         "domain": [
          0.5828571428571427,
          0.7085714285714284
         ],
         "matches": "x",
         "title": {
          "text": "hour_minute"
         }
        },
        "xaxis6": {
         "anchor": "y6",
         "domain": [
          0.7285714285714284,
          0.8542857142857141
         ],
         "matches": "x",
         "title": {
          "text": "hour_minute"
         }
        },
        "xaxis7": {
         "anchor": "y7",
         "domain": [
          0.8742857142857142,
          0.9999999999999999
         ],
         "matches": "x",
         "title": {
          "text": "hour_minute"
         }
        },
        "yaxis": {
         "anchor": "x",
         "domain": [
          0,
          1
         ],
         "title": {
          "text": "avg_weekday_actuals"
         }
        },
        "yaxis2": {
         "anchor": "x2",
         "domain": [
          0,
          1
         ],
         "matches": "y",
         "showticklabels": false
        },
        "yaxis3": {
         "anchor": "x3",
         "domain": [
          0,
          1
         ],
         "matches": "y",
         "showticklabels": false
        },
        "yaxis4": {
         "anchor": "x4",
         "domain": [
          0,
          1
         ],
         "matches": "y",
         "showticklabels": false
        },
        "yaxis5": {
         "anchor": "x5",
         "domain": [
          0,
          1
         ],
         "matches": "y",
         "showticklabels": false
        },
        "yaxis6": {
         "anchor": "x6",
         "domain": [
          0,
          1
         ],
         "matches": "y",
         "showticklabels": false
        },
        "yaxis7": {
         "anchor": "x7",
         "domain": [
          0,
          1
         ],
         "matches": "y",
         "showticklabels": false
        }
       }
      }
     },
     "metadata": {},
     "output_type": "display_data"
    }
   ],
   "source": [
    "# Plot of average load shape by day\n",
    "input_data = create_impute_data(country_actuals)\n",
    "weekday_impute = create_weekday_impute(input_data)\n",
    "\n",
    "px.line(\n",
    "    weekday_impute, \n",
    "    x=\"hour_minute\", \n",
    "    y=\"avg_weekday_actuals\", \n",
    "    color='weekday', \n",
    "    facet_col='weekday',\n",
    "    title=\"AT Hourly Profiles by Weekday\"\n",
    "    )\n",
    "\n",
    "# day_hour is not so easy to plot\n"
   ]
  },
  {
   "cell_type": "code",
   "execution_count": 15,
   "id": "c5d8862d",
   "metadata": {},
   "outputs": [],
   "source": [
    "def create_impute_window(data, n, idx, forecast=False): \n",
    "    '''\n",
    "    Creates imputation window with n NAs at index idx. \n",
    "    Window:\n",
    "        1 row of available data, \n",
    "        n rows of NAs, \n",
    "        2 rows of available data\n",
    "    \n",
    "    If forecast=True, then there is up to 6months of data before NA values.\n",
    "    \n",
    "    This is done to ensure all imputation methods can impute without error\n",
    "    '''\n",
    "\n",
    "    window = data.iloc[idx-1:idx+n+2]\n",
    "    window['to_impute'] = window['load_actual_entsoe_transparency'];  \n",
    "    window.loc[idx:idx+n-1, 'to_impute'] = np.nan\n",
    "\n",
    "    # forecast impute window, which has additional data for forcasting\n",
    "    if forecast:\n",
    "        ### Future: consider dynamic forecast window\n",
    "        one_year_data = int((2880 * 12) / 2) # Selecting all data available, up to 6 months\n",
    "        fcst_start = max(idx - one_year_data, 0) \n",
    "        fcst_window = data.iloc[fcst_start:idx+n+2]\n",
    "        fcst_window['to_impute'] = fcst_window['load_actual_entsoe_transparency'];  \n",
    "        fcst_window.loc[idx:idx+n-1, 'to_impute'] = np.nan\n",
    "\n",
    "        return fcst_window\n",
    "    \n",
    "    return window"
   ]
  },
  {
   "cell_type": "code",
   "execution_count": 16,
   "id": "48f07c5a",
   "metadata": {},
   "outputs": [
    {
     "name": "stdout",
     "output_type": "stream",
     "text": [
      "Imputed NA num: 2352, NA in df: 2281\n"
     ]
    }
   ],
   "source": [
    "### Goal: Use Nixtla ETS model to forecast gaps\n",
    "# 1. Randomly place gaps in dataset of size n = 4 through 96\n",
    "\n",
    "### --- This is the dataframe for testing --- ###\n",
    "\n",
    "# To reflect actual data and favor this forecasting imputation\n",
    "# method, ensuring first x rows of data are available. \n",
    "\n",
    "# 1 day = 96 rows, 1 month = 96 * 30 = 2880\n",
    "impute_data = create_impute_data(country_actuals)\n",
    "\n",
    "impute_data['to_impute'] = impute_data['load_actual_entsoe_transparency']\n",
    "complete_range = impute_data.iloc[0:2879]\n",
    "impute_range = impute_data.iloc[2879:]\n",
    "nan_window = list(range(2, 96+1, 2)) # (gaps of size 2 to 96 by 2)\n",
    "impute_indices = list(impute_range.sample(len(nan_window), random_state=24).index)\n",
    "\n",
    "# -------- This method does not seem to impute enough nans\n",
    "for idx, num_nan in zip(impute_indices, nan_window):\n",
    "    impute_range.iloc[idx:idx+num_nan] = np.nan\n",
    "\n",
    "\n",
    "### num nan should be very close to \n",
    "# (possibility of overlapping windows)\n",
    "check_nan_num = sum(list(range(2,96+1,2))) \n",
    "actual_nan_num = sum(impute_range['to_impute'].isna())\n",
    "\n",
    "# NA in df is not close to the expected number... \n",
    "print(f\"Imputed NA num: {check_nan_num}, NA in df: {actual_nan_num}\")\n",
    "\n",
    "# no gaps are large enough to correspond to this difference\n",
    "final_impute_df = pd.concat([complete_range, impute_range])"
   ]
  },
  {
   "cell_type": "markdown",
   "id": "09260a78",
   "metadata": {},
   "source": [
    "Investigating difference in number of NAs"
   ]
  },
  {
   "cell_type": "code",
   "execution_count": 17,
   "id": "19f331a2",
   "metadata": {},
   "outputs": [
    {
     "data": {
      "application/vnd.microsoft.datawrangler.viewer.v0+json": {
       "columns": [
        {
         "name": "index",
         "rawType": "int64",
         "type": "integer"
        },
        {
         "name": "sorted",
         "rawType": "int64",
         "type": "integer"
        },
        {
         "name": "diff",
         "rawType": "float64",
         "type": "float"
        },
        {
         "name": "n_gap_size",
         "rawType": "int64",
         "type": "integer"
        }
       ],
       "ref": "69857e59-e5dd-4b74-87cf-7835f7fd7435",
       "rows": [
        [
         "8",
         "35133",
         "19.0",
         "68"
        ]
       ],
       "shape": {
        "columns": 3,
        "rows": 1
       }
      },
      "text/html": [
       "<div>\n",
       "<style scoped>\n",
       "    .dataframe tbody tr th:only-of-type {\n",
       "        vertical-align: middle;\n",
       "    }\n",
       "\n",
       "    .dataframe tbody tr th {\n",
       "        vertical-align: top;\n",
       "    }\n",
       "\n",
       "    .dataframe thead th {\n",
       "        text-align: right;\n",
       "    }\n",
       "</style>\n",
       "<table border=\"1\" class=\"dataframe\">\n",
       "  <thead>\n",
       "    <tr style=\"text-align: right;\">\n",
       "      <th></th>\n",
       "      <th>sorted</th>\n",
       "      <th>diff</th>\n",
       "      <th>n_gap_size</th>\n",
       "    </tr>\n",
       "  </thead>\n",
       "  <tbody>\n",
       "    <tr>\n",
       "      <th>8</th>\n",
       "      <td>35133</td>\n",
       "      <td>19.0</td>\n",
       "      <td>68</td>\n",
       "    </tr>\n",
       "  </tbody>\n",
       "</table>\n",
       "</div>"
      ],
      "text/plain": [
       "   sorted  diff  n_gap_size\n",
       "8   35133  19.0          68"
      ]
     },
     "execution_count": 17,
     "metadata": {},
     "output_type": "execute_result"
    }
   ],
   "source": [
    "idx_gap_pairs = pd.DataFrame({\n",
    "    'idx': impute_indices,\n",
    "    'n_gap_size': nan_window\n",
    "    })\n",
    "\n",
    "lag_test = pd.DataFrame({\n",
    "    'sorted': sorted(impute_indices)\n",
    "    })\n",
    "\n",
    "lag_test['sorted_lag'] = lag_test['sorted'].shift()\n",
    "lag_test['diff'] = lag_test['sorted'] - lag_test['sorted_lag']\n",
    "\n",
    "final_tbl = (lag_test.merge(\n",
    "    idx_gap_pairs, \n",
    "    left_on='sorted', \n",
    "    right_on='idx', \n",
    "    how='left')\n",
    "    [['sorted', 'diff', 'n_gap_size']])\n",
    "\n",
    "# Cases where the gap is greter than the different, \n",
    "# causeing there to be fewer than expected NAs\n",
    "final_tbl.loc[lambda x: x['diff'] <= x['n_gap_size']]"
   ]
  },
  {
   "cell_type": "markdown",
   "id": "21eebdf6",
   "metadata": {},
   "source": [
    "This above table explains a portion of the gap between expected NAs and actual NAs\n",
    "in the dataframe. \n",
    "\n",
    "NA_gap = 2352 - 2281 = 71  \n",
    "Expected missing NAs = 68 - 19 = 49\n",
    "\n",
    "Unfortunately, 71 - 49 = 22 missing NAs unexpectedly exist. Currently unaware of their origin."
   ]
  },
  {
   "cell_type": "code",
   "execution_count": 18,
   "id": "9818ddad",
   "metadata": {},
   "outputs": [
    {
     "data": {
      "application/vnd.microsoft.datawrangler.viewer.v0+json": {
       "columns": [
        {
         "name": "index",
         "rawType": "int64",
         "type": "integer"
        },
        {
         "name": "missing_group_num",
         "rawType": "int64",
         "type": "integer"
        },
        {
         "name": "consecutive",
         "rawType": "int64",
         "type": "integer"
        },
        {
         "name": "first_na_idx",
         "rawType": "int64",
         "type": "integer"
        },
        {
         "name": "last_na_idx",
         "rawType": "int64",
         "type": "integer"
        }
       ],
       "ref": "345543dd-1968-4586-87e8-dce06820cb4c",
       "rows": [
        [
         "1",
         "1",
         "24",
         "6052",
         "6077"
        ],
        [
         "2",
         "2",
         "60",
         "6601",
         "6662"
        ],
        [
         "3",
         "3",
         "50",
         "11487",
         "11538"
        ],
        [
         "4",
         "4",
         "36",
         "20487",
         "20524"
        ],
        [
         "5",
         "5",
         "82",
         "26193",
         "26276"
        ]
       ],
       "shape": {
        "columns": 4,
        "rows": 5
       }
      },
      "text/html": [
       "<div>\n",
       "<style scoped>\n",
       "    .dataframe tbody tr th:only-of-type {\n",
       "        vertical-align: middle;\n",
       "    }\n",
       "\n",
       "    .dataframe tbody tr th {\n",
       "        vertical-align: top;\n",
       "    }\n",
       "\n",
       "    .dataframe thead th {\n",
       "        text-align: right;\n",
       "    }\n",
       "</style>\n",
       "<table border=\"1\" class=\"dataframe\">\n",
       "  <thead>\n",
       "    <tr style=\"text-align: right;\">\n",
       "      <th></th>\n",
       "      <th>missing_group_num</th>\n",
       "      <th>consecutive</th>\n",
       "      <th>first_na_idx</th>\n",
       "      <th>last_na_idx</th>\n",
       "    </tr>\n",
       "  </thead>\n",
       "  <tbody>\n",
       "    <tr>\n",
       "      <th>1</th>\n",
       "      <td>1</td>\n",
       "      <td>24</td>\n",
       "      <td>6052</td>\n",
       "      <td>6077</td>\n",
       "    </tr>\n",
       "    <tr>\n",
       "      <th>2</th>\n",
       "      <td>2</td>\n",
       "      <td>60</td>\n",
       "      <td>6601</td>\n",
       "      <td>6662</td>\n",
       "    </tr>\n",
       "    <tr>\n",
       "      <th>3</th>\n",
       "      <td>3</td>\n",
       "      <td>50</td>\n",
       "      <td>11487</td>\n",
       "      <td>11538</td>\n",
       "    </tr>\n",
       "    <tr>\n",
       "      <th>4</th>\n",
       "      <td>4</td>\n",
       "      <td>36</td>\n",
       "      <td>20487</td>\n",
       "      <td>20524</td>\n",
       "    </tr>\n",
       "    <tr>\n",
       "      <th>5</th>\n",
       "      <td>5</td>\n",
       "      <td>82</td>\n",
       "      <td>26193</td>\n",
       "      <td>26276</td>\n",
       "    </tr>\n",
       "  </tbody>\n",
       "</table>\n",
       "</div>"
      ],
      "text/plain": [
       "   missing_group_num  consecutive  first_na_idx  last_na_idx\n",
       "1                  1           24          6052         6077\n",
       "2                  2           60          6601         6662\n",
       "3                  3           50         11487        11538\n",
       "4                  4           36         20487        20524\n",
       "5                  5           82         26193        26276"
      ]
     },
     "execution_count": 18,
     "metadata": {},
     "output_type": "execute_result"
    },
    {
     "name": "stdout",
     "output_type": "stream",
     "text": [
      "first_na: 6052, one_year_idx: 34560 suggested start: -28508, start: 0, end: 6051, horizon: 24\n"
     ]
    },
    {
     "data": {
      "application/vnd.microsoft.datawrangler.viewer.v0+json": {
       "columns": [
        {
         "name": "index",
         "rawType": "object",
         "type": "string"
        },
        {
         "name": "0",
         "rawType": "object",
         "type": "unknown"
        }
       ],
       "ref": "4bbfbdf1-9ca2-43b9-b3e8-d3131945d28c",
       "rows": [
        [
         "index",
         "int64"
        ],
        [
         "utc_timestamp",
         "datetime64[ns, UTC]"
        ],
        [
         "to_impute",
         "float64"
        ]
       ],
       "shape": {
        "columns": 1,
        "rows": 3
       }
      },
      "text/plain": [
       "index                          int64\n",
       "utc_timestamp    datetime64[ns, UTC]\n",
       "to_impute                    float64\n",
       "dtype: object"
      ]
     },
     "execution_count": 18,
     "metadata": {},
     "output_type": "execute_result"
    },
    {
     "data": {
      "text/plain": [
       "(6051, 3)"
      ]
     },
     "execution_count": 18,
     "metadata": {},
     "output_type": "execute_result"
    },
    {
     "data": {
      "application/vnd.jupyter.widget-view+json": {
       "model_id": "67b80d9d817c4a2fb8b030645614678a",
       "version_major": 2,
       "version_minor": 0
      },
      "text/plain": [
       "Forecast:   0%|          | 0/1 [00:00<?, ?it/s]"
      ]
     },
     "metadata": {},
     "output_type": "display_data"
    },
    {
     "data": {
      "application/vnd.microsoft.datawrangler.viewer.v0+json": {
       "columns": [
        {
         "name": "index",
         "rawType": "int64",
         "type": "integer"
        },
        {
         "name": "index",
         "rawType": "int64",
         "type": "integer"
        },
        {
         "name": "utc_timestamp",
         "rawType": "datetime64[ns, UTC]",
         "type": "unknown"
        },
        {
         "name": "imputed",
         "rawType": "float64",
         "type": "float"
        }
       ],
       "ref": "0a6097a1-c1e4-4971-8c4b-687fca6a8030",
       "rows": [
        [
         "0",
         "1",
         "2015-03-05 00:00:00+00:00",
         "7016.370734343151"
        ],
        [
         "1",
         "1",
         "2015-03-05 00:15:00+00:00",
         "6931.056459805086"
        ],
        [
         "2",
         "1",
         "2015-03-05 00:30:00+00:00",
         "6948.100639468776"
        ],
        [
         "3",
         "1",
         "2015-03-05 00:45:00+00:00",
         "6887.453011278023"
        ],
        [
         "4",
         "1",
         "2015-03-05 01:00:00+00:00",
         "6888.810414293366"
        ]
       ],
       "shape": {
        "columns": 3,
        "rows": 5
       }
      },
      "text/html": [
       "<div>\n",
       "<style scoped>\n",
       "    .dataframe tbody tr th:only-of-type {\n",
       "        vertical-align: middle;\n",
       "    }\n",
       "\n",
       "    .dataframe tbody tr th {\n",
       "        vertical-align: top;\n",
       "    }\n",
       "\n",
       "    .dataframe thead th {\n",
       "        text-align: right;\n",
       "    }\n",
       "</style>\n",
       "<table border=\"1\" class=\"dataframe\">\n",
       "  <thead>\n",
       "    <tr style=\"text-align: right;\">\n",
       "      <th></th>\n",
       "      <th>index</th>\n",
       "      <th>utc_timestamp</th>\n",
       "      <th>imputed</th>\n",
       "    </tr>\n",
       "  </thead>\n",
       "  <tbody>\n",
       "    <tr>\n",
       "      <th>0</th>\n",
       "      <td>1</td>\n",
       "      <td>2015-03-05 00:00:00+00:00</td>\n",
       "      <td>7016.370734</td>\n",
       "    </tr>\n",
       "    <tr>\n",
       "      <th>1</th>\n",
       "      <td>1</td>\n",
       "      <td>2015-03-05 00:15:00+00:00</td>\n",
       "      <td>6931.056460</td>\n",
       "    </tr>\n",
       "    <tr>\n",
       "      <th>2</th>\n",
       "      <td>1</td>\n",
       "      <td>2015-03-05 00:30:00+00:00</td>\n",
       "      <td>6948.100639</td>\n",
       "    </tr>\n",
       "    <tr>\n",
       "      <th>3</th>\n",
       "      <td>1</td>\n",
       "      <td>2015-03-05 00:45:00+00:00</td>\n",
       "      <td>6887.453011</td>\n",
       "    </tr>\n",
       "    <tr>\n",
       "      <th>4</th>\n",
       "      <td>1</td>\n",
       "      <td>2015-03-05 01:00:00+00:00</td>\n",
       "      <td>6888.810414</td>\n",
       "    </tr>\n",
       "  </tbody>\n",
       "</table>\n",
       "</div>"
      ],
      "text/plain": [
       "   index             utc_timestamp      imputed\n",
       "0      1 2015-03-05 00:00:00+00:00  7016.370734\n",
       "1      1 2015-03-05 00:15:00+00:00  6931.056460\n",
       "2      1 2015-03-05 00:30:00+00:00  6948.100639\n",
       "3      1 2015-03-05 00:45:00+00:00  6887.453011\n",
       "4      1 2015-03-05 01:00:00+00:00  6888.810414"
      ]
     },
     "execution_count": 18,
     "metadata": {},
     "output_type": "execute_result"
    }
   ],
   "source": [
    "from statsforecast import StatsForecast\n",
    "from statsforecast.models import AutoETS\n",
    "\n",
    "### Check if function can forecast with the non-na values - what happens?\n",
    "# If it breaks, remove the two prior to forecasting, then recombine later\n",
    "\n",
    "# indice of first NA value\n",
    "impute_info = create_impute_groups(final_impute_df, 'load_actual_entsoe_transparency') \n",
    "impute_info.head()\n",
    "\n",
    "first_na = impute_info['first_na_idx'].iloc[0] # for later: final_impute_df\n",
    "\n",
    "# Defining start, end, and horizon points of training window\n",
    "one_year_data = 2880 * 12 # Selecting all data available, up to 1 year\n",
    "start = max(first_na - one_year_data, 0)  \n",
    "end = first_na - 1\n",
    "\n",
    "horizon = impute_info['consecutive'].iloc[0]\n",
    "\n",
    "print(f\"first_na: {first_na}, one_year_idx: {one_year_data}\",\n",
    "      f\"suggested start: {first_na - one_year_data},\",\n",
    "      f\"start: {start}, end: {end}, horizon: {horizon}\")\n",
    "\n",
    "# trying freq=1 assuming one is the number of rows\n",
    "# the horizon may be an alternative?\n",
    "impute_model = StatsForecast(\n",
    "    models=[AutoETS(model=\"AAA\", season_length=96)], # --- season_length=96 (1 day) or maybe 1 week\n",
    "    freq='15min',\n",
    "    n_jobs=-1,\n",
    "    verbose=True\n",
    "    ) \n",
    "\n",
    "# forecast imputed values with forecast df\n",
    "import time\n",
    "begin_timing = time.time()\n",
    "fcst_df = (final_impute_df.iloc[start:end] # index may need to be reset\n",
    "           #.reset_index()\n",
    "           #.assign(index = lambda x: x['index'].astype('category'))\n",
    "           .assign(index = 1)\n",
    "           [['index', 'utc_timestamp', 'to_impute']]) \n",
    "\n",
    "fcst_df.dtypes\n",
    "fcst_df.shape \n",
    "\n",
    "result = impute_model.forecast(\n",
    "    df=fcst_df, \n",
    "    id_col='index',\n",
    "    time_col='utc_timestamp',\n",
    "    target_col='to_impute',\n",
    "    h=horizon\n",
    "    ).rename(columns={'AutoETS': 'imputed'})\n",
    "\n",
    "total_time = time.time() - start \n",
    "\n",
    "result.head()\n",
    "# print(f\"Total time to train AutoETS Model to impute {horizon} nans \",\n",
    "#       f\"given dataset of size {len(fcst_df)}: {total_time:2f} seconds\")\n",
    "\n",
    "# place imputation into the data from for the given indice range"
   ]
  },
  {
   "cell_type": "code",
   "execution_count": null,
   "id": "e0fbb06a",
   "metadata": {},
   "outputs": [],
   "source": [
    "%%capture\n",
    "import gc\n",
    "\n",
    "impute_data = create_impute_data(country_actuals)\n",
    "impute_windows = create_window_idx(impute_data)\n",
    "weekday_impute = create_weekday_impute(impute_data)\n",
    "\n",
    "# Outer loop\n",
    "final_results = pd.DataFrame({}) # concat the results from inner loop to the outer loop\n",
    "for n in range(96,97): # 96 range(2, 4, 2):\n",
    "    # pd.options.mode.chained_assignment = None --- This may belong in the forecast impute for the AutoETS method\n",
    "    lin_nearest_mae = 0\n",
    "    lin_linear_mae = 0\n",
    "    spline_mae = 0\n",
    "    poly_mae = 0\n",
    "    weekday_actuals_mae = 0\n",
    "    fcst_mae = 0 \n",
    "    fcst_smooth_mae = 0\n",
    "    prophet_fcst_mae = 0\n",
    "    prophet_fcst_smooth_mae = 0\n",
    "    # Inner loop\n",
    "    for idx in impute_windows[:8]: # 24 windows total (only doing first 4)\n",
    "        # pd.options.mode.chained_assignment = None --- This may belong in the forecast impute for the AutoETS method\n",
    "        # Create dataset for imputation\n",
    "        window = create_impute_window(impute_data, n, idx)\n",
    "\n",
    "        # Weekday average impute method\n",
    "        window = window.merge(weekday_impute, how='left', on=['weekday', 'hour_minute'])\n",
    "\n",
    "        # Interpolation impute methods\n",
    "        window['lin_nearest_impute'] = window['to_impute'].interpolate(method=\"nearest\")\n",
    "        window['lin_linear_impute'] = window['to_impute'].interpolate(method=\"linear\")\n",
    "        window['spline_impute'] = window['to_impute'].interpolate(method=\"spline\", order=2)\n",
    "\n",
    "        # imputation with forecasting\n",
    "        fcst_window = create_impute_window(impute_data, n, idx, forecast=True)\n",
    "\n",
    "        # fcst_impute with load_actual, horizon chosen within, then add rows to the window to calculate the MAE\n",
    "        # fcst_impute = forecast_impute(fcst_window, 'to_impute', model_type='Prophet')\n",
    "        fcst_impute = forecast_impute(fcst_window, 'to_impute', model_type='AutoETS') \n",
    "        prophet_fcst_impute = forecast_impute(fcst_window, 'to_impute', model_type='Prophet') \n",
    "        del fcst_window\n",
    "        first_value = window['to_impute'][0]\n",
    "        last_values = window['to_impute'][-2:].values\n",
    "        fcst_imputed = [first_value, *fcst_impute.values, *last_values]\n",
    "        prophet_fcst_imputed = [first_value, *prophet_fcst_impute.values, *last_values]\n",
    "\n",
    "        window['fcst_imputed'] = fcst_imputed\n",
    "        window['fcst_impute_smooth'] = pd.Series(fcst_imputed).ewm(alpha=.5).mean()\n",
    "        window['prophet_fcst_imputed'] = prophet_fcst_imputed\n",
    "        window['prophet_fcst_imputed_smooth'] = pd.Series(prophet_fcst_imputed).ewm(alpha=.5).mean()\n",
    "\n",
    "        \n",
    "        #print(f\"len window: {len(window)}\")\n",
    "        \n",
    "        # --- Modify: window['smoothed_2'] = fl_result.imputed.ewm(alpha=.5).mean()\n",
    "\n",
    "        # Add mae per impute method (Will later average)\n",
    "        lin_nearest_mae += mean_absolute_error(\n",
    "            window['load_actual_entsoe_transparency'], \n",
    "            window['lin_nearest_impute']\n",
    "            )\n",
    "        lin_linear_mae += mean_absolute_error(\n",
    "            window['load_actual_entsoe_transparency'], \n",
    "            window['lin_linear_impute']\n",
    "            )\n",
    "        spline_mae += mean_absolute_error(\n",
    "            window['load_actual_entsoe_transparency'], \n",
    "            window['spline_impute']\n",
    "            )\n",
    "        weekday_actuals_mae += mean_absolute_error(\n",
    "            window['load_actual_entsoe_transparency'], \n",
    "            window['avg_weekday_actuals']\n",
    "            )\n",
    "        fcst_mae += mean_absolute_error(\n",
    "            window['load_actual_entsoe_transparency'], \n",
    "            window['fcst_imputed']\n",
    "            )\n",
    "        prophet_fcst_mae += mean_absolute_error(\n",
    "            window['load_actual_entsoe_transparency'], \n",
    "            window['prophet_fcst_imputed']\n",
    "            )\n",
    "        fcst_smooth_mae = mean_absolute_error(\n",
    "            window['load_actual_entsoe_transparency'], \n",
    "            window['fcst_impute_smooth']\n",
    "            )\n",
    "        prophet_fcst_smooth_mae = mean_absolute_error(\n",
    "            window['load_actual_entsoe_transparency'], \n",
    "            window['prophet_fcst_imputed_smooth']\n",
    "            )\n",
    "\n",
    "    avg_lin_nearest_mae = np.round(lin_nearest_mae / 24, 2)\n",
    "    avg_lin_linear_mae = np.round(lin_linear_mae / 24, 2)\n",
    "    avg_spline_mae = np.round(spline_mae / 24, 2)\n",
    "    #avg_poly_mae = np.round(poly_mae / 24, 2)\n",
    "    avg_fcst_mae = np.round(fcst_mae / 24, 2)\n",
    "    prophet_fcst_smooth_mae = np.round(prophet_fcst_smooth_mae / 24, 2)\n",
    "\n",
    "    result = pd.DataFrame({\n",
    "        \"n\": [n],\n",
    "        \"avg_lin_nearest_mae\": [avg_lin_nearest_mae],\n",
    "        \"avg_lin_linear_mae\": [avg_lin_linear_mae],\n",
    "        \"avg_spline_mae\": [avg_spline_mae], \n",
    "        #\"avg_poly_mae\": [avg_poly_mae],\n",
    "        \"avg_weekday_actuals_mae\": [weekday_actuals_mae],\n",
    "        \"avg_fcst_mae\": [fcst_mae],\n",
    "        \"avg_prophet_fcst_mae\": [prophet_fcst_mae],\n",
    "        \"avg_fcst_smooth_mae\": [fcst_smooth_mae],\n",
    "        \"avg_prophet_fcst_smooth_mae\": [prophet_fcst_smooth_mae],\n",
    "    })\n",
    "\n",
    "    final_results = pd.concat([final_results, result])\n",
    "\n",
    "    # gc.collect()"
   ]
  },
  {
   "cell_type": "code",
   "execution_count": 100,
   "id": "c70e044f",
   "metadata": {},
   "outputs": [
    {
     "data": {
      "application/vnd.microsoft.datawrangler.viewer.v0+json": {
       "columns": [
        {
         "name": "index",
         "rawType": "int64",
         "type": "integer"
        },
        {
         "name": "n",
         "rawType": "int64",
         "type": "integer"
        },
        {
         "name": "avg_lin_nearest_mae",
         "rawType": "float64",
         "type": "float"
        },
        {
         "name": "avg_lin_linear_mae",
         "rawType": "float64",
         "type": "float"
        },
        {
         "name": "avg_spline_mae",
         "rawType": "float64",
         "type": "float"
        },
        {
         "name": "avg_weekday_actuals_mae",
         "rawType": "float64",
         "type": "float"
        },
        {
         "name": "avg_fcst_mae",
         "rawType": "float64",
         "type": "float"
        },
        {
         "name": "avg_prophet_fcst_mae",
         "rawType": "float64",
         "type": "float"
        },
        {
         "name": "avg_fcst_smooth_mae",
         "rawType": "float64",
         "type": "float"
        }
       ],
       "ref": "9de13aef-1c9b-4e69-a318-f03b768583ca",
       "rows": [
        [
         "0",
         "96",
         "365.64",
         "372.9",
         "720.6",
         "4699.95494949495",
         "5835.236534093913",
         "4250.993399145754",
         "52.41"
        ]
       ],
       "shape": {
        "columns": 8,
        "rows": 1
       }
      },
      "text/html": [
       "<div>\n",
       "<style scoped>\n",
       "    .dataframe tbody tr th:only-of-type {\n",
       "        vertical-align: middle;\n",
       "    }\n",
       "\n",
       "    .dataframe tbody tr th {\n",
       "        vertical-align: top;\n",
       "    }\n",
       "\n",
       "    .dataframe thead th {\n",
       "        text-align: right;\n",
       "    }\n",
       "</style>\n",
       "<table border=\"1\" class=\"dataframe\">\n",
       "  <thead>\n",
       "    <tr style=\"text-align: right;\">\n",
       "      <th></th>\n",
       "      <th>n</th>\n",
       "      <th>avg_lin_nearest_mae</th>\n",
       "      <th>avg_lin_linear_mae</th>\n",
       "      <th>avg_spline_mae</th>\n",
       "      <th>avg_weekday_actuals_mae</th>\n",
       "      <th>avg_fcst_mae</th>\n",
       "      <th>avg_prophet_fcst_mae</th>\n",
       "      <th>avg_fcst_smooth_mae</th>\n",
       "    </tr>\n",
       "  </thead>\n",
       "  <tbody>\n",
       "    <tr>\n",
       "      <th>0</th>\n",
       "      <td>96</td>\n",
       "      <td>365.64</td>\n",
       "      <td>372.9</td>\n",
       "      <td>720.6</td>\n",
       "      <td>4699.954949</td>\n",
       "      <td>5835.236534</td>\n",
       "      <td>4250.993399</td>\n",
       "      <td>52.41</td>\n",
       "    </tr>\n",
       "  </tbody>\n",
       "</table>\n",
       "</div>"
      ],
      "text/plain": [
       "    n  avg_lin_nearest_mae  avg_lin_linear_mae  avg_spline_mae  \\\n",
       "0  96               365.64               372.9           720.6   \n",
       "\n",
       "   avg_weekday_actuals_mae  avg_fcst_mae  avg_prophet_fcst_mae  \\\n",
       "0              4699.954949   5835.236534           4250.993399   \n",
       "\n",
       "   avg_fcst_smooth_mae  \n",
       "0                52.41  "
      ]
     },
     "execution_count": 100,
     "metadata": {},
     "output_type": "execute_result"
    }
   ],
   "source": [
    "final_results "
   ]
  },
  {
   "cell_type": "markdown",
   "id": "2bea00d5",
   "metadata": {},
   "source": [
    "### Experiment Graveyard\n",
    "\n",
    "Below are remnants of some experiments. "
   ]
  },
  {
   "cell_type": "code",
   "execution_count": 24,
   "id": "c26e5609",
   "metadata": {},
   "outputs": [
    {
     "name": "stdout",
     "output_type": "stream",
     "text": [
      "Imputed NA num: 2352, NA in df: 2281\n"
     ]
    }
   ],
   "source": [
    "### Goal: Use Nixtla ETS model to forecast gaps\n",
    "# 1. Randomly place gaps in dataset of size n = 4 through 96\n",
    "\n",
    "### --- This is the dataframe for testing --- ###\n",
    "\n",
    "# To reflect actual data and favor this forecasting imputation\n",
    "# method, ensuring first x rows of data are available. \n",
    "\n",
    "impute_data = create_impute_data(country_actuals)\n",
    "\n",
    "# 1 day = 96 rows, 1 month = 96 * 30 = 2880\n",
    "impute_data['to_impute'] = impute_data['load_actual_entsoe_transparency']\n",
    "complete_range = impute_data.iloc[0:2879]\n",
    "impute_range = impute_data.iloc[2879:]\n",
    "nan_window = list(range(2, 96+1, 2)) # (gaps of size 2 to 96 by 2)\n",
    "impute_indices = list(impute_range.sample(len(nan_window), random_state=24).index)\n",
    "\n",
    "# -------- This method does not seem to impute enough nans\n",
    "for idx, num_nan in zip(impute_indices, nan_window):\n",
    "    impute_range.iloc[idx:idx+num_nan] = np.nan\n",
    "\n",
    "\n",
    "### num nan should be very close to \n",
    "# (possibility of overlapping windows)\n",
    "check_nan_num = sum(list(range(2,96+1,2))) \n",
    "actual_nan_num = sum(impute_range['to_impute'].isna())\n",
    "\n",
    "# NA in df is not close to the expected number... \n",
    "print(f\"Imputed NA num: {check_nan_num}, NA in df: {actual_nan_num}\")\n",
    "\n",
    "# no gaps are large enough to correspond to this difference\n",
    "final_impute_df = pd.concat([complete_range, impute_range])"
   ]
  },
  {
   "cell_type": "code",
   "execution_count": 25,
   "id": "81c5790a",
   "metadata": {},
   "outputs": [
    {
     "data": {
      "application/vnd.microsoft.datawrangler.viewer.v0+json": {
       "columns": [
        {
         "name": "index",
         "rawType": "int64",
         "type": "integer"
        },
        {
         "name": "sorted",
         "rawType": "int64",
         "type": "integer"
        },
        {
         "name": "diff",
         "rawType": "float64",
         "type": "float"
        },
        {
         "name": "n_gap_size",
         "rawType": "int64",
         "type": "integer"
        }
       ],
       "ref": "a10937a9-c0af-4be3-a407-50e0a63b52ef",
       "rows": [
        [
         "8",
         "35133",
         "19.0",
         "68"
        ]
       ],
       "shape": {
        "columns": 3,
        "rows": 1
       }
      },
      "text/html": [
       "<div>\n",
       "<style scoped>\n",
       "    .dataframe tbody tr th:only-of-type {\n",
       "        vertical-align: middle;\n",
       "    }\n",
       "\n",
       "    .dataframe tbody tr th {\n",
       "        vertical-align: top;\n",
       "    }\n",
       "\n",
       "    .dataframe thead th {\n",
       "        text-align: right;\n",
       "    }\n",
       "</style>\n",
       "<table border=\"1\" class=\"dataframe\">\n",
       "  <thead>\n",
       "    <tr style=\"text-align: right;\">\n",
       "      <th></th>\n",
       "      <th>sorted</th>\n",
       "      <th>diff</th>\n",
       "      <th>n_gap_size</th>\n",
       "    </tr>\n",
       "  </thead>\n",
       "  <tbody>\n",
       "    <tr>\n",
       "      <th>8</th>\n",
       "      <td>35133</td>\n",
       "      <td>19.0</td>\n",
       "      <td>68</td>\n",
       "    </tr>\n",
       "  </tbody>\n",
       "</table>\n",
       "</div>"
      ],
      "text/plain": [
       "   sorted  diff  n_gap_size\n",
       "8   35133  19.0          68"
      ]
     },
     "execution_count": 25,
     "metadata": {},
     "output_type": "execute_result"
    }
   ],
   "source": [
    "idx_gap_pairs = pd.DataFrame({\n",
    "    'idx': impute_indices,\n",
    "    'n_gap_size': nan_window\n",
    "    })\n",
    "\n",
    "lag_test = pd.DataFrame({\n",
    "    'sorted': sorted(impute_indices)\n",
    "    })\n",
    "\n",
    "lag_test['sorted_lag'] = lag_test['sorted'].shift()\n",
    "lag_test['diff'] = lag_test['sorted'] - lag_test['sorted_lag']\n",
    "\n",
    "final_tbl = (lag_test.merge(\n",
    "    idx_gap_pairs, \n",
    "    left_on='sorted', \n",
    "    right_on='idx', \n",
    "    how='left')\n",
    "    [['sorted', 'diff', 'n_gap_size']])\n",
    "\n",
    "# Cases where the gap is greter than the different, \n",
    "# causeing there to be fewer than expected NAs\n",
    "final_tbl.loc[lambda x: x['diff'] <= x['n_gap_size']]"
   ]
  },
  {
   "cell_type": "code",
   "execution_count": 26,
   "id": "34f97881",
   "metadata": {},
   "outputs": [
    {
     "data": {
      "application/vnd.microsoft.datawrangler.viewer.v0+json": {
       "columns": [
        {
         "name": "index",
         "rawType": "int64",
         "type": "integer"
        },
        {
         "name": "missing_group_num",
         "rawType": "int64",
         "type": "integer"
        },
        {
         "name": "consecutive",
         "rawType": "int64",
         "type": "integer"
        },
        {
         "name": "first_na_idx",
         "rawType": "int64",
         "type": "integer"
        },
        {
         "name": "last_na_idx",
         "rawType": "int64",
         "type": "integer"
        }
       ],
       "ref": "dc2eb8da-d1f4-4fed-9966-d40019114573",
       "rows": [
        [
         "1",
         "1",
         "24",
         "6052",
         "6077"
        ],
        [
         "2",
         "2",
         "60",
         "6601",
         "6662"
        ],
        [
         "3",
         "3",
         "50",
         "11487",
         "11538"
        ],
        [
         "4",
         "4",
         "36",
         "20487",
         "20524"
        ],
        [
         "5",
         "5",
         "82",
         "26193",
         "26276"
        ]
       ],
       "shape": {
        "columns": 4,
        "rows": 5
       }
      },
      "text/html": [
       "<div>\n",
       "<style scoped>\n",
       "    .dataframe tbody tr th:only-of-type {\n",
       "        vertical-align: middle;\n",
       "    }\n",
       "\n",
       "    .dataframe tbody tr th {\n",
       "        vertical-align: top;\n",
       "    }\n",
       "\n",
       "    .dataframe thead th {\n",
       "        text-align: right;\n",
       "    }\n",
       "</style>\n",
       "<table border=\"1\" class=\"dataframe\">\n",
       "  <thead>\n",
       "    <tr style=\"text-align: right;\">\n",
       "      <th></th>\n",
       "      <th>missing_group_num</th>\n",
       "      <th>consecutive</th>\n",
       "      <th>first_na_idx</th>\n",
       "      <th>last_na_idx</th>\n",
       "    </tr>\n",
       "  </thead>\n",
       "  <tbody>\n",
       "    <tr>\n",
       "      <th>1</th>\n",
       "      <td>1</td>\n",
       "      <td>24</td>\n",
       "      <td>6052</td>\n",
       "      <td>6077</td>\n",
       "    </tr>\n",
       "    <tr>\n",
       "      <th>2</th>\n",
       "      <td>2</td>\n",
       "      <td>60</td>\n",
       "      <td>6601</td>\n",
       "      <td>6662</td>\n",
       "    </tr>\n",
       "    <tr>\n",
       "      <th>3</th>\n",
       "      <td>3</td>\n",
       "      <td>50</td>\n",
       "      <td>11487</td>\n",
       "      <td>11538</td>\n",
       "    </tr>\n",
       "    <tr>\n",
       "      <th>4</th>\n",
       "      <td>4</td>\n",
       "      <td>36</td>\n",
       "      <td>20487</td>\n",
       "      <td>20524</td>\n",
       "    </tr>\n",
       "    <tr>\n",
       "      <th>5</th>\n",
       "      <td>5</td>\n",
       "      <td>82</td>\n",
       "      <td>26193</td>\n",
       "      <td>26276</td>\n",
       "    </tr>\n",
       "  </tbody>\n",
       "</table>\n",
       "</div>"
      ],
      "text/plain": [
       "   missing_group_num  consecutive  first_na_idx  last_na_idx\n",
       "1                  1           24          6052         6077\n",
       "2                  2           60          6601         6662\n",
       "3                  3           50         11487        11538\n",
       "4                  4           36         20487        20524\n",
       "5                  5           82         26193        26276"
      ]
     },
     "execution_count": 26,
     "metadata": {},
     "output_type": "execute_result"
    },
    {
     "name": "stdout",
     "output_type": "stream",
     "text": [
      "first_na: 6052, one_year_idx: 34560 suggested start: -28508, start: 0, end: 6051, horizon: 24\n"
     ]
    },
    {
     "data": {
      "application/vnd.microsoft.datawrangler.viewer.v0+json": {
       "columns": [
        {
         "name": "index",
         "rawType": "object",
         "type": "string"
        },
        {
         "name": "0",
         "rawType": "object",
         "type": "unknown"
        }
       ],
       "ref": "cb577a2d-bcd3-4609-99f0-742536f087a8",
       "rows": [
        [
         "index",
         "int64"
        ],
        [
         "utc_timestamp",
         "datetime64[ns, UTC]"
        ],
        [
         "to_impute",
         "float64"
        ]
       ],
       "shape": {
        "columns": 1,
        "rows": 3
       }
      },
      "text/plain": [
       "index                          int64\n",
       "utc_timestamp    datetime64[ns, UTC]\n",
       "to_impute                    float64\n",
       "dtype: object"
      ]
     },
     "execution_count": 26,
     "metadata": {},
     "output_type": "execute_result"
    },
    {
     "data": {
      "text/plain": [
       "(6051, 3)"
      ]
     },
     "execution_count": 26,
     "metadata": {},
     "output_type": "execute_result"
    },
    {
     "data": {
      "application/vnd.jupyter.widget-view+json": {
       "model_id": "b090a8b0ef3747b0b16a6983842161de",
       "version_major": 2,
       "version_minor": 0
      },
      "text/plain": [
       "Forecast:   0%|          | 0/1 [00:00<?, ?it/s]"
      ]
     },
     "metadata": {},
     "output_type": "display_data"
    },
    {
     "data": {
      "application/vnd.microsoft.datawrangler.viewer.v0+json": {
       "columns": [
        {
         "name": "index",
         "rawType": "int64",
         "type": "integer"
        },
        {
         "name": "index",
         "rawType": "int64",
         "type": "integer"
        },
        {
         "name": "utc_timestamp",
         "rawType": "datetime64[ns, UTC]",
         "type": "unknown"
        },
        {
         "name": "imputed",
         "rawType": "float64",
         "type": "float"
        }
       ],
       "ref": "ac426ce5-d23f-4c87-b352-082f8ec12786",
       "rows": [
        [
         "0",
         "1",
         "2015-03-05 00:00:00+00:00",
         "7016.370734343151"
        ],
        [
         "1",
         "1",
         "2015-03-05 00:15:00+00:00",
         "6931.056459805086"
        ],
        [
         "2",
         "1",
         "2015-03-05 00:30:00+00:00",
         "6948.100639468776"
        ],
        [
         "3",
         "1",
         "2015-03-05 00:45:00+00:00",
         "6887.453011278023"
        ],
        [
         "4",
         "1",
         "2015-03-05 01:00:00+00:00",
         "6888.810414293366"
        ]
       ],
       "shape": {
        "columns": 3,
        "rows": 5
       }
      },
      "text/html": [
       "<div>\n",
       "<style scoped>\n",
       "    .dataframe tbody tr th:only-of-type {\n",
       "        vertical-align: middle;\n",
       "    }\n",
       "\n",
       "    .dataframe tbody tr th {\n",
       "        vertical-align: top;\n",
       "    }\n",
       "\n",
       "    .dataframe thead th {\n",
       "        text-align: right;\n",
       "    }\n",
       "</style>\n",
       "<table border=\"1\" class=\"dataframe\">\n",
       "  <thead>\n",
       "    <tr style=\"text-align: right;\">\n",
       "      <th></th>\n",
       "      <th>index</th>\n",
       "      <th>utc_timestamp</th>\n",
       "      <th>imputed</th>\n",
       "    </tr>\n",
       "  </thead>\n",
       "  <tbody>\n",
       "    <tr>\n",
       "      <th>0</th>\n",
       "      <td>1</td>\n",
       "      <td>2015-03-05 00:00:00+00:00</td>\n",
       "      <td>7016.370734</td>\n",
       "    </tr>\n",
       "    <tr>\n",
       "      <th>1</th>\n",
       "      <td>1</td>\n",
       "      <td>2015-03-05 00:15:00+00:00</td>\n",
       "      <td>6931.056460</td>\n",
       "    </tr>\n",
       "    <tr>\n",
       "      <th>2</th>\n",
       "      <td>1</td>\n",
       "      <td>2015-03-05 00:30:00+00:00</td>\n",
       "      <td>6948.100639</td>\n",
       "    </tr>\n",
       "    <tr>\n",
       "      <th>3</th>\n",
       "      <td>1</td>\n",
       "      <td>2015-03-05 00:45:00+00:00</td>\n",
       "      <td>6887.453011</td>\n",
       "    </tr>\n",
       "    <tr>\n",
       "      <th>4</th>\n",
       "      <td>1</td>\n",
       "      <td>2015-03-05 01:00:00+00:00</td>\n",
       "      <td>6888.810414</td>\n",
       "    </tr>\n",
       "  </tbody>\n",
       "</table>\n",
       "</div>"
      ],
      "text/plain": [
       "   index             utc_timestamp      imputed\n",
       "0      1 2015-03-05 00:00:00+00:00  7016.370734\n",
       "1      1 2015-03-05 00:15:00+00:00  6931.056460\n",
       "2      1 2015-03-05 00:30:00+00:00  6948.100639\n",
       "3      1 2015-03-05 00:45:00+00:00  6887.453011\n",
       "4      1 2015-03-05 01:00:00+00:00  6888.810414"
      ]
     },
     "execution_count": 26,
     "metadata": {},
     "output_type": "execute_result"
    }
   ],
   "source": [
    "from statsforecast import StatsForecast\n",
    "from statsforecast.models import AutoETS\n",
    "\n",
    "\n",
    "### Check if function can forecast with the non-na values - what happens?\n",
    "# If it breaks, remove the two prior to forecasting, then recombine later\n",
    "\n",
    "# indice of first NA value\n",
    "impute_info = create_impute_groups(final_impute_df, 'load_actual_entsoe_transparency') \n",
    "impute_info.head()\n",
    "\n",
    "first_na = impute_info['first_na_idx'].iloc[0] # for later: final_impute_df\n",
    "\n",
    "# Defining start, end, and horizon points of training window\n",
    "one_year_data = 2880 * 12 # Selecting all data available, up to 1 year\n",
    "start = max(first_na - one_year_data, 0)  \n",
    "end = first_na - 1\n",
    "\n",
    "horizon = impute_info['consecutive'].iloc[0]\n",
    "\n",
    "print(f\"first_na: {first_na}, one_year_idx: {one_year_data}\",\n",
    "      f\"suggested start: {first_na - one_year_data},\",\n",
    "      f\"start: {start}, end: {end}, horizon: {horizon}\")\n",
    "\n",
    "# trying freq=1 assuming one is the number of rows\n",
    "# the horizon may be an alternative?\n",
    "impute_model = StatsForecast(\n",
    "    models=[AutoETS(model=\"AAA\", season_length=96)], # --- season_length=96 (1 day) or maybe 1 week\n",
    "    freq='15min',\n",
    "    n_jobs=-1,\n",
    "    verbose=True\n",
    "    ) \n",
    "\n",
    "# forecast imputed values with forecast df\n",
    "import time\n",
    "begin_timing = time.time()\n",
    "fcst_df = (final_impute_df.iloc[start:end] # index may need to be reset\n",
    "           #.reset_index()\n",
    "           #.assign(index = lambda x: x['index'].astype('category'))\n",
    "           .assign(index = 1)\n",
    "           [['index', 'utc_timestamp', 'to_impute']]) \n",
    "\n",
    "fcst_df.dtypes\n",
    "fcst_df.shape \n",
    "\n",
    "result = impute_model.forecast(\n",
    "    df=fcst_df, \n",
    "    id_col='index',\n",
    "    time_col='utc_timestamp',\n",
    "    target_col='to_impute',\n",
    "    h=horizon\n",
    "    ).rename(columns={'AutoETS': 'imputed'})\n",
    "\n",
    "total_time = time.time() - start \n",
    "\n",
    "result.head()\n",
    "# print(f\"Total time to train AutoETS Model to impute {horizon} nans \",\n",
    "#       f\"given dataset of size {len(fcst_df)}: {total_time:2f} seconds\")\n",
    "\n",
    "# place imputation into the data from for the given indice range"
   ]
  },
  {
   "cell_type": "code",
   "execution_count": 27,
   "id": "0e565adc",
   "metadata": {},
   "outputs": [
    {
     "data": {
      "image/png": "[encoded data removed]",
      "text/plain": [
       "<Figure size 640x480 with 1 Axes>"
      ]
     },
     "metadata": {},
     "output_type": "display_data"
    }
   ],
   "source": [
    "# Plot results of the forecast\n",
    "# For the loop, simply set the range of index values to the result where AutoETS -> to_impute\n",
    "\n",
    "end_date = max(result['utc_timestamp'])\n",
    "start_date = end_date - pd.Timedelta(days=3) \n",
    "\n",
    "# This can probably be combined with the smoothing window\n",
    "date_range = pd.date_range(start=start_date, end=end_date, freq='15min')\n",
    "actuals = impute_data[impute_data['utc_timestamp'].dt.date.isin(date_range.date)]\n",
    "\n",
    "_ = sns.lineplot(data=actuals, x='utc_timestamp', y='load_actual_entsoe_transparency', \n",
    "             color='purple', linestyle='--')\n",
    "_ = sns.lineplot(data=result, x='utc_timestamp', y='imputed', color='red')\n",
    "#set(xlim=(start_date, end_date))\n",
    "plt.show()"
   ]
  },
  {
   "cell_type": "code",
   "execution_count": 29,
   "id": "ec75060a",
   "metadata": {},
   "outputs": [
    {
     "data": {
      "application/vnd.microsoft.datawrangler.viewer.v0+json": {
       "columns": [
        {
         "name": "index",
         "rawType": "int64",
         "type": "integer"
        },
        {
         "name": "utc_timestamp",
         "rawType": "datetime64[ns, UTC]",
         "type": "unknown"
        },
        {
         "name": "country",
         "rawType": "object",
         "type": "string"
        },
        {
         "name": "load_actual_entsoe_transparency",
         "rawType": "float64",
         "type": "float"
        },
        {
         "name": "weekday",
         "rawType": "object",
         "type": "string"
        },
        {
         "name": "hour_minute",
         "rawType": "float64",
         "type": "float"
        },
        {
         "name": "to_impute",
         "rawType": "float64",
         "type": "float"
        }
       ],
       "ref": "161df40a-c318-4f24-a5ef-cd8f6b0a3f37",
       "rows": [
        [
         "6075",
         "2015-03-05 06:00:00+00:00",
         "AT",
         "9198.8",
         "Thu",
         "6.0",
         "9198.8"
        ]
       ],
       "shape": {
        "columns": 6,
        "rows": 1
       }
      },
      "text/html": [
       "<div>\n",
       "<style scoped>\n",
       "    .dataframe tbody tr th:only-of-type {\n",
       "        vertical-align: middle;\n",
       "    }\n",
       "\n",
       "    .dataframe tbody tr th {\n",
       "        vertical-align: top;\n",
       "    }\n",
       "\n",
       "    .dataframe thead th {\n",
       "        text-align: right;\n",
       "    }\n",
       "</style>\n",
       "<table border=\"1\" class=\"dataframe\">\n",
       "  <thead>\n",
       "    <tr style=\"text-align: right;\">\n",
       "      <th></th>\n",
       "      <th>utc_timestamp</th>\n",
       "      <th>country</th>\n",
       "      <th>load_actual_entsoe_transparency</th>\n",
       "      <th>weekday</th>\n",
       "      <th>hour_minute</th>\n",
       "      <th>to_impute</th>\n",
       "    </tr>\n",
       "  </thead>\n",
       "  <tbody>\n",
       "    <tr>\n",
       "      <th>6075</th>\n",
       "      <td>2015-03-05 06:00:00+00:00</td>\n",
       "      <td>AT</td>\n",
       "      <td>9198.8</td>\n",
       "      <td>Thu</td>\n",
       "      <td>6.0</td>\n",
       "      <td>9198.8</td>\n",
       "    </tr>\n",
       "  </tbody>\n",
       "</table>\n",
       "</div>"
      ],
      "text/plain": [
       "                 utc_timestamp country  load_actual_entsoe_transparency  \\\n",
       "6075 2015-03-05 06:00:00+00:00      AT                           9198.8   \n",
       "\n",
       "     weekday  hour_minute  to_impute  \n",
       "6075     Thu          6.0     9198.8  "
      ]
     },
     "execution_count": 29,
     "metadata": {},
     "output_type": "execute_result"
    },
    {
     "data": {
      "image/png": "[encoded data removed]",
      "text/plain": [
       "<Figure size 640x480 with 1 Axes>"
      ]
     },
     "metadata": {},
     "output_type": "display_data"
    }
   ],
   "source": [
    "# Something with ewm\n",
    "\n",
    "# Get the result, append the actuals 1 before and 1 after\n",
    "# experiment with awm with different values of alpha. Plot the results. \n",
    "start_date = min(result['utc_timestamp']) - pd.Timedelta('15m')\n",
    "first = impute_data[impute_data['utc_timestamp'] == start_date]\n",
    "first = pd.DataFrame({\n",
    "    'index': [1],\n",
    "    'utc_timestamp': pd.to_datetime(first['utc_timestamp'].values[0], utc=True),\n",
    "    'imputed': first['to_impute'].values[0],\n",
    "    })\n",
    "\n",
    "end_date = max(result['utc_timestamp']) + pd.Timedelta('15m') # 15 * 5\n",
    "last = impute_data[impute_data['utc_timestamp'] == end_date]\n",
    "last\n",
    "last = pd.DataFrame({\n",
    "    'index': [1],\n",
    "    'utc_timestamp': pd.to_datetime(last['utc_timestamp'].values[0], utc=True),\n",
    "    'imputed': last['to_impute'].values[0],\n",
    "    })\n",
    "\n",
    "# Goal: have last add 5 values rather than just 1 (perhaps as a loop) --- to test how smoothing will perform with automation function\n",
    "for _ in range(2):\n",
    "    end_date = max(last['utc_timestamp']) + pd.Timedelta('15m') # 15 * 5\n",
    "    add_end_date = impute_data[impute_data['utc_timestamp'] == end_date]\n",
    "    add = pd.DataFrame({\n",
    "        'index': [1],\n",
    "        'utc_timestamp': pd.to_datetime(add_end_date['utc_timestamp'].values[0], utc=True),\n",
    "        'imputed': add_end_date['to_impute'].values[0],\n",
    "        })\n",
    "    last = pd.concat([last, add])\n",
    "\n",
    "fl_result = pd.concat([first, result, last]).reset_index(drop=True)\n",
    "fl_result['smoothed_1'] = fl_result.imputed.ewm(alpha=.25).mean()\n",
    "fl_result['smoothed_2'] = fl_result.imputed.ewm(alpha=.5).mean()\n",
    "fl_result['smoothed_3'] = fl_result.imputed.ewm(alpha=1).mean()\n",
    "\n",
    "_ = sns.lineplot(data=actuals, x='utc_timestamp', y='load_actual_entsoe_transparency', \n",
    "             color='purple', linestyle='--')\n",
    "_ = sns.lineplot(data=fl_result, x='utc_timestamp', y='smoothed_1', color='red')\n",
    "_ = sns.lineplot(data=fl_result, x='utc_timestamp', y='smoothed_2', color='yellow', linestyle='--')\n",
    "_ = sns.lineplot(data=fl_result, x='utc_timestamp', y='smoothed_3', color='green', linestyle=':')\n",
    "\n",
    "plt.show()\n"
   ]
  },
  {
   "cell_type": "code",
   "execution_count": 30,
   "id": "f1d04287",
   "metadata": {},
   "outputs": [
    {
     "data": {
      "application/vnd.microsoft.datawrangler.viewer.v0+json": {
       "columns": [
        {
         "name": "index",
         "rawType": "int64",
         "type": "integer"
        },
        {
         "name": "utc_timestamp",
         "rawType": "datetime64[ns, UTC]",
         "type": "unknown"
        },
        {
         "name": "country",
         "rawType": "object",
         "type": "string"
        },
        {
         "name": "load_actual_entsoe_transparency",
         "rawType": "float64",
         "type": "float"
        },
        {
         "name": "weekday",
         "rawType": "object",
         "type": "string"
        },
        {
         "name": "hour_minute",
         "rawType": "float64",
         "type": "float"
        },
        {
         "name": "to_impute",
         "rawType": "float64",
         "type": "float"
        }
       ],
       "ref": "58da95cb-091d-486f-bc6c-c2ad44bd00a9",
       "rows": [
        [
         "0",
         "2014-12-31 23:15:00+00:00",
         "AT",
         "6088.0",
         "Wed",
         "23.25",
         "6088.0"
        ],
        [
         "1",
         "2014-12-31 23:30:00+00:00",
         "AT",
         "6060.0",
         "Wed",
         "23.5",
         "6060.0"
        ],
        [
         "2",
         "2014-12-31 23:45:00+00:00",
         "AT",
         "5957.6",
         "Wed",
         "23.75",
         "5957.6"
        ],
        [
         "3",
         "2015-01-01 00:00:00+00:00",
         "AT",
         "6017.2",
         "Thu",
         "0.0",
         "6017.2"
        ],
        [
         "4",
         "2015-01-01 00:15:00+00:00",
         "AT",
         "5966.8",
         "Thu",
         "0.25",
         "5966.8"
        ]
       ],
       "shape": {
        "columns": 6,
        "rows": 5
       }
      },
      "text/html": [
       "<div>\n",
       "<style scoped>\n",
       "    .dataframe tbody tr th:only-of-type {\n",
       "        vertical-align: middle;\n",
       "    }\n",
       "\n",
       "    .dataframe tbody tr th {\n",
       "        vertical-align: top;\n",
       "    }\n",
       "\n",
       "    .dataframe thead th {\n",
       "        text-align: right;\n",
       "    }\n",
       "</style>\n",
       "<table border=\"1\" class=\"dataframe\">\n",
       "  <thead>\n",
       "    <tr style=\"text-align: right;\">\n",
       "      <th></th>\n",
       "      <th>utc_timestamp</th>\n",
       "      <th>country</th>\n",
       "      <th>load_actual_entsoe_transparency</th>\n",
       "      <th>weekday</th>\n",
       "      <th>hour_minute</th>\n",
       "      <th>to_impute</th>\n",
       "    </tr>\n",
       "  </thead>\n",
       "  <tbody>\n",
       "    <tr>\n",
       "      <th>0</th>\n",
       "      <td>2014-12-31 23:15:00+00:00</td>\n",
       "      <td>AT</td>\n",
       "      <td>6088.0</td>\n",
       "      <td>Wed</td>\n",
       "      <td>23.25</td>\n",
       "      <td>6088.0</td>\n",
       "    </tr>\n",
       "    <tr>\n",
       "      <th>1</th>\n",
       "      <td>2014-12-31 23:30:00+00:00</td>\n",
       "      <td>AT</td>\n",
       "      <td>6060.0</td>\n",
       "      <td>Wed</td>\n",
       "      <td>23.50</td>\n",
       "      <td>6060.0</td>\n",
       "    </tr>\n",
       "    <tr>\n",
       "      <th>2</th>\n",
       "      <td>2014-12-31 23:45:00+00:00</td>\n",
       "      <td>AT</td>\n",
       "      <td>5957.6</td>\n",
       "      <td>Wed</td>\n",
       "      <td>23.75</td>\n",
       "      <td>5957.6</td>\n",
       "    </tr>\n",
       "    <tr>\n",
       "      <th>3</th>\n",
       "      <td>2015-01-01 00:00:00+00:00</td>\n",
       "      <td>AT</td>\n",
       "      <td>6017.2</td>\n",
       "      <td>Thu</td>\n",
       "      <td>0.00</td>\n",
       "      <td>6017.2</td>\n",
       "    </tr>\n",
       "    <tr>\n",
       "      <th>4</th>\n",
       "      <td>2015-01-01 00:15:00+00:00</td>\n",
       "      <td>AT</td>\n",
       "      <td>5966.8</td>\n",
       "      <td>Thu</td>\n",
       "      <td>0.25</td>\n",
       "      <td>5966.8</td>\n",
       "    </tr>\n",
       "  </tbody>\n",
       "</table>\n",
       "</div>"
      ],
      "text/plain": [
       "              utc_timestamp country  load_actual_entsoe_transparency weekday  \\\n",
       "0 2014-12-31 23:15:00+00:00      AT                           6088.0     Wed   \n",
       "1 2014-12-31 23:30:00+00:00      AT                           6060.0     Wed   \n",
       "2 2014-12-31 23:45:00+00:00      AT                           5957.6     Wed   \n",
       "3 2015-01-01 00:00:00+00:00      AT                           6017.2     Thu   \n",
       "4 2015-01-01 00:15:00+00:00      AT                           5966.8     Thu   \n",
       "\n",
       "   hour_minute  to_impute  \n",
       "0        23.25     6088.0  \n",
       "1        23.50     6060.0  \n",
       "2        23.75     5957.6  \n",
       "3         0.00     6017.2  \n",
       "4         0.25     5966.8  "
      ]
     },
     "execution_count": 30,
     "metadata": {},
     "output_type": "execute_result"
    }
   ],
   "source": [
    "impute_data.head()"
   ]
  },
  {
   "cell_type": "code",
   "execution_count": null,
   "id": "39af3457",
   "metadata": {},
   "outputs": [],
   "source": [
    "# Skipping for now            # May continue developing above method\n",
    "\n",
    "# Other methods to consider:\n",
    "# From sklearn, try IterativeImputer with MissForest and MICE\n",
    "# IterativeImputer\n",
    "# Kalman Filtering\n",
    "# VAE median\n",
    "# bring in Seasonal Decomposition-Based Imputation (e.g., na_seadec) from R\n",
    "# For longer gaps in the data from fancyimpute import GAIN (generative adversarial networks) imputed_data = GAIN().fit_transform(df.values)\n",
    "from sklearn.experimental import enable_iterative_imputer\n",
    "from sklearn.impute import IterativeImputer\n",
    "\n",
    "# random_state=12\n",
    "\n",
    "\n",
    "# Both kalman filter and GAIN may be better for longer time gaps. \n",
    "\n",
    "\n",
    "### DataWig super imputer\n",
    "\n"
   ]
  },
  {
   "cell_type": "code",
   "execution_count": null,
   "id": "0d9c3436",
   "metadata": {},
   "outputs": [],
   "source": [
    "# Seasonal decomposition of the load variable. Examine residuals at 15 minute intervals.\n",
    "from statsmodels.tsa.seasonal import MSTL\n",
    "\n",
    "test = impute_data['load_actual_entsoe_transparency'][]\n",
    "\n",
    "# What are the optimal periods?\n",
    "mstl = MSTL(\n",
    "    impute_data['load_actual_entsoe_transparency'], \n",
    "    periods=[96, 96 * 7, int(96 * 364.25)], # 1 day, 1 week, 1 year\n",
    "    )\n",
    "# stl_kwargs=({\"seasonal_deg\": 0,\n",
    "#             \"inner_iter\": 2,\n",
    "#             \"outer_iter\": 0})\n",
    "# Consider dictionary for trend windows\n",
    "\n",
    "res = mstl.fit()\n",
    "ax = res.plot()\n",
    "\n",
    "plt.tight_layout()\n",
    "\n",
    "### Time elapsed:\n",
    "# 105+ minutes\n",
    "\n",
    "# Untenable!\n"
   ]
  },
  {
   "cell_type": "code",
   "execution_count": 13,
   "id": "75d0e78e",
   "metadata": {},
   "outputs": [
    {
     "data": {
      "text/plain": [
       "Index(['utc_timestamp', 'country', 'load_actual_entsoe_transparency',\n",
       "       'weekday', 'hour_minute'],\n",
       "      dtype='object')"
      ]
     },
     "execution_count": 13,
     "metadata": {},
     "output_type": "execute_result"
    },
    {
     "data": {
      "text/plain": [
       "5"
      ]
     },
     "execution_count": 13,
     "metadata": {},
     "output_type": "execute_result"
    }
   ],
   "source": [
    "#impute_data = create_impute_data(country_actuals)\n",
    "impute_data.columns\n",
    "impute_data.shape[1]"
   ]
  },
  {
   "cell_type": "code",
   "execution_count": 15,
   "id": "bef9be6a",
   "metadata": {},
   "outputs": [
    {
     "ename": "ValueError",
     "evalue": "This function does not handle missing values",
     "output_type": "error",
     "traceback": [
      "\u001b[1;31m---------------------------------------------------------------------------\u001b[0m",
      "\u001b[1;31mValueError\u001b[0m                                Traceback (most recent call last)",
      "Cell \u001b[1;32mIn[15], line 9\u001b[0m\n\u001b[0;32m      7\u001b[0m resids \u001b[38;5;241m=\u001b[39m []\n\u001b[0;32m      8\u001b[0m seasonality \u001b[38;5;241m=\u001b[39m []\n\u001b[1;32m----> 9\u001b[0m decomposition \u001b[38;5;241m=\u001b[39m \u001b[43mseasonal_decompose\u001b[49m\u001b[43m(\u001b[49m\u001b[43mimpute_data\u001b[49m\u001b[43m[\u001b[49m\u001b[38;5;124;43m'\u001b[39;49m\u001b[38;5;124;43mload_actual_entsoe_transparency\u001b[39;49m\u001b[38;5;124;43m'\u001b[39;49m\u001b[43m]\u001b[49m\u001b[43m)\u001b[49m\n\u001b[0;32m     10\u001b[0m decomposition\n\u001b[0;32m     11\u001b[0m \u001b[38;5;66;03m# for col in range(impute_data.shape[1]):\u001b[39;00m\n\u001b[0;32m     12\u001b[0m \u001b[38;5;66;03m#     decomposition = seasonal_decompose(\u001b[39;00m\n\u001b[0;32m     13\u001b[0m \u001b[38;5;66;03m#         impute_data[:, col], \u001b[39;00m\n\u001b[1;32m   (...)\u001b[0m\n\u001b[0;32m     21\u001b[0m \n\u001b[0;32m     22\u001b[0m \u001b[38;5;66;03m# deseasonalized = trends + resids\u001b[39;00m\n",
      "File \u001b[1;32mc:\\Users\\WulfN\\Python Projects\\venv\\Lib\\site-packages\\statsmodels\\tsa\\seasonal.py:154\u001b[0m, in \u001b[0;36mseasonal_decompose\u001b[1;34m(x, model, filt, period, two_sided, extrapolate_trend)\u001b[0m\n\u001b[0;32m    151\u001b[0m nobs \u001b[38;5;241m=\u001b[39m \u001b[38;5;28mlen\u001b[39m(x)\n\u001b[0;32m    153\u001b[0m \u001b[38;5;28;01mif\u001b[39;00m \u001b[38;5;129;01mnot\u001b[39;00m np\u001b[38;5;241m.\u001b[39mall(np\u001b[38;5;241m.\u001b[39misfinite(x)):\n\u001b[1;32m--> 154\u001b[0m     \u001b[38;5;28;01mraise\u001b[39;00m \u001b[38;5;167;01mValueError\u001b[39;00m(\u001b[38;5;124m\"\u001b[39m\u001b[38;5;124mThis function does not handle missing values\u001b[39m\u001b[38;5;124m\"\u001b[39m)\n\u001b[0;32m    155\u001b[0m \u001b[38;5;28;01mif\u001b[39;00m model\u001b[38;5;241m.\u001b[39mstartswith(\u001b[38;5;124m\"\u001b[39m\u001b[38;5;124mm\u001b[39m\u001b[38;5;124m\"\u001b[39m):\n\u001b[0;32m    156\u001b[0m     \u001b[38;5;28;01mif\u001b[39;00m np\u001b[38;5;241m.\u001b[39many(x \u001b[38;5;241m<\u001b[39m\u001b[38;5;241m=\u001b[39m \u001b[38;5;241m0\u001b[39m):\n",
      "\u001b[1;31mValueError\u001b[0m: This function does not handle missing values"
     ]
    }
   ],
   "source": [
    "from statsmodels.tsa.seasonal import seasonal_decompose\n",
    "import numpy as np\n",
    "\n",
    "impute_data = create_impute_data(country_actuals)\n",
    "\n",
    "trends = []\n",
    "resids = []\n",
    "seasonality = []\n",
    "decomposition = seasonal_decompose(impute_data['load_actual_entsoe_transparency'])\n",
    "decomposition\n",
    "# for col in range(impute_data.shape[1]):\n",
    "#     decomposition = seasonal_decompose(\n",
    "#         impute_data[:, col], \n",
    "#     )\n",
    "#     trends.append(decomposition.trend)\n",
    "#     resids.append(decomposition.resid)\n",
    "#     seasonality.append(decomposition.seasonal)\n",
    "# trends = np.vstack(trends).T\n",
    "# resids = np.vstack(resids).T\n",
    "# seasonality = np.vstack(seasonality).T\n",
    "\n",
    "# deseasonalized = trends + resids\n"
   ]
  }
 ],
 "metadata": {
  "kernelspec": {
   "display_name": "venv",
   "language": "python",
   "name": "python3"
  },
  "language_info": {
   "codemirror_mode": {
    "name": "ipython",
    "version": 3
   },
   "file_extension": ".py",
   "mimetype": "text/x-python",
   "name": "python",
   "nbconvert_exporter": "python",
   "pygments_lexer": "ipython3",
   "version": "3.12.0"
  }
 },
 "nbformat": 4,
 "nbformat_minor": 5
}
