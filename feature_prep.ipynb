{
 "cells": [
  {
   "cell_type": "markdown",
   "metadata": {},
   "source": [
    "# Modeling Data / Feature Selection\n",
    "- Create Upsampled and Downsampled datasets\n",
    "- Merge datasets \n",
    "- Observe HDD and CDD load shapes \n",
    "- Add lags + rolling_mean"
   ]
  },
  {
   "cell_type": "markdown",
   "metadata": {},
   "source": [
    "Setup"
   ]
  },
  {
   "cell_type": "code",
   "execution_count": 1,
   "metadata": {},
   "outputs": [],
   "source": [
    "import pandas as pd\n",
    "from pathlib import Path\n",
    "import pickle\n",
    "from sklearn.model_selection import TimeSeriesSplit\n",
    "import seaborn as sns\n",
    "import matplotlib.pyplot as plt\n",
    "import statsmodels.api as sm\n",
    "from statsmodels.graphics.tsaplots import plot_acf\n",
    "from statsmodels.tsa.stattools import acf\n",
    "import numpy as np\n",
    "\n",
    "# Multiple outputs per notebook cell\n",
    "%config InteractiveShell.ast_node_interactivity = 'all'"
   ]
  },
  {
   "cell_type": "code",
   "execution_count": 2,
   "metadata": {},
   "outputs": [],
   "source": [
    "def dd_hourly_pivot(df): # requires country actuals\n",
    "    '''\n",
    "    Description: pivots table long-ways, with country and aggregated hourly \n",
    "    actuals load as columns\n",
    "    '''\n",
    "    return (df.pivot_table(index=['day', 'country', 'hdd', 'cdd'], \n",
    "                           values='load_actual', \n",
    "                           columns = 'hour', \n",
    "                           aggfunc='sum')\n",
    "                            # remove first day with NaNs\n",
    "              .dropna()\n",
    "              .reset_index(level=1))\n",
    "\n",
    "def dd_plot_norm_avg_hourly(df, group, pivot=True): # requires df from hourly_pivot function\n",
    "    '''\n",
    "    Description: min-max normalization of input data across each hour\n",
    "    '''\n",
    "    df = df.groupby(by=group, as_index=True).mean(numeric_only=True).round(2) # .reset_index()\n",
    "    # hour columns\n",
    "    cols = list(range(24))\n",
    "\n",
    "    # columns for row-wise min-max normalization\n",
    "    df['min'] = df[cols].min(axis=1)\n",
    "    df['max'] = df[cols].max(axis=1)\n",
    "\n",
    "    # Row-wise Min-max normalization \n",
    "    df[cols] = (df[cols].sub(df['min'], axis=0)\n",
    "                        .div(df['max'] - df['min'], axis=0))\n",
    "    \n",
    "    # Melt for overlapping lineplots\n",
    "    if pivot:\n",
    "        df = (df.reset_index()\n",
    "                .melt(id_vars=group,\n",
    "                      value_vars=cols)\n",
    "                .assign(hour = lambda x: pd.to_numeric(x.hour))\n",
    "                )\n",
    "        \n",
    "    return df\n",
    "\n",
    "def multi_lineplots(plot_df, group): # requires df from norm_avg_hourly function  \n",
    "    '''\n",
    "    Description: Creates overlapping line plots for each country given a dataframe\n",
    "    from the 'norm_avg_hourly' function.\n",
    "    '''\n",
    "    colors = sns.color_palette('magma')\n",
    "    _ = plt.figure(figsize=(6, 4))\n",
    "\n",
    "    # Create dataset and plot for each time series in group\n",
    "    for grouping, color in zip(plot_df[group].unique(), colors):\n",
    "        line_plot = (plot_df[plot_df[group] == grouping])\n",
    "        _ = sns.lineplot(\n",
    "            data=line_plot,\n",
    "            x='hour',\n",
    "            y='value',\n",
    "            color=color,\n",
    "            label = str(grouping)\n",
    "        )\n",
    "\n",
    "        _ = plt.xlabel('Hour')\n",
    "        _ = plt.ylabel('Normalized Load Actual')\n",
    "        _ = plt.title(f'Avg Load Shapes by {group} 2015-2019')\n",
    "    \n",
    "    plt.show()\n",
    "\n",
    "def lags_and_rolling_means(df, \n",
    "                           list_vars=None, \n",
    "                           group='country', \n",
    "                           lag_num=1,\n",
    "                           obs_per_day=1):\n",
    "    '''\n",
    "    Description: With data frame, list of variables, and hours to lag/roll, \n",
    "    adds lags and rolling mean to a copy of the dataframe. \n",
    "    *Requires a group argument\n",
    "    '''\n",
    "    df_copy = df.copy(deep=True)\n",
    "\n",
    "    # iterate over variables\n",
    "    for var in list_vars:\n",
    "        # iterate over hours\n",
    "        for lag in lag_num:\n",
    "            # lag columns\n",
    "            lag_col = f\"{var}_lag{int(lag/obs_per_day)}_days\" \n",
    "            df_copy[lag_col] = df_copy.groupby(group, as_index=False)[var].shift(lag)\n",
    "            # rolling columns\n",
    "            roll_col = f\"{var}_rollmean{int(lag/obs_per_day)}_days\" \n",
    "            df_copy[roll_col] = df_copy.groupby(group, as_index=False)[var].rolling(lag).mean()[[var]]\n",
    "    \n",
    "    return df_copy"
   ]
  },
  {
   "cell_type": "markdown",
   "metadata": {},
   "source": [
    "Read in Data"
   ]
  },
  {
   "cell_type": "code",
   "execution_count": 15,
   "metadata": {},
   "outputs": [
    {
     "name": "stdout",
     "output_type": "stream",
     "text": [
      "Weather data\n"
     ]
    },
    {
     "data": {
      "application/vnd.microsoft.datawrangler.viewer.v0+json": {
       "columns": [
        {
         "name": "utc_timestamp",
         "rawType": "datetime64[ns, UTC]",
         "type": "unknown"
        },
        {
         "name": "country",
         "rawType": "object",
         "type": "string"
        },
        {
         "name": "temperature",
         "rawType": "float64",
         "type": "float"
        },
        {
         "name": "radi_direct",
         "rawType": "float64",
         "type": "float"
        },
        {
         "name": "radi_diffuse",
         "rawType": "float64",
         "type": "float"
        },
        {
         "name": "day",
         "rawType": "object",
         "type": "unknown"
        },
        {
         "name": "mean_temp",
         "rawType": "float64",
         "type": "float"
        },
        {
         "name": "max_temp",
         "rawType": "float64",
         "type": "float"
        },
        {
         "name": "min_temp",
         "rawType": "float64",
         "type": "float"
        },
        {
         "name": "hdd",
         "rawType": "int32",
         "type": "integer"
        },
        {
         "name": "cdd",
         "rawType": "int32",
         "type": "integer"
        }
       ],
       "conversionMethod": "pd.DataFrame",
       "ref": "c6eb2dec-2d11-4213-b4cd-76c750a763e0",
       "rows": [
        [
         "2015-01-01 00:00:00+00:00",
         "LU",
         "-1.983",
         "0.0",
         "0.0",
         "2015-01-01",
         "-1.1195347222222223",
         "3.298",
         "-8.399",
         "1",
         "0"
        ],
        [
         "2015-01-01 01:00:00+00:00",
         "LU",
         "-2.083",
         "0.0",
         "0.0",
         "2015-01-01",
         "-1.1195347222222223",
         "3.298",
         "-8.399",
         "1",
         "0"
        ]
       ],
       "shape": {
        "columns": 10,
        "rows": 2
       }
      },
      "text/html": [
       "<div>\n",
       "<style scoped>\n",
       "    .dataframe tbody tr th:only-of-type {\n",
       "        vertical-align: middle;\n",
       "    }\n",
       "\n",
       "    .dataframe tbody tr th {\n",
       "        vertical-align: top;\n",
       "    }\n",
       "\n",
       "    .dataframe thead th {\n",
       "        text-align: right;\n",
       "    }\n",
       "</style>\n",
       "<table border=\"1\" class=\"dataframe\">\n",
       "  <thead>\n",
       "    <tr style=\"text-align: right;\">\n",
       "      <th></th>\n",
       "      <th>country</th>\n",
       "      <th>temperature</th>\n",
       "      <th>radi_direct</th>\n",
       "      <th>radi_diffuse</th>\n",
       "      <th>day</th>\n",
       "      <th>mean_temp</th>\n",
       "      <th>max_temp</th>\n",
       "      <th>min_temp</th>\n",
       "      <th>hdd</th>\n",
       "      <th>cdd</th>\n",
       "    </tr>\n",
       "    <tr>\n",
       "      <th>utc_timestamp</th>\n",
       "      <th></th>\n",
       "      <th></th>\n",
       "      <th></th>\n",
       "      <th></th>\n",
       "      <th></th>\n",
       "      <th></th>\n",
       "      <th></th>\n",
       "      <th></th>\n",
       "      <th></th>\n",
       "      <th></th>\n",
       "    </tr>\n",
       "  </thead>\n",
       "  <tbody>\n",
       "    <tr>\n",
       "      <th>2015-01-01 00:00:00+00:00</th>\n",
       "      <td>LU</td>\n",
       "      <td>-1.983</td>\n",
       "      <td>0.0</td>\n",
       "      <td>0.0</td>\n",
       "      <td>2015-01-01</td>\n",
       "      <td>-1.119535</td>\n",
       "      <td>3.298</td>\n",
       "      <td>-8.399</td>\n",
       "      <td>1</td>\n",
       "      <td>0</td>\n",
       "    </tr>\n",
       "    <tr>\n",
       "      <th>2015-01-01 01:00:00+00:00</th>\n",
       "      <td>LU</td>\n",
       "      <td>-2.083</td>\n",
       "      <td>0.0</td>\n",
       "      <td>0.0</td>\n",
       "      <td>2015-01-01</td>\n",
       "      <td>-1.119535</td>\n",
       "      <td>3.298</td>\n",
       "      <td>-8.399</td>\n",
       "      <td>1</td>\n",
       "      <td>0</td>\n",
       "    </tr>\n",
       "  </tbody>\n",
       "</table>\n",
       "</div>"
      ],
      "text/plain": [
       "                          country  temperature  radi_direct  radi_diffuse  \\\n",
       "utc_timestamp                                                               \n",
       "2015-01-01 00:00:00+00:00      LU       -1.983          0.0           0.0   \n",
       "2015-01-01 01:00:00+00:00      LU       -2.083          0.0           0.0   \n",
       "\n",
       "                                  day  mean_temp  max_temp  min_temp  hdd  cdd  \n",
       "utc_timestamp                                                                   \n",
       "2015-01-01 00:00:00+00:00  2015-01-01  -1.119535     3.298    -8.399    1    0  \n",
       "2015-01-01 01:00:00+00:00  2015-01-01  -1.119535     3.298    -8.399    1    0  "
      ]
     },
     "execution_count": 15,
     "metadata": {},
     "output_type": "execute_result"
    },
    {
     "data": {
      "application/vnd.microsoft.datawrangler.viewer.v0+json": {
       "columns": [
        {
         "name": "utc_timestamp",
         "rawType": "datetime64[ns, UTC]",
         "type": "unknown"
        },
        {
         "name": "country",
         "rawType": "object",
         "type": "string"
        },
        {
         "name": "temperature",
         "rawType": "float64",
         "type": "float"
        },
        {
         "name": "radi_direct",
         "rawType": "float64",
         "type": "float"
        },
        {
         "name": "radi_diffuse",
         "rawType": "float64",
         "type": "float"
        },
        {
         "name": "day",
         "rawType": "object",
         "type": "unknown"
        },
        {
         "name": "mean_temp",
         "rawType": "float64",
         "type": "float"
        },
        {
         "name": "max_temp",
         "rawType": "float64",
         "type": "float"
        },
        {
         "name": "min_temp",
         "rawType": "float64",
         "type": "float"
        },
        {
         "name": "hdd",
         "rawType": "int32",
         "type": "integer"
        },
        {
         "name": "cdd",
         "rawType": "int32",
         "type": "integer"
        }
       ],
       "conversionMethod": "pd.DataFrame",
       "ref": "07538656-d234-488e-a3ba-34699bee1b47",
       "rows": [
        [
         "2019-04-29 23:00:00+00:00",
         "AT",
         "3.977",
         "0.0",
         "0.0",
         "2019-04-29",
         "9.270034722222222",
         "16.482",
         "2.108",
         "1",
         "0"
        ],
        [
         "2019-04-30 00:00:00+00:00",
         "AT",
         "3.768",
         "0.0",
         "0.0",
         "2019-04-30",
         "10.341215277777778",
         "16.567",
         "3.435",
         "1",
         "0"
        ]
       ],
       "shape": {
        "columns": 10,
        "rows": 2
       }
      },
      "text/html": [
       "<div>\n",
       "<style scoped>\n",
       "    .dataframe tbody tr th:only-of-type {\n",
       "        vertical-align: middle;\n",
       "    }\n",
       "\n",
       "    .dataframe tbody tr th {\n",
       "        vertical-align: top;\n",
       "    }\n",
       "\n",
       "    .dataframe thead th {\n",
       "        text-align: right;\n",
       "    }\n",
       "</style>\n",
       "<table border=\"1\" class=\"dataframe\">\n",
       "  <thead>\n",
       "    <tr style=\"text-align: right;\">\n",
       "      <th></th>\n",
       "      <th>country</th>\n",
       "      <th>temperature</th>\n",
       "      <th>radi_direct</th>\n",
       "      <th>radi_diffuse</th>\n",
       "      <th>day</th>\n",
       "      <th>mean_temp</th>\n",
       "      <th>max_temp</th>\n",
       "      <th>min_temp</th>\n",
       "      <th>hdd</th>\n",
       "      <th>cdd</th>\n",
       "    </tr>\n",
       "    <tr>\n",
       "      <th>utc_timestamp</th>\n",
       "      <th></th>\n",
       "      <th></th>\n",
       "      <th></th>\n",
       "      <th></th>\n",
       "      <th></th>\n",
       "      <th></th>\n",
       "      <th></th>\n",
       "      <th></th>\n",
       "      <th></th>\n",
       "      <th></th>\n",
       "    </tr>\n",
       "  </thead>\n",
       "  <tbody>\n",
       "    <tr>\n",
       "      <th>2019-04-29 23:00:00+00:00</th>\n",
       "      <td>AT</td>\n",
       "      <td>3.977</td>\n",
       "      <td>0.0</td>\n",
       "      <td>0.0</td>\n",
       "      <td>2019-04-29</td>\n",
       "      <td>9.270035</td>\n",
       "      <td>16.482</td>\n",
       "      <td>2.108</td>\n",
       "      <td>1</td>\n",
       "      <td>0</td>\n",
       "    </tr>\n",
       "    <tr>\n",
       "      <th>2019-04-30 00:00:00+00:00</th>\n",
       "      <td>AT</td>\n",
       "      <td>3.768</td>\n",
       "      <td>0.0</td>\n",
       "      <td>0.0</td>\n",
       "      <td>2019-04-30</td>\n",
       "      <td>10.341215</td>\n",
       "      <td>16.567</td>\n",
       "      <td>3.435</td>\n",
       "      <td>1</td>\n",
       "      <td>0</td>\n",
       "    </tr>\n",
       "  </tbody>\n",
       "</table>\n",
       "</div>"
      ],
      "text/plain": [
       "                          country  temperature  radi_direct  radi_diffuse  \\\n",
       "utc_timestamp                                                               \n",
       "2019-04-29 23:00:00+00:00      AT        3.977          0.0           0.0   \n",
       "2019-04-30 00:00:00+00:00      AT        3.768          0.0           0.0   \n",
       "\n",
       "                                  day  mean_temp  max_temp  min_temp  hdd  cdd  \n",
       "utc_timestamp                                                                   \n",
       "2019-04-29 23:00:00+00:00  2019-04-29   9.270035    16.482     2.108    1    0  \n",
       "2019-04-30 00:00:00+00:00  2019-04-30  10.341215    16.567     3.435    1    0  "
      ]
     },
     "execution_count": 15,
     "metadata": {},
     "output_type": "execute_result"
    },
    {
     "name": "stdout",
     "output_type": "stream",
     "text": [
      "\n",
      "Load data\n"
     ]
    },
    {
     "data": {
      "application/vnd.microsoft.datawrangler.viewer.v0+json": {
       "columns": [
        {
         "name": "utc_timestamp",
         "rawType": "datetime64[ns, UTC]",
         "type": "unknown"
        },
        {
         "name": "country",
         "rawType": "object",
         "type": "string"
        },
        {
         "name": "load_actual",
         "rawType": "float64",
         "type": "float"
        },
        {
         "name": "day",
         "rawType": "object",
         "type": "unknown"
        },
        {
         "name": "day_ordinal",
         "rawType": "int64",
         "type": "integer"
        },
        {
         "name": "hour",
         "rawType": "int32",
         "type": "integer"
        },
        {
         "name": "week_of_year",
         "rawType": "UInt32",
         "type": "integer"
        },
        {
         "name": "month",
         "rawType": "int32",
         "type": "integer"
        },
        {
         "name": "year",
         "rawType": "int32",
         "type": "integer"
        },
        {
         "name": "is_weekend",
         "rawType": "int32",
         "type": "integer"
        },
        {
         "name": "is_holiday",
         "rawType": "int32",
         "type": "integer"
        }
       ],
       "conversionMethod": "pd.DataFrame",
       "ref": "1a4feee0-d3df-476b-8cde-c067597eb89c",
       "rows": [
        [
         "2015-01-01 00:00:00+00:00",
         "DE",
         "41230.04",
         "2015-01-01",
         "735599",
         "0",
         "1",
         "1",
         "2015",
         "0",
         "1"
        ],
        [
         "2015-01-01 00:15:00+00:00",
         "DE",
         "40809.76",
         "2015-01-01",
         "735599",
         "0",
         "1",
         "1",
         "2015",
         "0",
         "1"
        ]
       ],
       "shape": {
        "columns": 10,
        "rows": 2
       }
      },
      "text/html": [
       "<div>\n",
       "<style scoped>\n",
       "    .dataframe tbody tr th:only-of-type {\n",
       "        vertical-align: middle;\n",
       "    }\n",
       "\n",
       "    .dataframe tbody tr th {\n",
       "        vertical-align: top;\n",
       "    }\n",
       "\n",
       "    .dataframe thead th {\n",
       "        text-align: right;\n",
       "    }\n",
       "</style>\n",
       "<table border=\"1\" class=\"dataframe\">\n",
       "  <thead>\n",
       "    <tr style=\"text-align: right;\">\n",
       "      <th></th>\n",
       "      <th>country</th>\n",
       "      <th>load_actual</th>\n",
       "      <th>day</th>\n",
       "      <th>day_ordinal</th>\n",
       "      <th>hour</th>\n",
       "      <th>week_of_year</th>\n",
       "      <th>month</th>\n",
       "      <th>year</th>\n",
       "      <th>is_weekend</th>\n",
       "      <th>is_holiday</th>\n",
       "    </tr>\n",
       "    <tr>\n",
       "      <th>utc_timestamp</th>\n",
       "      <th></th>\n",
       "      <th></th>\n",
       "      <th></th>\n",
       "      <th></th>\n",
       "      <th></th>\n",
       "      <th></th>\n",
       "      <th></th>\n",
       "      <th></th>\n",
       "      <th></th>\n",
       "      <th></th>\n",
       "    </tr>\n",
       "  </thead>\n",
       "  <tbody>\n",
       "    <tr>\n",
       "      <th>2015-01-01 00:00:00+00:00</th>\n",
       "      <td>DE</td>\n",
       "      <td>41230.04</td>\n",
       "      <td>2015-01-01</td>\n",
       "      <td>735599</td>\n",
       "      <td>0</td>\n",
       "      <td>1</td>\n",
       "      <td>1</td>\n",
       "      <td>2015</td>\n",
       "      <td>0</td>\n",
       "      <td>1</td>\n",
       "    </tr>\n",
       "    <tr>\n",
       "      <th>2015-01-01 00:15:00+00:00</th>\n",
       "      <td>DE</td>\n",
       "      <td>40809.76</td>\n",
       "      <td>2015-01-01</td>\n",
       "      <td>735599</td>\n",
       "      <td>0</td>\n",
       "      <td>1</td>\n",
       "      <td>1</td>\n",
       "      <td>2015</td>\n",
       "      <td>0</td>\n",
       "      <td>1</td>\n",
       "    </tr>\n",
       "  </tbody>\n",
       "</table>\n",
       "</div>"
      ],
      "text/plain": [
       "                          country  load_actual         day  day_ordinal  hour  \\\n",
       "utc_timestamp                                                                   \n",
       "2015-01-01 00:00:00+00:00      DE     41230.04  2015-01-01       735599     0   \n",
       "2015-01-01 00:15:00+00:00      DE     40809.76  2015-01-01       735599     0   \n",
       "\n",
       "                           week_of_year  month  year  is_weekend  is_holiday  \n",
       "utc_timestamp                                                                 \n",
       "2015-01-01 00:00:00+00:00             1      1  2015           0           1  \n",
       "2015-01-01 00:15:00+00:00             1      1  2015           0           1  "
      ]
     },
     "execution_count": 15,
     "metadata": {},
     "output_type": "execute_result"
    },
    {
     "data": {
      "application/vnd.microsoft.datawrangler.viewer.v0+json": {
       "columns": [
        {
         "name": "utc_timestamp",
         "rawType": "datetime64[ns, UTC]",
         "type": "unknown"
        },
        {
         "name": "country",
         "rawType": "object",
         "type": "string"
        },
        {
         "name": "load_actual",
         "rawType": "float64",
         "type": "float"
        },
        {
         "name": "day",
         "rawType": "object",
         "type": "unknown"
        },
        {
         "name": "day_ordinal",
         "rawType": "int64",
         "type": "integer"
        },
        {
         "name": "hour",
         "rawType": "int32",
         "type": "integer"
        },
        {
         "name": "week_of_year",
         "rawType": "UInt32",
         "type": "integer"
        },
        {
         "name": "month",
         "rawType": "int32",
         "type": "integer"
        },
        {
         "name": "year",
         "rawType": "int32",
         "type": "integer"
        },
        {
         "name": "is_weekend",
         "rawType": "int32",
         "type": "integer"
        },
        {
         "name": "is_holiday",
         "rawType": "int32",
         "type": "integer"
        }
       ],
       "conversionMethod": "pd.DataFrame",
       "ref": "6ed673b4-3436-4f24-a838-f680e5acd34e",
       "rows": [
        [
         "2019-04-29 23:45:00+00:00",
         "LU",
         "336.93",
         "2019-04-29",
         "737178",
         "23",
         "18",
         "4",
         "2019",
         "0",
         "0"
        ],
        [
         "2019-04-30 00:00:00+00:00",
         "LU",
         "337.64",
         "2019-04-30",
         "737179",
         "0",
         "18",
         "4",
         "2019",
         "0",
         "0"
        ]
       ],
       "shape": {
        "columns": 10,
        "rows": 2
       }
      },
      "text/html": [
       "<div>\n",
       "<style scoped>\n",
       "    .dataframe tbody tr th:only-of-type {\n",
       "        vertical-align: middle;\n",
       "    }\n",
       "\n",
       "    .dataframe tbody tr th {\n",
       "        vertical-align: top;\n",
       "    }\n",
       "\n",
       "    .dataframe thead th {\n",
       "        text-align: right;\n",
       "    }\n",
       "</style>\n",
       "<table border=\"1\" class=\"dataframe\">\n",
       "  <thead>\n",
       "    <tr style=\"text-align: right;\">\n",
       "      <th></th>\n",
       "      <th>country</th>\n",
       "      <th>load_actual</th>\n",
       "      <th>day</th>\n",
       "      <th>day_ordinal</th>\n",
       "      <th>hour</th>\n",
       "      <th>week_of_year</th>\n",
       "      <th>month</th>\n",
       "      <th>year</th>\n",
       "      <th>is_weekend</th>\n",
       "      <th>is_holiday</th>\n",
       "    </tr>\n",
       "    <tr>\n",
       "      <th>utc_timestamp</th>\n",
       "      <th></th>\n",
       "      <th></th>\n",
       "      <th></th>\n",
       "      <th></th>\n",
       "      <th></th>\n",
       "      <th></th>\n",
       "      <th></th>\n",
       "      <th></th>\n",
       "      <th></th>\n",
       "      <th></th>\n",
       "    </tr>\n",
       "  </thead>\n",
       "  <tbody>\n",
       "    <tr>\n",
       "      <th>2019-04-29 23:45:00+00:00</th>\n",
       "      <td>LU</td>\n",
       "      <td>336.93</td>\n",
       "      <td>2019-04-29</td>\n",
       "      <td>737178</td>\n",
       "      <td>23</td>\n",
       "      <td>18</td>\n",
       "      <td>4</td>\n",
       "      <td>2019</td>\n",
       "      <td>0</td>\n",
       "      <td>0</td>\n",
       "    </tr>\n",
       "    <tr>\n",
       "      <th>2019-04-30 00:00:00+00:00</th>\n",
       "      <td>LU</td>\n",
       "      <td>337.64</td>\n",
       "      <td>2019-04-30</td>\n",
       "      <td>737179</td>\n",
       "      <td>0</td>\n",
       "      <td>18</td>\n",
       "      <td>4</td>\n",
       "      <td>2019</td>\n",
       "      <td>0</td>\n",
       "      <td>0</td>\n",
       "    </tr>\n",
       "  </tbody>\n",
       "</table>\n",
       "</div>"
      ],
      "text/plain": [
       "                          country  load_actual         day  day_ordinal  hour  \\\n",
       "utc_timestamp                                                                   \n",
       "2019-04-29 23:45:00+00:00      LU       336.93  2019-04-29       737178    23   \n",
       "2019-04-30 00:00:00+00:00      LU       337.64  2019-04-30       737179     0   \n",
       "\n",
       "                           week_of_year  month  year  is_weekend  is_holiday  \n",
       "utc_timestamp                                                                 \n",
       "2019-04-29 23:45:00+00:00            18      4  2019           0           0  \n",
       "2019-04-30 00:00:00+00:00            18      4  2019           0           0  "
      ]
     },
     "execution_count": 15,
     "metadata": {},
     "output_type": "execute_result"
    },
    {
     "name": "stdout",
     "output_type": "stream",
     "text": [
      "\n",
      "nrow weather data: 227526 nrow load data: 910086\n"
     ]
    }
   ],
   "source": [
    "# Filepaths\n",
    "cd = Path.cwd()\n",
    "data_dir = str(cd.parents[1])\n",
    "load_wthr_dt = data_dir + '/datasets/country_energy/pivot_country_weather.pickle'\n",
    "load_energy_dt = data_dir + '/datasets/country_energy/country_load.pickle'\n",
    "\n",
    "# Read pickle data\n",
    "with open(load_wthr_dt, 'rb') as f:\n",
    "    wthr_dt = (pickle.load(f).loc[lambda x: x.utc_timestamp.between('2015-01-01', '2019-04-30')]\n",
    "                             # Note: setting utc_timestamp as index causes drop_duplicates to remove needed observations\n",
    "                             .set_index(['utc_timestamp']) \n",
    "                             # simplify var names\n",
    "                             .rename(columns={'radiation_direct_horizontal': 'radi_direct',\n",
    "                                              'radiation_diffuse_horizontal': 'radi_diffuse'}))\n",
    "\n",
    "with open(load_energy_dt, 'rb') as f:\n",
    "    load_dt = (pickle.load(f).loc[lambda x: x.utc_timestamp.between('2015-01-01', '2019-04-30')]\n",
    "                             .set_index(['utc_timestamp']) \n",
    "                             # simplify var names\n",
    "                             .rename(columns={'load_actual_entsoe_transparency': 'load_actual'}))\n",
    "\n",
    "# View data\n",
    "print(f'Weather data')\n",
    "wthr_dt.head(2)\n",
    "wthr_dt.tail(2)\n",
    "print(f'\\nLoad data')\n",
    "load_dt.head(2)\n",
    "load_dt.tail(2)\n",
    "print(f'\\nnrow weather data: {len(wthr_dt)} nrow load data: {len(load_dt)}')"
   ]
  },
  {
   "cell_type": "markdown",
   "metadata": {},
   "source": [
    "Downsample Actuals from 15 min -> 1 hour"
   ]
  },
  {
   "cell_type": "code",
   "execution_count": 16,
   "metadata": {},
   "outputs": [
    {
     "data": {
      "application/vnd.microsoft.datawrangler.viewer.v0+json": {
       "columns": [
        {
         "name": "utc_timestamp",
         "rawType": "datetime64[ns, UTC]",
         "type": "unknown"
        },
        {
         "name": "day",
         "rawType": "object",
         "type": "unknown"
        },
        {
         "name": "day_ordinal",
         "rawType": "float64",
         "type": "float"
        },
        {
         "name": "year",
         "rawType": "float64",
         "type": "float"
        },
        {
         "name": "week_of_year",
         "rawType": "Float64",
         "type": "float"
        },
        {
         "name": "month",
         "rawType": "float64",
         "type": "float"
        },
        {
         "name": "hour",
         "rawType": "float64",
         "type": "float"
        },
        {
         "name": "country",
         "rawType": "object",
         "type": "string"
        },
        {
         "name": "load_actual",
         "rawType": "float64",
         "type": "float"
        },
        {
         "name": "is_weekend",
         "rawType": "float64",
         "type": "float"
        },
        {
         "name": "is_holiday",
         "rawType": "float64",
         "type": "float"
        }
       ],
       "conversionMethod": "pd.DataFrame",
       "ref": "7751facd-ff9b-4654-ae08-403984de0ebf",
       "rows": [
        [
         "2015-01-01 00:00:00+00:00",
         "2015-01-01",
         "735599.0",
         "2015.0",
         "1.0",
         "1.0",
         "0.0",
         "DE",
         "40665.1075",
         "0.0",
         "1.0"
        ],
        [
         "2015-01-01 01:00:00+00:00",
         "2015-01-01",
         "735599.0",
         "2015.0",
         "1.0",
         "1.0",
         "1.0",
         "DE",
         "39509.8525",
         "0.0",
         "1.0"
        ],
        [
         "2015-01-01 02:00:00+00:00",
         "2015-01-01",
         "735599.0",
         "2015.0",
         "1.0",
         "1.0",
         "2.0",
         "DE",
         "38537.0625",
         "0.0",
         "1.0"
        ],
        [
         "2015-01-01 03:00:00+00:00",
         "2015-01-01",
         "735599.0",
         "2015.0",
         "1.0",
         "1.0",
         "3.0",
         "DE",
         "38152.65",
         "0.0",
         "1.0"
        ],
        [
         "2015-01-01 04:00:00+00:00",
         "2015-01-01",
         "735599.0",
         "2015.0",
         "1.0",
         "1.0",
         "4.0",
         "DE",
         "37927.055",
         "0.0",
         "1.0"
        ]
       ],
       "shape": {
        "columns": 10,
        "rows": 5
       }
      },
      "text/html": [
       "<div>\n",
       "<style scoped>\n",
       "    .dataframe tbody tr th:only-of-type {\n",
       "        vertical-align: middle;\n",
       "    }\n",
       "\n",
       "    .dataframe tbody tr th {\n",
       "        vertical-align: top;\n",
       "    }\n",
       "\n",
       "    .dataframe thead th {\n",
       "        text-align: right;\n",
       "    }\n",
       "</style>\n",
       "<table border=\"1\" class=\"dataframe\">\n",
       "  <thead>\n",
       "    <tr style=\"text-align: right;\">\n",
       "      <th></th>\n",
       "      <th>day</th>\n",
       "      <th>day_ordinal</th>\n",
       "      <th>year</th>\n",
       "      <th>week_of_year</th>\n",
       "      <th>month</th>\n",
       "      <th>hour</th>\n",
       "      <th>country</th>\n",
       "      <th>load_actual</th>\n",
       "      <th>is_weekend</th>\n",
       "      <th>is_holiday</th>\n",
       "    </tr>\n",
       "    <tr>\n",
       "      <th>utc_timestamp</th>\n",
       "      <th></th>\n",
       "      <th></th>\n",
       "      <th></th>\n",
       "      <th></th>\n",
       "      <th></th>\n",
       "      <th></th>\n",
       "      <th></th>\n",
       "      <th></th>\n",
       "      <th></th>\n",
       "      <th></th>\n",
       "    </tr>\n",
       "  </thead>\n",
       "  <tbody>\n",
       "    <tr>\n",
       "      <th>2015-01-01 00:00:00+00:00</th>\n",
       "      <td>2015-01-01</td>\n",
       "      <td>735599.0</td>\n",
       "      <td>2015.0</td>\n",
       "      <td>1.0</td>\n",
       "      <td>1.0</td>\n",
       "      <td>0.0</td>\n",
       "      <td>DE</td>\n",
       "      <td>40665.1075</td>\n",
       "      <td>0.0</td>\n",
       "      <td>1.0</td>\n",
       "    </tr>\n",
       "    <tr>\n",
       "      <th>2015-01-01 01:00:00+00:00</th>\n",
       "      <td>2015-01-01</td>\n",
       "      <td>735599.0</td>\n",
       "      <td>2015.0</td>\n",
       "      <td>1.0</td>\n",
       "      <td>1.0</td>\n",
       "      <td>1.0</td>\n",
       "      <td>DE</td>\n",
       "      <td>39509.8525</td>\n",
       "      <td>0.0</td>\n",
       "      <td>1.0</td>\n",
       "    </tr>\n",
       "    <tr>\n",
       "      <th>2015-01-01 02:00:00+00:00</th>\n",
       "      <td>2015-01-01</td>\n",
       "      <td>735599.0</td>\n",
       "      <td>2015.0</td>\n",
       "      <td>1.0</td>\n",
       "      <td>1.0</td>\n",
       "      <td>2.0</td>\n",
       "      <td>DE</td>\n",
       "      <td>38537.0625</td>\n",
       "      <td>0.0</td>\n",
       "      <td>1.0</td>\n",
       "    </tr>\n",
       "    <tr>\n",
       "      <th>2015-01-01 03:00:00+00:00</th>\n",
       "      <td>2015-01-01</td>\n",
       "      <td>735599.0</td>\n",
       "      <td>2015.0</td>\n",
       "      <td>1.0</td>\n",
       "      <td>1.0</td>\n",
       "      <td>3.0</td>\n",
       "      <td>DE</td>\n",
       "      <td>38152.6500</td>\n",
       "      <td>0.0</td>\n",
       "      <td>1.0</td>\n",
       "    </tr>\n",
       "    <tr>\n",
       "      <th>2015-01-01 04:00:00+00:00</th>\n",
       "      <td>2015-01-01</td>\n",
       "      <td>735599.0</td>\n",
       "      <td>2015.0</td>\n",
       "      <td>1.0</td>\n",
       "      <td>1.0</td>\n",
       "      <td>4.0</td>\n",
       "      <td>DE</td>\n",
       "      <td>37927.0550</td>\n",
       "      <td>0.0</td>\n",
       "      <td>1.0</td>\n",
       "    </tr>\n",
       "  </tbody>\n",
       "</table>\n",
       "</div>"
      ],
      "text/plain": [
       "                                  day  day_ordinal    year  week_of_year  \\\n",
       "utc_timestamp                                                              \n",
       "2015-01-01 00:00:00+00:00  2015-01-01     735599.0  2015.0           1.0   \n",
       "2015-01-01 01:00:00+00:00  2015-01-01     735599.0  2015.0           1.0   \n",
       "2015-01-01 02:00:00+00:00  2015-01-01     735599.0  2015.0           1.0   \n",
       "2015-01-01 03:00:00+00:00  2015-01-01     735599.0  2015.0           1.0   \n",
       "2015-01-01 04:00:00+00:00  2015-01-01     735599.0  2015.0           1.0   \n",
       "\n",
       "                           month  hour country  load_actual  is_weekend  \\\n",
       "utc_timestamp                                                             \n",
       "2015-01-01 00:00:00+00:00    1.0   0.0      DE   40665.1075         0.0   \n",
       "2015-01-01 01:00:00+00:00    1.0   1.0      DE   39509.8525         0.0   \n",
       "2015-01-01 02:00:00+00:00    1.0   2.0      DE   38537.0625         0.0   \n",
       "2015-01-01 03:00:00+00:00    1.0   3.0      DE   38152.6500         0.0   \n",
       "2015-01-01 04:00:00+00:00    1.0   4.0      DE   37927.0550         0.0   \n",
       "\n",
       "                           is_holiday  \n",
       "utc_timestamp                          \n",
       "2015-01-01 00:00:00+00:00         1.0  \n",
       "2015-01-01 01:00:00+00:00         1.0  \n",
       "2015-01-01 02:00:00+00:00         1.0  \n",
       "2015-01-01 03:00:00+00:00         1.0  \n",
       "2015-01-01 04:00:00+00:00         1.0  "
      ]
     },
     "execution_count": 16,
     "metadata": {},
     "output_type": "execute_result"
    },
    {
     "name": "stdout",
     "output_type": "stream",
     "text": [
      "\n",
      " Weather data nrows: 227526 Load data nrows: 227526\n"
     ]
    }
   ],
   "source": [
    "load_downsample = pd.DataFrame({})\n",
    "\n",
    "# Downsample by country, merge numeric and non-numeric\n",
    "for country in load_dt['country'].unique():\n",
    "    \n",
    "    # Country level data\n",
    "    country_dt = load_dt.loc[load_dt['country'] == country]\n",
    "\n",
    "    # Seperate numeric and non-numeric data\n",
    "    non_numeric = country_dt.select_dtypes(exclude=['number']).columns\n",
    "    time_country = country_dt[non_numeric].resample('h').first()\n",
    "\n",
    "    # Combined\n",
    "    country_dt = (load_dt.loc[load_dt['country'] == country]\n",
    "                         .resample('h', level=0, group_keys=True)\n",
    "                         .mean(numeric_only=True)\n",
    "                         .merge(time_country, how='left', on=['utc_timestamp'])\n",
    "                         [['day', 'day_ordinal', 'year', 'week_of_year', 'month', 'hour', \n",
    "                           'country', 'load_actual', 'is_weekend', 'is_holiday']])\n",
    "    \n",
    "    load_downsample = pd.concat([load_downsample, country_dt])\n",
    "\n",
    "# View data\n",
    "load_downsample.head()\n",
    "\n",
    "# Ensure Weather and Load data have same number of rows\n",
    "print(f'\\n Weather data nrows: {len(wthr_dt)} Load data nrows: {len(load_downsample)}')"
   ]
  },
  {
   "cell_type": "markdown",
   "metadata": {},
   "source": [
    "Upsample Temperature 1 hour -> 15 min, Interpolate"
   ]
  },
  {
   "cell_type": "code",
   "execution_count": 18,
   "metadata": {},
   "outputs": [
    {
     "data": {
      "application/vnd.microsoft.datawrangler.viewer.v0+json": {
       "columns": [
        {
         "name": "utc_timestamp",
         "rawType": "datetime64[ns, UTC]",
         "type": "unknown"
        },
        {
         "name": "temperature",
         "rawType": "float64",
         "type": "float"
        },
        {
         "name": "radi_direct",
         "rawType": "float64",
         "type": "float"
        },
        {
         "name": "radi_diffuse",
         "rawType": "float64",
         "type": "float"
        },
        {
         "name": "country",
         "rawType": "object",
         "type": "string"
        },
        {
         "name": "day",
         "rawType": "object",
         "type": "unknown"
        },
        {
         "name": "mean_temp",
         "rawType": "float64",
         "type": "float"
        },
        {
         "name": "max_temp",
         "rawType": "float64",
         "type": "float"
        },
        {
         "name": "min_temp",
         "rawType": "float64",
         "type": "float"
        },
        {
         "name": "hdd",
         "rawType": "float64",
         "type": "float"
        },
        {
         "name": "cdd",
         "rawType": "float64",
         "type": "float"
        }
       ],
       "conversionMethod": "pd.DataFrame",
       "ref": "a49b6046-85fc-4fa0-88fe-9a38da7a76f5",
       "rows": [
        [
         "2015-01-01 00:00:00+00:00",
         "-1.983",
         "0.0",
         "0.0",
         "LU",
         "2015-01-01",
         "-1.1195347222222223",
         "3.298",
         "-8.399",
         "1.0",
         "0.0"
        ],
        [
         "2015-01-01 00:15:00+00:00",
         "-2.008",
         "0.0",
         "0.0",
         "LU",
         "2015-01-01",
         "-1.1195347222222223",
         "3.298",
         "-8.399",
         "1.0",
         "0.0"
        ]
       ],
       "shape": {
        "columns": 10,
        "rows": 2
       }
      },
      "text/html": [
       "<div>\n",
       "<style scoped>\n",
       "    .dataframe tbody tr th:only-of-type {\n",
       "        vertical-align: middle;\n",
       "    }\n",
       "\n",
       "    .dataframe tbody tr th {\n",
       "        vertical-align: top;\n",
       "    }\n",
       "\n",
       "    .dataframe thead th {\n",
       "        text-align: right;\n",
       "    }\n",
       "</style>\n",
       "<table border=\"1\" class=\"dataframe\">\n",
       "  <thead>\n",
       "    <tr style=\"text-align: right;\">\n",
       "      <th></th>\n",
       "      <th>temperature</th>\n",
       "      <th>radi_direct</th>\n",
       "      <th>radi_diffuse</th>\n",
       "      <th>country</th>\n",
       "      <th>day</th>\n",
       "      <th>mean_temp</th>\n",
       "      <th>max_temp</th>\n",
       "      <th>min_temp</th>\n",
       "      <th>hdd</th>\n",
       "      <th>cdd</th>\n",
       "    </tr>\n",
       "    <tr>\n",
       "      <th>utc_timestamp</th>\n",
       "      <th></th>\n",
       "      <th></th>\n",
       "      <th></th>\n",
       "      <th></th>\n",
       "      <th></th>\n",
       "      <th></th>\n",
       "      <th></th>\n",
       "      <th></th>\n",
       "      <th></th>\n",
       "      <th></th>\n",
       "    </tr>\n",
       "  </thead>\n",
       "  <tbody>\n",
       "    <tr>\n",
       "      <th>2015-01-01 00:00:00+00:00</th>\n",
       "      <td>-1.983</td>\n",
       "      <td>0.0</td>\n",
       "      <td>0.0</td>\n",
       "      <td>LU</td>\n",
       "      <td>2015-01-01</td>\n",
       "      <td>-1.119535</td>\n",
       "      <td>3.298</td>\n",
       "      <td>-8.399</td>\n",
       "      <td>1.0</td>\n",
       "      <td>0.0</td>\n",
       "    </tr>\n",
       "    <tr>\n",
       "      <th>2015-01-01 00:15:00+00:00</th>\n",
       "      <td>-2.008</td>\n",
       "      <td>0.0</td>\n",
       "      <td>0.0</td>\n",
       "      <td>LU</td>\n",
       "      <td>2015-01-01</td>\n",
       "      <td>-1.119535</td>\n",
       "      <td>3.298</td>\n",
       "      <td>-8.399</td>\n",
       "      <td>1.0</td>\n",
       "      <td>0.0</td>\n",
       "    </tr>\n",
       "  </tbody>\n",
       "</table>\n",
       "</div>"
      ],
      "text/plain": [
       "                           temperature  radi_direct  radi_diffuse country  \\\n",
       "utc_timestamp                                                               \n",
       "2015-01-01 00:00:00+00:00       -1.983          0.0           0.0      LU   \n",
       "2015-01-01 00:15:00+00:00       -2.008          0.0           0.0      LU   \n",
       "\n",
       "                                  day  mean_temp  max_temp  min_temp  hdd  cdd  \n",
       "utc_timestamp                                                                   \n",
       "2015-01-01 00:00:00+00:00  2015-01-01  -1.119535     3.298    -8.399  1.0  0.0  \n",
       "2015-01-01 00:15:00+00:00  2015-01-01  -1.119535     3.298    -8.399  1.0  0.0  "
      ]
     },
     "execution_count": 18,
     "metadata": {},
     "output_type": "execute_result"
    },
    {
     "name": "stdout",
     "output_type": "stream",
     "text": [
      "Ensure correct counts for upsampled dataframes:\n",
      "wthr_dt - 227526, country_upsample - 151681 (1/6th of wthr_upsample), wthr_upsample - 910086\n",
      "\n",
      "Ensure 4 * len(wthr_dt) == len(wthr_upsample): wthr_dt - 910104, wthr_upsample - 910086\n",
      "\n",
      "Difference from 4 * wrthr_dt to wthr_upsample: 18\n"
     ]
    }
   ],
   "source": [
    "# Upsample weather\n",
    "\n",
    "ffill_vars = ['country', 'day', 'mean_temp', 'max_temp', 'min_temp', 'hdd', 'cdd']\n",
    "interp_vars = ['temperature', 'radi_direct', 'radi_diffuse']\n",
    "wthr_upsample = pd.DataFrame({})\n",
    "\n",
    "for country in wthr_dt['country'].unique():\n",
    "    country_upsample = wthr_dt.loc[lambda x: x.country == country].resample('15min').asfreq()\n",
    "    # interpolate ts variables, and ffill categorical variables\n",
    "    interped = country_upsample[interp_vars].interpolate()\n",
    "    ffilled = country_upsample[ffill_vars].ffill()\n",
    "\n",
    "    # merge\n",
    "    upsampled = interped.merge(ffilled, how='left', on='utc_timestamp')\n",
    "\n",
    "    wthr_upsample = pd.concat([wthr_upsample, upsampled])\n",
    "\n",
    "wthr_upsample.head(2)\n",
    "\n",
    "# Ensure accuracy\n",
    "print(f\"Ensure correct counts for upsampled dataframes:\\nwthr_dt - {len(wthr_dt)}, country_upsample - {len(country_upsample)} (1/6th of wthr_upsample), wthr_upsample - {len(wthr_upsample)}\\n\\nEnsure 4 * len(wthr_dt) == len(wthr_upsample): wthr_dt - {4 * len(wthr_dt)}, wthr_upsample - {len(wthr_upsample)}\")\n",
    "\n",
    "print(f'\\nDifference from 4 * wrthr_dt to wthr_upsample: {910104 - 910086}')"
   ]
  },
  {
   "cell_type": "markdown",
   "metadata": {},
   "source": [
    "Investigating difference in size of dataframes after resampling"
   ]
  },
  {
   "cell_type": "code",
   "execution_count": 12,
   "metadata": {},
   "outputs": [
    {
     "name": "stdout",
     "output_type": "stream",
     "text": [
      "How many timestamps are not shared between tables?\n"
     ]
    },
    {
     "data": {
      "application/vnd.microsoft.datawrangler.viewer.v0+json": {
       "columns": [
        {
         "name": "index",
         "rawType": "int64",
         "type": "integer"
        },
        {
         "name": "utc_timestamp",
         "rawType": "datetime64[ns, UTC]",
         "type": "unknown"
        },
        {
         "name": "country",
         "rawType": "object",
         "type": "string"
        },
        {
         "name": "temperature",
         "rawType": "float64",
         "type": "float"
        },
        {
         "name": "radi_direct",
         "rawType": "float64",
         "type": "float"
        },
        {
         "name": "radi_diffuse",
         "rawType": "float64",
         "type": "float"
        },
        {
         "name": "day",
         "rawType": "object",
         "type": "string"
        },
        {
         "name": "mean_temp",
         "rawType": "float64",
         "type": "float"
        },
        {
         "name": "max_temp",
         "rawType": "float64",
         "type": "float"
        },
        {
         "name": "min_temp",
         "rawType": "float64",
         "type": "float"
        },
        {
         "name": "hdd",
         "rawType": "int32",
         "type": "integer"
        },
        {
         "name": "cdd",
         "rawType": "int32",
         "type": "integer"
        }
       ],
       "conversionMethod": "pd.DataFrame",
       "ref": "73fcfb66-b568-4c53-9ce4-406c9e979074",
       "rows": [],
       "shape": {
        "columns": 11,
        "rows": 0
       }
      },
      "text/html": [
       "<div>\n",
       "<style scoped>\n",
       "    .dataframe tbody tr th:only-of-type {\n",
       "        vertical-align: middle;\n",
       "    }\n",
       "\n",
       "    .dataframe tbody tr th {\n",
       "        vertical-align: top;\n",
       "    }\n",
       "\n",
       "    .dataframe thead th {\n",
       "        text-align: right;\n",
       "    }\n",
       "</style>\n",
       "<table border=\"1\" class=\"dataframe\">\n",
       "  <thead>\n",
       "    <tr style=\"text-align: right;\">\n",
       "      <th></th>\n",
       "      <th>utc_timestamp</th>\n",
       "      <th>country</th>\n",
       "      <th>temperature</th>\n",
       "      <th>radi_direct</th>\n",
       "      <th>radi_diffuse</th>\n",
       "      <th>day</th>\n",
       "      <th>mean_temp</th>\n",
       "      <th>max_temp</th>\n",
       "      <th>min_temp</th>\n",
       "      <th>hdd</th>\n",
       "      <th>cdd</th>\n",
       "    </tr>\n",
       "  </thead>\n",
       "  <tbody>\n",
       "  </tbody>\n",
       "</table>\n",
       "</div>"
      ],
      "text/plain": [
       "Empty DataFrame\n",
       "Columns: [utc_timestamp, country, temperature, radi_direct, radi_diffuse, day, mean_temp, max_temp, min_temp, hdd, cdd]\n",
       "Index: []"
      ]
     },
     "execution_count": 12,
     "metadata": {},
     "output_type": "execute_result"
    },
    {
     "name": "stdout",
     "output_type": "stream",
     "text": [
      "--- All timestamps are shared\n"
     ]
    }
   ],
   "source": [
    "# Reset utc_timestamp as variable for comparison\n",
    "test_timestamp_a = wthr_dt.reset_index()\n",
    "test_timestamp_b = wthr_upsample.reset_index()\n",
    "\n",
    "print(f\"How many timestamps are not shared between tables?\")\n",
    "test_timestamp_a.loc[lambda x: ~x['utc_timestamp'].isin(test_timestamp_b['utc_timestamp'])] # empty\n",
    "print('--- All timestamps are shared')"
   ]
  },
  {
   "cell_type": "markdown",
   "metadata": {},
   "source": [
    "For the 6 countries 3 extra observations exist (6*3) = 18. This corresponds, correctly, to the 3 additional rows per country not being created for the final time value in the wthr_dt table. Fortunately, the difference is not cause for concern!"
   ]
  },
  {
   "cell_type": "markdown",
   "metadata": {},
   "source": [
    "Merge datasets"
   ]
  },
  {
   "cell_type": "code",
   "execution_count": 19,
   "metadata": {},
   "outputs": [
    {
     "name": "stdout",
     "output_type": "stream",
     "text": [
      "Downsampled Dataset\n"
     ]
    },
    {
     "data": {
      "application/vnd.microsoft.datawrangler.viewer.v0+json": {
       "columns": [
        {
         "name": "utc_timestamp",
         "rawType": "datetime64[ns, UTC]",
         "type": "unknown"
        },
        {
         "name": "day",
         "rawType": "object",
         "type": "unknown"
        },
        {
         "name": "day_ordinal",
         "rawType": "float64",
         "type": "float"
        },
        {
         "name": "year",
         "rawType": "float64",
         "type": "float"
        },
        {
         "name": "week_of_year",
         "rawType": "Float64",
         "type": "float"
        },
        {
         "name": "month",
         "rawType": "float64",
         "type": "float"
        },
        {
         "name": "hour",
         "rawType": "float64",
         "type": "float"
        },
        {
         "name": "country",
         "rawType": "object",
         "type": "string"
        },
        {
         "name": "load_actual",
         "rawType": "float64",
         "type": "float"
        },
        {
         "name": "is_weekend",
         "rawType": "float64",
         "type": "float"
        },
        {
         "name": "is_holiday",
         "rawType": "float64",
         "type": "float"
        },
        {
         "name": "temperature",
         "rawType": "float64",
         "type": "float"
        },
        {
         "name": "radi_direct",
         "rawType": "float64",
         "type": "float"
        },
        {
         "name": "radi_diffuse",
         "rawType": "float64",
         "type": "float"
        },
        {
         "name": "mean_temp",
         "rawType": "float64",
         "type": "float"
        },
        {
         "name": "max_temp",
         "rawType": "float64",
         "type": "float"
        },
        {
         "name": "min_temp",
         "rawType": "float64",
         "type": "float"
        },
        {
         "name": "hdd",
         "rawType": "int32",
         "type": "integer"
        },
        {
         "name": "cdd",
         "rawType": "int32",
         "type": "integer"
        }
       ],
       "conversionMethod": "pd.DataFrame",
       "ref": "60902b51-3905-4448-b7f1-53f2f583fc37",
       "rows": [
        [
         "2015-01-01 00:00:00+00:00",
         "2015-01-01",
         "735599.0",
         "2015.0",
         "1.0",
         "1.0",
         "0.0",
         "DE",
         "40665.1075",
         "0.0",
         "1.0",
         "-0.981",
         "0.0",
         "0.0",
         "-1.1195347222222223",
         "3.298",
         "-8.399",
         "1",
         "0"
        ],
        [
         "2015-01-01 01:00:00+00:00",
         "2015-01-01",
         "735599.0",
         "2015.0",
         "1.0",
         "1.0",
         "1.0",
         "DE",
         "39509.8525",
         "0.0",
         "1.0",
         "-1.035",
         "0.0",
         "0.0",
         "-1.1195347222222223",
         "3.298",
         "-8.399",
         "1",
         "0"
        ]
       ],
       "shape": {
        "columns": 18,
        "rows": 2
       }
      },
      "text/html": [
       "<div>\n",
       "<style scoped>\n",
       "    .dataframe tbody tr th:only-of-type {\n",
       "        vertical-align: middle;\n",
       "    }\n",
       "\n",
       "    .dataframe tbody tr th {\n",
       "        vertical-align: top;\n",
       "    }\n",
       "\n",
       "    .dataframe thead th {\n",
       "        text-align: right;\n",
       "    }\n",
       "</style>\n",
       "<table border=\"1\" class=\"dataframe\">\n",
       "  <thead>\n",
       "    <tr style=\"text-align: right;\">\n",
       "      <th></th>\n",
       "      <th>day</th>\n",
       "      <th>day_ordinal</th>\n",
       "      <th>year</th>\n",
       "      <th>week_of_year</th>\n",
       "      <th>month</th>\n",
       "      <th>hour</th>\n",
       "      <th>country</th>\n",
       "      <th>load_actual</th>\n",
       "      <th>is_weekend</th>\n",
       "      <th>is_holiday</th>\n",
       "      <th>temperature</th>\n",
       "      <th>radi_direct</th>\n",
       "      <th>radi_diffuse</th>\n",
       "      <th>mean_temp</th>\n",
       "      <th>max_temp</th>\n",
       "      <th>min_temp</th>\n",
       "      <th>hdd</th>\n",
       "      <th>cdd</th>\n",
       "    </tr>\n",
       "    <tr>\n",
       "      <th>utc_timestamp</th>\n",
       "      <th></th>\n",
       "      <th></th>\n",
       "      <th></th>\n",
       "      <th></th>\n",
       "      <th></th>\n",
       "      <th></th>\n",
       "      <th></th>\n",
       "      <th></th>\n",
       "      <th></th>\n",
       "      <th></th>\n",
       "      <th></th>\n",
       "      <th></th>\n",
       "      <th></th>\n",
       "      <th></th>\n",
       "      <th></th>\n",
       "      <th></th>\n",
       "      <th></th>\n",
       "      <th></th>\n",
       "    </tr>\n",
       "  </thead>\n",
       "  <tbody>\n",
       "    <tr>\n",
       "      <th>2015-01-01 00:00:00+00:00</th>\n",
       "      <td>2015-01-01</td>\n",
       "      <td>735599.0</td>\n",
       "      <td>2015.0</td>\n",
       "      <td>1.0</td>\n",
       "      <td>1.0</td>\n",
       "      <td>0.0</td>\n",
       "      <td>DE</td>\n",
       "      <td>40665.1075</td>\n",
       "      <td>0.0</td>\n",
       "      <td>1.0</td>\n",
       "      <td>-0.981</td>\n",
       "      <td>0.0</td>\n",
       "      <td>0.0</td>\n",
       "      <td>-1.119535</td>\n",
       "      <td>3.298</td>\n",
       "      <td>-8.399</td>\n",
       "      <td>1</td>\n",
       "      <td>0</td>\n",
       "    </tr>\n",
       "    <tr>\n",
       "      <th>2015-01-01 01:00:00+00:00</th>\n",
       "      <td>2015-01-01</td>\n",
       "      <td>735599.0</td>\n",
       "      <td>2015.0</td>\n",
       "      <td>1.0</td>\n",
       "      <td>1.0</td>\n",
       "      <td>1.0</td>\n",
       "      <td>DE</td>\n",
       "      <td>39509.8525</td>\n",
       "      <td>0.0</td>\n",
       "      <td>1.0</td>\n",
       "      <td>-1.035</td>\n",
       "      <td>0.0</td>\n",
       "      <td>0.0</td>\n",
       "      <td>-1.119535</td>\n",
       "      <td>3.298</td>\n",
       "      <td>-8.399</td>\n",
       "      <td>1</td>\n",
       "      <td>0</td>\n",
       "    </tr>\n",
       "  </tbody>\n",
       "</table>\n",
       "</div>"
      ],
      "text/plain": [
       "                                  day  day_ordinal    year  week_of_year  \\\n",
       "utc_timestamp                                                              \n",
       "2015-01-01 00:00:00+00:00  2015-01-01     735599.0  2015.0           1.0   \n",
       "2015-01-01 01:00:00+00:00  2015-01-01     735599.0  2015.0           1.0   \n",
       "\n",
       "                           month  hour country  load_actual  is_weekend  \\\n",
       "utc_timestamp                                                             \n",
       "2015-01-01 00:00:00+00:00    1.0   0.0      DE   40665.1075         0.0   \n",
       "2015-01-01 01:00:00+00:00    1.0   1.0      DE   39509.8525         0.0   \n",
       "\n",
       "                           is_holiday  temperature  radi_direct  radi_diffuse  \\\n",
       "utc_timestamp                                                                   \n",
       "2015-01-01 00:00:00+00:00         1.0       -0.981          0.0           0.0   \n",
       "2015-01-01 01:00:00+00:00         1.0       -1.035          0.0           0.0   \n",
       "\n",
       "                           mean_temp  max_temp  min_temp  hdd  cdd  \n",
       "utc_timestamp                                                       \n",
       "2015-01-01 00:00:00+00:00  -1.119535     3.298    -8.399    1    0  \n",
       "2015-01-01 01:00:00+00:00  -1.119535     3.298    -8.399    1    0  "
      ]
     },
     "execution_count": 19,
     "metadata": {},
     "output_type": "execute_result"
    },
    {
     "name": "stdout",
     "output_type": "stream",
     "text": [
      "Upsampled Dataset\n"
     ]
    },
    {
     "data": {
      "application/vnd.microsoft.datawrangler.viewer.v0+json": {
       "columns": [
        {
         "name": "utc_timestamp",
         "rawType": "datetime64[ns, UTC]",
         "type": "unknown"
        },
        {
         "name": "day",
         "rawType": "object",
         "type": "unknown"
        },
        {
         "name": "day_ordinal",
         "rawType": "int64",
         "type": "integer"
        },
        {
         "name": "year",
         "rawType": "int32",
         "type": "integer"
        },
        {
         "name": "week_of_year",
         "rawType": "UInt32",
         "type": "integer"
        },
        {
         "name": "month",
         "rawType": "int32",
         "type": "integer"
        },
        {
         "name": "hour",
         "rawType": "int32",
         "type": "integer"
        },
        {
         "name": "country",
         "rawType": "object",
         "type": "string"
        },
        {
         "name": "load_actual",
         "rawType": "float64",
         "type": "float"
        },
        {
         "name": "is_weekend",
         "rawType": "int32",
         "type": "integer"
        },
        {
         "name": "is_holiday",
         "rawType": "int32",
         "type": "integer"
        },
        {
         "name": "temperature",
         "rawType": "float64",
         "type": "float"
        },
        {
         "name": "radi_direct",
         "rawType": "float64",
         "type": "float"
        },
        {
         "name": "radi_diffuse",
         "rawType": "float64",
         "type": "float"
        },
        {
         "name": "mean_temp",
         "rawType": "float64",
         "type": "float"
        },
        {
         "name": "max_temp",
         "rawType": "float64",
         "type": "float"
        },
        {
         "name": "min_temp",
         "rawType": "float64",
         "type": "float"
        },
        {
         "name": "hdd",
         "rawType": "float64",
         "type": "float"
        },
        {
         "name": "cdd",
         "rawType": "float64",
         "type": "float"
        }
       ],
       "conversionMethod": "pd.DataFrame",
       "ref": "3e112965-05e6-40bb-a7ff-3cee8b3240f0",
       "rows": [
        [
         "2015-01-01 00:00:00+00:00",
         "2015-01-01",
         "735599",
         "2015",
         "1",
         "1",
         "0",
         "DE",
         "41230.04",
         "0",
         "1",
         "-0.981",
         "0.0",
         "0.0",
         "-1.1195347222222223",
         "3.298",
         "-8.399",
         "1.0",
         "0.0"
        ],
        [
         "2015-01-01 00:15:00+00:00",
         "2015-01-01",
         "735599",
         "2015",
         "1",
         "1",
         "0",
         "DE",
         "40809.76",
         "0",
         "1",
         "-0.9944999999999999",
         "0.0",
         "0.0",
         "-1.1195347222222223",
         "3.298",
         "-8.399",
         "1.0",
         "0.0"
        ]
       ],
       "shape": {
        "columns": 18,
        "rows": 2
       }
      },
      "text/html": [
       "<div>\n",
       "<style scoped>\n",
       "    .dataframe tbody tr th:only-of-type {\n",
       "        vertical-align: middle;\n",
       "    }\n",
       "\n",
       "    .dataframe tbody tr th {\n",
       "        vertical-align: top;\n",
       "    }\n",
       "\n",
       "    .dataframe thead th {\n",
       "        text-align: right;\n",
       "    }\n",
       "</style>\n",
       "<table border=\"1\" class=\"dataframe\">\n",
       "  <thead>\n",
       "    <tr style=\"text-align: right;\">\n",
       "      <th></th>\n",
       "      <th>day</th>\n",
       "      <th>day_ordinal</th>\n",
       "      <th>year</th>\n",
       "      <th>week_of_year</th>\n",
       "      <th>month</th>\n",
       "      <th>hour</th>\n",
       "      <th>country</th>\n",
       "      <th>load_actual</th>\n",
       "      <th>is_weekend</th>\n",
       "      <th>is_holiday</th>\n",
       "      <th>temperature</th>\n",
       "      <th>radi_direct</th>\n",
       "      <th>radi_diffuse</th>\n",
       "      <th>mean_temp</th>\n",
       "      <th>max_temp</th>\n",
       "      <th>min_temp</th>\n",
       "      <th>hdd</th>\n",
       "      <th>cdd</th>\n",
       "    </tr>\n",
       "    <tr>\n",
       "      <th>utc_timestamp</th>\n",
       "      <th></th>\n",
       "      <th></th>\n",
       "      <th></th>\n",
       "      <th></th>\n",
       "      <th></th>\n",
       "      <th></th>\n",
       "      <th></th>\n",
       "      <th></th>\n",
       "      <th></th>\n",
       "      <th></th>\n",
       "      <th></th>\n",
       "      <th></th>\n",
       "      <th></th>\n",
       "      <th></th>\n",
       "      <th></th>\n",
       "      <th></th>\n",
       "      <th></th>\n",
       "      <th></th>\n",
       "    </tr>\n",
       "  </thead>\n",
       "  <tbody>\n",
       "    <tr>\n",
       "      <th>2015-01-01 00:00:00+00:00</th>\n",
       "      <td>2015-01-01</td>\n",
       "      <td>735599</td>\n",
       "      <td>2015</td>\n",
       "      <td>1</td>\n",
       "      <td>1</td>\n",
       "      <td>0</td>\n",
       "      <td>DE</td>\n",
       "      <td>41230.04</td>\n",
       "      <td>0</td>\n",
       "      <td>1</td>\n",
       "      <td>-0.9810</td>\n",
       "      <td>0.0</td>\n",
       "      <td>0.0</td>\n",
       "      <td>-1.119535</td>\n",
       "      <td>3.298</td>\n",
       "      <td>-8.399</td>\n",
       "      <td>1.0</td>\n",
       "      <td>0.0</td>\n",
       "    </tr>\n",
       "    <tr>\n",
       "      <th>2015-01-01 00:15:00+00:00</th>\n",
       "      <td>2015-01-01</td>\n",
       "      <td>735599</td>\n",
       "      <td>2015</td>\n",
       "      <td>1</td>\n",
       "      <td>1</td>\n",
       "      <td>0</td>\n",
       "      <td>DE</td>\n",
       "      <td>40809.76</td>\n",
       "      <td>0</td>\n",
       "      <td>1</td>\n",
       "      <td>-0.9945</td>\n",
       "      <td>0.0</td>\n",
       "      <td>0.0</td>\n",
       "      <td>-1.119535</td>\n",
       "      <td>3.298</td>\n",
       "      <td>-8.399</td>\n",
       "      <td>1.0</td>\n",
       "      <td>0.0</td>\n",
       "    </tr>\n",
       "  </tbody>\n",
       "</table>\n",
       "</div>"
      ],
      "text/plain": [
       "                                  day  day_ordinal  year  week_of_year  month  \\\n",
       "utc_timestamp                                                                   \n",
       "2015-01-01 00:00:00+00:00  2015-01-01       735599  2015             1      1   \n",
       "2015-01-01 00:15:00+00:00  2015-01-01       735599  2015             1      1   \n",
       "\n",
       "                           hour country  load_actual  is_weekend  is_holiday  \\\n",
       "utc_timestamp                                                                  \n",
       "2015-01-01 00:00:00+00:00     0      DE     41230.04           0           1   \n",
       "2015-01-01 00:15:00+00:00     0      DE     40809.76           0           1   \n",
       "\n",
       "                           temperature  radi_direct  radi_diffuse  mean_temp  \\\n",
       "utc_timestamp                                                                  \n",
       "2015-01-01 00:00:00+00:00      -0.9810          0.0           0.0  -1.119535   \n",
       "2015-01-01 00:15:00+00:00      -0.9945          0.0           0.0  -1.119535   \n",
       "\n",
       "                           max_temp  min_temp  hdd  cdd  \n",
       "utc_timestamp                                            \n",
       "2015-01-01 00:00:00+00:00     3.298    -8.399  1.0  0.0  \n",
       "2015-01-01 00:15:00+00:00     3.298    -8.399  1.0  0.0  "
      ]
     },
     "execution_count": 19,
     "metadata": {},
     "output_type": "execute_result"
    }
   ],
   "source": [
    "# Downsampled dataset\n",
    "load_wthr_down = load_downsample.merge(wthr_dt, how='left', on=['utc_timestamp', 'country', 'day'])\n",
    "print(f\"Downsampled Dataset\")\n",
    "load_wthr_down.head(2)\n",
    "\n",
    "# Upsampled dataset\n",
    "load_dt = load_dt[['day', 'day_ordinal', 'year', 'week_of_year', 'month', 'hour', # arrange variables\n",
    "                   'country', 'load_actual', 'is_weekend', 'is_holiday']]\n",
    "load_wthr_up = load_dt.merge(wthr_upsample, how='left', on=['utc_timestamp', 'country', 'day'])\n",
    "print(f\"Upsampled Dataset\")\n",
    "load_wthr_up.head(2)\n"
   ]
  },
  {
   "cell_type": "markdown",
   "metadata": {},
   "source": [
    "HDD and CDD Load Shape clusters"
   ]
  },
  {
   "cell_type": "code",
   "execution_count": 20,
   "metadata": {},
   "outputs": [
    {
     "name": "stdout",
     "output_type": "stream",
     "text": [
      "\n",
      "Pivoted, normalized, hourly means per country\n"
     ]
    },
    {
     "data": {
      "application/vnd.microsoft.datawrangler.viewer.v0+json": {
       "columns": [
        {
         "name": "index",
         "rawType": "int64",
         "type": "integer"
        },
        {
         "name": "index",
         "rawType": "int64",
         "type": "integer"
        },
        {
         "name": "country",
         "rawType": "object",
         "type": "string"
        },
        {
         "name": "hdd",
         "rawType": "int32",
         "type": "integer"
        },
        {
         "name": "cdd",
         "rawType": "int32",
         "type": "integer"
        },
        {
         "name": "hour",
         "rawType": "int32",
         "type": "integer"
        },
        {
         "name": "value",
         "rawType": "float64",
         "type": "float"
        }
       ],
       "conversionMethod": "pd.DataFrame",
       "ref": "e1cede34-ae9b-4f43-9252-9e647833aac0",
       "rows": [
        [
         "0",
         "0",
         "AT",
         "0",
         "1",
         "0",
         "0.06032226007401078"
        ],
        [
         "1",
         "1",
         "AT",
         "1",
         "0",
         "0",
         "0.07425521304693145"
        ],
        [
         "2",
         "2",
         "BE",
         "0",
         "1",
         "0",
         "0.038100459124237776"
        ],
        [
         "3",
         "3",
         "BE",
         "1",
         "0",
         "0",
         "0.15945061311546804"
        ]
       ],
       "shape": {
        "columns": 6,
        "rows": 4
       }
      },
      "text/html": [
       "<div>\n",
       "<style scoped>\n",
       "    .dataframe tbody tr th:only-of-type {\n",
       "        vertical-align: middle;\n",
       "    }\n",
       "\n",
       "    .dataframe tbody tr th {\n",
       "        vertical-align: top;\n",
       "    }\n",
       "\n",
       "    .dataframe thead th {\n",
       "        text-align: right;\n",
       "    }\n",
       "</style>\n",
       "<table border=\"1\" class=\"dataframe\">\n",
       "  <thead>\n",
       "    <tr style=\"text-align: right;\">\n",
       "      <th></th>\n",
       "      <th>index</th>\n",
       "      <th>country</th>\n",
       "      <th>hdd</th>\n",
       "      <th>cdd</th>\n",
       "      <th>hour</th>\n",
       "      <th>value</th>\n",
       "    </tr>\n",
       "  </thead>\n",
       "  <tbody>\n",
       "    <tr>\n",
       "      <th>0</th>\n",
       "      <td>0</td>\n",
       "      <td>AT</td>\n",
       "      <td>0</td>\n",
       "      <td>1</td>\n",
       "      <td>0</td>\n",
       "      <td>0.060322</td>\n",
       "    </tr>\n",
       "    <tr>\n",
       "      <th>1</th>\n",
       "      <td>1</td>\n",
       "      <td>AT</td>\n",
       "      <td>1</td>\n",
       "      <td>0</td>\n",
       "      <td>0</td>\n",
       "      <td>0.074255</td>\n",
       "    </tr>\n",
       "    <tr>\n",
       "      <th>2</th>\n",
       "      <td>2</td>\n",
       "      <td>BE</td>\n",
       "      <td>0</td>\n",
       "      <td>1</td>\n",
       "      <td>0</td>\n",
       "      <td>0.038100</td>\n",
       "    </tr>\n",
       "    <tr>\n",
       "      <th>3</th>\n",
       "      <td>3</td>\n",
       "      <td>BE</td>\n",
       "      <td>1</td>\n",
       "      <td>0</td>\n",
       "      <td>0</td>\n",
       "      <td>0.159451</td>\n",
       "    </tr>\n",
       "  </tbody>\n",
       "</table>\n",
       "</div>"
      ],
      "text/plain": [
       "   index country  hdd  cdd  hour     value\n",
       "0      0      AT    0    1     0  0.060322\n",
       "1      1      AT    1    0     0  0.074255\n",
       "2      2      BE    0    1     0  0.038100\n",
       "3      3      BE    1    0     0  0.159451"
      ]
     },
     "execution_count": 20,
     "metadata": {},
     "output_type": "execute_result"
    },
    {
     "name": "stdout",
     "output_type": "stream",
     "text": [
      "Ensure HDD and CDD dataframes are half the avg_hourly length 288:\n",
      "HDD only: 144, CDD only: 144\n"
     ]
    },
    {
     "data": {
      "application/vnd.microsoft.datawrangler.viewer.v0+json": {
       "columns": [
        {
         "name": "index",
         "rawType": "int64",
         "type": "integer"
        },
        {
         "name": "index",
         "rawType": "int64",
         "type": "integer"
        },
        {
         "name": "country",
         "rawType": "object",
         "type": "string"
        },
        {
         "name": "hdd",
         "rawType": "int32",
         "type": "integer"
        },
        {
         "name": "cdd",
         "rawType": "int32",
         "type": "integer"
        },
        {
         "name": "hour",
         "rawType": "int32",
         "type": "integer"
        },
        {
         "name": "value",
         "rawType": "float64",
         "type": "float"
        }
       ],
       "conversionMethod": "pd.DataFrame",
       "ref": "b5aefbdb-6a80-4f12-89d7-9c97b43392ef",
       "rows": [
        [
         "1",
         "1",
         "AT",
         "1",
         "0",
         "0",
         "0.07425521304693145"
        ],
        [
         "3",
         "3",
         "BE",
         "1",
         "0",
         "0",
         "0.15945061311546804"
        ]
       ],
       "shape": {
        "columns": 6,
        "rows": 2
       }
      },
      "text/html": [
       "<div>\n",
       "<style scoped>\n",
       "    .dataframe tbody tr th:only-of-type {\n",
       "        vertical-align: middle;\n",
       "    }\n",
       "\n",
       "    .dataframe tbody tr th {\n",
       "        vertical-align: top;\n",
       "    }\n",
       "\n",
       "    .dataframe thead th {\n",
       "        text-align: right;\n",
       "    }\n",
       "</style>\n",
       "<table border=\"1\" class=\"dataframe\">\n",
       "  <thead>\n",
       "    <tr style=\"text-align: right;\">\n",
       "      <th></th>\n",
       "      <th>index</th>\n",
       "      <th>country</th>\n",
       "      <th>hdd</th>\n",
       "      <th>cdd</th>\n",
       "      <th>hour</th>\n",
       "      <th>value</th>\n",
       "    </tr>\n",
       "  </thead>\n",
       "  <tbody>\n",
       "    <tr>\n",
       "      <th>1</th>\n",
       "      <td>1</td>\n",
       "      <td>AT</td>\n",
       "      <td>1</td>\n",
       "      <td>0</td>\n",
       "      <td>0</td>\n",
       "      <td>0.074255</td>\n",
       "    </tr>\n",
       "    <tr>\n",
       "      <th>3</th>\n",
       "      <td>3</td>\n",
       "      <td>BE</td>\n",
       "      <td>1</td>\n",
       "      <td>0</td>\n",
       "      <td>0</td>\n",
       "      <td>0.159451</td>\n",
       "    </tr>\n",
       "  </tbody>\n",
       "</table>\n",
       "</div>"
      ],
      "text/plain": [
       "   index country  hdd  cdd  hour     value\n",
       "1      1      AT    1    0     0  0.074255\n",
       "3      3      BE    1    0     0  0.159451"
      ]
     },
     "execution_count": 20,
     "metadata": {},
     "output_type": "execute_result"
    },
    {
     "data": {
      "application/vnd.microsoft.datawrangler.viewer.v0+json": {
       "columns": [
        {
         "name": "index",
         "rawType": "int64",
         "type": "integer"
        },
        {
         "name": "index",
         "rawType": "int64",
         "type": "integer"
        },
        {
         "name": "country",
         "rawType": "object",
         "type": "string"
        },
        {
         "name": "hdd",
         "rawType": "int32",
         "type": "integer"
        },
        {
         "name": "cdd",
         "rawType": "int32",
         "type": "integer"
        },
        {
         "name": "hour",
         "rawType": "int32",
         "type": "integer"
        },
        {
         "name": "value",
         "rawType": "float64",
         "type": "float"
        }
       ],
       "conversionMethod": "pd.DataFrame",
       "ref": "76363cdf-252d-40fe-8313-10eb3e588d1f",
       "rows": [
        [
         "0",
         "0",
         "AT",
         "0",
         "1",
         "0",
         "0.06032226007401078"
        ],
        [
         "2",
         "2",
         "BE",
         "0",
         "1",
         "0",
         "0.038100459124237776"
        ]
       ],
       "shape": {
        "columns": 6,
        "rows": 2
       }
      },
      "text/html": [
       "<div>\n",
       "<style scoped>\n",
       "    .dataframe tbody tr th:only-of-type {\n",
       "        vertical-align: middle;\n",
       "    }\n",
       "\n",
       "    .dataframe tbody tr th {\n",
       "        vertical-align: top;\n",
       "    }\n",
       "\n",
       "    .dataframe thead th {\n",
       "        text-align: right;\n",
       "    }\n",
       "</style>\n",
       "<table border=\"1\" class=\"dataframe\">\n",
       "  <thead>\n",
       "    <tr style=\"text-align: right;\">\n",
       "      <th></th>\n",
       "      <th>index</th>\n",
       "      <th>country</th>\n",
       "      <th>hdd</th>\n",
       "      <th>cdd</th>\n",
       "      <th>hour</th>\n",
       "      <th>value</th>\n",
       "    </tr>\n",
       "  </thead>\n",
       "  <tbody>\n",
       "    <tr>\n",
       "      <th>0</th>\n",
       "      <td>0</td>\n",
       "      <td>AT</td>\n",
       "      <td>0</td>\n",
       "      <td>1</td>\n",
       "      <td>0</td>\n",
       "      <td>0.060322</td>\n",
       "    </tr>\n",
       "    <tr>\n",
       "      <th>2</th>\n",
       "      <td>2</td>\n",
       "      <td>BE</td>\n",
       "      <td>0</td>\n",
       "      <td>1</td>\n",
       "      <td>0</td>\n",
       "      <td>0.038100</td>\n",
       "    </tr>\n",
       "  </tbody>\n",
       "</table>\n",
       "</div>"
      ],
      "text/plain": [
       "   index country  hdd  cdd  hour     value\n",
       "0      0      AT    0    1     0  0.060322\n",
       "2      2      BE    0    1     0  0.038100"
      ]
     },
     "execution_count": 20,
     "metadata": {},
     "output_type": "execute_result"
    }
   ],
   "source": [
    "# Prep dataframe \n",
    "day_pivot_hourly = dd_hourly_pivot(load_wthr_down)\n",
    "\n",
    "# Transform and normalize data for time series plots\n",
    "avg_hourly = (dd_plot_norm_avg_hourly(day_pivot_hourly, ['country', 'hdd', 'cdd'])\n",
    "              .reset_index()\n",
    "              .assign(hour = lambda x: x['hour'].astype(int)))\n",
    "print(f'\\nPivoted, normalized, hourly means per country')\n",
    "avg_hourly.head(4)\n",
    "# # plot overlapping load shapes\n",
    "avg_hourly_HDD = avg_hourly.loc[avg_hourly['hdd'] == 1]\n",
    "avg_hourly_CDD = avg_hourly.loc[avg_hourly['cdd'] == 1]\n",
    "print(f'Ensure HDD and CDD dataframes are half the avg_hourly length {len(avg_hourly)}:\\nHDD only: {len(avg_hourly_HDD)}, CDD only: {len(avg_hourly_CDD)}')\n",
    "\n",
    "avg_hourly_HDD.head(2)\n",
    "avg_hourly_CDD.head(2)"
   ]
  },
  {
   "cell_type": "code",
   "execution_count": 21,
   "metadata": {},
   "outputs": [
    {
     "data": {
      "image/png": "[encoded data removed]",
      "text/plain": [
       "<Figure size 600x400 with 1 Axes>"
      ]
     },
     "metadata": {},
     "output_type": "display_data"
    },
    {
     "data": {
      "image/png": "[encoded data removed]",
      "text/plain": [
       "<Figure size 600x400 with 1 Axes>"
      ]
     },
     "metadata": {},
     "output_type": "display_data"
    }
   ],
   "source": [
    "# HDD\n",
    "multi_lineplots(avg_hourly_HDD, group='country')\n",
    "# CDD\n",
    "multi_lineplots(avg_hourly_CDD, group='country')"
   ]
  },
  {
   "cell_type": "markdown",
   "metadata": {},
   "source": [
    "Observations for the above plots:\n",
    "- Unlike residential data, a large amount of energy usage in mornings on HDD and CDD days, likely due to commercial usage. \n",
    "- CDD show much less usage in the afternoon"
   ]
  },
  {
   "cell_type": "markdown",
   "metadata": {},
   "source": [
    "Create Lags and Rolling Means"
   ]
  },
  {
   "cell_type": "code",
   "execution_count": 22,
   "metadata": {},
   "outputs": [
    {
     "data": {
      "application/vnd.microsoft.datawrangler.viewer.v0+json": {
       "columns": [
        {
         "name": "utc_timestamp",
         "rawType": "datetime64[ns, UTC]",
         "type": "unknown"
        },
        {
         "name": "cdd",
         "rawType": "int32",
         "type": "integer"
        },
        {
         "name": "temperature_lag1_days",
         "rawType": "float64",
         "type": "float"
        },
        {
         "name": "temperature_rollmean1_days",
         "rawType": "float64",
         "type": "float"
        },
        {
         "name": "temperature_lag2_days",
         "rawType": "float64",
         "type": "float"
        },
        {
         "name": "temperature_rollmean2_days",
         "rawType": "float64",
         "type": "float"
        },
        {
         "name": "temperature_lag7_days",
         "rawType": "float64",
         "type": "float"
        },
        {
         "name": "temperature_rollmean7_days",
         "rawType": "float64",
         "type": "float"
        },
        {
         "name": "temperature_lag14_days",
         "rawType": "float64",
         "type": "float"
        },
        {
         "name": "temperature_rollmean14_days",
         "rawType": "float64",
         "type": "float"
        }
       ],
       "conversionMethod": "pd.DataFrame",
       "ref": "9d67a417-8a3a-4b43-89ae-ffe6b13a61d8",
       "rows": [
        [
         "2019-04-29 20:00:00+00:00",
         "0",
         "5.048",
         "10.337958333333333",
         "5.403",
         "9.812916666666666",
         "13.404",
         "12.097279761904762",
         "7.681",
         "12.73297619047619"
        ],
        [
         "2019-04-29 21:00:00+00:00",
         "0",
         "4.613",
         "10.4065",
         "5.158",
         "9.833291666666668",
         "12.533",
         "12.07514880952381",
         "7.124",
         "12.736056547619048"
        ],
        [
         "2019-04-29 22:00:00+00:00",
         "0",
         "4.333",
         "10.486708333333333",
         "4.813",
         "9.856",
         "11.693",
         "12.05719642857143",
         "6.607",
         "12.740482142857145"
        ],
        [
         "2019-04-29 23:00:00+00:00",
         "0",
         "3.808",
         "10.574958333333333",
         "4.423",
         "9.883479166666666",
         "10.816",
         "12.043136904761903",
         "6.003",
         "12.746122023809521"
        ],
        [
         "2019-04-30 00:00:00+00:00",
         "0",
         "3.093",
         "10.673958333333333",
         "4.171",
         "9.916208333333334",
         "10.039",
         "12.033416666666666",
         "5.246",
         "12.753306547619047"
        ]
       ],
       "shape": {
        "columns": 9,
        "rows": 5
       }
      },
      "text/html": [
       "<div>\n",
       "<style scoped>\n",
       "    .dataframe tbody tr th:only-of-type {\n",
       "        vertical-align: middle;\n",
       "    }\n",
       "\n",
       "    .dataframe tbody tr th {\n",
       "        vertical-align: top;\n",
       "    }\n",
       "\n",
       "    .dataframe thead th {\n",
       "        text-align: right;\n",
       "    }\n",
       "</style>\n",
       "<table border=\"1\" class=\"dataframe\">\n",
       "  <thead>\n",
       "    <tr style=\"text-align: right;\">\n",
       "      <th></th>\n",
       "      <th>cdd</th>\n",
       "      <th>temperature_lag1_days</th>\n",
       "      <th>temperature_rollmean1_days</th>\n",
       "      <th>temperature_lag2_days</th>\n",
       "      <th>temperature_rollmean2_days</th>\n",
       "      <th>temperature_lag7_days</th>\n",
       "      <th>temperature_rollmean7_days</th>\n",
       "      <th>temperature_lag14_days</th>\n",
       "      <th>temperature_rollmean14_days</th>\n",
       "    </tr>\n",
       "    <tr>\n",
       "      <th>utc_timestamp</th>\n",
       "      <th></th>\n",
       "      <th></th>\n",
       "      <th></th>\n",
       "      <th></th>\n",
       "      <th></th>\n",
       "      <th></th>\n",
       "      <th></th>\n",
       "      <th></th>\n",
       "      <th></th>\n",
       "    </tr>\n",
       "  </thead>\n",
       "  <tbody>\n",
       "    <tr>\n",
       "      <th>2019-04-29 20:00:00+00:00</th>\n",
       "      <td>0</td>\n",
       "      <td>5.048</td>\n",
       "      <td>10.337958</td>\n",
       "      <td>5.403</td>\n",
       "      <td>9.812917</td>\n",
       "      <td>13.404</td>\n",
       "      <td>12.097280</td>\n",
       "      <td>7.681</td>\n",
       "      <td>12.732976</td>\n",
       "    </tr>\n",
       "    <tr>\n",
       "      <th>2019-04-29 21:00:00+00:00</th>\n",
       "      <td>0</td>\n",
       "      <td>4.613</td>\n",
       "      <td>10.406500</td>\n",
       "      <td>5.158</td>\n",
       "      <td>9.833292</td>\n",
       "      <td>12.533</td>\n",
       "      <td>12.075149</td>\n",
       "      <td>7.124</td>\n",
       "      <td>12.736057</td>\n",
       "    </tr>\n",
       "    <tr>\n",
       "      <th>2019-04-29 22:00:00+00:00</th>\n",
       "      <td>0</td>\n",
       "      <td>4.333</td>\n",
       "      <td>10.486708</td>\n",
       "      <td>4.813</td>\n",
       "      <td>9.856000</td>\n",
       "      <td>11.693</td>\n",
       "      <td>12.057196</td>\n",
       "      <td>6.607</td>\n",
       "      <td>12.740482</td>\n",
       "    </tr>\n",
       "    <tr>\n",
       "      <th>2019-04-29 23:00:00+00:00</th>\n",
       "      <td>0</td>\n",
       "      <td>3.808</td>\n",
       "      <td>10.574958</td>\n",
       "      <td>4.423</td>\n",
       "      <td>9.883479</td>\n",
       "      <td>10.816</td>\n",
       "      <td>12.043137</td>\n",
       "      <td>6.003</td>\n",
       "      <td>12.746122</td>\n",
       "    </tr>\n",
       "    <tr>\n",
       "      <th>2019-04-30 00:00:00+00:00</th>\n",
       "      <td>0</td>\n",
       "      <td>3.093</td>\n",
       "      <td>10.673958</td>\n",
       "      <td>4.171</td>\n",
       "      <td>9.916208</td>\n",
       "      <td>10.039</td>\n",
       "      <td>12.033417</td>\n",
       "      <td>5.246</td>\n",
       "      <td>12.753307</td>\n",
       "    </tr>\n",
       "  </tbody>\n",
       "</table>\n",
       "</div>"
      ],
      "text/plain": [
       "                           cdd  temperature_lag1_days  \\\n",
       "utc_timestamp                                           \n",
       "2019-04-29 20:00:00+00:00    0                  5.048   \n",
       "2019-04-29 21:00:00+00:00    0                  4.613   \n",
       "2019-04-29 22:00:00+00:00    0                  4.333   \n",
       "2019-04-29 23:00:00+00:00    0                  3.808   \n",
       "2019-04-30 00:00:00+00:00    0                  3.093   \n",
       "\n",
       "                           temperature_rollmean1_days  temperature_lag2_days  \\\n",
       "utc_timestamp                                                                  \n",
       "2019-04-29 20:00:00+00:00                   10.337958                  5.403   \n",
       "2019-04-29 21:00:00+00:00                   10.406500                  5.158   \n",
       "2019-04-29 22:00:00+00:00                   10.486708                  4.813   \n",
       "2019-04-29 23:00:00+00:00                   10.574958                  4.423   \n",
       "2019-04-30 00:00:00+00:00                   10.673958                  4.171   \n",
       "\n",
       "                           temperature_rollmean2_days  temperature_lag7_days  \\\n",
       "utc_timestamp                                                                  \n",
       "2019-04-29 20:00:00+00:00                    9.812917                 13.404   \n",
       "2019-04-29 21:00:00+00:00                    9.833292                 12.533   \n",
       "2019-04-29 22:00:00+00:00                    9.856000                 11.693   \n",
       "2019-04-29 23:00:00+00:00                    9.883479                 10.816   \n",
       "2019-04-30 00:00:00+00:00                    9.916208                 10.039   \n",
       "\n",
       "                           temperature_rollmean7_days  temperature_lag14_days  \\\n",
       "utc_timestamp                                                                   \n",
       "2019-04-29 20:00:00+00:00                   12.097280                   7.681   \n",
       "2019-04-29 21:00:00+00:00                   12.075149                   7.124   \n",
       "2019-04-29 22:00:00+00:00                   12.057196                   6.607   \n",
       "2019-04-29 23:00:00+00:00                   12.043137                   6.003   \n",
       "2019-04-30 00:00:00+00:00                   12.033417                   5.246   \n",
       "\n",
       "                           temperature_rollmean14_days  \n",
       "utc_timestamp                                           \n",
       "2019-04-29 20:00:00+00:00                    12.732976  \n",
       "2019-04-29 21:00:00+00:00                    12.736057  \n",
       "2019-04-29 22:00:00+00:00                    12.740482  \n",
       "2019-04-29 23:00:00+00:00                    12.746122  \n",
       "2019-04-30 00:00:00+00:00                    12.753307  "
      ]
     },
     "execution_count": 22,
     "metadata": {},
     "output_type": "execute_result"
    },
    {
     "data": {
      "application/vnd.microsoft.datawrangler.viewer.v0+json": {
       "columns": [
        {
         "name": "utc_timestamp",
         "rawType": "datetime64[ns, UTC]",
         "type": "unknown"
        },
        {
         "name": "cdd",
         "rawType": "float64",
         "type": "float"
        },
        {
         "name": "temperature_lag1_days",
         "rawType": "float64",
         "type": "float"
        },
        {
         "name": "temperature_rollmean1_days",
         "rawType": "float64",
         "type": "float"
        },
        {
         "name": "temperature_lag2_days",
         "rawType": "float64",
         "type": "float"
        },
        {
         "name": "temperature_rollmean2_days",
         "rawType": "float64",
         "type": "float"
        },
        {
         "name": "temperature_lag7_days",
         "rawType": "float64",
         "type": "float"
        },
        {
         "name": "temperature_rollmean7_days",
         "rawType": "float64",
         "type": "float"
        },
        {
         "name": "temperature_lag14_days",
         "rawType": "float64",
         "type": "float"
        },
        {
         "name": "temperature_rollmean14_days",
         "rawType": "float64",
         "type": "float"
        }
       ],
       "conversionMethod": "pd.DataFrame",
       "ref": "37e86a1e-960a-44ad-bb0d-cafd16e89716",
       "rows": [
        [
         "2019-04-29 23:00:00+00:00",
         "0.0",
         "3.808",
         "10.541864583333334",
         "4.423",
         "9.873174479166666",
         "10.816",
         "12.048409226190477",
         "6.003",
         "12.744007068452381"
        ],
        [
         "2019-04-29 23:15:00+00:00",
         "0.0",
         "3.62925",
         "10.564598958333333",
         "4.36",
         "9.880372395833332",
         "10.62175",
         "12.045165550595238",
         "5.813750000000001",
         "12.745513578869046"
        ],
        [
         "2019-04-29 23:30:00+00:00",
         "0.0",
         "3.4505",
         "10.588005208333334",
         "4.297000000000001",
         "9.8878984375",
         "10.4275",
         "12.042193080357142",
         "5.6245",
         "12.747116629464285"
        ],
        [
         "2019-04-29 23:45:00+00:00",
         "0.0",
         "3.27175",
         "10.612083333333333",
         "4.234",
         "9.895752604166667",
         "10.23325",
         "12.039491815476191",
         "5.43525",
         "12.748816220238094"
        ],
        [
         "2019-04-30 00:00:00+00:00",
         "0.0",
         "3.093",
         "10.636833333333334",
         "4.171",
         "9.903934895833332",
         "10.039",
         "12.037061755952381",
         "5.246",
         "12.750612351190476"
        ]
       ],
       "shape": {
        "columns": 9,
        "rows": 5
       }
      },
      "text/html": [
       "<div>\n",
       "<style scoped>\n",
       "    .dataframe tbody tr th:only-of-type {\n",
       "        vertical-align: middle;\n",
       "    }\n",
       "\n",
       "    .dataframe tbody tr th {\n",
       "        vertical-align: top;\n",
       "    }\n",
       "\n",
       "    .dataframe thead th {\n",
       "        text-align: right;\n",
       "    }\n",
       "</style>\n",
       "<table border=\"1\" class=\"dataframe\">\n",
       "  <thead>\n",
       "    <tr style=\"text-align: right;\">\n",
       "      <th></th>\n",
       "      <th>cdd</th>\n",
       "      <th>temperature_lag1_days</th>\n",
       "      <th>temperature_rollmean1_days</th>\n",
       "      <th>temperature_lag2_days</th>\n",
       "      <th>temperature_rollmean2_days</th>\n",
       "      <th>temperature_lag7_days</th>\n",
       "      <th>temperature_rollmean7_days</th>\n",
       "      <th>temperature_lag14_days</th>\n",
       "      <th>temperature_rollmean14_days</th>\n",
       "    </tr>\n",
       "    <tr>\n",
       "      <th>utc_timestamp</th>\n",
       "      <th></th>\n",
       "      <th></th>\n",
       "      <th></th>\n",
       "      <th></th>\n",
       "      <th></th>\n",
       "      <th></th>\n",
       "      <th></th>\n",
       "      <th></th>\n",
       "      <th></th>\n",
       "    </tr>\n",
       "  </thead>\n",
       "  <tbody>\n",
       "    <tr>\n",
       "      <th>2019-04-29 23:00:00+00:00</th>\n",
       "      <td>0.0</td>\n",
       "      <td>3.80800</td>\n",
       "      <td>10.541865</td>\n",
       "      <td>4.423</td>\n",
       "      <td>9.873174</td>\n",
       "      <td>10.81600</td>\n",
       "      <td>12.048409</td>\n",
       "      <td>6.00300</td>\n",
       "      <td>12.744007</td>\n",
       "    </tr>\n",
       "    <tr>\n",
       "      <th>2019-04-29 23:15:00+00:00</th>\n",
       "      <td>0.0</td>\n",
       "      <td>3.62925</td>\n",
       "      <td>10.564599</td>\n",
       "      <td>4.360</td>\n",
       "      <td>9.880372</td>\n",
       "      <td>10.62175</td>\n",
       "      <td>12.045166</td>\n",
       "      <td>5.81375</td>\n",
       "      <td>12.745514</td>\n",
       "    </tr>\n",
       "    <tr>\n",
       "      <th>2019-04-29 23:30:00+00:00</th>\n",
       "      <td>0.0</td>\n",
       "      <td>3.45050</td>\n",
       "      <td>10.588005</td>\n",
       "      <td>4.297</td>\n",
       "      <td>9.887898</td>\n",
       "      <td>10.42750</td>\n",
       "      <td>12.042193</td>\n",
       "      <td>5.62450</td>\n",
       "      <td>12.747117</td>\n",
       "    </tr>\n",
       "    <tr>\n",
       "      <th>2019-04-29 23:45:00+00:00</th>\n",
       "      <td>0.0</td>\n",
       "      <td>3.27175</td>\n",
       "      <td>10.612083</td>\n",
       "      <td>4.234</td>\n",
       "      <td>9.895753</td>\n",
       "      <td>10.23325</td>\n",
       "      <td>12.039492</td>\n",
       "      <td>5.43525</td>\n",
       "      <td>12.748816</td>\n",
       "    </tr>\n",
       "    <tr>\n",
       "      <th>2019-04-30 00:00:00+00:00</th>\n",
       "      <td>0.0</td>\n",
       "      <td>3.09300</td>\n",
       "      <td>10.636833</td>\n",
       "      <td>4.171</td>\n",
       "      <td>9.903935</td>\n",
       "      <td>10.03900</td>\n",
       "      <td>12.037062</td>\n",
       "      <td>5.24600</td>\n",
       "      <td>12.750612</td>\n",
       "    </tr>\n",
       "  </tbody>\n",
       "</table>\n",
       "</div>"
      ],
      "text/plain": [
       "                           cdd  temperature_lag1_days  \\\n",
       "utc_timestamp                                           \n",
       "2019-04-29 23:00:00+00:00  0.0                3.80800   \n",
       "2019-04-29 23:15:00+00:00  0.0                3.62925   \n",
       "2019-04-29 23:30:00+00:00  0.0                3.45050   \n",
       "2019-04-29 23:45:00+00:00  0.0                3.27175   \n",
       "2019-04-30 00:00:00+00:00  0.0                3.09300   \n",
       "\n",
       "                           temperature_rollmean1_days  temperature_lag2_days  \\\n",
       "utc_timestamp                                                                  \n",
       "2019-04-29 23:00:00+00:00                   10.541865                  4.423   \n",
       "2019-04-29 23:15:00+00:00                   10.564599                  4.360   \n",
       "2019-04-29 23:30:00+00:00                   10.588005                  4.297   \n",
       "2019-04-29 23:45:00+00:00                   10.612083                  4.234   \n",
       "2019-04-30 00:00:00+00:00                   10.636833                  4.171   \n",
       "\n",
       "                           temperature_rollmean2_days  temperature_lag7_days  \\\n",
       "utc_timestamp                                                                  \n",
       "2019-04-29 23:00:00+00:00                    9.873174               10.81600   \n",
       "2019-04-29 23:15:00+00:00                    9.880372               10.62175   \n",
       "2019-04-29 23:30:00+00:00                    9.887898               10.42750   \n",
       "2019-04-29 23:45:00+00:00                    9.895753               10.23325   \n",
       "2019-04-30 00:00:00+00:00                    9.903935               10.03900   \n",
       "\n",
       "                           temperature_rollmean7_days  temperature_lag14_days  \\\n",
       "utc_timestamp                                                                   \n",
       "2019-04-29 23:00:00+00:00                   12.048409                 6.00300   \n",
       "2019-04-29 23:15:00+00:00                   12.045166                 5.81375   \n",
       "2019-04-29 23:30:00+00:00                   12.042193                 5.62450   \n",
       "2019-04-29 23:45:00+00:00                   12.039492                 5.43525   \n",
       "2019-04-30 00:00:00+00:00                   12.037062                 5.24600   \n",
       "\n",
       "                           temperature_rollmean14_days  \n",
       "utc_timestamp                                           \n",
       "2019-04-29 23:00:00+00:00                    12.744007  \n",
       "2019-04-29 23:15:00+00:00                    12.745514  \n",
       "2019-04-29 23:30:00+00:00                    12.747117  \n",
       "2019-04-29 23:45:00+00:00                    12.748816  \n",
       "2019-04-30 00:00:00+00:00                    12.750612  "
      ]
     },
     "execution_count": 22,
     "metadata": {},
     "output_type": "execute_result"
    }
   ],
   "source": [
    "# Add lags and rolling means\n",
    "to_transform = ['temperature'] \n",
    "interval = [24,48,7*24,14*24] # 1,2,7, and 14 days\n",
    "obs_per_day = 24\n",
    "\n",
    "# Downsampled\n",
    "Xd = lags_and_rolling_means(load_wthr_down, \n",
    "                            list_vars=to_transform, \n",
    "                            group='country',\n",
    "                            lag_num=interval,\n",
    "                            obs_per_day=obs_per_day)\n",
    "Xd.iloc[:,17:].tail()\n",
    "\n",
    "# Upsampled ( * 4 per hour)\n",
    "interval = [24*4,48*4,7*24*4,14*24*4] # 1,2,7, and 14 days\n",
    "obs_per_day = 24*4\n",
    "Xu = lags_and_rolling_means(load_wthr_up, \n",
    "                            list_vars=to_transform, \n",
    "                            group='country',\n",
    "                            lag_num=interval,\n",
    "                            obs_per_day=obs_per_day)\n",
    "Xu.iloc[:,17:].tail()"
   ]
  },
  {
   "cell_type": "markdown",
   "metadata": {},
   "source": [
    "Save Model Ready Dataframes"
   ]
  },
  {
   "cell_type": "code",
   "execution_count": 23,
   "metadata": {},
   "outputs": [],
   "source": [
    "# Filepaths\n",
    "cd = Path.cwd()\n",
    "data_dir = str(cd.parents[1])\n",
    "upsampled = data_dir + '/datasets/country_energy/load_wthr_downsample.pickle'\n",
    "downsampled = data_dir + '/datasets/country_energy/load_wthr_upsample.pickle'\n",
    "\n",
    "# Xu - upsampled\n",
    "with open(upsampled, 'wb') as f:\n",
    "    pickle.dump(Xu, f)\n",
    "\n",
    "# Xd - downsampled\n",
    "with open(downsampled, 'wb') as f:\n",
    "    pickle.dump(Xd, f)"
   ]
  }
 ],
 "metadata": {
  "kernelspec": {
   "display_name": "venv",
   "language": "python",
   "name": "python3"
  },
  "language_info": {
   "codemirror_mode": {
    "name": "ipython",
    "version": 3
   },
   "file_extension": ".py",
   "mimetype": "text/x-python",
   "name": "python",
   "nbconvert_exporter": "python",
   "pygments_lexer": "ipython3",
   "version": "3.12.0"
  }
 },
 "nbformat": 4,
 "nbformat_minor": 2
}
