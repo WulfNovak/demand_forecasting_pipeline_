{
 "cells": [
  {
   "cell_type": "markdown",
   "metadata": {},
   "source": [
    "### Imputation Method \n",
    "\n",
    "Compare different imputation methods for different windows of imputation. "
   ]
  },
  {
   "cell_type": "code",
   "execution_count": 1,
   "metadata": {},
   "outputs": [],
   "source": [
    "# Setup\n",
    "import numpy as np\n",
    "import pickle\n",
    "import pandas as pd\n",
    "from datetime import datetime\n",
    "import matplotlib.pyplot as plt\n",
    "import plotly.express as px\n",
    "from pathlib import Path\n",
    "import seaborn as sns\n",
    "from sklearn.metrics import mean_absolute_error\n",
    "from statsforecast import StatsForecast\n",
    "from statsforecast.models import AutoETS\n",
    "from prophet import Prophet\n",
    "\n",
    "# Multiple outputs per cell\n",
    "%config InteractiveShell.ast_node_interactivity = 'all'\n",
    "\n",
    "# Functions\n",
    "def create_hour_minute(df):\n",
    "    '''\n",
    "    This function is supplemental to the following 'add_time_features' function,\n",
    "    creating an hour_minute variable\n",
    "    '''\n",
    "    # Initialize empty variable\n",
    "    df['hour_minute'] = None\n",
    "\n",
    "    # Conditions\n",
    "    conditions = [df['utc_timestamp'].dt.minute == 15,\n",
    "                  df['utc_timestamp'].dt.minute == 30,\n",
    "                  df['utc_timestamp'].dt.minute == 45]\n",
    "    \n",
    "    transform = [df['utc_timestamp'].dt.hour + .25,\n",
    "                 df['utc_timestamp'].dt.hour + .5,\n",
    "                 df['utc_timestamp'].dt.hour + .75]\n",
    "    \n",
    "    # given conditions, transform \n",
    "    converted_times = np.select(conditions, transform, df['utc_timestamp'].dt.hour)\n",
    "\n",
    "    return converted_times\n",
    "\n",
    "def create_impute_groups(data, y):\n",
    "    '''\n",
    "    Given dataframe with variable to impute, returns \n",
    "    a group number for that NA, how many consecutive\n",
    "    NAs there are, and the first + last index values of \n",
    "    the consecutive NAs\n",
    "    '''\n",
    "    # note NA values in dataframe\n",
    "    df = (data.set_index('utc_timestamp') # data or self.data\n",
    "            .isna()\n",
    "            .reset_index(drop=True)\n",
    "          )\n",
    "    \n",
    "    # Assign groups of NAs a unique group number\n",
    "    group_num = 0\n",
    "    groups = [0]\n",
    "    for i in range(len(df[y].values)-1): # y or self.y\n",
    "        value = df[y].values[i]\n",
    "        next_value = df[y].values[i+1]\n",
    "\n",
    "        if value == False and next_value == True:\n",
    "            group_num += 1\n",
    "        if next_value == None:\n",
    "            continue\n",
    "        if value == False:\n",
    "            groups.append(0)\n",
    "        else: \n",
    "            groups.append(group_num)\n",
    "\n",
    "    # Add na groups and index columns to df\n",
    "    df['missing_group_num'] = groups \n",
    "    df['index'] = list(range(0, len(df)))\n",
    "\n",
    "    missing_lengths = (df.groupby('missing_group_num', as_index=False)\n",
    "                       .agg(consecutive = ('missing_group_num', 'count'),\n",
    "                            first_na_idx = ('index', 'min'),\n",
    "                            # adding 2 to last index for imputation\n",
    "                            last_na_idx = ('index', lambda x: x.max() + 2)) \n",
    "                       .iloc[1:] # remove non_na groups\n",
    "                       .sort_values('first_na_idx')\n",
    "                       )\n",
    "    \n",
    "    return missing_lengths"
   ]
  },
  {
   "cell_type": "code",
   "execution_count": 2,
   "metadata": {},
   "outputs": [],
   "source": [
    "# Read in data for developing imputation method\n",
    "cd = Path.cwd()\n",
    "data_dir = str(cd.parents[1])\n",
    "load_energy_dt = data_dir + '/datasets/country_energy/country_load.pickle'\n",
    "\n",
    "# Read pickle data \n",
    "with open(load_energy_dt, 'rb') as f:\n",
    "    country_actuals = (pickle.load(f)[['utc_timestamp', 'country', 'load_actual_entsoe_transparency']])"
   ]
  },
  {
   "cell_type": "code",
   "execution_count": 3,
   "metadata": {},
   "outputs": [
    {
     "data": {
      "image/png": "[encoded data removed]",
      "text/plain": [
       "<Figure size 1200x400 with 2 Axes>"
      ]
     },
     "metadata": {},
     "output_type": "display_data"
    }
   ],
   "source": [
    "missing_lengths = create_impute_groups(country_actuals, 'load_actual_entsoe_transparency')\n",
    "\n",
    "# Hist of missing lengths, omitting complete data\n",
    "fig, ax = plt.subplots(1, 2, figsize=(12,4))\n",
    "_ = sns.histplot(data=missing_lengths[1:], x='consecutive', stat='count', ax=ax[0])\n",
    "_ = sns.histplot(data=missing_lengths[1:], x='consecutive', stat='count', ax=ax[1])\n",
    "_ = ax[1].set_xlim(1,100)\n",
    "_ = plt.suptitle(\"Dist'n of consecutive missing days\")\n",
    "plt.show()"
   ]
  },
  {
   "cell_type": "code",
   "execution_count": 4,
   "metadata": {},
   "outputs": [
    {
     "data": {
      "application/vnd.microsoft.datawrangler.viewer.v0+json": {
       "columns": [
        {
         "name": "index",
         "rawType": "int64",
         "type": "integer"
        },
        {
         "name": "utc_timestamp",
         "rawType": "datetime64[ns, UTC]",
         "type": "unknown"
        },
        {
         "name": "country",
         "rawType": "object",
         "type": "string"
        },
        {
         "name": "load_actual_entsoe_transparency",
         "rawType": "float64",
         "type": "float"
        }
       ],
       "ref": "b1c8f72c-75ce-496f-a224-f706c30ae25d",
       "rows": [
        [
         "151779",
         "2014-12-31 23:15:00+00:00",
         "NL",
         "9819.0"
        ],
        [
         "151780",
         "2014-12-31 23:30:00+00:00",
         "NL",
         "9790.0"
        ],
        [
         "151781",
         "2014-12-31 23:45:00+00:00",
         "NL",
         "9718.0"
        ],
        [
         "151782",
         "2015-01-01 00:00:00+00:00",
         "NL",
         "9622.0"
        ],
        [
         "151783",
         "2015-01-01 00:15:00+00:00",
         "NL",
         "9524.0"
        ]
       ],
       "shape": {
        "columns": 3,
        "rows": 5
       }
      },
      "text/html": [
       "<div>\n",
       "<style scoped>\n",
       "    .dataframe tbody tr th:only-of-type {\n",
       "        vertical-align: middle;\n",
       "    }\n",
       "\n",
       "    .dataframe tbody tr th {\n",
       "        vertical-align: top;\n",
       "    }\n",
       "\n",
       "    .dataframe thead th {\n",
       "        text-align: right;\n",
       "    }\n",
       "</style>\n",
       "<table border=\"1\" class=\"dataframe\">\n",
       "  <thead>\n",
       "    <tr style=\"text-align: right;\">\n",
       "      <th></th>\n",
       "      <th>utc_timestamp</th>\n",
       "      <th>country</th>\n",
       "      <th>load_actual_entsoe_transparency</th>\n",
       "    </tr>\n",
       "  </thead>\n",
       "  <tbody>\n",
       "    <tr>\n",
       "      <th>151779</th>\n",
       "      <td>2014-12-31 23:15:00+00:00</td>\n",
       "      <td>NL</td>\n",
       "      <td>9819.0</td>\n",
       "    </tr>\n",
       "    <tr>\n",
       "      <th>151780</th>\n",
       "      <td>2014-12-31 23:30:00+00:00</td>\n",
       "      <td>NL</td>\n",
       "      <td>9790.0</td>\n",
       "    </tr>\n",
       "    <tr>\n",
       "      <th>151781</th>\n",
       "      <td>2014-12-31 23:45:00+00:00</td>\n",
       "      <td>NL</td>\n",
       "      <td>9718.0</td>\n",
       "    </tr>\n",
       "    <tr>\n",
       "      <th>151782</th>\n",
       "      <td>2015-01-01 00:00:00+00:00</td>\n",
       "      <td>NL</td>\n",
       "      <td>9622.0</td>\n",
       "    </tr>\n",
       "    <tr>\n",
       "      <th>151783</th>\n",
       "      <td>2015-01-01 00:15:00+00:00</td>\n",
       "      <td>NL</td>\n",
       "      <td>9524.0</td>\n",
       "    </tr>\n",
       "  </tbody>\n",
       "</table>\n",
       "</div>"
      ],
      "text/plain": [
       "                   utc_timestamp country  load_actual_entsoe_transparency\n",
       "151779 2014-12-31 23:15:00+00:00      NL                           9819.0\n",
       "151780 2014-12-31 23:30:00+00:00      NL                           9790.0\n",
       "151781 2014-12-31 23:45:00+00:00      NL                           9718.0\n",
       "151782 2015-01-01 00:00:00+00:00      NL                           9622.0\n",
       "151783 2015-01-01 00:15:00+00:00      NL                           9524.0"
      ]
     },
     "execution_count": 4,
     "metadata": {},
     "output_type": "execute_result"
    }
   ],
   "source": [
    "country_actuals.head()"
   ]
  },
  {
   "cell_type": "code",
   "execution_count": 5,
   "metadata": {},
   "outputs": [
    {
     "data": {
      "application/vnd.microsoft.datawrangler.viewer.v0+json": {
       "columns": [
        {
         "name": "index",
         "rawType": "int64",
         "type": "integer"
        },
        {
         "name": "country",
         "rawType": "bool",
         "type": "boolean"
        },
        {
         "name": "load_actual_entsoe_transparency",
         "rawType": "bool",
         "type": "boolean"
        }
       ],
       "ref": "ad7e2870-3f0e-44c7-bc78-fc8447983824",
       "rows": [
        [
         "0",
         "False",
         "False"
        ],
        [
         "1",
         "False",
         "False"
        ],
        [
         "2",
         "False",
         "False"
        ],
        [
         "3",
         "False",
         "False"
        ],
        [
         "4",
         "False",
         "False"
        ],
        [
         "5",
         "False",
         "False"
        ],
        [
         "6",
         "False",
         "False"
        ],
        [
         "7",
         "False",
         "False"
        ],
        [
         "8",
         "False",
         "False"
        ],
        [
         "9",
         "False",
         "False"
        ],
        [
         "10",
         "False",
         "False"
        ],
        [
         "11",
         "False",
         "False"
        ],
        [
         "12",
         "False",
         "False"
        ],
        [
         "13",
         "False",
         "False"
        ],
        [
         "14",
         "False",
         "False"
        ],
        [
         "15",
         "False",
         "False"
        ],
        [
         "16",
         "False",
         "False"
        ],
        [
         "17",
         "False",
         "False"
        ],
        [
         "18",
         "False",
         "False"
        ],
        [
         "19",
         "False",
         "False"
        ],
        [
         "20",
         "False",
         "False"
        ],
        [
         "21",
         "False",
         "False"
        ],
        [
         "22",
         "False",
         "False"
        ],
        [
         "23",
         "False",
         "False"
        ],
        [
         "24",
         "False",
         "False"
        ],
        [
         "25",
         "False",
         "False"
        ],
        [
         "26",
         "False",
         "False"
        ],
        [
         "27",
         "False",
         "False"
        ],
        [
         "28",
         "False",
         "False"
        ],
        [
         "29",
         "False",
         "False"
        ],
        [
         "30",
         "False",
         "False"
        ],
        [
         "31",
         "False",
         "False"
        ],
        [
         "32",
         "False",
         "False"
        ],
        [
         "33",
         "False",
         "False"
        ],
        [
         "34",
         "False",
         "False"
        ],
        [
         "35",
         "False",
         "False"
        ],
        [
         "36",
         "False",
         "False"
        ],
        [
         "37",
         "False",
         "False"
        ],
        [
         "38",
         "False",
         "False"
        ],
        [
         "39",
         "False",
         "False"
        ],
        [
         "40",
         "False",
         "False"
        ],
        [
         "41",
         "False",
         "False"
        ],
        [
         "42",
         "False",
         "False"
        ],
        [
         "43",
         "False",
         "False"
        ],
        [
         "44",
         "False",
         "False"
        ],
        [
         "45",
         "False",
         "False"
        ],
        [
         "46",
         "False",
         "False"
        ],
        [
         "47",
         "False",
         "False"
        ],
        [
         "48",
         "False",
         "False"
        ],
        [
         "49",
         "False",
         "False"
        ]
       ],
       "shape": {
        "columns": 2,
        "rows": 910674
       }
      },
      "text/html": [
       "<div>\n",
       "<style scoped>\n",
       "    .dataframe tbody tr th:only-of-type {\n",
       "        vertical-align: middle;\n",
       "    }\n",
       "\n",
       "    .dataframe tbody tr th {\n",
       "        vertical-align: top;\n",
       "    }\n",
       "\n",
       "    .dataframe thead th {\n",
       "        text-align: right;\n",
       "    }\n",
       "</style>\n",
       "<table border=\"1\" class=\"dataframe\">\n",
       "  <thead>\n",
       "    <tr style=\"text-align: right;\">\n",
       "      <th></th>\n",
       "      <th>country</th>\n",
       "      <th>load_actual_entsoe_transparency</th>\n",
       "    </tr>\n",
       "  </thead>\n",
       "  <tbody>\n",
       "    <tr>\n",
       "      <th>0</th>\n",
       "      <td>False</td>\n",
       "      <td>False</td>\n",
       "    </tr>\n",
       "    <tr>\n",
       "      <th>1</th>\n",
       "      <td>False</td>\n",
       "      <td>False</td>\n",
       "    </tr>\n",
       "    <tr>\n",
       "      <th>2</th>\n",
       "      <td>False</td>\n",
       "      <td>False</td>\n",
       "    </tr>\n",
       "    <tr>\n",
       "      <th>3</th>\n",
       "      <td>False</td>\n",
       "      <td>False</td>\n",
       "    </tr>\n",
       "    <tr>\n",
       "      <th>4</th>\n",
       "      <td>False</td>\n",
       "      <td>False</td>\n",
       "    </tr>\n",
       "    <tr>\n",
       "      <th>...</th>\n",
       "      <td>...</td>\n",
       "      <td>...</td>\n",
       "    </tr>\n",
       "    <tr>\n",
       "      <th>910669</th>\n",
       "      <td>False</td>\n",
       "      <td>False</td>\n",
       "    </tr>\n",
       "    <tr>\n",
       "      <th>910670</th>\n",
       "      <td>False</td>\n",
       "      <td>False</td>\n",
       "    </tr>\n",
       "    <tr>\n",
       "      <th>910671</th>\n",
       "      <td>False</td>\n",
       "      <td>False</td>\n",
       "    </tr>\n",
       "    <tr>\n",
       "      <th>910672</th>\n",
       "      <td>False</td>\n",
       "      <td>False</td>\n",
       "    </tr>\n",
       "    <tr>\n",
       "      <th>910673</th>\n",
       "      <td>False</td>\n",
       "      <td>True</td>\n",
       "    </tr>\n",
       "  </tbody>\n",
       "</table>\n",
       "<p>910674 rows × 2 columns</p>\n",
       "</div>"
      ],
      "text/plain": [
       "        country  load_actual_entsoe_transparency\n",
       "0         False                            False\n",
       "1         False                            False\n",
       "2         False                            False\n",
       "3         False                            False\n",
       "4         False                            False\n",
       "...         ...                              ...\n",
       "910669    False                            False\n",
       "910670    False                            False\n",
       "910671    False                            False\n",
       "910672    False                            False\n",
       "910673    False                             True\n",
       "\n",
       "[910674 rows x 2 columns]"
      ]
     },
     "execution_count": 5,
     "metadata": {},
     "output_type": "execute_result"
    },
    {
     "data": {
      "text/plain": [
       "148672"
      ]
     },
     "execution_count": 5,
     "metadata": {},
     "output_type": "execute_result"
    },
    {
     "data": {
      "application/vnd.microsoft.datawrangler.viewer.v0+json": {
       "columns": [
        {
         "name": "index",
         "rawType": "int64",
         "type": "integer"
        },
        {
         "name": "missing_group_num",
         "rawType": "int64",
         "type": "integer"
        },
        {
         "name": "consecutive",
         "rawType": "int64",
         "type": "integer"
        },
        {
         "name": "first_na_idx",
         "rawType": "int64",
         "type": "integer"
        },
        {
         "name": "last_na_idx",
         "rawType": "int64",
         "type": "integer"
        }
       ],
       "ref": "8630ce92-6aa6-4e44-a33d-8b6f39494b09",
       "rows": [
        [
         "1",
         "1",
         "20",
         "144923",
         "144944"
        ],
        [
         "2",
         "2",
         "47",
         "145536",
         "145584"
        ],
        [
         "3",
         "3",
         "1",
         "151779",
         "151781"
        ],
        [
         "4",
         "4",
         "1",
         "303558",
         "303560"
        ],
        [
         "5",
         "5",
         "9",
         "441138",
         "441148"
        ],
        [
         "6",
         "6",
         "1",
         "455337",
         "455339"
        ],
        [
         "7",
         "7",
         "1",
         "607116",
         "607118"
        ],
        [
         "8",
         "8",
         "1",
         "758895",
         "758897"
        ],
        [
         "9",
         "9",
         "20",
         "889555",
         "889576"
        ],
        [
         "10",
         "10",
         "13",
         "892030",
         "892044"
        ],
        [
         "11",
         "11",
         "11",
         "892260",
         "892272"
        ],
        [
         "12",
         "12",
         "9",
         "892390",
         "892400"
        ],
        [
         "13",
         "13",
         "11",
         "892680",
         "892692"
        ],
        [
         "14",
         "14",
         "9",
         "892698",
         "892708"
        ],
        [
         "15",
         "15",
         "14",
         "892741",
         "892756"
        ],
        [
         "16",
         "16",
         "10",
         "892789",
         "892800"
        ],
        [
         "17",
         "17",
         "10",
         "893041",
         "893052"
        ],
        [
         "18",
         "18",
         "9",
         "893314",
         "893324"
        ],
        [
         "19",
         "19",
         "13",
         "893338",
         "893352"
        ],
        [
         "20",
         "20",
         "9",
         "893470",
         "893480"
        ],
        [
         "21",
         "21",
         "10",
         "893549",
         "893560"
        ],
        [
         "22",
         "22",
         "10",
         "893641",
         "893652"
        ],
        [
         "23",
         "23",
         "31",
         "893720",
         "893752"
        ],
        [
         "24",
         "24",
         "15",
         "893760",
         "893776"
        ],
        [
         "25",
         "25",
         "11",
         "893824",
         "893836"
        ],
        [
         "26",
         "26",
         "19",
         "893908",
         "893928"
        ],
        [
         "27",
         "27",
         "24",
         "893951",
         "893976"
        ],
        [
         "28",
         "28",
         "19",
         "893996",
         "894016"
        ],
        [
         "29",
         "29",
         "9",
         "894090",
         "894100"
        ],
        [
         "30",
         "30",
         "35",
         "894260",
         "894296"
        ],
        [
         "31",
         "31",
         "31",
         "894332",
         "894364"
        ],
        [
         "32",
         "32",
         "11",
         "894404",
         "894416"
        ],
        [
         "33",
         "33",
         "58",
         "894473",
         "894532"
        ],
        [
         "34",
         "34",
         "14",
         "894565",
         "894580"
        ],
        [
         "35",
         "35",
         "45",
         "894654",
         "894700"
        ],
        [
         "36",
         "36",
         "15",
         "894716",
         "894732"
        ],
        [
         "37",
         "37",
         "42",
         "894785",
         "894828"
        ],
        [
         "38",
         "38",
         "19",
         "895040",
         "895060"
        ],
        [
         "39",
         "39",
         "15",
         "895080",
         "895096"
        ],
        [
         "40",
         "40",
         "11",
         "895256",
         "895268"
        ],
        [
         "41",
         "41",
         "21",
         "895282",
         "895304"
        ],
        [
         "42",
         "42",
         "25",
         "895314",
         "895340"
        ],
        [
         "43",
         "43",
         "15",
         "895344",
         "895360"
        ],
        [
         "44",
         "44",
         "23",
         "895692",
         "895716"
        ],
        [
         "45",
         "45",
         "27",
         "895784",
         "895812"
        ],
        [
         "46",
         "46",
         "15",
         "895876",
         "895892"
        ],
        [
         "47",
         "47",
         "18",
         "895941",
         "895960"
        ],
        [
         "48",
         "48",
         "14",
         "896061",
         "896076"
        ],
        [
         "49",
         "49",
         "138",
         "896085",
         "896224"
        ],
        [
         "50",
         "50",
         "11",
         "896280",
         "896292"
        ]
       ],
       "shape": {
        "columns": 4,
        "rows": 80
       }
      },
      "text/html": [
       "<div>\n",
       "<style scoped>\n",
       "    .dataframe tbody tr th:only-of-type {\n",
       "        vertical-align: middle;\n",
       "    }\n",
       "\n",
       "    .dataframe tbody tr th {\n",
       "        vertical-align: top;\n",
       "    }\n",
       "\n",
       "    .dataframe thead th {\n",
       "        text-align: right;\n",
       "    }\n",
       "</style>\n",
       "<table border=\"1\" class=\"dataframe\">\n",
       "  <thead>\n",
       "    <tr style=\"text-align: right;\">\n",
       "      <th></th>\n",
       "      <th>missing_group_num</th>\n",
       "      <th>consecutive</th>\n",
       "      <th>first_na_idx</th>\n",
       "      <th>last_na_idx</th>\n",
       "    </tr>\n",
       "  </thead>\n",
       "  <tbody>\n",
       "    <tr>\n",
       "      <th>1</th>\n",
       "      <td>1</td>\n",
       "      <td>20</td>\n",
       "      <td>144923</td>\n",
       "      <td>144944</td>\n",
       "    </tr>\n",
       "    <tr>\n",
       "      <th>2</th>\n",
       "      <td>2</td>\n",
       "      <td>47</td>\n",
       "      <td>145536</td>\n",
       "      <td>145584</td>\n",
       "    </tr>\n",
       "    <tr>\n",
       "      <th>3</th>\n",
       "      <td>3</td>\n",
       "      <td>1</td>\n",
       "      <td>151779</td>\n",
       "      <td>151781</td>\n",
       "    </tr>\n",
       "    <tr>\n",
       "      <th>4</th>\n",
       "      <td>4</td>\n",
       "      <td>1</td>\n",
       "      <td>303558</td>\n",
       "      <td>303560</td>\n",
       "    </tr>\n",
       "    <tr>\n",
       "      <th>5</th>\n",
       "      <td>5</td>\n",
       "      <td>9</td>\n",
       "      <td>441138</td>\n",
       "      <td>441148</td>\n",
       "    </tr>\n",
       "    <tr>\n",
       "      <th>...</th>\n",
       "      <td>...</td>\n",
       "      <td>...</td>\n",
       "      <td>...</td>\n",
       "      <td>...</td>\n",
       "    </tr>\n",
       "    <tr>\n",
       "      <th>76</th>\n",
       "      <td>76</td>\n",
       "      <td>16</td>\n",
       "      <td>905955</td>\n",
       "      <td>905972</td>\n",
       "    </tr>\n",
       "    <tr>\n",
       "      <th>77</th>\n",
       "      <td>77</td>\n",
       "      <td>12</td>\n",
       "      <td>905991</td>\n",
       "      <td>906004</td>\n",
       "    </tr>\n",
       "    <tr>\n",
       "      <th>78</th>\n",
       "      <td>78</td>\n",
       "      <td>24</td>\n",
       "      <td>906011</td>\n",
       "      <td>906036</td>\n",
       "    </tr>\n",
       "    <tr>\n",
       "      <th>79</th>\n",
       "      <td>79</td>\n",
       "      <td>9</td>\n",
       "      <td>906062</td>\n",
       "      <td>906072</td>\n",
       "    </tr>\n",
       "    <tr>\n",
       "      <th>80</th>\n",
       "      <td>80</td>\n",
       "      <td>20</td>\n",
       "      <td>906079</td>\n",
       "      <td>906100</td>\n",
       "    </tr>\n",
       "  </tbody>\n",
       "</table>\n",
       "<p>80 rows × 4 columns</p>\n",
       "</div>"
      ],
      "text/plain": [
       "    missing_group_num  consecutive  first_na_idx  last_na_idx\n",
       "1                   1           20        144923       144944\n",
       "2                   2           47        145536       145584\n",
       "3                   3            1        151779       151781\n",
       "4                   4            1        303558       303560\n",
       "5                   5            9        441138       441148\n",
       "..                ...          ...           ...          ...\n",
       "76                 76           16        905955       905972\n",
       "77                 77           12        905991       906004\n",
       "78                 78           24        906011       906036\n",
       "79                 79            9        906062       906072\n",
       "80                 80           20        906079       906100\n",
       "\n",
       "[80 rows x 4 columns]"
      ]
     },
     "execution_count": 5,
     "metadata": {},
     "output_type": "execute_result"
    }
   ],
   "source": [
    "test = country_actuals.set_index('utc_timestamp').isna().reset_index(drop=True)\n",
    "test\n",
    "group_num = 0 \n",
    "groups = [0] ### --- Problem is that 'to_impute' must be hardcoded\n",
    "for i in range(len(test['load_actual_entsoe_transparency'].values)-1): # y or self.y\n",
    "    value = test['load_actual_entsoe_transparency'].values[i]\n",
    "    next_value = test['load_actual_entsoe_transparency'].values[i+1]\n",
    "\n",
    "    if value == False and next_value == True:\n",
    "        group_num += 1\n",
    "    if next_value == None:\n",
    "        continue\n",
    "    if value == False:\n",
    "        groups.append(0)\n",
    "    else: \n",
    "        groups.append(group_num)\n",
    "# groups\n",
    "sum(groups)\n",
    "create_impute_groups(country_actuals, 'load_actual_entsoe_transparency')"
   ]
  },
  {
   "cell_type": "code",
   "execution_count": 6,
   "metadata": {},
   "outputs": [
    {
     "data": {
      "image/png": "[encoded data removed]",
      "text/plain": [
       "<Figure size 1500x300 with 1 Axes>"
      ]
     },
     "metadata": {},
     "output_type": "display_data"
    }
   ],
   "source": [
    "### Developing imputation algorithm with AT due \n",
    "# # to there being a full dataset\n",
    "plot_dt = country_actuals.loc[lambda x: x.country == 'AT']\n",
    "\n",
    "_ = plt.figure(figsize=(15, 3))\n",
    "\n",
    "_ = sns.lineplot(\n",
    "    data=plot_dt, \n",
    "    x='utc_timestamp', \n",
    "    y='load_actual_entsoe_transparency', \n",
    "    linewidth=0.25)\n",
    "\n",
    "plt.show()"
   ]
  },
  {
   "cell_type": "markdown",
   "metadata": {},
   "source": [
    "## Impute method comparison\n",
    "- Select AT due to their being no NA values for imputation test\n",
    "- Create window of size n: 2 through 96 (by 2)\n",
    "    - Randomly sample 24 windows slightly larger than size n from dataset\n",
    "    - Place n nans in dataset\n",
    "    - Across the 24 windows, get average mae for a given imputation method\n",
    "- Display table results of imputation methods across the windows\n",
    "- Display plots of results comparing methods"
   ]
  },
  {
   "cell_type": "markdown",
   "metadata": {},
   "source": [
    "### Loop parallelized with Ray"
   ]
  },
  {
   "cell_type": "code",
   "execution_count": 8,
   "metadata": {},
   "outputs": [],
   "source": [
    "import ray"
   ]
  },
  {
   "cell_type": "markdown",
   "metadata": {},
   "source": [
    "Without Class Structure"
   ]
  },
  {
   "cell_type": "code",
   "execution_count": 36,
   "metadata": {},
   "outputs": [],
   "source": [
    "### For test, Limiting to AT due to no missing data\n",
    "\n",
    "@ray.remote\n",
    "def create_hour_minute(df):\n",
    "    '''\n",
    "    This function is supplemental to the following 'add_time_features' function,\n",
    "    creating an hour_minute variable\n",
    "    '''\n",
    "    # Initialize empty variable\n",
    "    df['hour_minute'] = None\n",
    "\n",
    "    # Conditions\n",
    "    conditions = [df['utc_timestamp'].dt.minute == 15,\n",
    "                  df['utc_timestamp'].dt.minute == 30,\n",
    "                  df['utc_timestamp'].dt.minute == 45]\n",
    "    \n",
    "    transform = [df['utc_timestamp'].dt.hour + .25,\n",
    "                 df['utc_timestamp'].dt.hour + .5,\n",
    "                 df['utc_timestamp'].dt.hour + .75]\n",
    "    \n",
    "    # given conditions, transform \n",
    "    converted_times = np.select(conditions, transform, df['utc_timestamp'].dt.hour)\n",
    "\n",
    "    return converted_times\n",
    "\n",
    "@ray.remote\n",
    "def create_impute_data(data):\n",
    "    # ---\n",
    "    # --- modify to be effective for all countries\n",
    "    # --- (currently limited to AT)\n",
    "    impute_data = (data.assign(\n",
    "            weekday = lambda x: x['utc_timestamp'].dt.strftime('%a'),\n",
    "            hour_minute = lambda x: ray.get(create_hour_minute.remote(x)) # --- this function in not in ray remote\n",
    "        )\n",
    "        .loc[lambda x: x.country == 'AT']\n",
    "        .reset_index(drop=True)\n",
    "        ) \n",
    "\n",
    "    return impute_data\n",
    "\n",
    "@ray.remote\n",
    "def create_window_idx(data, num_windows=24):\n",
    "    # indices to loop over for get mae across 24 samples\n",
    "    impute_windows = list(data.sample(num_windows, random_state=24).index)\n",
    "    return impute_windows\n",
    "\n",
    "@ray.remote\n",
    "def create_weekday_impute(data):\n",
    "\n",
    "    # Weekday impute method\n",
    "    weekday_impute = (data.groupby(['weekday', 'hour_minute'], as_index=False)\n",
    "                    .agg(avg_weekday_actuals = ('load_actual_entsoe_transparency', lambda x: x.mean().round(2)))\n",
    "                    )\n",
    "    week_order = ['Mon', 'Tue', 'Wed', 'Thu', 'Fri', 'Sat', 'Sun']\n",
    "    weekday_impute['weekday'] = pd.Categorical(\n",
    "        weekday_impute['weekday'], \n",
    "        categories=week_order, \n",
    "        ordered=True\n",
    "        )\n",
    "    weekday_impute = weekday_impute.sort_values(by=['weekday','hour_minute'])\n",
    "    \n",
    "    return weekday_impute"
   ]
  },
  {
   "cell_type": "code",
   "execution_count": 38,
   "metadata": {},
   "outputs": [],
   "source": [
    "# Goals: Resolve the following --- Solution may have been method of creating the fcst dataframe ---\n",
    "\n",
    "@ray.remote\n",
    "def create_impute_window(data, n, idx, forecast=False): \n",
    "    '''\n",
    "    Creates imputation window, for NAs. \n",
    "    Window:\n",
    "        1 row of available data, \n",
    "        n rows of NAs, \n",
    "        2 rows of available data\n",
    "    \n",
    "    This is done to ensure all imputation methods can impute without error\n",
    "    '''\n",
    "\n",
    "    window = data.iloc[idx-1:idx+n+2]\n",
    "    window['to_impute'] = window['load_actual_entsoe_transparency'];  \n",
    "    window.loc[idx:idx+n-1, 'to_impute'] = np.nan\n",
    "\n",
    "    # forecast impute window, which has additional data for forcasting\n",
    "    if forecast:\n",
    "        ### Future: consider dynamic forecast window\n",
    "        one_year_data = 2880 * 6 # Selecting all data available, up to 1 year\n",
    "        fcst_start = max(idx - one_year_data, 0) \n",
    "        fcst_window = data.iloc[fcst_start:idx+n+2]\n",
    "        fcst_window['to_impute'] = fcst_window['load_actual_entsoe_transparency'];  \n",
    "        fcst_window.loc[idx:idx+n-1, 'to_impute'] = np.nan\n",
    "\n",
    "        return fcst_window\n",
    "    \n",
    "    return window\n",
    "\n",
    "@ray.remote\n",
    "def create_impute_groups(data, y):\n",
    "    '''\n",
    "    Given dataframe with variable to impute, returns \n",
    "    a group number for that NA, how many consecutive\n",
    "    NAs there are, and the first + last index values of \n",
    "    the consecutive NAs\n",
    "    '''\n",
    "    # note NA values in dataframe\n",
    "    df = (data.set_index('utc_timestamp') # data or self.data\n",
    "            .isna()\n",
    "            .reset_index(drop=True)\n",
    "          )\n",
    "    \n",
    "    # Assign groups of NAs a unique group number\n",
    "    group_num = 0\n",
    "    groups = [0]\n",
    "    for i in range(len(df[y].values)-1): # y or self.y\n",
    "        value = df[y].values[i]\n",
    "        next_value = df[y].values[i+1]\n",
    "\n",
    "        if value == False and next_value == True:\n",
    "            group_num += 1\n",
    "        if next_value == None:\n",
    "            continue\n",
    "        if value == False:\n",
    "            groups.append(0)\n",
    "        else: \n",
    "            groups.append(group_num)\n",
    "\n",
    "    # Add na groups and index columns to df\n",
    "    df['missing_group_num'] = groups \n",
    "    df['index'] = list(range(0, len(df)))\n",
    "\n",
    "    missing_lengths = (df.groupby('missing_group_num', as_index=False)\n",
    "                       .agg(consecutive = ('missing_group_num', 'count'),\n",
    "                            first_na_idx = ('index', 'min'),\n",
    "                            # adding 2 to last index for imputation\n",
    "                            last_na_idx = ('index', lambda x: x.max() + 2)) \n",
    "                       .iloc[1:] # remove non_na groups\n",
    "                       .sort_values('first_na_idx')\n",
    "                       )\n",
    "    \n",
    "    return missing_lengths\n",
    "\n",
    "@ray.remote\n",
    "def forecast_impute(data, y, model_type='AutoETS'): # AutoETS AAA\n",
    "    '''\n",
    "    Given forecasting data and y, creates a forecast model\n",
    "    with a horizon depending on the number of NAs needing\n",
    "    imputation.\n",
    "    Currently, can select 'AutoETS' or 'Prophet' as forecasting models.\n",
    "    '''\n",
    "    # from statsforecast import StatsForecast\n",
    "    # from statsforecast.models import AutoETS\n",
    "    data = data.reset_index(drop=True)\n",
    "    impute_info = ray.get(create_impute_groups.remote(data, y))\n",
    "        \n",
    "    first_na = impute_info['first_na_idx'].iloc[0] \n",
    "\n",
    "    # Defining start, end, and horizon points of training window\n",
    "    one_year_data = 2880 * 6 # Selecting all data available, up to 6 months\n",
    "    start = max(first_na - one_year_data, 0)  \n",
    "    end = first_na - 1 \n",
    "    \n",
    "    horizon = impute_info['consecutive'].iloc[0]\n",
    "    fcst_df = (data.iloc[start:end] \n",
    "            .assign(index = 1) \n",
    "            [['index', 'utc_timestamp', y]]) # --- This needs to be generalized\n",
    "\n",
    "    if model_type == 'AutoETS':\n",
    "        pd.options.mode.chained_assignment = None\n",
    "\n",
    "        fcst_df = (data.iloc[start:end] \n",
    "            .assign(index = 1) \n",
    "            [['index', 'utc_timestamp', y]])\n",
    "\n",
    "        impute_model = StatsForecast(\n",
    "            models=[AutoETS(model='AAA', season_length=96)], # --- season_length=96 (1 day) or maybe 1 week\n",
    "            freq='15min', # --- Needs generalizaiton\n",
    "            n_jobs=-1,\n",
    "            verbose=False\n",
    "            ) \n",
    "\n",
    "        result = impute_model.forecast(\n",
    "            df=fcst_df, \n",
    "            id_col='index',\n",
    "            time_col='utc_timestamp', # --- Needs generalization \n",
    "            target_col=y, # --- Needs generalization\n",
    "            h=horizon,\n",
    "            # show progress = False,\n",
    "            ).rename(columns={'AutoETS': 'imputed'})\n",
    "        \n",
    "        return result['imputed'] # --- Needs generalization\n",
    "    \n",
    "    if model_type == 'Prophet':\n",
    "        fcst_df = (data.iloc[start:end] \n",
    "           .rename(columns={'utc_timestamp': 'ds',\n",
    "                             f\"{y}\": 'y'})\n",
    "            [['ds', 'y']])\n",
    "            \n",
    "        fcst_df['ds'] = fcst_df['ds'].dt.tz_localize(None)\n",
    "        \n",
    "        model = (Prophet(\n",
    "            yearly_seasonality=True,\n",
    "            weekly_seasonality=True,\n",
    "            seasonality_mode='additive',\n",
    "            )\n",
    "            .add_seasonality(name='intraday', \n",
    "                             period=96/2,  # (4 * 24 / 2) 15 min intervals\n",
    "                             fourier_order=4)\n",
    "            .fit(fcst_df[1:])) # ds and y only\n",
    "        # further improvement if holidays are added\n",
    "\n",
    "        # create dataframe of length horizon with the ds component\n",
    "        predict_window = (data.iloc[first_na-1:first_na+horizon-1]\n",
    "                          .rename(columns={'utc_timestamp': 'ds'})\n",
    "                          [['ds']])\n",
    "        predict_window['ds'] = predict_window['ds'].dt.tz_localize(None)        \n",
    "        \n",
    "        result = (model.predict(predict_window)\n",
    "                  .rename(columns={'yhat': 'to_impute'}))\n",
    "        \n",
    "        return result['to_impute'] # --- Needs generalization\n",
    "\n",
    "@ray.remote\n",
    "def imputation_test(data, n, idx, i):\n",
    "    '''\n",
    "    Imputes n values in the data with several imputation methods and \n",
    "    stores the results.\n",
    "\n",
    "    This function pairs with th eimputation comparison function,\n",
    "    resulting in an automated loop for comparing imputation values\n",
    "    '''\n",
    "    \n",
    "    # create impute windows\n",
    "    window = ray.get(create_impute_window.remote(data, n, idx))\n",
    "    fcst_window = ray.get(create_impute_window.remote(data, n, idx, forecast=True))\n",
    "    weekday_impute = ray.get(create_weekday_impute.remote(data))\n",
    "\n",
    "    # Weekday average impute method\n",
    "    window = window.merge(weekday_impute, how='left', on=['weekday', 'hour_minute'])\n",
    "\n",
    "    # Interpolation impute methods\n",
    "    window['lin_nearest_impute'] = window['to_impute'].interpolate(method=\"nearest\")\n",
    "    window['lin_linear_impute'] = window['to_impute'].interpolate(method=\"linear\")\n",
    "    window['spline_impute'] = window['to_impute'].interpolate(method=\"spline\", order=2)\n",
    "\n",
    "    # # fcst_impute with load_actual, horizon chosen within, then add rows to the window to calculate the MAE\n",
    "    fcst_impute = ray.get(forecast_impute.remote(fcst_window, 'to_impute', model_type='AutoETS'))  # Prophet\n",
    "    del fcst_window\n",
    "    first_value = window['to_impute'][0]\n",
    "    last_values = window['to_impute'][-2:].values\n",
    "    fcst_imputed = [first_value, *fcst_impute.values, *last_values]\n",
    "    window['fcst_impute'] = fcst_imputed\n",
    "    window['fcst_impute_smooth'] = pd.Series(fcst_imputed).ewm(alpha=.5).mean()\n",
    "\n",
    "    lin_nearest_mae = mean_absolute_error(\n",
    "        window['load_actual_entsoe_transparency'], \n",
    "        window['lin_nearest_impute']\n",
    "        )\n",
    "    lin_linear_mae = mean_absolute_error(\n",
    "        window['load_actual_entsoe_transparency'], \n",
    "        window['lin_linear_impute']\n",
    "        )\n",
    "    spline_mae = mean_absolute_error(\n",
    "        window['load_actual_entsoe_transparency'], \n",
    "        window['spline_impute']\n",
    "        )\n",
    "    weekday_actuals_mae = mean_absolute_error(\n",
    "        window['load_actual_entsoe_transparency'], \n",
    "        window['avg_weekday_actuals']\n",
    "        )\n",
    "    fcst_mae = mean_absolute_error(\n",
    "        window['load_actual_entsoe_transparency'], \n",
    "        window['fcst_impute']\n",
    "        )\n",
    "    fcst_smooth_mae = mean_absolute_error(\n",
    "        window['load_actual_entsoe_transparency'], \n",
    "        window['fcst_impute_smooth']\n",
    "        )\n",
    "\n",
    "    result = pd.DataFrame({ \n",
    "        \"trial\": [i+1],\n",
    "        \"n\": [n],\n",
    "        \"lin_nearest_mae\": [lin_nearest_mae],\n",
    "        \"lin_linear_mae\": [lin_linear_mae],\n",
    "        \"spline_mae\": [spline_mae],\n",
    "        \"weekday_actuals_mae\": [weekday_actuals_mae],\n",
    "        \"fcst_mae\": [fcst_mae],\n",
    "        \"fcst_smooth_mae\": [fcst_smooth_mae]\n",
    "        })\n",
    "\n",
    "    return result\n",
    "\n",
    "@ray.remote\n",
    "def imputation_comparison(data, impute_windows):\n",
    "    \n",
    "    final_results = pd.DataFrame({})\n",
    "    for n in range(2, 5, 2): # range(2, 96+1, 2):\n",
    "        \n",
    "        # parallelize inner loop\n",
    "        inner_futures = [imputation_test.remote(data, n, idx, i) for i, idx in enumerate(impute_windows)]\n",
    "        \n",
    "        results = ray.get(inner_futures)\n",
    "\n",
    "        for i in range(len(results)):\n",
    "            final_results = pd.concat([final_results, results[i]])\n",
    "    \n",
    "    return final_results\n"
   ]
  },
  {
   "cell_type": "code",
   "execution_count": null,
   "metadata": {},
   "outputs": [],
   "source": [
    "%%capture\n",
    "\n",
    "ray.shutdown()\n",
    "ray.init(num_cpus=7, num_gpus=0)\n",
    "impute_data = create_impute_data.remote(country_actuals)\n",
    "input_data = ray.get(impute_data)\n",
    "impute_windows = ray.get(create_window_idx.remote(input_data))\n",
    "weekday_impute = create_weekday_impute.remote(input_data)\n",
    "\n",
    "#n = 12\n",
    "#test = imputation_test.remote(input_data, n, impute_windows[0])\n",
    "\n",
    "imputation_results = imputation_comparison.remote(input_data, impute_windows)"
   ]
  },
  {
   "cell_type": "code",
   "execution_count": 42,
   "metadata": {},
   "outputs": [
    {
     "name": "stderr",
     "output_type": "stream",
     "text": [
      "\u001b[36m(create_impute_window pid=16848)\u001b[0m C:\\Users\\WulfN\\AppData\\Local\\Temp\\ipykernel_8092\\3655201261.py:25: SettingWithCopyWarning: \u001b[32m [repeated 2x across cluster]\u001b[0m\n",
      "\u001b[36m(create_impute_window pid=16848)\u001b[0m A value is trying to be set on a copy of a slice from a DataFrame.\u001b[32m [repeated 2x across cluster]\u001b[0m\n",
      "\u001b[36m(create_impute_window pid=16848)\u001b[0m Try using .loc[row_indexer,col_indexer] = value instead\u001b[32m [repeated 2x across cluster]\u001b[0m\n",
      "\u001b[36m(create_impute_window pid=16848)\u001b[0m See the caveats in the documentation: https://pandas.pydata.org/pandas-docs/stable/user_guide/indexing.html#returning-a-view-versus-a-copy\u001b[32m [repeated 2x across cluster]\u001b[0m\n"
     ]
    },
    {
     "data": {
      "application/vnd.microsoft.datawrangler.viewer.v0+json": {
       "columns": [
        {
         "name": "index",
         "rawType": "int64",
         "type": "integer"
        },
        {
         "name": "",
         "rawType": "int64",
         "type": "integer"
        },
        {
         "name": "lin_nearest_mae_mean",
         "rawType": "float64",
         "type": "float"
        },
        {
         "name": "lin_nearest_mae_std",
         "rawType": "float64",
         "type": "float"
        },
        {
         "name": "lin_linear_mae_mean",
         "rawType": "float64",
         "type": "float"
        },
        {
         "name": "lin_linear_mae_std",
         "rawType": "float64",
         "type": "float"
        },
        {
         "name": "spline_mae_mean",
         "rawType": "float64",
         "type": "float"
        },
        {
         "name": "spline_mae_std",
         "rawType": "float64",
         "type": "float"
        },
        {
         "name": "weekday_actuals_mae_mean",
         "rawType": "float64",
         "type": "float"
        },
        {
         "name": "weekday_actuals_mae_std",
         "rawType": "float64",
         "type": "float"
        },
        {
         "name": "fcst_mae_mean",
         "rawType": "float64",
         "type": "float"
        },
        {
         "name": "fcst_mae_std",
         "rawType": "float64",
         "type": "float"
        },
        {
         "name": "fcst_smooth_mae_mean",
         "rawType": "float64",
         "type": "float"
        },
        {
         "name": "fcst_smooth_mae_std",
         "rawType": "float64",
         "type": "float"
        }
       ],
       "ref": "a07c8ba1-b952-4a8e-a384-46091dcd1a2c",
       "rows": [
        [
         "0",
         "2",
         "32.433",
         "25.853",
         "17.869",
         "13.929",
         "18.059",
         "15.374",
         "636.211",
         "380.82",
         "229.925",
         "181.807",
         "249.403",
         "190.519"
        ],
        [
         "1",
         "4",
         "70.688",
         "64.487",
         "38.05",
         "28.407",
         "42.589",
         "33.224",
         "622.394",
         "359.051",
         "323.899",
         "256.554",
         "340.702",
         "268.241"
        ]
       ],
       "shape": {
        "columns": 13,
        "rows": 2
       }
      },
      "text/html": [
       "<div>\n",
       "<style scoped>\n",
       "    .dataframe tbody tr th:only-of-type {\n",
       "        vertical-align: middle;\n",
       "    }\n",
       "\n",
       "    .dataframe tbody tr th {\n",
       "        vertical-align: top;\n",
       "    }\n",
       "\n",
       "    .dataframe thead th {\n",
       "        text-align: right;\n",
       "    }\n",
       "</style>\n",
       "<table border=\"1\" class=\"dataframe\">\n",
       "  <thead>\n",
       "    <tr style=\"text-align: right;\">\n",
       "      <th></th>\n",
       "      <th></th>\n",
       "      <th>lin_nearest_mae_mean</th>\n",
       "      <th>lin_nearest_mae_std</th>\n",
       "      <th>lin_linear_mae_mean</th>\n",
       "      <th>lin_linear_mae_std</th>\n",
       "      <th>spline_mae_mean</th>\n",
       "      <th>spline_mae_std</th>\n",
       "      <th>weekday_actuals_mae_mean</th>\n",
       "      <th>weekday_actuals_mae_std</th>\n",
       "      <th>fcst_mae_mean</th>\n",
       "      <th>fcst_mae_std</th>\n",
       "      <th>fcst_smooth_mae_mean</th>\n",
       "      <th>fcst_smooth_mae_std</th>\n",
       "    </tr>\n",
       "  </thead>\n",
       "  <tbody>\n",
       "    <tr>\n",
       "      <th>0</th>\n",
       "      <td>2</td>\n",
       "      <td>32.433</td>\n",
       "      <td>25.853</td>\n",
       "      <td>17.869</td>\n",
       "      <td>13.929</td>\n",
       "      <td>18.059</td>\n",
       "      <td>15.374</td>\n",
       "      <td>636.211</td>\n",
       "      <td>380.820</td>\n",
       "      <td>229.925</td>\n",
       "      <td>181.807</td>\n",
       "      <td>249.403</td>\n",
       "      <td>190.519</td>\n",
       "    </tr>\n",
       "    <tr>\n",
       "      <th>1</th>\n",
       "      <td>4</td>\n",
       "      <td>70.688</td>\n",
       "      <td>64.487</td>\n",
       "      <td>38.050</td>\n",
       "      <td>28.407</td>\n",
       "      <td>42.589</td>\n",
       "      <td>33.224</td>\n",
       "      <td>622.394</td>\n",
       "      <td>359.051</td>\n",
       "      <td>323.899</td>\n",
       "      <td>256.554</td>\n",
       "      <td>340.702</td>\n",
       "      <td>268.241</td>\n",
       "    </tr>\n",
       "  </tbody>\n",
       "</table>\n",
       "</div>"
      ],
      "text/plain": [
       "      lin_nearest_mae_mean  lin_nearest_mae_std  lin_linear_mae_mean  \\\n",
       "0  2                32.433               25.853               17.869   \n",
       "1  4                70.688               64.487               38.050   \n",
       "\n",
       "   lin_linear_mae_std  spline_mae_mean  spline_mae_std  \\\n",
       "0              13.929           18.059          15.374   \n",
       "1              28.407           42.589          33.224   \n",
       "\n",
       "   weekday_actuals_mae_mean  weekday_actuals_mae_std  fcst_mae_mean  \\\n",
       "0                   636.211                  380.820        229.925   \n",
       "1                   622.394                  359.051        323.899   \n",
       "\n",
       "   fcst_mae_std  fcst_smooth_mae_mean  fcst_smooth_mae_std  \n",
       "0       181.807               249.403              190.519  \n",
       "1       256.554               340.702              268.241  "
      ]
     },
     "execution_count": 42,
     "metadata": {},
     "output_type": "execute_result"
    }
   ],
   "source": [
    "# retrieve results\n",
    "result = ray.get(imputation_results)\n",
    "ray.shutdown()\n",
    "\n",
    "# Get mean and std for each impute method\n",
    "cols = [*result.columns[2:]] # ignoring 'trial' and 'n' columns\n",
    "agg_result = (result.groupby('n', as_index=False)\n",
    "                    .agg({col: [(f'{col}_mean', 'mean'), (f'{col}_std', 'std')] for col in cols}))\n",
    "\n",
    "agg_result.columns = [f'{col[1]}' for col in agg_result.columns] # col[1]\n",
    "agg_result.round(3)"
   ]
  },
  {
   "cell_type": "markdown",
   "metadata": {},
   "source": [
    "Plot comparison of imputation methods"
   ]
  },
  {
   "cell_type": "code",
   "execution_count": 16,
   "metadata": {},
   "outputs": [
    {
     "data": {
      "image/png": "[encoded data removed]",
      "text/plain": [
       "<Figure size 1200x300 with 1 Axes>"
      ]
     },
     "metadata": {},
     "output_type": "display_data"
    },
    {
     "data": {
      "image/png": "[encoded data removed]",
      "text/plain": [
       "<Figure size 1200x300 with 1 Axes>"
      ]
     },
     "metadata": {},
     "output_type": "display_data"
    },
    {
     "data": {
      "image/png": "[encoded data removed]",
      "text/plain": [
       "<Figure size 1200x300 with 1 Axes>"
      ]
     },
     "metadata": {},
     "output_type": "display_data"
    }
   ],
   "source": [
    "def plot_impute_methods(impute_methods):\n",
    "    _ = plt.figure(figsize=(12, 3))\n",
    "    for method in impute_methods:  \n",
    "        \n",
    "        _ = sns.lineplot(\n",
    "            data=final_results, \n",
    "            x='n', \n",
    "            y=method,\n",
    "            #color=color,\n",
    "            #linewidth=0.25,\n",
    "            label=method)\n",
    "        _ = plt.xlabel('n (consecutive missing values)')\n",
    "        _ = plt.ylabel('avg_mae')\n",
    "        _ = plt.title(f'Avg mae method comparison')\n",
    "\n",
    "    plt.show()\n",
    "impute_methods = ['avg_lin_nearest_mae', 'avg_lin_linear_mae', 'avg_spline_mae', 'avg_poly_mae', 'avg_weekday_actuals_mae']\n",
    "plot_impute_methods(impute_methods)\n",
    "\n",
    "impute_methods_2 = ['avg_lin_nearest_mae', 'avg_lin_linear_mae', 'avg_spline_mae',  'avg_weekday_actuals_mae']\n",
    "plot_impute_methods(impute_methods_2)\n",
    "\n",
    "impute_methods_3 = ['avg_lin_nearest_mae', 'avg_lin_linear_mae', 'avg_spline_mae']\n",
    "plot_impute_methods(impute_methods_3)\n"
   ]
  },
  {
   "cell_type": "code",
   "execution_count": 68,
   "metadata": {},
   "outputs": [
    {
     "name": "stdout",
     "output_type": "stream",
     "text": [
      "Imputed NA num: 2352, NA in df: 2281\n"
     ]
    }
   ],
   "source": [
    "### Goal: Use Nixtla ETS model to forecast gaps\n",
    "# 1. Randomly place gaps in dataset of size n = 4 through 96\n",
    "\n",
    "### --- This is the dataframe for testing --- ###\n",
    "\n",
    "# To reflect actual data and favor this forecasting imputation\n",
    "# method, ensuring first x rows of data are available. \n",
    "\n",
    "# 1 day = 96 rows, 1 month = 96 * 30 = 2880\n",
    "impute_data['to_impute'] = impute_data['load_actual_entsoe_transparency']\n",
    "complete_range = impute_data.iloc[0:2879]\n",
    "impute_range = impute_data.iloc[2879:]\n",
    "nan_window = list(range(2, 96+1, 2)) # (gaps of size 2 to 96 by 2)\n",
    "impute_indices = list(impute_range.sample(len(nan_window), random_state=24).index)\n",
    "\n",
    "# -------- This method does not seem to impute enough nans\n",
    "for idx, num_nan in zip(impute_indices, nan_window):\n",
    "    impute_range.iloc[idx:idx+num_nan] = np.nan\n",
    "\n",
    "\n",
    "### num nan should be very close to \n",
    "# (possibility of overlapping windows)\n",
    "check_nan_num = sum(list(range(2,96+1,2))) \n",
    "actual_nan_num = sum(impute_range['to_impute'].isna())\n",
    "\n",
    "# NA in df is not close to the expected number... \n",
    "print(f\"Imputed NA num: {check_nan_num}, NA in df: {actual_nan_num}\")\n",
    "\n",
    "# no gaps are large enough to correspond to this difference\n",
    "final_impute_df = pd.concat([complete_range, impute_range])"
   ]
  },
  {
   "cell_type": "markdown",
   "metadata": {},
   "source": [
    "Investigating difference in number of NAs"
   ]
  },
  {
   "cell_type": "code",
   "execution_count": 18,
   "metadata": {},
   "outputs": [
    {
     "data": {
      "application/vnd.microsoft.datawrangler.viewer.v0+json": {
       "columns": [
        {
         "name": "index",
         "rawType": "int64",
         "type": "integer"
        },
        {
         "name": "sorted",
         "rawType": "int64",
         "type": "integer"
        },
        {
         "name": "diff",
         "rawType": "float64",
         "type": "float"
        },
        {
         "name": "n_gap_size",
         "rawType": "int64",
         "type": "integer"
        }
       ],
       "conversionMethod": "pd.DataFrame",
       "ref": "059474c7-a51e-4920-b659-fd3661c99bfa",
       "rows": [
        [
         "8",
         "35133",
         "19.0",
         "68"
        ]
       ],
       "shape": {
        "columns": 3,
        "rows": 1
       }
      },
      "text/html": [
       "<div>\n",
       "<style scoped>\n",
       "    .dataframe tbody tr th:only-of-type {\n",
       "        vertical-align: middle;\n",
       "    }\n",
       "\n",
       "    .dataframe tbody tr th {\n",
       "        vertical-align: top;\n",
       "    }\n",
       "\n",
       "    .dataframe thead th {\n",
       "        text-align: right;\n",
       "    }\n",
       "</style>\n",
       "<table border=\"1\" class=\"dataframe\">\n",
       "  <thead>\n",
       "    <tr style=\"text-align: right;\">\n",
       "      <th></th>\n",
       "      <th>sorted</th>\n",
       "      <th>diff</th>\n",
       "      <th>n_gap_size</th>\n",
       "    </tr>\n",
       "  </thead>\n",
       "  <tbody>\n",
       "    <tr>\n",
       "      <th>8</th>\n",
       "      <td>35133</td>\n",
       "      <td>19.0</td>\n",
       "      <td>68</td>\n",
       "    </tr>\n",
       "  </tbody>\n",
       "</table>\n",
       "</div>"
      ],
      "text/plain": [
       "   sorted  diff  n_gap_size\n",
       "8   35133  19.0          68"
      ]
     },
     "execution_count": 18,
     "metadata": {},
     "output_type": "execute_result"
    }
   ],
   "source": [
    "idx_gap_pairs = pd.DataFrame({\n",
    "    'idx': impute_indices,\n",
    "    'n_gap_size': nan_window\n",
    "    })\n",
    "\n",
    "lag_test = pd.DataFrame({\n",
    "    'sorted': sorted(impute_indices)\n",
    "    })\n",
    "\n",
    "lag_test['sorted_lag'] = lag_test['sorted'].shift()\n",
    "lag_test['diff'] = lag_test['sorted'] - lag_test['sorted_lag']\n",
    "\n",
    "final_tbl = (lag_test.merge(\n",
    "    idx_gap_pairs, \n",
    "    left_on='sorted', \n",
    "    right_on='idx', \n",
    "    how='left')\n",
    "    [['sorted', 'diff', 'n_gap_size']])\n",
    "\n",
    "# Cases where the gap is greter than the different, \n",
    "# causeing there to be fewer than expected NAs\n",
    "final_tbl.loc[lambda x: x['diff'] <= x['n_gap_size']]"
   ]
  },
  {
   "cell_type": "markdown",
   "metadata": {},
   "source": [
    "This above table explains a portion of the gap between expected NAs and actual NAs\n",
    "in the dataframe. \n",
    "\n",
    "NA_gap = 2352 - 2281 = 71  \n",
    "Expected missing NAs = 68 - 19 = 49\n",
    "\n",
    "Unfortunately, 71 - 49 = 22 missing NAs unexpectedly exist. Currently unaware of their origin."
   ]
  },
  {
   "cell_type": "code",
   "execution_count": 69,
   "metadata": {},
   "outputs": [
    {
     "data": {
      "application/vnd.microsoft.datawrangler.viewer.v0+json": {
       "columns": [
        {
         "name": "index",
         "rawType": "int64",
         "type": "integer"
        },
        {
         "name": "missing_group_num",
         "rawType": "int64",
         "type": "integer"
        },
        {
         "name": "consecutive",
         "rawType": "int64",
         "type": "integer"
        },
        {
         "name": "first_na_idx",
         "rawType": "int64",
         "type": "integer"
        },
        {
         "name": "last_na_idx",
         "rawType": "int64",
         "type": "integer"
        }
       ],
       "conversionMethod": "pd.DataFrame",
       "ref": "83ea162c-f9be-4c69-b8d9-a5bf182195ac",
       "rows": [
        [
         "1",
         "1",
         "24",
         "6052",
         "6077"
        ],
        [
         "2",
         "2",
         "60",
         "6601",
         "6662"
        ],
        [
         "3",
         "3",
         "50",
         "11487",
         "11538"
        ],
        [
         "4",
         "4",
         "36",
         "20487",
         "20524"
        ],
        [
         "5",
         "5",
         "82",
         "26193",
         "26276"
        ]
       ],
       "shape": {
        "columns": 4,
        "rows": 5
       }
      },
      "text/html": [
       "<div>\n",
       "<style scoped>\n",
       "    .dataframe tbody tr th:only-of-type {\n",
       "        vertical-align: middle;\n",
       "    }\n",
       "\n",
       "    .dataframe tbody tr th {\n",
       "        vertical-align: top;\n",
       "    }\n",
       "\n",
       "    .dataframe thead th {\n",
       "        text-align: right;\n",
       "    }\n",
       "</style>\n",
       "<table border=\"1\" class=\"dataframe\">\n",
       "  <thead>\n",
       "    <tr style=\"text-align: right;\">\n",
       "      <th></th>\n",
       "      <th>missing_group_num</th>\n",
       "      <th>consecutive</th>\n",
       "      <th>first_na_idx</th>\n",
       "      <th>last_na_idx</th>\n",
       "    </tr>\n",
       "  </thead>\n",
       "  <tbody>\n",
       "    <tr>\n",
       "      <th>1</th>\n",
       "      <td>1</td>\n",
       "      <td>24</td>\n",
       "      <td>6052</td>\n",
       "      <td>6077</td>\n",
       "    </tr>\n",
       "    <tr>\n",
       "      <th>2</th>\n",
       "      <td>2</td>\n",
       "      <td>60</td>\n",
       "      <td>6601</td>\n",
       "      <td>6662</td>\n",
       "    </tr>\n",
       "    <tr>\n",
       "      <th>3</th>\n",
       "      <td>3</td>\n",
       "      <td>50</td>\n",
       "      <td>11487</td>\n",
       "      <td>11538</td>\n",
       "    </tr>\n",
       "    <tr>\n",
       "      <th>4</th>\n",
       "      <td>4</td>\n",
       "      <td>36</td>\n",
       "      <td>20487</td>\n",
       "      <td>20524</td>\n",
       "    </tr>\n",
       "    <tr>\n",
       "      <th>5</th>\n",
       "      <td>5</td>\n",
       "      <td>82</td>\n",
       "      <td>26193</td>\n",
       "      <td>26276</td>\n",
       "    </tr>\n",
       "  </tbody>\n",
       "</table>\n",
       "</div>"
      ],
      "text/plain": [
       "   missing_group_num  consecutive  first_na_idx  last_na_idx\n",
       "1                  1           24          6052         6077\n",
       "2                  2           60          6601         6662\n",
       "3                  3           50         11487        11538\n",
       "4                  4           36         20487        20524\n",
       "5                  5           82         26193        26276"
      ]
     },
     "execution_count": 69,
     "metadata": {},
     "output_type": "execute_result"
    },
    {
     "name": "stdout",
     "output_type": "stream",
     "text": [
      "first_na: 6052, one_year_idx: 34560 suggested start: -28508, start: 0, end: 6051, horizon: 24\n"
     ]
    },
    {
     "data": {
      "text/plain": [
       "index                          int64\n",
       "utc_timestamp    datetime64[ns, UTC]\n",
       "to_impute                    float64\n",
       "dtype: object"
      ]
     },
     "execution_count": 69,
     "metadata": {},
     "output_type": "execute_result"
    },
    {
     "data": {
      "text/plain": [
       "(6051, 3)"
      ]
     },
     "execution_count": 69,
     "metadata": {},
     "output_type": "execute_result"
    },
    {
     "data": {
      "application/vnd.jupyter.widget-view+json": {
       "model_id": "bc7b5216ec6d47978f9042d5460ff45e",
       "version_major": 2,
       "version_minor": 0
      },
      "text/plain": [
       "Forecast:   0%|          | 0/1 [00:00<?, ?it/s]"
      ]
     },
     "metadata": {},
     "output_type": "display_data"
    },
    {
     "data": {
      "application/vnd.microsoft.datawrangler.viewer.v0+json": {
       "columns": [
        {
         "name": "index",
         "rawType": "int64",
         "type": "integer"
        },
        {
         "name": "index",
         "rawType": "int64",
         "type": "integer"
        },
        {
         "name": "utc_timestamp",
         "rawType": "datetime64[ns, UTC]",
         "type": "unknown"
        },
        {
         "name": "imputed",
         "rawType": "float64",
         "type": "float"
        }
       ],
       "conversionMethod": "pd.DataFrame",
       "ref": "de35f684-d3f9-4187-b442-f9ee0b306684",
       "rows": [
        [
         "0",
         "1",
         "2015-03-05 00:00:00+00:00",
         "7016.370734343151"
        ],
        [
         "1",
         "1",
         "2015-03-05 00:15:00+00:00",
         "6931.056459805086"
        ],
        [
         "2",
         "1",
         "2015-03-05 00:30:00+00:00",
         "6948.100639468776"
        ],
        [
         "3",
         "1",
         "2015-03-05 00:45:00+00:00",
         "6887.453011278023"
        ],
        [
         "4",
         "1",
         "2015-03-05 01:00:00+00:00",
         "6888.810414293366"
        ]
       ],
       "shape": {
        "columns": 3,
        "rows": 5
       }
      },
      "text/html": [
       "<div>\n",
       "<style scoped>\n",
       "    .dataframe tbody tr th:only-of-type {\n",
       "        vertical-align: middle;\n",
       "    }\n",
       "\n",
       "    .dataframe tbody tr th {\n",
       "        vertical-align: top;\n",
       "    }\n",
       "\n",
       "    .dataframe thead th {\n",
       "        text-align: right;\n",
       "    }\n",
       "</style>\n",
       "<table border=\"1\" class=\"dataframe\">\n",
       "  <thead>\n",
       "    <tr style=\"text-align: right;\">\n",
       "      <th></th>\n",
       "      <th>index</th>\n",
       "      <th>utc_timestamp</th>\n",
       "      <th>imputed</th>\n",
       "    </tr>\n",
       "  </thead>\n",
       "  <tbody>\n",
       "    <tr>\n",
       "      <th>0</th>\n",
       "      <td>1</td>\n",
       "      <td>2015-03-05 00:00:00+00:00</td>\n",
       "      <td>7016.370734</td>\n",
       "    </tr>\n",
       "    <tr>\n",
       "      <th>1</th>\n",
       "      <td>1</td>\n",
       "      <td>2015-03-05 00:15:00+00:00</td>\n",
       "      <td>6931.056460</td>\n",
       "    </tr>\n",
       "    <tr>\n",
       "      <th>2</th>\n",
       "      <td>1</td>\n",
       "      <td>2015-03-05 00:30:00+00:00</td>\n",
       "      <td>6948.100639</td>\n",
       "    </tr>\n",
       "    <tr>\n",
       "      <th>3</th>\n",
       "      <td>1</td>\n",
       "      <td>2015-03-05 00:45:00+00:00</td>\n",
       "      <td>6887.453011</td>\n",
       "    </tr>\n",
       "    <tr>\n",
       "      <th>4</th>\n",
       "      <td>1</td>\n",
       "      <td>2015-03-05 01:00:00+00:00</td>\n",
       "      <td>6888.810414</td>\n",
       "    </tr>\n",
       "  </tbody>\n",
       "</table>\n",
       "</div>"
      ],
      "text/plain": [
       "   index             utc_timestamp      imputed\n",
       "0      1 2015-03-05 00:00:00+00:00  7016.370734\n",
       "1      1 2015-03-05 00:15:00+00:00  6931.056460\n",
       "2      1 2015-03-05 00:30:00+00:00  6948.100639\n",
       "3      1 2015-03-05 00:45:00+00:00  6887.453011\n",
       "4      1 2015-03-05 01:00:00+00:00  6888.810414"
      ]
     },
     "execution_count": 69,
     "metadata": {},
     "output_type": "execute_result"
    }
   ],
   "source": [
    "from statsforecast import StatsForecast\n",
    "from statsforecast.models import AutoETS\n",
    "\n",
    "\n",
    "### Check if function can forecast with the non-na values - what happens?\n",
    "# If it breaks, remove the two prior to forecasting, then recombine later\n",
    "\n",
    "# indice of first NA value\n",
    "impute_info = create_impute_groups(final_impute_df, 'load_actual_entsoe_transparency') \n",
    "impute_info.head()\n",
    "\n",
    "first_na = impute_info['first_na_idx'].iloc[0] # for later: final_impute_df\n",
    "\n",
    "# Defining start, end, and horizon points of training window\n",
    "one_year_data = 2880 * 12 # Selecting all data available, up to 1 year\n",
    "start = max(first_na - one_year_data, 0)  \n",
    "end = first_na - 1\n",
    "\n",
    "horizon = impute_info['consecutive'].iloc[0]\n",
    "\n",
    "print(f\"first_na: {first_na}, one_year_idx: {one_year_data}\",\n",
    "      f\"suggested start: {first_na - one_year_data},\",\n",
    "      f\"start: {start}, end: {end}, horizon: {horizon}\")\n",
    "\n",
    "# trying freq=1 assuming one is the number of rows\n",
    "# the horizon may be an alternative?\n",
    "impute_model = StatsForecast(\n",
    "    models=[AutoETS(model=\"AAA\", season_length=96)], # --- season_length=96 (1 day) or maybe 1 week\n",
    "    freq='15min',\n",
    "    n_jobs=-1,\n",
    "    verbose=True\n",
    "    ) \n",
    "\n",
    "# forecast imputed values with forecast df\n",
    "import time\n",
    "begin_timing = time.time()\n",
    "fcst_df = (final_impute_df.iloc[start:end] # index may need to be reset\n",
    "           #.reset_index()\n",
    "           #.assign(index = lambda x: x['index'].astype('category'))\n",
    "           .assign(index = 1)\n",
    "           [['index', 'utc_timestamp', 'to_impute']]) \n",
    "\n",
    "fcst_df.dtypes\n",
    "fcst_df.shape \n",
    "\n",
    "result = impute_model.forecast(\n",
    "    df=fcst_df, \n",
    "    id_col='index',\n",
    "    time_col='utc_timestamp',\n",
    "    target_col='to_impute',\n",
    "    h=horizon\n",
    "    ).rename(columns={'AutoETS': 'imputed'})\n",
    "\n",
    "total_time = time.time() - start \n",
    "\n",
    "result.head()\n",
    "# print(f\"Total time to train AutoETS Model to impute {horizon} nans \",\n",
    "#       f\"given dataset of size {len(fcst_df)}: {total_time:2f} seconds\")\n",
    "\n",
    "# place imputation into the data from for the given indice range"
   ]
  }
 ],
 "metadata": {
  "kernelspec": {
   "display_name": "venv",
   "language": "python",
   "name": "python3"
  },
  "language_info": {
   "codemirror_mode": {
    "name": "ipython",
    "version": 3
   },
   "file_extension": ".py",
   "mimetype": "text/x-python",
   "name": "python",
   "nbconvert_exporter": "python",
   "pygments_lexer": "ipython3",
   "version": "3.12.0"
  }
 },
 "nbformat": 4,
 "nbformat_minor": 2
}
