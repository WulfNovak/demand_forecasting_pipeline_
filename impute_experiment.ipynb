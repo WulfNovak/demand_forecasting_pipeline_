{
 "cells": [
  {
   "cell_type": "markdown",
   "metadata": {},
   "source": [
    "### Imputation Method \n",
    "\n",
    "Compare different imputation methods for different windows of imputation. "
   ]
  },
  {
   "cell_type": "code",
   "execution_count": 40,
   "metadata": {},
   "outputs": [],
   "source": [
    "# Setup\n",
    "import numpy as np\n",
    "import pickle\n",
    "import pandas as pd\n",
    "from datetime import datetime\n",
    "import matplotlib.pyplot as plt\n",
    "import plotly.express as px\n",
    "from pathlib import Path\n",
    "import seaborn as sns\n",
    "from sklearn.metrics import mean_absolute_error\n",
    "from statsforecast import StatsForecast\n",
    "from statsforecast.models import AutoETS\n",
    "from prophet import Prophet\n",
    "import plotly.express as px\n",
    "\n",
    "# Multiple outputs per cell\n",
    "%config InteractiveShell.ast_node_interactivity = 'all'\n",
    "\n",
    "# Functions\n",
    "def create_hour_minute(df):\n",
    "    '''\n",
    "    This function is supplemental to the following 'add_time_features' function,\n",
    "    creating an hour_minute variable\n",
    "    '''\n",
    "    # Initialize empty variable\n",
    "    df['hour_minute'] = None\n",
    "\n",
    "    # Conditions\n",
    "    conditions = [df['utc_timestamp'].dt.minute == 15,\n",
    "                  df['utc_timestamp'].dt.minute == 30,\n",
    "                  df['utc_timestamp'].dt.minute == 45]\n",
    "    \n",
    "    transform = [df['utc_timestamp'].dt.hour + .25,\n",
    "                 df['utc_timestamp'].dt.hour + .5,\n",
    "                 df['utc_timestamp'].dt.hour + .75]\n",
    "    \n",
    "    # given conditions, transform \n",
    "    converted_times = np.select(conditions, transform, df['utc_timestamp'].dt.hour)\n",
    "\n",
    "    return converted_times\n",
    "\n",
    "def create_impute_groups(data, y):\n",
    "    '''\n",
    "    Given dataframe with variable to impute, returns \n",
    "    a group number for that NA, how many consecutive\n",
    "    NAs there are, and the first + last index values of \n",
    "    the consecutive NAs\n",
    "    '''\n",
    "    # note NA values in dataframe\n",
    "    df = (data.set_index('utc_timestamp') # data or self.data\n",
    "            .isna()\n",
    "            .reset_index(drop=True)\n",
    "          )\n",
    "    \n",
    "    # Assign groups of NAs a unique group number\n",
    "    group_num = 0\n",
    "    groups = [0]\n",
    "    for i in range(len(df[y].values)-1): # y or self.y\n",
    "        value = df[y].values[i]\n",
    "        next_value = df[y].values[i+1]\n",
    "\n",
    "        if value == False and next_value == True:\n",
    "            group_num += 1\n",
    "        if next_value == None:\n",
    "            continue\n",
    "        if value == False:\n",
    "            groups.append(0)\n",
    "        else: \n",
    "            groups.append(group_num)\n",
    "\n",
    "    # Add na groups and index columns to df\n",
    "    df['missing_group_num'] = groups \n",
    "    df['index'] = list(range(0, len(df)))\n",
    "\n",
    "    missing_lengths = (df.groupby('missing_group_num', as_index=False)\n",
    "                       .agg(consecutive = ('missing_group_num', 'count'),\n",
    "                            first_na_idx = ('index', 'min'),\n",
    "                            # adding 2 to last index for imputation\n",
    "                            last_na_idx = ('index', lambda x: x.max() + 2)) \n",
    "                       .iloc[1:] # remove non_na groups\n",
    "                       .sort_values('first_na_idx')\n",
    "                       )\n",
    "    \n",
    "    return missing_lengths\n",
    "\n",
    "def agg_results(impute_results):\n",
    "    cols = [*impute_results.columns[3:]] # ignoring cols to not agg over\n",
    "\n",
    "    agg_result = (impute_results.groupby('n', as_index=False)\n",
    "                        .agg({col: [(f'{col}_mean', 'mean'), (f'{col}_std', 'std')] for col in cols}))\n",
    "\n",
    "    agg_result.columns = [f'{col[1]}' for col in agg_result.columns] # col[1]\n",
    "    agg_result = agg_result.rename(columns={'': 'n'}).round(3)\n",
    "\n",
    "    return agg_result\n",
    "\n",
    "def plot_imputation_results(agg_result):\n",
    "    mean_cols = [col for col in agg_result.columns if col.endswith('_mean')]\n",
    "\n",
    "    fig = px.line(\n",
    "        data_frame=agg_result,\n",
    "        x='n',\n",
    "        y=mean_cols,\n",
    "        title='Imputation Comparison Results'\n",
    "    )\n",
    "\n",
    "    fig.show()"
   ]
  },
  {
   "cell_type": "code",
   "execution_count": 31,
   "metadata": {},
   "outputs": [],
   "source": [
    "# Read in data for developing imputation method\n",
    "cd = Path.cwd()\n",
    "data_dir = str(cd.parents[1])\n",
    "load_energy_dt = data_dir + '/datasets/country_energy/country_load.pickle'\n",
    "\n",
    "# Read pickle data \n",
    "with open(load_energy_dt, 'rb') as f:\n",
    "    country_actuals = (pickle.load(f)[['utc_timestamp', 'country', 'load_actual_entsoe_transparency']])"
   ]
  },
  {
   "cell_type": "code",
   "execution_count": 32,
   "metadata": {},
   "outputs": [
    {
     "data": {
      "image/png": "[encoded data removed]",
      "text/plain": [
       "<Figure size 1200x400 with 2 Axes>"
      ]
     },
     "metadata": {},
     "output_type": "display_data"
    }
   ],
   "source": [
    "missing_lengths = create_impute_groups(country_actuals, 'load_actual_entsoe_transparency')\n",
    "\n",
    "# Hist of missing lengths, omitting complete data\n",
    "fig, ax = plt.subplots(1, 2, figsize=(12,4))\n",
    "_ = sns.histplot(data=missing_lengths[1:], x='consecutive', stat='count', ax=ax[0])\n",
    "_ = sns.histplot(data=missing_lengths[1:], x='consecutive', stat='count', ax=ax[1])\n",
    "_ = ax[1].set_xlim(1,100)\n",
    "_ = plt.suptitle(\"Dist'n of consecutive missing days\")\n",
    "plt.show()"
   ]
  },
  {
   "cell_type": "code",
   "execution_count": 33,
   "metadata": {},
   "outputs": [
    {
     "data": {
      "application/vnd.microsoft.datawrangler.viewer.v0+json": {
       "columns": [
        {
         "name": "index",
         "rawType": "int64",
         "type": "integer"
        },
        {
         "name": "utc_timestamp",
         "rawType": "datetime64[ns, UTC]",
         "type": "unknown"
        },
        {
         "name": "country",
         "rawType": "object",
         "type": "string"
        },
        {
         "name": "load_actual_entsoe_transparency",
         "rawType": "float64",
         "type": "float"
        }
       ],
       "ref": "4e9498ae-3bfe-4a95-ac80-acb7d6a4dfd4",
       "rows": [
        [
         "0",
         "2014-12-31 23:15:00+00:00",
         "AT",
         "6088.0"
        ],
        [
         "1",
         "2014-12-31 23:30:00+00:00",
         "AT",
         "6060.0"
        ],
        [
         "2",
         "2014-12-31 23:45:00+00:00",
         "AT",
         "5957.6"
        ],
        [
         "3",
         "2015-01-01 00:00:00+00:00",
         "AT",
         "6017.2"
        ],
        [
         "4",
         "2015-01-01 00:15:00+00:00",
         "AT",
         "5966.8"
        ]
       ],
       "shape": {
        "columns": 3,
        "rows": 5
       }
      },
      "text/html": [
       "<div>\n",
       "<style scoped>\n",
       "    .dataframe tbody tr th:only-of-type {\n",
       "        vertical-align: middle;\n",
       "    }\n",
       "\n",
       "    .dataframe tbody tr th {\n",
       "        vertical-align: top;\n",
       "    }\n",
       "\n",
       "    .dataframe thead th {\n",
       "        text-align: right;\n",
       "    }\n",
       "</style>\n",
       "<table border=\"1\" class=\"dataframe\">\n",
       "  <thead>\n",
       "    <tr style=\"text-align: right;\">\n",
       "      <th></th>\n",
       "      <th>utc_timestamp</th>\n",
       "      <th>country</th>\n",
       "      <th>load_actual_entsoe_transparency</th>\n",
       "    </tr>\n",
       "  </thead>\n",
       "  <tbody>\n",
       "    <tr>\n",
       "      <th>0</th>\n",
       "      <td>2014-12-31 23:15:00+00:00</td>\n",
       "      <td>AT</td>\n",
       "      <td>6088.0</td>\n",
       "    </tr>\n",
       "    <tr>\n",
       "      <th>1</th>\n",
       "      <td>2014-12-31 23:30:00+00:00</td>\n",
       "      <td>AT</td>\n",
       "      <td>6060.0</td>\n",
       "    </tr>\n",
       "    <tr>\n",
       "      <th>2</th>\n",
       "      <td>2014-12-31 23:45:00+00:00</td>\n",
       "      <td>AT</td>\n",
       "      <td>5957.6</td>\n",
       "    </tr>\n",
       "    <tr>\n",
       "      <th>3</th>\n",
       "      <td>2015-01-01 00:00:00+00:00</td>\n",
       "      <td>AT</td>\n",
       "      <td>6017.2</td>\n",
       "    </tr>\n",
       "    <tr>\n",
       "      <th>4</th>\n",
       "      <td>2015-01-01 00:15:00+00:00</td>\n",
       "      <td>AT</td>\n",
       "      <td>5966.8</td>\n",
       "    </tr>\n",
       "  </tbody>\n",
       "</table>\n",
       "</div>"
      ],
      "text/plain": [
       "              utc_timestamp country  load_actual_entsoe_transparency\n",
       "0 2014-12-31 23:15:00+00:00      AT                           6088.0\n",
       "1 2014-12-31 23:30:00+00:00      AT                           6060.0\n",
       "2 2014-12-31 23:45:00+00:00      AT                           5957.6\n",
       "3 2015-01-01 00:00:00+00:00      AT                           6017.2\n",
       "4 2015-01-01 00:15:00+00:00      AT                           5966.8"
      ]
     },
     "execution_count": 33,
     "metadata": {},
     "output_type": "execute_result"
    }
   ],
   "source": [
    "country_actuals.head()"
   ]
  },
  {
   "cell_type": "code",
   "execution_count": 34,
   "metadata": {},
   "outputs": [
    {
     "data": {
      "application/vnd.microsoft.datawrangler.viewer.v0+json": {
       "columns": [
        {
         "name": "index",
         "rawType": "int64",
         "type": "integer"
        },
        {
         "name": "country",
         "rawType": "bool",
         "type": "boolean"
        },
        {
         "name": "load_actual_entsoe_transparency",
         "rawType": "bool",
         "type": "boolean"
        }
       ],
       "ref": "8324d423-b472-49dc-940e-cdd623bb9307",
       "rows": [
        [
         "0",
         "False",
         "False"
        ],
        [
         "1",
         "False",
         "False"
        ],
        [
         "2",
         "False",
         "False"
        ],
        [
         "3",
         "False",
         "False"
        ],
        [
         "4",
         "False",
         "False"
        ],
        [
         "5",
         "False",
         "False"
        ],
        [
         "6",
         "False",
         "False"
        ],
        [
         "7",
         "False",
         "False"
        ],
        [
         "8",
         "False",
         "False"
        ],
        [
         "9",
         "False",
         "False"
        ],
        [
         "10",
         "False",
         "False"
        ],
        [
         "11",
         "False",
         "False"
        ],
        [
         "12",
         "False",
         "False"
        ],
        [
         "13",
         "False",
         "False"
        ],
        [
         "14",
         "False",
         "False"
        ],
        [
         "15",
         "False",
         "False"
        ],
        [
         "16",
         "False",
         "False"
        ],
        [
         "17",
         "False",
         "False"
        ],
        [
         "18",
         "False",
         "False"
        ],
        [
         "19",
         "False",
         "False"
        ],
        [
         "20",
         "False",
         "False"
        ],
        [
         "21",
         "False",
         "False"
        ],
        [
         "22",
         "False",
         "False"
        ],
        [
         "23",
         "False",
         "False"
        ],
        [
         "24",
         "False",
         "False"
        ],
        [
         "25",
         "False",
         "False"
        ],
        [
         "26",
         "False",
         "False"
        ],
        [
         "27",
         "False",
         "False"
        ],
        [
         "28",
         "False",
         "False"
        ],
        [
         "29",
         "False",
         "False"
        ],
        [
         "30",
         "False",
         "False"
        ],
        [
         "31",
         "False",
         "False"
        ],
        [
         "32",
         "False",
         "False"
        ],
        [
         "33",
         "False",
         "False"
        ],
        [
         "34",
         "False",
         "False"
        ],
        [
         "35",
         "False",
         "False"
        ],
        [
         "36",
         "False",
         "False"
        ],
        [
         "37",
         "False",
         "False"
        ],
        [
         "38",
         "False",
         "False"
        ],
        [
         "39",
         "False",
         "False"
        ],
        [
         "40",
         "False",
         "False"
        ],
        [
         "41",
         "False",
         "False"
        ],
        [
         "42",
         "False",
         "False"
        ],
        [
         "43",
         "False",
         "False"
        ],
        [
         "44",
         "False",
         "False"
        ],
        [
         "45",
         "False",
         "False"
        ],
        [
         "46",
         "False",
         "False"
        ],
        [
         "47",
         "False",
         "False"
        ],
        [
         "48",
         "False",
         "False"
        ],
        [
         "49",
         "False",
         "False"
        ]
       ],
       "shape": {
        "columns": 2,
        "rows": 910674
       }
      },
      "text/html": [
       "<div>\n",
       "<style scoped>\n",
       "    .dataframe tbody tr th:only-of-type {\n",
       "        vertical-align: middle;\n",
       "    }\n",
       "\n",
       "    .dataframe tbody tr th {\n",
       "        vertical-align: top;\n",
       "    }\n",
       "\n",
       "    .dataframe thead th {\n",
       "        text-align: right;\n",
       "    }\n",
       "</style>\n",
       "<table border=\"1\" class=\"dataframe\">\n",
       "  <thead>\n",
       "    <tr style=\"text-align: right;\">\n",
       "      <th></th>\n",
       "      <th>country</th>\n",
       "      <th>load_actual_entsoe_transparency</th>\n",
       "    </tr>\n",
       "  </thead>\n",
       "  <tbody>\n",
       "    <tr>\n",
       "      <th>0</th>\n",
       "      <td>False</td>\n",
       "      <td>False</td>\n",
       "    </tr>\n",
       "    <tr>\n",
       "      <th>1</th>\n",
       "      <td>False</td>\n",
       "      <td>False</td>\n",
       "    </tr>\n",
       "    <tr>\n",
       "      <th>2</th>\n",
       "      <td>False</td>\n",
       "      <td>False</td>\n",
       "    </tr>\n",
       "    <tr>\n",
       "      <th>3</th>\n",
       "      <td>False</td>\n",
       "      <td>False</td>\n",
       "    </tr>\n",
       "    <tr>\n",
       "      <th>4</th>\n",
       "      <td>False</td>\n",
       "      <td>False</td>\n",
       "    </tr>\n",
       "    <tr>\n",
       "      <th>...</th>\n",
       "      <td>...</td>\n",
       "      <td>...</td>\n",
       "    </tr>\n",
       "    <tr>\n",
       "      <th>910669</th>\n",
       "      <td>False</td>\n",
       "      <td>False</td>\n",
       "    </tr>\n",
       "    <tr>\n",
       "      <th>910670</th>\n",
       "      <td>False</td>\n",
       "      <td>False</td>\n",
       "    </tr>\n",
       "    <tr>\n",
       "      <th>910671</th>\n",
       "      <td>False</td>\n",
       "      <td>False</td>\n",
       "    </tr>\n",
       "    <tr>\n",
       "      <th>910672</th>\n",
       "      <td>False</td>\n",
       "      <td>False</td>\n",
       "    </tr>\n",
       "    <tr>\n",
       "      <th>910673</th>\n",
       "      <td>False</td>\n",
       "      <td>True</td>\n",
       "    </tr>\n",
       "  </tbody>\n",
       "</table>\n",
       "<p>910674 rows × 2 columns</p>\n",
       "</div>"
      ],
      "text/plain": [
       "        country  load_actual_entsoe_transparency\n",
       "0         False                            False\n",
       "1         False                            False\n",
       "2         False                            False\n",
       "3         False                            False\n",
       "4         False                            False\n",
       "...         ...                              ...\n",
       "910669    False                            False\n",
       "910670    False                            False\n",
       "910671    False                            False\n",
       "910672    False                            False\n",
       "910673    False                             True\n",
       "\n",
       "[910674 rows x 2 columns]"
      ]
     },
     "execution_count": 34,
     "metadata": {},
     "output_type": "execute_result"
    },
    {
     "data": {
      "text/plain": [
       "148843"
      ]
     },
     "execution_count": 34,
     "metadata": {},
     "output_type": "execute_result"
    },
    {
     "data": {
      "application/vnd.microsoft.datawrangler.viewer.v0+json": {
       "columns": [
        {
         "name": "index",
         "rawType": "int64",
         "type": "integer"
        },
        {
         "name": "missing_group_num",
         "rawType": "int64",
         "type": "integer"
        },
        {
         "name": "consecutive",
         "rawType": "int64",
         "type": "integer"
        },
        {
         "name": "first_na_idx",
         "rawType": "int64",
         "type": "integer"
        },
        {
         "name": "last_na_idx",
         "rawType": "int64",
         "type": "integer"
        }
       ],
       "ref": "02d58e46-64c7-46f5-916e-2ad0cba4048d",
       "rows": [
        [
         "1",
         "1",
         "1",
         "151779",
         "151781"
        ],
        [
         "2",
         "2",
         "9",
         "289359",
         "289369"
        ],
        [
         "3",
         "3",
         "1",
         "303558",
         "303560"
        ],
        [
         "4",
         "4",
         "20",
         "448481",
         "448502"
        ],
        [
         "5",
         "5",
         "47",
         "449094",
         "449142"
        ],
        [
         "6",
         "6",
         "1",
         "455337",
         "455339"
        ],
        [
         "7",
         "7",
         "1",
         "607116",
         "607118"
        ],
        [
         "8",
         "8",
         "1",
         "758895",
         "758897"
        ],
        [
         "9",
         "9",
         "20",
         "889555",
         "889576"
        ],
        [
         "10",
         "10",
         "13",
         "892030",
         "892044"
        ],
        [
         "11",
         "11",
         "11",
         "892260",
         "892272"
        ],
        [
         "12",
         "12",
         "9",
         "892390",
         "892400"
        ],
        [
         "13",
         "13",
         "11",
         "892680",
         "892692"
        ],
        [
         "14",
         "14",
         "9",
         "892698",
         "892708"
        ],
        [
         "15",
         "15",
         "14",
         "892741",
         "892756"
        ],
        [
         "16",
         "16",
         "10",
         "892789",
         "892800"
        ],
        [
         "17",
         "17",
         "10",
         "893041",
         "893052"
        ],
        [
         "18",
         "18",
         "9",
         "893314",
         "893324"
        ],
        [
         "19",
         "19",
         "13",
         "893338",
         "893352"
        ],
        [
         "20",
         "20",
         "9",
         "893470",
         "893480"
        ],
        [
         "21",
         "21",
         "10",
         "893549",
         "893560"
        ],
        [
         "22",
         "22",
         "10",
         "893641",
         "893652"
        ],
        [
         "23",
         "23",
         "31",
         "893720",
         "893752"
        ],
        [
         "24",
         "24",
         "15",
         "893760",
         "893776"
        ],
        [
         "25",
         "25",
         "11",
         "893824",
         "893836"
        ],
        [
         "26",
         "26",
         "19",
         "893908",
         "893928"
        ],
        [
         "27",
         "27",
         "24",
         "893951",
         "893976"
        ],
        [
         "28",
         "28",
         "19",
         "893996",
         "894016"
        ],
        [
         "29",
         "29",
         "9",
         "894090",
         "894100"
        ],
        [
         "30",
         "30",
         "35",
         "894260",
         "894296"
        ],
        [
         "31",
         "31",
         "31",
         "894332",
         "894364"
        ],
        [
         "32",
         "32",
         "11",
         "894404",
         "894416"
        ],
        [
         "33",
         "33",
         "58",
         "894473",
         "894532"
        ],
        [
         "34",
         "34",
         "14",
         "894565",
         "894580"
        ],
        [
         "35",
         "35",
         "45",
         "894654",
         "894700"
        ],
        [
         "36",
         "36",
         "15",
         "894716",
         "894732"
        ],
        [
         "37",
         "37",
         "42",
         "894785",
         "894828"
        ],
        [
         "38",
         "38",
         "19",
         "895040",
         "895060"
        ],
        [
         "39",
         "39",
         "15",
         "895080",
         "895096"
        ],
        [
         "40",
         "40",
         "11",
         "895256",
         "895268"
        ],
        [
         "41",
         "41",
         "21",
         "895282",
         "895304"
        ],
        [
         "42",
         "42",
         "25",
         "895314",
         "895340"
        ],
        [
         "43",
         "43",
         "15",
         "895344",
         "895360"
        ],
        [
         "44",
         "44",
         "23",
         "895692",
         "895716"
        ],
        [
         "45",
         "45",
         "27",
         "895784",
         "895812"
        ],
        [
         "46",
         "46",
         "15",
         "895876",
         "895892"
        ],
        [
         "47",
         "47",
         "18",
         "895941",
         "895960"
        ],
        [
         "48",
         "48",
         "14",
         "896061",
         "896076"
        ],
        [
         "49",
         "49",
         "138",
         "896085",
         "896224"
        ],
        [
         "50",
         "50",
         "11",
         "896280",
         "896292"
        ]
       ],
       "shape": {
        "columns": 4,
        "rows": 80
       }
      },
      "text/html": [
       "<div>\n",
       "<style scoped>\n",
       "    .dataframe tbody tr th:only-of-type {\n",
       "        vertical-align: middle;\n",
       "    }\n",
       "\n",
       "    .dataframe tbody tr th {\n",
       "        vertical-align: top;\n",
       "    }\n",
       "\n",
       "    .dataframe thead th {\n",
       "        text-align: right;\n",
       "    }\n",
       "</style>\n",
       "<table border=\"1\" class=\"dataframe\">\n",
       "  <thead>\n",
       "    <tr style=\"text-align: right;\">\n",
       "      <th></th>\n",
       "      <th>missing_group_num</th>\n",
       "      <th>consecutive</th>\n",
       "      <th>first_na_idx</th>\n",
       "      <th>last_na_idx</th>\n",
       "    </tr>\n",
       "  </thead>\n",
       "  <tbody>\n",
       "    <tr>\n",
       "      <th>1</th>\n",
       "      <td>1</td>\n",
       "      <td>1</td>\n",
       "      <td>151779</td>\n",
       "      <td>151781</td>\n",
       "    </tr>\n",
       "    <tr>\n",
       "      <th>2</th>\n",
       "      <td>2</td>\n",
       "      <td>9</td>\n",
       "      <td>289359</td>\n",
       "      <td>289369</td>\n",
       "    </tr>\n",
       "    <tr>\n",
       "      <th>3</th>\n",
       "      <td>3</td>\n",
       "      <td>1</td>\n",
       "      <td>303558</td>\n",
       "      <td>303560</td>\n",
       "    </tr>\n",
       "    <tr>\n",
       "      <th>4</th>\n",
       "      <td>4</td>\n",
       "      <td>20</td>\n",
       "      <td>448481</td>\n",
       "      <td>448502</td>\n",
       "    </tr>\n",
       "    <tr>\n",
       "      <th>5</th>\n",
       "      <td>5</td>\n",
       "      <td>47</td>\n",
       "      <td>449094</td>\n",
       "      <td>449142</td>\n",
       "    </tr>\n",
       "    <tr>\n",
       "      <th>...</th>\n",
       "      <td>...</td>\n",
       "      <td>...</td>\n",
       "      <td>...</td>\n",
       "      <td>...</td>\n",
       "    </tr>\n",
       "    <tr>\n",
       "      <th>76</th>\n",
       "      <td>76</td>\n",
       "      <td>16</td>\n",
       "      <td>905955</td>\n",
       "      <td>905972</td>\n",
       "    </tr>\n",
       "    <tr>\n",
       "      <th>77</th>\n",
       "      <td>77</td>\n",
       "      <td>12</td>\n",
       "      <td>905991</td>\n",
       "      <td>906004</td>\n",
       "    </tr>\n",
       "    <tr>\n",
       "      <th>78</th>\n",
       "      <td>78</td>\n",
       "      <td>24</td>\n",
       "      <td>906011</td>\n",
       "      <td>906036</td>\n",
       "    </tr>\n",
       "    <tr>\n",
       "      <th>79</th>\n",
       "      <td>79</td>\n",
       "      <td>9</td>\n",
       "      <td>906062</td>\n",
       "      <td>906072</td>\n",
       "    </tr>\n",
       "    <tr>\n",
       "      <th>80</th>\n",
       "      <td>80</td>\n",
       "      <td>20</td>\n",
       "      <td>906079</td>\n",
       "      <td>906100</td>\n",
       "    </tr>\n",
       "  </tbody>\n",
       "</table>\n",
       "<p>80 rows × 4 columns</p>\n",
       "</div>"
      ],
      "text/plain": [
       "    missing_group_num  consecutive  first_na_idx  last_na_idx\n",
       "1                   1            1        151779       151781\n",
       "2                   2            9        289359       289369\n",
       "3                   3            1        303558       303560\n",
       "4                   4           20        448481       448502\n",
       "5                   5           47        449094       449142\n",
       "..                ...          ...           ...          ...\n",
       "76                 76           16        905955       905972\n",
       "77                 77           12        905991       906004\n",
       "78                 78           24        906011       906036\n",
       "79                 79            9        906062       906072\n",
       "80                 80           20        906079       906100\n",
       "\n",
       "[80 rows x 4 columns]"
      ]
     },
     "execution_count": 34,
     "metadata": {},
     "output_type": "execute_result"
    }
   ],
   "source": [
    "test = country_actuals.set_index('utc_timestamp').isna().reset_index(drop=True)\n",
    "test\n",
    "group_num = 0 \n",
    "groups = [0] ### --- Problem is that 'to_impute' must be hardcoded\n",
    "for i in range(len(test['load_actual_entsoe_transparency'].values)-1): # y or self.y\n",
    "    value = test['load_actual_entsoe_transparency'].values[i]\n",
    "    next_value = test['load_actual_entsoe_transparency'].values[i+1]\n",
    "\n",
    "    if value == False and next_value == True:\n",
    "        group_num += 1\n",
    "    if next_value == None:\n",
    "        continue\n",
    "    if value == False:\n",
    "        groups.append(0)\n",
    "    else: \n",
    "        groups.append(group_num)\n",
    "# groups\n",
    "sum(groups)\n",
    "create_impute_groups(country_actuals, 'load_actual_entsoe_transparency')"
   ]
  },
  {
   "cell_type": "code",
   "execution_count": 35,
   "metadata": {},
   "outputs": [
    {
     "data": {
      "image/png": "[encoded data removed]",
      "text/plain": [
       "<Figure size 1500x300 with 1 Axes>"
      ]
     },
     "metadata": {},
     "output_type": "display_data"
    }
   ],
   "source": [
    "### Developing imputation algorithm with AT due \n",
    "# # to there being a full dataset\n",
    "plot_dt = country_actuals.loc[lambda x: x.country == 'AT']\n",
    "\n",
    "_ = plt.figure(figsize=(15, 3))\n",
    "\n",
    "_ = sns.lineplot(\n",
    "    data=plot_dt, \n",
    "    x='utc_timestamp', \n",
    "    y='load_actual_entsoe_transparency', \n",
    "    linewidth=0.25)\n",
    "\n",
    "plt.show()"
   ]
  },
  {
   "cell_type": "markdown",
   "metadata": {},
   "source": [
    "## Impute method comparison\n",
    "- Select AT due to their being no NA values for imputation test\n",
    "- Create window of size n: 2 through 96 (by 2)\n",
    "    - Randomly sample 24 windows slightly larger than size n from dataset\n",
    "    - Place n nans in dataset\n",
    "    - Across the 24 windows, get average mae for a given imputation method\n",
    "- Display table results of imputation methods across the windows\n",
    "- Display plots of results comparing methods"
   ]
  },
  {
   "cell_type": "markdown",
   "metadata": {},
   "source": [
    "### Testing Loop parallelized with Ray"
   ]
  },
  {
   "cell_type": "code",
   "execution_count": 36,
   "metadata": {},
   "outputs": [],
   "source": [
    "import ray"
   ]
  },
  {
   "cell_type": "markdown",
   "metadata": {},
   "source": [
    "Without Class Structure"
   ]
  },
  {
   "cell_type": "code",
   "execution_count": 57,
   "metadata": {},
   "outputs": [],
   "source": [
    "### For test, Limiting to AT due to no missing data\n",
    "\n",
    "@ray.remote\n",
    "def create_hour_minute(df):\n",
    "    '''\n",
    "    This function is supplemental to the following 'add_time_features' function,\n",
    "    creating an hour_minute variable\n",
    "    '''\n",
    "    # Initialize empty variable\n",
    "    df['hour_minute'] = None\n",
    "\n",
    "    # Conditions\n",
    "    conditions = [df['utc_timestamp'].dt.minute == 15,\n",
    "                  df['utc_timestamp'].dt.minute == 30,\n",
    "                  df['utc_timestamp'].dt.minute == 45]\n",
    "    \n",
    "    transform = [df['utc_timestamp'].dt.hour + .25,\n",
    "                 df['utc_timestamp'].dt.hour + .5,\n",
    "                 df['utc_timestamp'].dt.hour + .75]\n",
    "    \n",
    "    # given conditions, transform \n",
    "    converted_times = np.select(conditions, transform, df['utc_timestamp'].dt.hour)\n",
    "\n",
    "    return converted_times\n",
    "\n",
    "@ray.remote\n",
    "def create_impute_data(data):\n",
    "    '''\n",
    "    Creates main dataset for this experiment, which includes day,\n",
    "    weekday, and hour_minute. The chosen country, 'AT' (Austria),\n",
    "    has complete data, making experimentation easy. \n",
    "    '''\n",
    "    impute_data = (data.assign(\n",
    "            day = lambda x: x['utc_timestamp'].dt.day,\n",
    "            weekday = lambda x: x['utc_timestamp'].dt.strftime('%a'),\n",
    "            hour_minute = lambda x: ray.get(create_hour_minute.remote(x))\n",
    "        )\n",
    "        .loc[lambda x: x.country == 'AT']\n",
    "        .reset_index(drop=True)\n",
    "        ) \n",
    "\n",
    "    return impute_data\n",
    "\n",
    "@ray.remote\n",
    "def create_window_idx(data, num_windows=24):\n",
    "    # indices to loop over for get mae across 24 samples\n",
    "    impute_windows = list(data.sample(num_windows, random_state=24).index)\n",
    "    return impute_windows\n",
    "\n",
    "@ray.remote\n",
    "def create_weekday_impute(data):\n",
    "    '''\n",
    "    Creates average over a weekday time period, \n",
    "    for imputing load_actal_entsoe_transparency values.\n",
    "    '''\n",
    "    # Weekday impute method\n",
    "    weekday_impute = (data.groupby(['weekday', 'hour_minute'], as_index=False)\n",
    "                    .agg(avg_weekday_actuals = ('load_actual_entsoe_transparency', lambda x: x.mean().round(2)))\n",
    "                    )\n",
    "    week_order = ['Mon', 'Tue', 'Wed', 'Thu', 'Fri', 'Sat', 'Sun']\n",
    "    weekday_impute['weekday'] = pd.Categorical(\n",
    "        weekday_impute['weekday'], \n",
    "        categories=week_order, \n",
    "        ordered=True\n",
    "        )\n",
    "    weekday_impute = weekday_impute.sort_values(by=['weekday','hour_minute'])\n",
    "    \n",
    "    return weekday_impute"
   ]
  },
  {
   "cell_type": "code",
   "execution_count": 58,
   "metadata": {},
   "outputs": [],
   "source": [
    "# Goals: Resolve the following --- Solution may have been method of creating the fcst dataframe ---\n",
    "\n",
    "@ray.remote\n",
    "def create_impute_window(data, n, idx, forecast=False): \n",
    "    '''\n",
    "    Creates imputation window with n NAs at index idx. \n",
    "    Window:\n",
    "        1 row of available data, \n",
    "        n rows of NAs, \n",
    "        2 rows of available data\n",
    "    \n",
    "    If forecast=True, then there is up to 6months of data before NA values.\n",
    "    \n",
    "    This is done to ensure all imputation methods can impute without error\n",
    "    '''\n",
    "\n",
    "    window = data.iloc[idx-1:idx+n+2]\n",
    "    window['to_impute'] = window['load_actual_entsoe_transparency'];  \n",
    "    window.loc[idx:idx+n-1, 'to_impute'] = np.nan\n",
    "\n",
    "    # forecast impute window, which has additional data for forcasting\n",
    "    if forecast:\n",
    "        ### Future: consider dynamic forecast window\n",
    "        one_year_data = int((2880 * 12) / 2) # Selecting all data available, up to 6 months\n",
    "        fcst_start = max(idx - one_year_data, 0) \n",
    "        fcst_window = data.iloc[fcst_start:idx+n+2]\n",
    "        fcst_window['to_impute'] = fcst_window['load_actual_entsoe_transparency'];  \n",
    "        fcst_window.loc[idx:idx+n-1, 'to_impute'] = np.nan\n",
    "\n",
    "        return fcst_window\n",
    "    \n",
    "    return window\n",
    "\n",
    "@ray.remote\n",
    "def create_impute_groups(data, y):\n",
    "    '''\n",
    "    Given dataframe with variable to impute, returns \n",
    "    a group number for that NA, how many consecutive\n",
    "    NAs there are, and the first + last index values of \n",
    "    the consecutive NAs\n",
    "    '''\n",
    "    # note NA values in dataframe\n",
    "    df = (data.set_index('utc_timestamp') # data or self.data\n",
    "            .isna()\n",
    "            .reset_index(drop=True)\n",
    "          )\n",
    "    \n",
    "    # Assign groups of NAs a unique group number\n",
    "    group_num = 0\n",
    "    groups = [0]\n",
    "    for i in range(len(df[y].values)-1): # y or self.y\n",
    "        value = df[y].values[i]\n",
    "        next_value = df[y].values[i+1]\n",
    "\n",
    "        if value == False and next_value == True:\n",
    "            group_num += 1\n",
    "        if next_value == None:\n",
    "            continue\n",
    "        if value == False:\n",
    "            groups.append(0)\n",
    "        else: \n",
    "            groups.append(group_num)\n",
    "\n",
    "    # Add na groups and index columns to df\n",
    "    df['missing_group_num'] = groups \n",
    "    df['index'] = list(range(0, len(df)))\n",
    "\n",
    "    missing_lengths = (df.groupby('missing_group_num', as_index=False)\n",
    "                       .agg(consecutive = ('missing_group_num', 'count'),\n",
    "                            first_na_idx = ('index', 'min'),\n",
    "                            # adding 2 to last index for imputation\n",
    "                            last_na_idx = ('index', lambda x: x.max() + 2)) \n",
    "                       .iloc[1:] # remove non_na groups\n",
    "                       .sort_values('first_na_idx')\n",
    "                       )\n",
    "    \n",
    "    return missing_lengths\n",
    "\n",
    "@ray.remote\n",
    "def forecast_impute(data, y, model_type='AutoETS'): # AutoETS AAA\n",
    "    '''\n",
    "    Given forecasting data and y, creates a forecast model\n",
    "    with a horizon depending on the number of NAs needing\n",
    "    imputation.\n",
    "    Currently, can select 'AutoETS' or 'Prophet' as forecasting models.\n",
    "    '''\n",
    "    # from statsforecast import StatsForecast\n",
    "    # from statsforecast.models import AutoETS\n",
    "    data = data.reset_index(drop=True)\n",
    "    impute_info = ray.get(create_impute_groups.remote(data, y))\n",
    "        \n",
    "    first_na = impute_info['first_na_idx'].iloc[0] \n",
    "\n",
    "    # Defining start, end, and horizon points of training window\n",
    "    one_year_data = 2880 * 6 # Selecting all data available, up to 6 months\n",
    "    start = max(first_na - one_year_data, 0)  \n",
    "    end = first_na - 1 \n",
    "    \n",
    "    horizon = impute_info['consecutive'].iloc[0]\n",
    "    fcst_df = (data.iloc[start:end] \n",
    "            .assign(index = 1) \n",
    "            [['index', 'utc_timestamp', y]]) # --- This needs to be generalized\n",
    "\n",
    "    if model_type == 'AutoETS':\n",
    "        pd.options.mode.chained_assignment = None\n",
    "\n",
    "        fcst_df = (data.iloc[start:end] \n",
    "            .assign(index = 1) \n",
    "            [['index', 'utc_timestamp', y]])\n",
    "\n",
    "        impute_model = StatsForecast(\n",
    "            models=[AutoETS(model='AAA', season_length=96)], # --- season_length=96 (1 day) or maybe 1 week\n",
    "            freq='15min', # --- Needs generalizaiton\n",
    "            n_jobs=-1,\n",
    "            verbose=False\n",
    "            ) \n",
    "\n",
    "        result = impute_model.forecast(\n",
    "            df=fcst_df, \n",
    "            id_col='index',\n",
    "            time_col='utc_timestamp', # --- Needs generalization \n",
    "            target_col=y, # --- Needs generalization\n",
    "            h=horizon,\n",
    "            # show progress = False,\n",
    "            ).rename(columns={'AutoETS': 'imputed'})\n",
    "        \n",
    "        return result['imputed'] # --- Needs generalization\n",
    "    \n",
    "    if model_type == 'Prophet':\n",
    "        fcst_df = (data.iloc[start:end] \n",
    "           .rename(columns={'utc_timestamp': 'ds',\n",
    "                             f\"{y}\": 'y'})\n",
    "            [['ds', 'y']])\n",
    "            \n",
    "        fcst_df['ds'] = fcst_df['ds'].dt.tz_localize(None)\n",
    "        \n",
    "        model = (Prophet(\n",
    "            yearly_seasonality=True,\n",
    "            weekly_seasonality=True,\n",
    "            seasonality_mode='additive',\n",
    "            )\n",
    "            .add_seasonality(name='intraday', \n",
    "                             period=96/2,  # (4 * 24 / 2) 15 min intervals\n",
    "                             fourier_order=4)\n",
    "            .fit(fcst_df[1:])) # ds and y only\n",
    "        # further improvement if holidays are added\n",
    "\n",
    "        # create dataframe of length horizon with the ds component\n",
    "        predict_window = (data.iloc[first_na-1:first_na+horizon-1]\n",
    "                          .rename(columns={'utc_timestamp': 'ds'})\n",
    "                          [['ds']])\n",
    "        predict_window['ds'] = predict_window['ds'].dt.tz_localize(None)        \n",
    "        \n",
    "        result = (model.predict(predict_window)\n",
    "                  .rename(columns={'yhat': 'to_impute'}))\n",
    "        \n",
    "        return result['to_impute'] # --- Needs generalization\n",
    "\n",
    "@ray.remote\n",
    "def imputation_test(data, n, idx, i):\n",
    "    '''\n",
    "    Imputes n values in the data with several imputation methods and \n",
    "    stores the results.\n",
    "\n",
    "    This function pairs with th eimputation comparison function,\n",
    "    resulting in an automated loop for comparing imputation values\n",
    "    '''\n",
    "    \n",
    "    # create impute windows\n",
    "    window = ray.get(create_impute_window.remote(data, n, idx))\n",
    "    fcst_window = ray.get(create_impute_window.remote(data, n, idx, forecast=True))\n",
    "    weekday_impute = ray.get(create_weekday_impute.remote(data))\n",
    "\n",
    "    # Weekday average impute method\n",
    "    window = window.merge(weekday_impute, how='left', on=['weekday', 'hour_minute'])\n",
    "\n",
    "    # Interpolation impute methods\n",
    "    window['lin_nearest_impute'] = window['to_impute'].interpolate(method=\"nearest\")\n",
    "    window['lin_linear_impute'] = window['to_impute'].interpolate(method=\"linear\")\n",
    "    window['spline_impute'] = window['to_impute'].interpolate(method=\"spline\", order=2)\n",
    "\n",
    "    # # fcst_impute with load_actual, horizon chosen within, then add rows to the window to calculate the MAE\n",
    "    fcst_impute = ray.get(forecast_impute.remote(fcst_window, 'to_impute', model_type='AutoETS'))  # Prophet\n",
    "    prophet_fcst_impute = ray.get(forecast_impute.remote(fcst_window, 'to_impute', model_type='Prophet'))\n",
    "    del fcst_window\n",
    "    first_value = window['to_impute'][0]\n",
    "    last_values = window['to_impute'][-2:].values\n",
    "\n",
    "    fcst_imputed = [first_value, *fcst_impute.values, *last_values]\n",
    "    prophet_fcst_imputed = [first_value, *prophet_fcst_impute.values, *last_values]\n",
    "\n",
    "    window['fcst_imputed'] = fcst_imputed\n",
    "    window['fcst_impute_smooth'] = pd.Series(fcst_imputed).ewm(alpha=.5).mean()\n",
    "    window['prophet_fcst_imputed'] = prophet_fcst_imputed\n",
    "    window['prophet_fcst_imputed_smooth'] = pd.Series(prophet_fcst_imputed).ewm(alpha=.5).mean()\n",
    "\n",
    "    lin_nearest_mae = mean_absolute_error(\n",
    "        window['load_actual_entsoe_transparency'], \n",
    "        window['lin_nearest_impute']\n",
    "        )\n",
    "    lin_linear_mae = mean_absolute_error(\n",
    "        window['load_actual_entsoe_transparency'], \n",
    "        window['lin_linear_impute']\n",
    "        )\n",
    "    spline_mae = mean_absolute_error(\n",
    "        window['load_actual_entsoe_transparency'], \n",
    "        window['spline_impute']\n",
    "        )\n",
    "    weekday_actuals_mae = mean_absolute_error(\n",
    "        window['load_actual_entsoe_transparency'], \n",
    "        window['avg_weekday_actuals']\n",
    "        )\n",
    "    fcst_mae = mean_absolute_error(\n",
    "        window['load_actual_entsoe_transparency'], \n",
    "        window['fcst_imputed']\n",
    "        )\n",
    "    prophet_fcst_mae = mean_absolute_error(\n",
    "        window['load_actual_entsoe_transparency'], \n",
    "        window['prophet_fcst_imputed']\n",
    "        )\n",
    "    fcst_smooth_mae = mean_absolute_error(\n",
    "        window['load_actual_entsoe_transparency'], \n",
    "        window['fcst_impute_smooth']\n",
    "        )\n",
    "    prophet_fcst_smooth_mae = mean_absolute_error(\n",
    "        window['load_actual_entsoe_transparency'], \n",
    "        window['prophet_fcst_imputed_smooth']\n",
    "        )\n",
    "\n",
    "    result = pd.DataFrame({ \n",
    "        \"trial\": [i+1],\n",
    "        \"n\": [n],\n",
    "        \"lin_nearest_mae\": [lin_nearest_mae],\n",
    "        \"lin_linear_mae\": [lin_linear_mae],\n",
    "        \"spline_mae\": [spline_mae],\n",
    "        \"weekday_actuals_mae\": [weekday_actuals_mae],\n",
    "        \"fcst_mae\": [fcst_mae],\n",
    "        \"prophet_fcst_mae\": [prophet_fcst_mae],\n",
    "        \"fcst_smooth_mae\": [fcst_smooth_mae],\n",
    "        \"prophet_fcst_smooth_mae\": [prophet_fcst_smooth_mae],\n",
    "        })\n",
    "\n",
    "    return result\n",
    "\n",
    "@ray.remote\n",
    "def imputation_comparison(data, impute_windows, start=2, end=96+1, increment=2):\n",
    "    \n",
    "    final_results = pd.DataFrame({})\n",
    "    for n in range(start, end, increment): # range(2, 96+1, 2):\n",
    "        \n",
    "        # parallelize inner loop\n",
    "        inner_futures = [imputation_test.remote(data, n, idx, i) for i, idx in enumerate(impute_windows)]\n",
    "        \n",
    "        results = ray.get(inner_futures)\n",
    "\n",
    "        for i in range(len(results)):\n",
    "            final_results = pd.concat([final_results, results[i]])\n",
    "        \n",
    "        # Put and save the results for later\n",
    "        object_id = ray.put(final_results, _owner=None)\n",
    "        print(f\"Result stored with ID: {object_id}\")\n",
    "    \n",
    "    return final_results"
   ]
  },
  {
   "cell_type": "code",
   "execution_count": null,
   "metadata": {},
   "outputs": [],
   "source": [
    "%%capture\n",
    "\n",
    "ray.shutdown()\n",
    "### --- ray metrics launch-prometheus\n",
    "ray.init(num_cpus=7, num_gpus=0)\n",
    "impute_data = create_impute_data.remote(country_actuals)\n",
    "input_data = ray.get(impute_data)\n",
    "impute_windows = ray.get(create_window_idx.remote(input_data))\n",
    "weekday_impute = create_weekday_impute.remote(input_data)\n",
    "\n",
    "imputation_results = imputation_comparison.remote(\n",
    "    input_data, \n",
    "    impute_windows,\n",
    "    start=2, \n",
    "    end=96+1, \n",
    "    increment=4)"
   ]
  },
  {
   "cell_type": "code",
   "execution_count": 60,
   "metadata": {},
   "outputs": [],
   "source": [
    "# retrieve results\n",
    "result = ray.get(imputation_results)\n",
    "# Write results locally as backup\n",
    "result.to_csv('imputation_results_2.csv')\n",
    "\n",
    "ray.shutdown()\n"
   ]
  },
  {
   "cell_type": "markdown",
   "metadata": {},
   "source": [
    "Plot comparison of imputation methods"
   ]
  },
  {
   "cell_type": "code",
   "execution_count": 61,
   "metadata": {},
   "outputs": [],
   "source": [
    "cd = Path.cwd()\n",
    "data_dir = str(cd.parents[0])\n",
    "filepath = data_dir + '\\\\load_forecasting_analysis\\\\imputation_results_2.csv'\n",
    "\n",
    "impute_results = pd.read_csv(filepath)\n",
    "\n",
    "agg_result = agg_results(impute_results)\n"
   ]
  },
  {
   "cell_type": "code",
   "execution_count": 62,
   "metadata": {},
   "outputs": [
    {
     "data": {
      "application/vnd.plotly.v1+json": {
       "config": {
        "plotlyServerURL": "https://plot.ly"
       },
       "data": [
        {
         "hovertemplate": "variable=lin_nearest_mae_mean<br>n=%{x}<br>value=%{y}<extra></extra>",
         "legendgroup": "lin_nearest_mae_mean",
         "line": {
          "color": "#636efa",
          "dash": "solid"
         },
         "marker": {
          "symbol": "circle"
         },
         "mode": "lines",
         "name": "lin_nearest_mae_mean",
         "orientation": "v",
         "showlegend": true,
         "type": "scatter",
         "x": {
          "bdata": "AgYKDhIWGh4iJiouMjY6PkJGSk5SVlpe",
          "dtype": "i1"
         },
         "xaxis": "x",
         "y": {
          "bdata": "gZVDi2w3QEBiEFg5tMBXQIPAyqFF6mNAJzEIrByia0Coxks3iQ9yQHWTGARWynZA+n5qvHTDeUBSuB6F68F9QBBYObTIDn9AUrgehetsgUDFILByaNyBQB1aZDvfd4JAK4cW2c4+g0DfT42XboyEQPLSTWIQ74VAsp3vp8Ywh0B56SYxCFSJQEjhehSupotA7FG4HoUojEC4HoXrUXGMQClcj8L1C45AZmZmZmYNj0CJQWDl0MWPQJHtfD81Zo9A",
          "dtype": "f8"
         },
         "yaxis": "y"
        },
        {
         "hovertemplate": "variable=lin_linear_mae_mean<br>n=%{x}<br>value=%{y}<extra></extra>",
         "legendgroup": "lin_linear_mae_mean",
         "line": {
          "color": "#EF553B",
          "dash": "solid"
         },
         "marker": {
          "symbol": "circle"
         },
         "mode": "lines",
         "name": "lin_linear_mae_mean",
         "orientation": "v",
         "showlegend": true,
         "type": "scatter",
         "x": {
          "bdata": "AgYKDhIWGh4iJiouMjY6PkJGSk5SVlpe",
          "dtype": "i1"
         },
         "xaxis": "x",
         "y": {
          "bdata": "WDm0yHbeMUC4HoXrUYhKQH0/NV66QVlAxSCwcmgNZEApXI/C9ZxrQJ7vp8ZL53JAUI2XbhLfdUCF61G4HqF6QD0K16NwmX1ABoGVQ4uZgECYbhKDwDqBQFyPwvUofYJADi2yne8mg0BOYhBYOS6EQDMzMzMzpoVAeekmMQgZh0BOYhBYOeWIQNnO91PjUYpABoGVQ4udi0CwcmiR7XuMQGDl0CLbb45ApHA9CtdBj0BvEoPAyuWPQCPb+X5qhY9A",
          "dtype": "f8"
         },
         "yaxis": "y"
        },
        {
         "hovertemplate": "variable=spline_mae_mean<br>n=%{x}<br>value=%{y}<extra></extra>",
         "legendgroup": "spline_mae_mean",
         "line": {
          "color": "#00cc96",
          "dash": "solid"
         },
         "marker": {
          "symbol": "circle"
         },
         "mode": "lines",
         "name": "spline_mae_mean",
         "orientation": "v",
         "showlegend": true,
         "type": "scatter",
         "x": {
          "bdata": "AgYKDhIWGh4iJiouMjY6PkJGSk5SVlpe",
          "dtype": "i1"
         },
         "xaxis": "x",
         "y": {
          "bdata": "yXa+nxoPMkBOYhBYOWRGQH0/NV66yVJAf2q8dJM4YkAMAiuHFoVsQMdLN4lBKnBAnu+nxkuPekDn+6nx0jF5QGQ730+N5X1ADAIrhxZRe0CR7Xw/NcOBQOkmMQisy4ZA+n5qvHSMiECq8dJNYiWHQB1aZDvfUYpAJQaBlUPaiED2KFyPwieLQA4tsp3vTYpAw/UoXA8IkEB56SYxCPeTQEjhehQunZJAUrgeheufk0AZBFYOreySQIPAyqFF0ZdA",
          "dtype": "f8"
         },
         "yaxis": "y"
        },
        {
         "hovertemplate": "variable=weekday_actuals_mae_mean<br>n=%{x}<br>value=%{y}<extra></extra>",
         "legendgroup": "weekday_actuals_mae_mean",
         "line": {
          "color": "#ab63fa",
          "dash": "solid"
         },
         "marker": {
          "symbol": "circle"
         },
         "mode": "lines",
         "name": "weekday_actuals_mae_mean",
         "orientation": "v",
         "showlegend": true,
         "type": "scatter",
         "x": {
          "bdata": "AgYKDhIWGh4iJiouMjY6PkJGSk5SVlpe",
          "dtype": "i1"
         },
         "xaxis": "x",
         "y": {
          "bdata": "ppvEILDhg0AEVg4tshCDQAisHFpkl4JADi2yne80gkA9CtejcN6BQNNNYhBYq4FAYOXQIttHgUAbL90kBgSBQMl2vp8atoBA2c73U+NwgEAv3SQGgTWAQAAAAAAAFYBABoGVQ4sXgEBQjZduEhGAQP7UeOkmDoBAObTIdr7tf0Dy0k1iELZ/QA4tsp3vpX9AGQRWDi2cf0DVeOkmMX5/QDvfT42XbH9A1XjpJjF8f0Coxks3iZV/QH9qvHSTun9A",
          "dtype": "f8"
         },
         "yaxis": "y"
        },
        {
         "hovertemplate": "variable=fcst_mae_mean<br>n=%{x}<br>value=%{y}<extra></extra>",
         "legendgroup": "fcst_mae_mean",
         "line": {
          "color": "#FFA15A",
          "dash": "solid"
         },
         "marker": {
          "symbol": "circle"
         },
         "mode": "lines",
         "name": "fcst_mae_mean",
         "orientation": "v",
         "showlegend": true,
         "type": "scatter",
         "x": {
          "bdata": "AgYKDhIWGh4iJiouMjY6PkJGSk5SVlpe",
          "dtype": "i1"
         },
         "xaxis": "x",
         "y": {
          "bdata": "mpmZmZm9bEAQWDm0yF53QDVeukkM1npAL90kBoE9fEAtsp3vp9R8QPT91HjpNn1AxSCwcmgtfUCNl24Sgx59QE5iEFg5Yn1ABoGVQ4usfUC4HoXrUfR9QO58PzVeOH5ABFYOLbKZfkDufD81XhR/QNNNYhBYb39AUrgehevRf0DFILByaB+AQLTIdr6fVoBA2/l+aryAgEB56SYxCKqAQOOlm8Qg24BAbef7qfEOgUAIrBxaZEiBQBSuR+F6dYFA",
          "dtype": "f8"
         },
         "yaxis": "y"
        },
        {
         "hovertemplate": "variable=prophet_fcst_mae_mean<br>n=%{x}<br>value=%{y}<extra></extra>",
         "legendgroup": "prophet_fcst_mae_mean",
         "line": {
          "color": "#19d3f3",
          "dash": "solid"
         },
         "marker": {
          "symbol": "circle"
         },
         "mode": "lines",
         "name": "prophet_fcst_mae_mean",
         "orientation": "v",
         "showlegend": true,
         "type": "scatter",
         "x": {
          "bdata": "AgYKDhIWGh4iJiouMjY6PkJGSk5SVlpe",
          "dtype": "i1"
         },
         "xaxis": "x",
         "y": {
          "bdata": "wcqhRbY7ZkCuR+F6FEpyQOkmMQisfHVA+n5qvHRpd0DLoUW28xF4QIXrUbgeg3hAWmQ730/PeECBlUOLbCt5QJ7vp8ZLt3lA/tR46SYxekAdWmQ734V6QIts5/upr3pAUrgehevBekCcxCCwchB7QM3MzMzMintA8tJNYhAqfEDByqFFtql8QJZDi2znz3xA16NwPQrjfECDwMqhRQJ9QBBYObTICn1AUI2XbhIJfUDTTWIQWBd9QEa28/3UMH1A",
          "dtype": "f8"
         },
         "yaxis": "y"
        },
        {
         "hovertemplate": "variable=fcst_smooth_mae_mean<br>n=%{x}<br>value=%{y}<extra></extra>",
         "legendgroup": "fcst_smooth_mae_mean",
         "line": {
          "color": "#FF6692",
          "dash": "solid"
         },
         "marker": {
          "symbol": "circle"
         },
         "mode": "lines",
         "name": "fcst_smooth_mae_mean",
         "orientation": "v",
         "showlegend": true,
         "type": "scatter",
         "x": {
          "bdata": "AgYKDhIWGh4iJiouMjY6PkJGSk5SVlpe",
          "dtype": "i1"
         },
         "xaxis": "x",
         "y": {
          "bdata": "N4lBYOUsb0CuR+F6FGZ4QH9qvHSTqntAnMQgsHLOfEBGtvP91Dh9QPyp8dJNfH1AMzMzMzN9fUCgGi/dJHB9QOXQItv5qH1A16NwPQrdfUDsUbgehR9+QESLbOf7cX5A6SYxCKzWfkDJdr6fGlN/QGDl0CLbs39A001iEFgJgEDXo3A9CjaAQHWTGARWYIBA30+Nl26GgEBMN4lBYLSAQPCnxks36oBAbef7qfEogUA9CtejcGSBQBkEVg4tk4FA",
          "dtype": "f8"
         },
         "yaxis": "y"
        },
        {
         "hovertemplate": "variable=prophet_fcst_smooth_mae_mean<br>n=%{x}<br>value=%{y}<extra></extra>",
         "legendgroup": "prophet_fcst_smooth_mae_mean",
         "line": {
          "color": "#B6E880",
          "dash": "solid"
         },
         "marker": {
          "symbol": "circle"
         },
         "mode": "lines",
         "name": "prophet_fcst_smooth_mae_mean",
         "orientation": "v",
         "showlegend": true,
         "type": "scatter",
         "x": {
          "bdata": "AgYKDhIWGh4iJiouMjY6PkJGSk5SVlpe",
          "dtype": "i1"
         },
         "xaxis": "x",
         "y": {
          "bdata": "8tJNYhCYZ0CPwvUoXIlyQH0/NV66VXVA6SYxCKzadkDP91PjpV93QOXQItv5xndAjZduEoNQeECBlUOLbPF4QH9qvHSTjnlAkxgEVg4XekAxCKwcWnp6QDm0yHa+q3pA+n5qvHTNekDsUbgehSl7QOf7qfHSq3tAHVpkO987fEBI4XoUrrl8QK5H4XoU6nxAUI2XbhIXfUDLoUW28z99QJHtfD81VH1ARIts5/tbfUBQjZduEm99QDEIrBxaiH1A",
          "dtype": "f8"
         },
         "yaxis": "y"
        }
       ],
       "layout": {
        "legend": {
         "title": {
          "text": "variable"
         },
         "tracegroupgap": 0
        },
        "template": {
         "data": {
          "bar": [
           {
            "error_x": {
             "color": "#2a3f5f"
            },
            "error_y": {
             "color": "#2a3f5f"
            },
            "marker": {
             "line": {
              "color": "#E5ECF6",
              "width": 0.5
             },
             "pattern": {
              "fillmode": "overlay",
              "size": 10,
              "solidity": 0.2
             }
            },
            "type": "bar"
           }
          ],
          "barpolar": [
           {
            "marker": {
             "line": {
              "color": "#E5ECF6",
              "width": 0.5
             },
             "pattern": {
              "fillmode": "overlay",
              "size": 10,
              "solidity": 0.2
             }
            },
            "type": "barpolar"
           }
          ],
          "carpet": [
           {
            "aaxis": {
             "endlinecolor": "#2a3f5f",
             "gridcolor": "white",
             "linecolor": "white",
             "minorgridcolor": "white",
             "startlinecolor": "#2a3f5f"
            },
            "baxis": {
             "endlinecolor": "#2a3f5f",
             "gridcolor": "white",
             "linecolor": "white",
             "minorgridcolor": "white",
             "startlinecolor": "#2a3f5f"
            },
            "type": "carpet"
           }
          ],
          "choropleth": [
           {
            "colorbar": {
             "outlinewidth": 0,
             "ticks": ""
            },
            "type": "choropleth"
           }
          ],
          "contour": [
           {
            "colorbar": {
             "outlinewidth": 0,
             "ticks": ""
            },
            "colorscale": [
             [
              0,
              "#0d0887"
             ],
             [
              0.1111111111111111,
              "#46039f"
             ],
             [
              0.2222222222222222,
              "#7201a8"
             ],
             [
              0.3333333333333333,
              "#9c179e"
             ],
             [
              0.4444444444444444,
              "#bd3786"
             ],
             [
              0.5555555555555556,
              "#d8576b"
             ],
             [
              0.6666666666666666,
              "#ed7953"
             ],
             [
              0.7777777777777778,
              "#fb9f3a"
             ],
             [
              0.8888888888888888,
              "#fdca26"
             ],
             [
              1,
              "#f0f921"
             ]
            ],
            "type": "contour"
           }
          ],
          "contourcarpet": [
           {
            "colorbar": {
             "outlinewidth": 0,
             "ticks": ""
            },
            "type": "contourcarpet"
           }
          ],
          "heatmap": [
           {
            "colorbar": {
             "outlinewidth": 0,
             "ticks": ""
            },
            "colorscale": [
             [
              0,
              "#0d0887"
             ],
             [
              0.1111111111111111,
              "#46039f"
             ],
             [
              0.2222222222222222,
              "#7201a8"
             ],
             [
              0.3333333333333333,
              "#9c179e"
             ],
             [
              0.4444444444444444,
              "#bd3786"
             ],
             [
              0.5555555555555556,
              "#d8576b"
             ],
             [
              0.6666666666666666,
              "#ed7953"
             ],
             [
              0.7777777777777778,
              "#fb9f3a"
             ],
             [
              0.8888888888888888,
              "#fdca26"
             ],
             [
              1,
              "#f0f921"
             ]
            ],
            "type": "heatmap"
           }
          ],
          "histogram": [
           {
            "marker": {
             "pattern": {
              "fillmode": "overlay",
              "size": 10,
              "solidity": 0.2
             }
            },
            "type": "histogram"
           }
          ],
          "histogram2d": [
           {
            "colorbar": {
             "outlinewidth": 0,
             "ticks": ""
            },
            "colorscale": [
             [
              0,
              "#0d0887"
             ],
             [
              0.1111111111111111,
              "#46039f"
             ],
             [
              0.2222222222222222,
              "#7201a8"
             ],
             [
              0.3333333333333333,
              "#9c179e"
             ],
             [
              0.4444444444444444,
              "#bd3786"
             ],
             [
              0.5555555555555556,
              "#d8576b"
             ],
             [
              0.6666666666666666,
              "#ed7953"
             ],
             [
              0.7777777777777778,
              "#fb9f3a"
             ],
             [
              0.8888888888888888,
              "#fdca26"
             ],
             [
              1,
              "#f0f921"
             ]
            ],
            "type": "histogram2d"
           }
          ],
          "histogram2dcontour": [
           {
            "colorbar": {
             "outlinewidth": 0,
             "ticks": ""
            },
            "colorscale": [
             [
              0,
              "#0d0887"
             ],
             [
              0.1111111111111111,
              "#46039f"
             ],
             [
              0.2222222222222222,
              "#7201a8"
             ],
             [
              0.3333333333333333,
              "#9c179e"
             ],
             [
              0.4444444444444444,
              "#bd3786"
             ],
             [
              0.5555555555555556,
              "#d8576b"
             ],
             [
              0.6666666666666666,
              "#ed7953"
             ],
             [
              0.7777777777777778,
              "#fb9f3a"
             ],
             [
              0.8888888888888888,
              "#fdca26"
             ],
             [
              1,
              "#f0f921"
             ]
            ],
            "type": "histogram2dcontour"
           }
          ],
          "mesh3d": [
           {
            "colorbar": {
             "outlinewidth": 0,
             "ticks": ""
            },
            "type": "mesh3d"
           }
          ],
          "parcoords": [
           {
            "line": {
             "colorbar": {
              "outlinewidth": 0,
              "ticks": ""
             }
            },
            "type": "parcoords"
           }
          ],
          "pie": [
           {
            "automargin": true,
            "type": "pie"
           }
          ],
          "scatter": [
           {
            "fillpattern": {
             "fillmode": "overlay",
             "size": 10,
             "solidity": 0.2
            },
            "type": "scatter"
           }
          ],
          "scatter3d": [
           {
            "line": {
             "colorbar": {
              "outlinewidth": 0,
              "ticks": ""
             }
            },
            "marker": {
             "colorbar": {
              "outlinewidth": 0,
              "ticks": ""
             }
            },
            "type": "scatter3d"
           }
          ],
          "scattercarpet": [
           {
            "marker": {
             "colorbar": {
              "outlinewidth": 0,
              "ticks": ""
             }
            },
            "type": "scattercarpet"
           }
          ],
          "scattergeo": [
           {
            "marker": {
             "colorbar": {
              "outlinewidth": 0,
              "ticks": ""
             }
            },
            "type": "scattergeo"
           }
          ],
          "scattergl": [
           {
            "marker": {
             "colorbar": {
              "outlinewidth": 0,
              "ticks": ""
             }
            },
            "type": "scattergl"
           }
          ],
          "scattermap": [
           {
            "marker": {
             "colorbar": {
              "outlinewidth": 0,
              "ticks": ""
             }
            },
            "type": "scattermap"
           }
          ],
          "scattermapbox": [
           {
            "marker": {
             "colorbar": {
              "outlinewidth": 0,
              "ticks": ""
             }
            },
            "type": "scattermapbox"
           }
          ],
          "scatterpolar": [
           {
            "marker": {
             "colorbar": {
              "outlinewidth": 0,
              "ticks": ""
             }
            },
            "type": "scatterpolar"
           }
          ],
          "scatterpolargl": [
           {
            "marker": {
             "colorbar": {
              "outlinewidth": 0,
              "ticks": ""
             }
            },
            "type": "scatterpolargl"
           }
          ],
          "scatterternary": [
           {
            "marker": {
             "colorbar": {
              "outlinewidth": 0,
              "ticks": ""
             }
            },
            "type": "scatterternary"
           }
          ],
          "surface": [
           {
            "colorbar": {
             "outlinewidth": 0,
             "ticks": ""
            },
            "colorscale": [
             [
              0,
              "#0d0887"
             ],
             [
              0.1111111111111111,
              "#46039f"
             ],
             [
              0.2222222222222222,
              "#7201a8"
             ],
             [
              0.3333333333333333,
              "#9c179e"
             ],
             [
              0.4444444444444444,
              "#bd3786"
             ],
             [
              0.5555555555555556,
              "#d8576b"
             ],
             [
              0.6666666666666666,
              "#ed7953"
             ],
             [
              0.7777777777777778,
              "#fb9f3a"
             ],
             [
              0.8888888888888888,
              "#fdca26"
             ],
             [
              1,
              "#f0f921"
             ]
            ],
            "type": "surface"
           }
          ],
          "table": [
           {
            "cells": {
             "fill": {
              "color": "#EBF0F8"
             },
             "line": {
              "color": "white"
             }
            },
            "header": {
             "fill": {
              "color": "#C8D4E3"
             },
             "line": {
              "color": "white"
             }
            },
            "type": "table"
           }
          ]
         },
         "layout": {
          "annotationdefaults": {
           "arrowcolor": "#2a3f5f",
           "arrowhead": 0,
           "arrowwidth": 1
          },
          "autotypenumbers": "strict",
          "coloraxis": {
           "colorbar": {
            "outlinewidth": 0,
            "ticks": ""
           }
          },
          "colorscale": {
           "diverging": [
            [
             0,
             "#8e0152"
            ],
            [
             0.1,
             "#c51b7d"
            ],
            [
             0.2,
             "#de77ae"
            ],
            [
             0.3,
             "#f1b6da"
            ],
            [
             0.4,
             "#fde0ef"
            ],
            [
             0.5,
             "#f7f7f7"
            ],
            [
             0.6,
             "#e6f5d0"
            ],
            [
             0.7,
             "#b8e186"
            ],
            [
             0.8,
             "#7fbc41"
            ],
            [
             0.9,
             "#4d9221"
            ],
            [
             1,
             "#276419"
            ]
           ],
           "sequential": [
            [
             0,
             "#0d0887"
            ],
            [
             0.1111111111111111,
             "#46039f"
            ],
            [
             0.2222222222222222,
             "#7201a8"
            ],
            [
             0.3333333333333333,
             "#9c179e"
            ],
            [
             0.4444444444444444,
             "#bd3786"
            ],
            [
             0.5555555555555556,
             "#d8576b"
            ],
            [
             0.6666666666666666,
             "#ed7953"
            ],
            [
             0.7777777777777778,
             "#fb9f3a"
            ],
            [
             0.8888888888888888,
             "#fdca26"
            ],
            [
             1,
             "#f0f921"
            ]
           ],
           "sequentialminus": [
            [
             0,
             "#0d0887"
            ],
            [
             0.1111111111111111,
             "#46039f"
            ],
            [
             0.2222222222222222,
             "#7201a8"
            ],
            [
             0.3333333333333333,
             "#9c179e"
            ],
            [
             0.4444444444444444,
             "#bd3786"
            ],
            [
             0.5555555555555556,
             "#d8576b"
            ],
            [
             0.6666666666666666,
             "#ed7953"
            ],
            [
             0.7777777777777778,
             "#fb9f3a"
            ],
            [
             0.8888888888888888,
             "#fdca26"
            ],
            [
             1,
             "#f0f921"
            ]
           ]
          },
          "colorway": [
           "#636efa",
           "#EF553B",
           "#00cc96",
           "#ab63fa",
           "#FFA15A",
           "#19d3f3",
           "#FF6692",
           "#B6E880",
           "#FF97FF",
           "#FECB52"
          ],
          "font": {
           "color": "#2a3f5f"
          },
          "geo": {
           "bgcolor": "white",
           "lakecolor": "white",
           "landcolor": "#E5ECF6",
           "showlakes": true,
           "showland": true,
           "subunitcolor": "white"
          },
          "hoverlabel": {
           "align": "left"
          },
          "hovermode": "closest",
          "mapbox": {
           "style": "light"
          },
          "paper_bgcolor": "white",
          "plot_bgcolor": "#E5ECF6",
          "polar": {
           "angularaxis": {
            "gridcolor": "white",
            "linecolor": "white",
            "ticks": ""
           },
           "bgcolor": "#E5ECF6",
           "radialaxis": {
            "gridcolor": "white",
            "linecolor": "white",
            "ticks": ""
           }
          },
          "scene": {
           "xaxis": {
            "backgroundcolor": "#E5ECF6",
            "gridcolor": "white",
            "gridwidth": 2,
            "linecolor": "white",
            "showbackground": true,
            "ticks": "",
            "zerolinecolor": "white"
           },
           "yaxis": {
            "backgroundcolor": "#E5ECF6",
            "gridcolor": "white",
            "gridwidth": 2,
            "linecolor": "white",
            "showbackground": true,
            "ticks": "",
            "zerolinecolor": "white"
           },
           "zaxis": {
            "backgroundcolor": "#E5ECF6",
            "gridcolor": "white",
            "gridwidth": 2,
            "linecolor": "white",
            "showbackground": true,
            "ticks": "",
            "zerolinecolor": "white"
           }
          },
          "shapedefaults": {
           "line": {
            "color": "#2a3f5f"
           }
          },
          "ternary": {
           "aaxis": {
            "gridcolor": "white",
            "linecolor": "white",
            "ticks": ""
           },
           "baxis": {
            "gridcolor": "white",
            "linecolor": "white",
            "ticks": ""
           },
           "bgcolor": "#E5ECF6",
           "caxis": {
            "gridcolor": "white",
            "linecolor": "white",
            "ticks": ""
           }
          },
          "title": {
           "x": 0.05
          },
          "xaxis": {
           "automargin": true,
           "gridcolor": "white",
           "linecolor": "white",
           "ticks": "",
           "title": {
            "standoff": 15
           },
           "zerolinecolor": "white",
           "zerolinewidth": 2
          },
          "yaxis": {
           "automargin": true,
           "gridcolor": "white",
           "linecolor": "white",
           "ticks": "",
           "title": {
            "standoff": 15
           },
           "zerolinecolor": "white",
           "zerolinewidth": 2
          }
         }
        },
        "title": {
         "text": "Imputation Comparison Results"
        },
        "xaxis": {
         "anchor": "y",
         "domain": [
          0,
          1
         ],
         "title": {
          "text": "n"
         }
        },
        "yaxis": {
         "anchor": "x",
         "domain": [
          0,
          1
         ],
         "title": {
          "text": "value"
         }
        }
       }
      }
     },
     "metadata": {},
     "output_type": "display_data"
    }
   ],
   "source": [
    "plot_imputation_results(agg_result)\n",
    "# Next steps: \n",
    "# Include standard deviation and confidence intervals\n",
    "# Include seasonal decomposition methods\n",
    "# Extend imputation window to as much as 5 days, but reduce granularity\n",
    "\n"
   ]
  },
  {
   "cell_type": "markdown",
   "metadata": {},
   "source": [
    "For this data, the best imputation method depends on the size of NA groups. A group of near 35 or 40 missing values shows alternative imputation methods being preferable, such as the constructed forecast and weekday actuals methods.\n",
    "\n",
    "\n"
   ]
  },
  {
   "cell_type": "code",
   "execution_count": null,
   "metadata": {},
   "outputs": [],
   "source": [
    "%%capture\n",
    "\n",
    "ray.shutdown()\n",
    "### --- ray metrics launch-prometheus\n",
    "ray.init(num_cpus=7, num_gpus=0)\n",
    "impute_data = create_impute_data.remote(country_actuals)\n",
    "input_data = ray.get(impute_data)\n",
    "impute_windows = ray.get(create_window_idx.remote(input_data))\n",
    "weekday_impute = create_weekday_impute.remote(input_data)\n",
    "\n",
    "imputation_results = imputation_comparison.remote(\n",
    "    input_data, \n",
    "    impute_windows,\n",
    "    start=90,\n",
    "    end=200, # just over 2 days\n",
    "    increment=5,\n",
    "    )\n",
    "\n",
    "# retrieve results\n",
    "result = ray.get(imputation_results)\n",
    "# Write results locally as backup\n",
    "result.to_csv('imputation_results_large_gaps.csv')\n",
    "ray.shutdown()"
   ]
  },
  {
   "cell_type": "code",
   "execution_count": null,
   "metadata": {},
   "outputs": [],
   "source": [
    "cd = Path.cwd()\n",
    "data_dir = str(cd.parents[0])\n",
    "filepath = data_dir + '\\\\load_forecasting_analysis\\\\imputation_results_large_gaps.csv'\n",
    "\n",
    "impute_results = pd.read_csv(filepath)\n",
    "\n",
    "agg_result = agg_results(impute_results)"
   ]
  }
 ],
 "metadata": {
  "kernelspec": {
   "display_name": "venv",
   "language": "python",
   "name": "python3"
  },
  "language_info": {
   "codemirror_mode": {
    "name": "ipython",
    "version": 3
   },
   "file_extension": ".py",
   "mimetype": "text/x-python",
   "name": "python",
   "nbconvert_exporter": "python",
   "pygments_lexer": "ipython3",
   "version": "3.12.0"
  }
 },
 "nbformat": 4,
 "nbformat_minor": 2
}
