{
 "cells": [
  {
   "cell_type": "markdown",
   "metadata": {},
   "source": [
    "# Imputation Experiment\n",
    "\n",
    "Testing how different imputation methods perform given different NA gap sizes.\n",
    "The test is then performed in parallel with Ray."
   ]
  },
  {
   "cell_type": "markdown",
   "metadata": {},
   "source": [
    "Setup"
   ]
  },
  {
   "cell_type": "code",
   "execution_count": null,
   "metadata": {},
   "outputs": [],
   "source": [
    "# Setup\n",
    "import numpy as np\n",
    "import pickle\n",
    "import pandas as pd\n",
    "from datetime import datetime\n",
    "import matplotlib.pyplot as plt\n",
    "import plotly.express as px\n",
    "from pathlib import Path\n",
    "import seaborn as sns\n",
    "from sklearn.metrics import mean_absolute_error\n",
    "from statsforecast import StatsForecast\n",
    "from statsforecast.models import AutoETS\n",
    "from prophet import Prophet\n",
    "import plotly.express as px\n",
    "import ray\n",
    "\n",
    "# Multiple outputs per cell\n",
    "%config InteractiveShell.ast_node_interactivity = 'all'\n",
    "\n",
    "# Functions\n",
    "def create_hour_minute(df):\n",
    "    '''\n",
    "    This function is supplemental to the following 'add_time_features' function,\n",
    "    creating an hour_minute variable\n",
    "    '''\n",
    "    # Initialize empty variable\n",
    "    df['hour_minute'] = None\n",
    "\n",
    "    # Conditions\n",
    "    conditions = [df['utc_timestamp'].dt.minute == 15,\n",
    "                  df['utc_timestamp'].dt.minute == 30,\n",
    "                  df['utc_timestamp'].dt.minute == 45]\n",
    "    \n",
    "    transform = [df['utc_timestamp'].dt.hour + .25,\n",
    "                 df['utc_timestamp'].dt.hour + .5,\n",
    "                 df['utc_timestamp'].dt.hour + .75]\n",
    "    \n",
    "    # given conditions, transform \n",
    "    converted_times = np.select(conditions, transform, df['utc_timestamp'].dt.hour)\n",
    "\n",
    "    return converted_times\n",
    "\n",
    "def create_impute_groups(data, y):\n",
    "    '''\n",
    "    Given dataframe with variable to impute, returns \n",
    "    a group number for that NA, how many consecutive\n",
    "    NAs there are, and the first + last index values of \n",
    "    the consecutive NAs\n",
    "    '''\n",
    "    # note NA values in dataframe\n",
    "    df = (data.set_index('utc_timestamp') # data or self.data\n",
    "            .isna()\n",
    "            .reset_index(drop=True)\n",
    "          )\n",
    "    \n",
    "    # Assign groups of NAs a unique group number\n",
    "    group_num = 0\n",
    "    groups = [0]\n",
    "    for i in range(len(df[y].values)-1): # y or self.y\n",
    "        value = df[y].values[i]\n",
    "        next_value = df[y].values[i+1]\n",
    "\n",
    "        if value == False and next_value == True:\n",
    "            group_num += 1\n",
    "        if next_value == None:\n",
    "            continue\n",
    "        if value == False:\n",
    "            groups.append(0)\n",
    "        else: \n",
    "            groups.append(group_num)\n",
    "\n",
    "    # Add na groups and index columns to df\n",
    "    df['missing_group_num'] = groups \n",
    "    df['index'] = list(range(0, len(df)))\n",
    "\n",
    "    missing_lengths = (df.groupby('missing_group_num', as_index=False)\n",
    "                       .agg(consecutive = ('missing_group_num', 'count'),\n",
    "                            first_na_idx = ('index', 'min'),\n",
    "                            # adding 2 to last index for imputation\n",
    "                            last_na_idx = ('index', lambda x: x.max() + 2)) \n",
    "                       .iloc[1:] # remove non_na groups\n",
    "                       .sort_values('first_na_idx')\n",
    "                       )\n",
    "    \n",
    "    return missing_lengths\n",
    "\n",
    "def agg_results(impute_results):\n",
    "    cols = [*impute_results.columns[3:]] # ignoring cols to not agg over\n",
    "\n",
    "    agg_result = (impute_results.groupby('n', as_index=False)\n",
    "                        .agg({col: [(f'{col}_mean', 'mean'), (f'{col}_std', 'std')] for col in cols}))\n",
    "\n",
    "    agg_result.columns = [f'{col[1]}' for col in agg_result.columns] # col[1]\n",
    "    agg_result = agg_result.rename(columns={'': 'n'}).round(3)\n",
    "\n",
    "    return agg_result\n",
    "\n",
    "def plot_imputation_results(agg_result):\n",
    "    mean_cols = [col for col in agg_result.columns if col.endswith('_mean')]\n",
    "\n",
    "    fig = px.line(\n",
    "        data_frame=agg_result,\n",
    "        x='n',\n",
    "        y=mean_cols,\n",
    "        title='Imputation Comparison Results'\n",
    "    )\n",
    "\n",
    "    return fig"
   ]
  },
  {
   "cell_type": "code",
   "execution_count": 4,
   "metadata": {},
   "outputs": [],
   "source": [
    "# Read in data for developing imputation method\n",
    "cd = Path.cwd()\n",
    "data_dir = str(cd.parents[1])\n",
    "load_energy_dt = data_dir + '/datasets/country_energy/country_load.pickle'\n",
    "\n",
    "# Read pickle data \n",
    "with open(load_energy_dt, 'rb') as f:\n",
    "    country_actuals = (pickle.load(f)[['utc_timestamp', 'country', 'load_actual_entsoe_transparency']])"
   ]
  },
  {
   "cell_type": "markdown",
   "metadata": {},
   "source": [
    "## Impute method comparison\n",
    "- Select AT due to their being no NA values for imputation test\n",
    "- Create window of size n: 2 through 96 (by 2)\n",
    "    - Randomly sample 24 windows slightly larger than size n from dataset\n",
    "    - Place n nans in dataset\n",
    "    - Across the 24 windows, get average mae for a given imputation method\n",
    "- Display table results of imputation methods across the windows\n",
    "- Display plots of results comparing methods"
   ]
  },
  {
   "cell_type": "markdown",
   "metadata": {},
   "source": [
    "### Testing Loop parallelized with Ray"
   ]
  },
  {
   "cell_type": "markdown",
   "metadata": {},
   "source": [
    "Functions for test, modified for ray"
   ]
  },
  {
   "cell_type": "code",
   "execution_count": null,
   "metadata": {},
   "outputs": [],
   "source": [
    "@ray.remote\n",
    "def create_hour_minute(df):\n",
    "    '''\n",
    "    This function is supplemental to the following 'add_time_features' function,\n",
    "    creating an hour_minute variable\n",
    "    '''\n",
    "    # Initialize empty variable\n",
    "    df['hour_minute'] = None\n",
    "\n",
    "    # Conditions\n",
    "    conditions = [df['utc_timestamp'].dt.minute == 15,\n",
    "                  df['utc_timestamp'].dt.minute == 30,\n",
    "                  df['utc_timestamp'].dt.minute == 45]\n",
    "    \n",
    "    transform = [df['utc_timestamp'].dt.hour + .25,\n",
    "                 df['utc_timestamp'].dt.hour + .5,\n",
    "                 df['utc_timestamp'].dt.hour + .75]\n",
    "    \n",
    "    # given conditions, transform \n",
    "    converted_times = np.select(conditions, transform, df['utc_timestamp'].dt.hour)\n",
    "\n",
    "    return converted_times\n",
    "\n",
    "@ray.remote\n",
    "def create_impute_data(data):\n",
    "    '''\n",
    "    Creates main dataset for this experiment, which includes day,\n",
    "    weekday, and hour_minute. The chosen country, 'AT' (Austria),\n",
    "    has complete data, making experimentation easy. \n",
    "    '''\n",
    "    impute_data = (data.assign(\n",
    "            day = lambda x: x['utc_timestamp'].dt.day,\n",
    "            weekday = lambda x: x['utc_timestamp'].dt.strftime('%a'),\n",
    "            hour_minute = lambda x: ray.get(create_hour_minute.remote(x))\n",
    "        )\n",
    "        .loc[lambda x: x.country == 'AT']\n",
    "        .reset_index(drop=True)\n",
    "        ) \n",
    "\n",
    "    return impute_data\n",
    "\n",
    "@ray.remote\n",
    "def create_window_idx(data, num_windows=24):\n",
    "    # indices to loop over for get mae across 24 samples\n",
    "    impute_windows = list(data.sample(num_windows, random_state=24).index)\n",
    "    return impute_windows\n",
    "\n",
    "@ray.remote\n",
    "def create_weekday_impute(data):\n",
    "    '''\n",
    "    Creates average over a weekday time period, \n",
    "    for imputing load_actal_entsoe_transparency values.\n",
    "    '''\n",
    "    # Weekday impute method\n",
    "    weekday_impute = (data.groupby(['weekday', 'hour_minute'], as_index=False)\n",
    "                    .agg(avg_weekday_actuals = ('load_actual_entsoe_transparency', lambda x: x.mean().round(2)))\n",
    "                    )\n",
    "    week_order = ['Mon', 'Tue', 'Wed', 'Thu', 'Fri', 'Sat', 'Sun']\n",
    "    weekday_impute['weekday'] = pd.Categorical(\n",
    "        weekday_impute['weekday'], \n",
    "        categories=week_order, \n",
    "        ordered=True\n",
    "        )\n",
    "    weekday_impute = weekday_impute.sort_values(by=['weekday','hour_minute'])\n",
    "    \n",
    "    return weekday_impute\n",
    "\n",
    "@ray.remote\n",
    "def create_impute_window(data, n, idx, forecast=False): \n",
    "    '''\n",
    "    Creates imputation window with n NAs at index idx. \n",
    "    Window:\n",
    "        1 row of available data, \n",
    "        n rows of NAs, \n",
    "        2 rows of available data\n",
    "    \n",
    "    If forecast=True, then there is up to 6months of data before NA values.\n",
    "    \n",
    "    This is done to ensure all imputation methods can impute without error\n",
    "    '''\n",
    "\n",
    "    window = data.iloc[idx-1:idx+n+2]\n",
    "    window['to_impute'] = window['load_actual_entsoe_transparency'];  \n",
    "    window.loc[idx:idx+n-1, 'to_impute'] = np.nan\n",
    "\n",
    "    # forecast impute window, which has additional data for forcasting\n",
    "    if forecast:\n",
    "        ### Future: consider dynamic forecast window\n",
    "        one_year_data = int((2880 * 12) / 2) # Selecting all data available, up to 6 months\n",
    "        fcst_start = max(idx - one_year_data, 0) \n",
    "        fcst_window = data.iloc[fcst_start:idx+n+2]\n",
    "        fcst_window['to_impute'] = fcst_window['load_actual_entsoe_transparency'];  \n",
    "        fcst_window.loc[idx:idx+n-1, 'to_impute'] = np.nan\n",
    "\n",
    "        return fcst_window\n",
    "    \n",
    "    return window\n",
    "\n",
    "@ray.remote\n",
    "def create_impute_groups(data, y):\n",
    "    '''\n",
    "    Given dataframe with variable to impute, returns \n",
    "    a group number for that NA, how many consecutive\n",
    "    NAs there are, and the first + last index values of \n",
    "    the consecutive NAs\n",
    "    '''\n",
    "    # note NA values in dataframe\n",
    "    df = (data.set_index('utc_timestamp') # data or self.data\n",
    "            .isna()\n",
    "            .reset_index(drop=True)\n",
    "          )\n",
    "    \n",
    "    # Assign groups of NAs a unique group number\n",
    "    group_num = 0\n",
    "    groups = [0]\n",
    "    for i in range(len(df[y].values)-1): # y or self.y\n",
    "        value = df[y].values[i]\n",
    "        next_value = df[y].values[i+1]\n",
    "\n",
    "        if value == False and next_value == True:\n",
    "            group_num += 1\n",
    "        if next_value == None:\n",
    "            continue\n",
    "        if value == False:\n",
    "            groups.append(0)\n",
    "        else: \n",
    "            groups.append(group_num)\n",
    "\n",
    "    # Add na groups and index columns to df\n",
    "    df['missing_group_num'] = groups \n",
    "    df['index'] = list(range(0, len(df)))\n",
    "\n",
    "    missing_lengths = (df.groupby('missing_group_num', as_index=False)\n",
    "                       .agg(consecutive = ('missing_group_num', 'count'),\n",
    "                            first_na_idx = ('index', 'min'),\n",
    "                            # adding 2 to last index for imputation\n",
    "                            last_na_idx = ('index', lambda x: x.max() + 2)) \n",
    "                       .iloc[1:] # remove non_na groups\n",
    "                       .sort_values('first_na_idx')\n",
    "                       )\n",
    "    \n",
    "    return missing_lengths\n",
    "\n",
    "@ray.remote\n",
    "def forecast_impute(data, y, model_type='AutoETS'): # AutoETS AAA\n",
    "    '''\n",
    "    Given forecasting data and y, creates a forecast model\n",
    "    with a horizon depending on the number of NAs needing\n",
    "    imputation.\n",
    "    Currently, can select 'AutoETS' or 'Prophet' as forecasting models.\n",
    "    '''\n",
    "    # from statsforecast import StatsForecast\n",
    "    # from statsforecast.models import AutoETS\n",
    "    data = data.reset_index(drop=True)\n",
    "    impute_info = ray.get(create_impute_groups.remote(data, y))\n",
    "        \n",
    "    first_na = impute_info['first_na_idx'].iloc[0] \n",
    "\n",
    "    # Defining start, end, and horizon points of training window\n",
    "    one_year_data = 2880 * 6 # Selecting all data available, up to 6 months\n",
    "    start = max(first_na - one_year_data, 0)  \n",
    "    end = first_na - 1 \n",
    "    \n",
    "    horizon = impute_info['consecutive'].iloc[0]\n",
    "    fcst_df = (data.iloc[start:end] \n",
    "            .assign(index = 1) \n",
    "            [['index', 'utc_timestamp', y]]) # --- This needs to be generalized\n",
    "\n",
    "    if model_type == 'AutoETS':\n",
    "        pd.options.mode.chained_assignment = None\n",
    "\n",
    "        fcst_df = (data.iloc[start:end] \n",
    "            .assign(index = 1) \n",
    "            [['index', 'utc_timestamp', y]])\n",
    "\n",
    "        impute_model = StatsForecast(\n",
    "            models=[AutoETS(model='AAA', season_length=96)], # --- season_length=96 (1 day) or maybe 1 week\n",
    "            freq='15min', # --- Needs generalizaiton\n",
    "            n_jobs=-1,\n",
    "            verbose=False\n",
    "            ) \n",
    "\n",
    "        result = impute_model.forecast(\n",
    "            df=fcst_df, \n",
    "            id_col='index',\n",
    "            time_col='utc_timestamp', # --- Needs generalization \n",
    "            target_col=y, # --- Needs generalization\n",
    "            h=horizon,\n",
    "            # show progress = False,\n",
    "            ).rename(columns={'AutoETS': 'imputed'})\n",
    "        \n",
    "        return result['imputed'] # --- Needs generalization\n",
    "    \n",
    "    if model_type == 'Prophet':\n",
    "        fcst_df = (data.iloc[start:end] \n",
    "           .rename(columns={'utc_timestamp': 'ds',\n",
    "                             f\"{y}\": 'y'})\n",
    "            [['ds', 'y']])\n",
    "            \n",
    "        fcst_df['ds'] = fcst_df['ds'].dt.tz_localize(None)\n",
    "        \n",
    "        model = (Prophet(\n",
    "            yearly_seasonality=True,\n",
    "            weekly_seasonality=True,\n",
    "            seasonality_mode='additive',\n",
    "            )\n",
    "            .add_seasonality(name='intraday', \n",
    "                             period=96/2,  # (4 * 24 / 2) 15 min intervals\n",
    "                             fourier_order=4)\n",
    "            .fit(fcst_df[1:])) # ds and y only\n",
    "        # further improvement if holidays are added\n",
    "\n",
    "        # create dataframe of length horizon with the ds component\n",
    "        predict_window = (data.iloc[first_na-1:first_na+horizon-1]\n",
    "                          .rename(columns={'utc_timestamp': 'ds'})\n",
    "                          [['ds']])\n",
    "        predict_window['ds'] = predict_window['ds'].dt.tz_localize(None)        \n",
    "        \n",
    "        result = (model.predict(predict_window)\n",
    "                  .rename(columns={'yhat': 'to_impute'}))\n",
    "        \n",
    "        return result['to_impute'] # --- Needs generalization\n",
    "\n",
    "@ray.remote\n",
    "def imputation_test(data, n, idx, i):\n",
    "    '''\n",
    "    Imputes n values in the data with several imputation methods and \n",
    "    stores the results.\n",
    "\n",
    "    This function pairs with th eimputation comparison function,\n",
    "    resulting in an automated loop for comparing imputation values\n",
    "    '''\n",
    "    \n",
    "    # create impute windows\n",
    "    window = ray.get(create_impute_window.remote(data, n, idx))\n",
    "    fcst_window = ray.get(create_impute_window.remote(data, n, idx, forecast=True))\n",
    "    weekday_impute = ray.get(create_weekday_impute.remote(data))\n",
    "\n",
    "    # Weekday average impute method\n",
    "    window = window.merge(weekday_impute, how='left', on=['weekday', 'hour_minute'])\n",
    "\n",
    "    # Interpolation impute methods\n",
    "    window['lin_nearest_impute'] = window['to_impute'].interpolate(method=\"nearest\")\n",
    "    window['lin_linear_impute'] = window['to_impute'].interpolate(method=\"linear\")\n",
    "    window['spline_impute'] = window['to_impute'].interpolate(method=\"spline\", order=2)\n",
    "\n",
    "    # # fcst_impute with load_actual, horizon chosen within, then add rows to the window to calculate the MAE\n",
    "    fcst_impute = ray.get(forecast_impute.remote(fcst_window, 'to_impute', model_type='AutoETS'))  # Prophet\n",
    "    prophet_fcst_impute = ray.get(forecast_impute.remote(fcst_window, 'to_impute', model_type='Prophet'))\n",
    "    del fcst_window\n",
    "    first_value = window['to_impute'][0]\n",
    "    last_values = window['to_impute'][-2:].values\n",
    "\n",
    "    fcst_imputed = [first_value, *fcst_impute.values, *last_values]\n",
    "    prophet_fcst_imputed = [first_value, *prophet_fcst_impute.values, *last_values]\n",
    "\n",
    "    window['fcst_imputed'] = fcst_imputed\n",
    "    window['fcst_impute_smooth'] = pd.Series(fcst_imputed).ewm(alpha=.5).mean()\n",
    "    window['prophet_fcst_imputed'] = prophet_fcst_imputed\n",
    "    window['prophet_fcst_imputed_smooth'] = pd.Series(prophet_fcst_imputed).ewm(alpha=.5).mean()\n",
    "\n",
    "    lin_nearest_mae = mean_absolute_error(\n",
    "        window['load_actual_entsoe_transparency'], \n",
    "        window['lin_nearest_impute']\n",
    "        )\n",
    "    lin_linear_mae = mean_absolute_error(\n",
    "        window['load_actual_entsoe_transparency'], \n",
    "        window['lin_linear_impute']\n",
    "        )\n",
    "    spline_mae = mean_absolute_error(\n",
    "        window['load_actual_entsoe_transparency'], \n",
    "        window['spline_impute']\n",
    "        )\n",
    "    weekday_actuals_mae = mean_absolute_error(\n",
    "        window['load_actual_entsoe_transparency'], \n",
    "        window['avg_weekday_actuals']\n",
    "        )\n",
    "    fcst_mae = mean_absolute_error(\n",
    "        window['load_actual_entsoe_transparency'], \n",
    "        window['fcst_imputed']\n",
    "        )\n",
    "    prophet_fcst_mae = mean_absolute_error(\n",
    "        window['load_actual_entsoe_transparency'], \n",
    "        window['prophet_fcst_imputed']\n",
    "        )\n",
    "    fcst_smooth_mae = mean_absolute_error(\n",
    "        window['load_actual_entsoe_transparency'], \n",
    "        window['fcst_impute_smooth']\n",
    "        )\n",
    "    prophet_fcst_smooth_mae = mean_absolute_error(\n",
    "        window['load_actual_entsoe_transparency'], \n",
    "        window['prophet_fcst_imputed_smooth']\n",
    "        )\n",
    "\n",
    "    result = pd.DataFrame({ \n",
    "        \"trial\": [i+1],\n",
    "        \"n\": [n],\n",
    "        \"lin_nearest_mae\": [lin_nearest_mae],\n",
    "        \"lin_linear_mae\": [lin_linear_mae],\n",
    "        \"spline_mae\": [spline_mae],\n",
    "        \"weekday_actuals_mae\": [weekday_actuals_mae],\n",
    "        \"fcst_mae\": [fcst_mae],\n",
    "        \"prophet_fcst_mae\": [prophet_fcst_mae],\n",
    "        \"fcst_smooth_mae\": [fcst_smooth_mae],\n",
    "        \"prophet_fcst_smooth_mae\": [prophet_fcst_smooth_mae],\n",
    "        })\n",
    "\n",
    "    return result\n",
    "\n",
    "@ray.remote\n",
    "def imputation_comparison(data, impute_windows, start=2, end=96+1, increment=2):\n",
    "    \n",
    "    final_results = pd.DataFrame({})\n",
    "    for n in range(start, end, increment): # range(2, 96+1, 2):\n",
    "        \n",
    "        # parallelize inner loop\n",
    "        inner_futures = [imputation_test.remote(data, n, idx, i) for i, idx in enumerate(impute_windows)]\n",
    "        \n",
    "        results = ray.get(inner_futures)\n",
    "\n",
    "        for i in range(len(results)):\n",
    "            final_results = pd.concat([final_results, results[i]])\n",
    "        \n",
    "        # Put and save the results for later\n",
    "        object_id = ray.put(final_results, _owner=None)\n",
    "        print(f\"Result stored with ID: {object_id}\")\n",
    "    \n",
    "    return final_results"
   ]
  },
  {
   "cell_type": "markdown",
   "metadata": {},
   "source": [
    "### Small gap imputation test"
   ]
  },
  {
   "cell_type": "code",
   "execution_count": null,
   "metadata": {},
   "outputs": [],
   "source": [
    "%%capture\n",
    "\n",
    "ray.shutdown()\n",
    "### --- ray metrics launch-prometheus\n",
    "ray.init(num_cpus=7, num_gpus=0)\n",
    "impute_data = create_impute_data.remote(country_actuals)\n",
    "input_data = ray.get(impute_data)\n",
    "impute_windows = ray.get(create_window_idx.remote(input_data))\n",
    "weekday_impute = create_weekday_impute.remote(input_data)\n",
    "\n",
    "imputation_results = imputation_comparison.remote(\n",
    "    input_data, \n",
    "    impute_windows,\n",
    "    start=2, \n",
    "    end=96+1, \n",
    "    increment=4)"
   ]
  },
  {
   "cell_type": "code",
   "execution_count": null,
   "metadata": {},
   "outputs": [],
   "source": [
    "# retrieve results\n",
    "result = ray.get(imputation_results)\n",
    "# Write results locally as backup\n",
    "result.to_csv('imputation_results_2.csv')\n",
    "\n",
    "ray.shutdown()"
   ]
  },
  {
   "cell_type": "markdown",
   "metadata": {},
   "source": [
    "Plot comparison of imputation methods"
   ]
  },
  {
   "cell_type": "code",
   "execution_count": 24,
   "metadata": {},
   "outputs": [],
   "source": [
    "cd = Path.cwd()\n",
    "data_dir = str(cd.parents[0])\n",
    "filepath = data_dir + '\\\\load_forecasting_analysis\\\\imputation_results_2.csv'\n",
    "\n",
    "impute_results = pd.read_csv(filepath)\n",
    "\n",
    "agg_result = agg_results(impute_results)\n"
   ]
  },
  {
   "cell_type": "markdown",
   "metadata": {},
   "source": [
    "Small Gap Results"
   ]
  },
  {
   "cell_type": "code",
   "execution_count": 32,
   "metadata": {},
   "outputs": [
    {
     "data": {
      "application/vnd.plotly.v1+json": {
       "config": {
        "plotlyServerURL": "https://plot.ly"
       },
       "data": [
        {
         "hovertemplate": "variable=lin_nearest_mae_mean<br>n=%{x}<br>value=%{y}<extra></extra>",
         "legendgroup": "lin_nearest_mae_mean",
         "line": {
          "color": "#636efa",
          "dash": "solid"
         },
         "marker": {
          "symbol": "circle"
         },
         "mode": "lines",
         "name": "lin_nearest_mae_mean",
         "orientation": "v",
         "showlegend": true,
         "type": "scatter",
         "x": {
          "bdata": "AgYKDhIWGh4iJiouMjY6PkJGSk5SVlpe",
          "dtype": "i1"
         },
         "xaxis": "x",
         "y": {
          "bdata": "gZVDi2w3QEBiEFg5tMBXQIPAyqFF6mNAJzEIrByia0Coxks3iQ9yQHWTGARWynZA+n5qvHTDeUBSuB6F68F9QBBYObTIDn9AUrgehetsgUDFILByaNyBQB1aZDvfd4JAK4cW2c4+g0DfT42XboyEQPLSTWIQ74VAsp3vp8Ywh0B56SYxCFSJQEjhehSupotA7FG4HoUojEC4HoXrUXGMQClcj8L1C45AZmZmZmYNj0CJQWDl0MWPQJHtfD81Zo9A",
          "dtype": "f8"
         },
         "yaxis": "y"
        },
        {
         "hovertemplate": "variable=lin_linear_mae_mean<br>n=%{x}<br>value=%{y}<extra></extra>",
         "legendgroup": "lin_linear_mae_mean",
         "line": {
          "color": "#EF553B",
          "dash": "solid"
         },
         "marker": {
          "symbol": "circle"
         },
         "mode": "lines",
         "name": "lin_linear_mae_mean",
         "orientation": "v",
         "showlegend": true,
         "type": "scatter",
         "x": {
          "bdata": "AgYKDhIWGh4iJiouMjY6PkJGSk5SVlpe",
          "dtype": "i1"
         },
         "xaxis": "x",
         "y": {
          "bdata": "WDm0yHbeMUC4HoXrUYhKQH0/NV66QVlAxSCwcmgNZEApXI/C9ZxrQJ7vp8ZL53JAUI2XbhLfdUCF61G4HqF6QD0K16NwmX1ABoGVQ4uZgECYbhKDwDqBQFyPwvUofYJADi2yne8mg0BOYhBYOS6EQDMzMzMzpoVAeekmMQgZh0BOYhBYOeWIQNnO91PjUYpABoGVQ4udi0CwcmiR7XuMQGDl0CLbb45ApHA9CtdBj0BvEoPAyuWPQCPb+X5qhY9A",
          "dtype": "f8"
         },
         "yaxis": "y"
        },
        {
         "hovertemplate": "variable=spline_mae_mean<br>n=%{x}<br>value=%{y}<extra></extra>",
         "legendgroup": "spline_mae_mean",
         "line": {
          "color": "#00cc96",
          "dash": "solid"
         },
         "marker": {
          "symbol": "circle"
         },
         "mode": "lines",
         "name": "spline_mae_mean",
         "orientation": "v",
         "showlegend": true,
         "type": "scatter",
         "x": {
          "bdata": "AgYKDhIWGh4iJiouMjY6PkJGSk5SVlpe",
          "dtype": "i1"
         },
         "xaxis": "x",
         "y": {
          "bdata": "yXa+nxoPMkBOYhBYOWRGQH0/NV66yVJAf2q8dJM4YkAMAiuHFoVsQMdLN4lBKnBAnu+nxkuPekDn+6nx0jF5QGQ730+N5X1ADAIrhxZRe0CR7Xw/NcOBQOkmMQisy4ZA+n5qvHSMiECq8dJNYiWHQB1aZDvfUYpAJQaBlUPaiED2KFyPwieLQA4tsp3vTYpAw/UoXA8IkEB56SYxCPeTQEjhehQunZJAUrgeheufk0AZBFYOreySQIPAyqFF0ZdA",
          "dtype": "f8"
         },
         "yaxis": "y"
        },
        {
         "hovertemplate": "variable=weekday_actuals_mae_mean<br>n=%{x}<br>value=%{y}<extra></extra>",
         "legendgroup": "weekday_actuals_mae_mean",
         "line": {
          "color": "#ab63fa",
          "dash": "solid"
         },
         "marker": {
          "symbol": "circle"
         },
         "mode": "lines",
         "name": "weekday_actuals_mae_mean",
         "orientation": "v",
         "showlegend": true,
         "type": "scatter",
         "x": {
          "bdata": "AgYKDhIWGh4iJiouMjY6PkJGSk5SVlpe",
          "dtype": "i1"
         },
         "xaxis": "x",
         "y": {
          "bdata": "ppvEILDhg0AEVg4tshCDQAisHFpkl4JADi2yne80gkA9CtejcN6BQNNNYhBYq4FAYOXQIttHgUAbL90kBgSBQMl2vp8atoBA2c73U+NwgEAv3SQGgTWAQAAAAAAAFYBABoGVQ4sXgEBQjZduEhGAQP7UeOkmDoBAObTIdr7tf0Dy0k1iELZ/QA4tsp3vpX9AGQRWDi2cf0DVeOkmMX5/QDvfT42XbH9A1XjpJjF8f0Coxks3iZV/QH9qvHSTun9A",
          "dtype": "f8"
         },
         "yaxis": "y"
        },
        {
         "hovertemplate": "variable=fcst_mae_mean<br>n=%{x}<br>value=%{y}<extra></extra>",
         "legendgroup": "fcst_mae_mean",
         "line": {
          "color": "#FFA15A",
          "dash": "solid"
         },
         "marker": {
          "symbol": "circle"
         },
         "mode": "lines",
         "name": "fcst_mae_mean",
         "orientation": "v",
         "showlegend": true,
         "type": "scatter",
         "x": {
          "bdata": "AgYKDhIWGh4iJiouMjY6PkJGSk5SVlpe",
          "dtype": "i1"
         },
         "xaxis": "x",
         "y": {
          "bdata": "mpmZmZm9bEAQWDm0yF53QDVeukkM1npAL90kBoE9fEAtsp3vp9R8QPT91HjpNn1AxSCwcmgtfUCNl24Sgx59QE5iEFg5Yn1ABoGVQ4usfUC4HoXrUfR9QO58PzVeOH5ABFYOLbKZfkDufD81XhR/QNNNYhBYb39AUrgehevRf0DFILByaB+AQLTIdr6fVoBA2/l+aryAgEB56SYxCKqAQOOlm8Qg24BAbef7qfEOgUAIrBxaZEiBQBSuR+F6dYFA",
          "dtype": "f8"
         },
         "yaxis": "y"
        },
        {
         "hovertemplate": "variable=prophet_fcst_mae_mean<br>n=%{x}<br>value=%{y}<extra></extra>",
         "legendgroup": "prophet_fcst_mae_mean",
         "line": {
          "color": "#19d3f3",
          "dash": "solid"
         },
         "marker": {
          "symbol": "circle"
         },
         "mode": "lines",
         "name": "prophet_fcst_mae_mean",
         "orientation": "v",
         "showlegend": true,
         "type": "scatter",
         "x": {
          "bdata": "AgYKDhIWGh4iJiouMjY6PkJGSk5SVlpe",
          "dtype": "i1"
         },
         "xaxis": "x",
         "y": {
          "bdata": "wcqhRbY7ZkCuR+F6FEpyQOkmMQisfHVA+n5qvHRpd0DLoUW28xF4QIXrUbgeg3hAWmQ730/PeECBlUOLbCt5QJ7vp8ZLt3lA/tR46SYxekAdWmQ734V6QIts5/upr3pAUrgehevBekCcxCCwchB7QM3MzMzMintA8tJNYhAqfEDByqFFtql8QJZDi2znz3xA16NwPQrjfECDwMqhRQJ9QBBYObTICn1AUI2XbhIJfUDTTWIQWBd9QEa28/3UMH1A",
          "dtype": "f8"
         },
         "yaxis": "y"
        },
        {
         "hovertemplate": "variable=fcst_smooth_mae_mean<br>n=%{x}<br>value=%{y}<extra></extra>",
         "legendgroup": "fcst_smooth_mae_mean",
         "line": {
          "color": "#FF6692",
          "dash": "solid"
         },
         "marker": {
          "symbol": "circle"
         },
         "mode": "lines",
         "name": "fcst_smooth_mae_mean",
         "orientation": "v",
         "showlegend": true,
         "type": "scatter",
         "x": {
          "bdata": "AgYKDhIWGh4iJiouMjY6PkJGSk5SVlpe",
          "dtype": "i1"
         },
         "xaxis": "x",
         "y": {
          "bdata": "N4lBYOUsb0CuR+F6FGZ4QH9qvHSTqntAnMQgsHLOfEBGtvP91Dh9QPyp8dJNfH1AMzMzMzN9fUCgGi/dJHB9QOXQItv5qH1A16NwPQrdfUDsUbgehR9+QESLbOf7cX5A6SYxCKzWfkDJdr6fGlN/QGDl0CLbs39A001iEFgJgEDXo3A9CjaAQHWTGARWYIBA30+Nl26GgEBMN4lBYLSAQPCnxks36oBAbef7qfEogUA9CtejcGSBQBkEVg4tk4FA",
          "dtype": "f8"
         },
         "yaxis": "y"
        },
        {
         "hovertemplate": "variable=prophet_fcst_smooth_mae_mean<br>n=%{x}<br>value=%{y}<extra></extra>",
         "legendgroup": "prophet_fcst_smooth_mae_mean",
         "line": {
          "color": "#B6E880",
          "dash": "solid"
         },
         "marker": {
          "symbol": "circle"
         },
         "mode": "lines",
         "name": "prophet_fcst_smooth_mae_mean",
         "orientation": "v",
         "showlegend": true,
         "type": "scatter",
         "x": {
          "bdata": "AgYKDhIWGh4iJiouMjY6PkJGSk5SVlpe",
          "dtype": "i1"
         },
         "xaxis": "x",
         "y": {
          "bdata": "8tJNYhCYZ0CPwvUoXIlyQH0/NV66VXVA6SYxCKzadkDP91PjpV93QOXQItv5xndAjZduEoNQeECBlUOLbPF4QH9qvHSTjnlAkxgEVg4XekAxCKwcWnp6QDm0yHa+q3pA+n5qvHTNekDsUbgehSl7QOf7qfHSq3tAHVpkO987fEBI4XoUrrl8QK5H4XoU6nxAUI2XbhIXfUDLoUW28z99QJHtfD81VH1ARIts5/tbfUBQjZduEm99QDEIrBxaiH1A",
          "dtype": "f8"
         },
         "yaxis": "y"
        }
       ],
       "layout": {
        "legend": {
         "title": {
          "text": "variable"
         },
         "tracegroupgap": 0
        },
        "template": {
         "data": {
          "bar": [
           {
            "error_x": {
             "color": "#2a3f5f"
            },
            "error_y": {
             "color": "#2a3f5f"
            },
            "marker": {
             "line": {
              "color": "#E5ECF6",
              "width": 0.5
             },
             "pattern": {
              "fillmode": "overlay",
              "size": 10,
              "solidity": 0.2
             }
            },
            "type": "bar"
           }
          ],
          "barpolar": [
           {
            "marker": {
             "line": {
              "color": "#E5ECF6",
              "width": 0.5
             },
             "pattern": {
              "fillmode": "overlay",
              "size": 10,
              "solidity": 0.2
             }
            },
            "type": "barpolar"
           }
          ],
          "carpet": [
           {
            "aaxis": {
             "endlinecolor": "#2a3f5f",
             "gridcolor": "white",
             "linecolor": "white",
             "minorgridcolor": "white",
             "startlinecolor": "#2a3f5f"
            },
            "baxis": {
             "endlinecolor": "#2a3f5f",
             "gridcolor": "white",
             "linecolor": "white",
             "minorgridcolor": "white",
             "startlinecolor": "#2a3f5f"
            },
            "type": "carpet"
           }
          ],
          "choropleth": [
           {
            "colorbar": {
             "outlinewidth": 0,
             "ticks": ""
            },
            "type": "choropleth"
           }
          ],
          "contour": [
           {
            "colorbar": {
             "outlinewidth": 0,
             "ticks": ""
            },
            "colorscale": [
             [
              0,
              "#0d0887"
             ],
             [
              0.1111111111111111,
              "#46039f"
             ],
             [
              0.2222222222222222,
              "#7201a8"
             ],
             [
              0.3333333333333333,
              "#9c179e"
             ],
             [
              0.4444444444444444,
              "#bd3786"
             ],
             [
              0.5555555555555556,
              "#d8576b"
             ],
             [
              0.6666666666666666,
              "#ed7953"
             ],
             [
              0.7777777777777778,
              "#fb9f3a"
             ],
             [
              0.8888888888888888,
              "#fdca26"
             ],
             [
              1,
              "#f0f921"
             ]
            ],
            "type": "contour"
           }
          ],
          "contourcarpet": [
           {
            "colorbar": {
             "outlinewidth": 0,
             "ticks": ""
            },
            "type": "contourcarpet"
           }
          ],
          "heatmap": [
           {
            "colorbar": {
             "outlinewidth": 0,
             "ticks": ""
            },
            "colorscale": [
             [
              0,
              "#0d0887"
             ],
             [
              0.1111111111111111,
              "#46039f"
             ],
             [
              0.2222222222222222,
              "#7201a8"
             ],
             [
              0.3333333333333333,
              "#9c179e"
             ],
             [
              0.4444444444444444,
              "#bd3786"
             ],
             [
              0.5555555555555556,
              "#d8576b"
             ],
             [
              0.6666666666666666,
              "#ed7953"
             ],
             [
              0.7777777777777778,
              "#fb9f3a"
             ],
             [
              0.8888888888888888,
              "#fdca26"
             ],
             [
              1,
              "#f0f921"
             ]
            ],
            "type": "heatmap"
           }
          ],
          "histogram": [
           {
            "marker": {
             "pattern": {
              "fillmode": "overlay",
              "size": 10,
              "solidity": 0.2
             }
            },
            "type": "histogram"
           }
          ],
          "histogram2d": [
           {
            "colorbar": {
             "outlinewidth": 0,
             "ticks": ""
            },
            "colorscale": [
             [
              0,
              "#0d0887"
             ],
             [
              0.1111111111111111,
              "#46039f"
             ],
             [
              0.2222222222222222,
              "#7201a8"
             ],
             [
              0.3333333333333333,
              "#9c179e"
             ],
             [
              0.4444444444444444,
              "#bd3786"
             ],
             [
              0.5555555555555556,
              "#d8576b"
             ],
             [
              0.6666666666666666,
              "#ed7953"
             ],
             [
              0.7777777777777778,
              "#fb9f3a"
             ],
             [
              0.8888888888888888,
              "#fdca26"
             ],
             [
              1,
              "#f0f921"
             ]
            ],
            "type": "histogram2d"
           }
          ],
          "histogram2dcontour": [
           {
            "colorbar": {
             "outlinewidth": 0,
             "ticks": ""
            },
            "colorscale": [
             [
              0,
              "#0d0887"
             ],
             [
              0.1111111111111111,
              "#46039f"
             ],
             [
              0.2222222222222222,
              "#7201a8"
             ],
             [
              0.3333333333333333,
              "#9c179e"
             ],
             [
              0.4444444444444444,
              "#bd3786"
             ],
             [
              0.5555555555555556,
              "#d8576b"
             ],
             [
              0.6666666666666666,
              "#ed7953"
             ],
             [
              0.7777777777777778,
              "#fb9f3a"
             ],
             [
              0.8888888888888888,
              "#fdca26"
             ],
             [
              1,
              "#f0f921"
             ]
            ],
            "type": "histogram2dcontour"
           }
          ],
          "mesh3d": [
           {
            "colorbar": {
             "outlinewidth": 0,
             "ticks": ""
            },
            "type": "mesh3d"
           }
          ],
          "parcoords": [
           {
            "line": {
             "colorbar": {
              "outlinewidth": 0,
              "ticks": ""
             }
            },
            "type": "parcoords"
           }
          ],
          "pie": [
           {
            "automargin": true,
            "type": "pie"
           }
          ],
          "scatter": [
           {
            "fillpattern": {
             "fillmode": "overlay",
             "size": 10,
             "solidity": 0.2
            },
            "type": "scatter"
           }
          ],
          "scatter3d": [
           {
            "line": {
             "colorbar": {
              "outlinewidth": 0,
              "ticks": ""
             }
            },
            "marker": {
             "colorbar": {
              "outlinewidth": 0,
              "ticks": ""
             }
            },
            "type": "scatter3d"
           }
          ],
          "scattercarpet": [
           {
            "marker": {
             "colorbar": {
              "outlinewidth": 0,
              "ticks": ""
             }
            },
            "type": "scattercarpet"
           }
          ],
          "scattergeo": [
           {
            "marker": {
             "colorbar": {
              "outlinewidth": 0,
              "ticks": ""
             }
            },
            "type": "scattergeo"
           }
          ],
          "scattergl": [
           {
            "marker": {
             "colorbar": {
              "outlinewidth": 0,
              "ticks": ""
             }
            },
            "type": "scattergl"
           }
          ],
          "scattermap": [
           {
            "marker": {
             "colorbar": {
              "outlinewidth": 0,
              "ticks": ""
             }
            },
            "type": "scattermap"
           }
          ],
          "scattermapbox": [
           {
            "marker": {
             "colorbar": {
              "outlinewidth": 0,
              "ticks": ""
             }
            },
            "type": "scattermapbox"
           }
          ],
          "scatterpolar": [
           {
            "marker": {
             "colorbar": {
              "outlinewidth": 0,
              "ticks": ""
             }
            },
            "type": "scatterpolar"
           }
          ],
          "scatterpolargl": [
           {
            "marker": {
             "colorbar": {
              "outlinewidth": 0,
              "ticks": ""
             }
            },
            "type": "scatterpolargl"
           }
          ],
          "scatterternary": [
           {
            "marker": {
             "colorbar": {
              "outlinewidth": 0,
              "ticks": ""
             }
            },
            "type": "scatterternary"
           }
          ],
          "surface": [
           {
            "colorbar": {
             "outlinewidth": 0,
             "ticks": ""
            },
            "colorscale": [
             [
              0,
              "#0d0887"
             ],
             [
              0.1111111111111111,
              "#46039f"
             ],
             [
              0.2222222222222222,
              "#7201a8"
             ],
             [
              0.3333333333333333,
              "#9c179e"
             ],
             [
              0.4444444444444444,
              "#bd3786"
             ],
             [
              0.5555555555555556,
              "#d8576b"
             ],
             [
              0.6666666666666666,
              "#ed7953"
             ],
             [
              0.7777777777777778,
              "#fb9f3a"
             ],
             [
              0.8888888888888888,
              "#fdca26"
             ],
             [
              1,
              "#f0f921"
             ]
            ],
            "type": "surface"
           }
          ],
          "table": [
           {
            "cells": {
             "fill": {
              "color": "#EBF0F8"
             },
             "line": {
              "color": "white"
             }
            },
            "header": {
             "fill": {
              "color": "#C8D4E3"
             },
             "line": {
              "color": "white"
             }
            },
            "type": "table"
           }
          ]
         },
         "layout": {
          "annotationdefaults": {
           "arrowcolor": "#2a3f5f",
           "arrowhead": 0,
           "arrowwidth": 1
          },
          "autotypenumbers": "strict",
          "coloraxis": {
           "colorbar": {
            "outlinewidth": 0,
            "ticks": ""
           }
          },
          "colorscale": {
           "diverging": [
            [
             0,
             "#8e0152"
            ],
            [
             0.1,
             "#c51b7d"
            ],
            [
             0.2,
             "#de77ae"
            ],
            [
             0.3,
             "#f1b6da"
            ],
            [
             0.4,
             "#fde0ef"
            ],
            [
             0.5,
             "#f7f7f7"
            ],
            [
             0.6,
             "#e6f5d0"
            ],
            [
             0.7,
             "#b8e186"
            ],
            [
             0.8,
             "#7fbc41"
            ],
            [
             0.9,
             "#4d9221"
            ],
            [
             1,
             "#276419"
            ]
           ],
           "sequential": [
            [
             0,
             "#0d0887"
            ],
            [
             0.1111111111111111,
             "#46039f"
            ],
            [
             0.2222222222222222,
             "#7201a8"
            ],
            [
             0.3333333333333333,
             "#9c179e"
            ],
            [
             0.4444444444444444,
             "#bd3786"
            ],
            [
             0.5555555555555556,
             "#d8576b"
            ],
            [
             0.6666666666666666,
             "#ed7953"
            ],
            [
             0.7777777777777778,
             "#fb9f3a"
            ],
            [
             0.8888888888888888,
             "#fdca26"
            ],
            [
             1,
             "#f0f921"
            ]
           ],
           "sequentialminus": [
            [
             0,
             "#0d0887"
            ],
            [
             0.1111111111111111,
             "#46039f"
            ],
            [
             0.2222222222222222,
             "#7201a8"
            ],
            [
             0.3333333333333333,
             "#9c179e"
            ],
            [
             0.4444444444444444,
             "#bd3786"
            ],
            [
             0.5555555555555556,
             "#d8576b"
            ],
            [
             0.6666666666666666,
             "#ed7953"
            ],
            [
             0.7777777777777778,
             "#fb9f3a"
            ],
            [
             0.8888888888888888,
             "#fdca26"
            ],
            [
             1,
             "#f0f921"
            ]
           ]
          },
          "colorway": [
           "#636efa",
           "#EF553B",
           "#00cc96",
           "#ab63fa",
           "#FFA15A",
           "#19d3f3",
           "#FF6692",
           "#B6E880",
           "#FF97FF",
           "#FECB52"
          ],
          "font": {
           "color": "#2a3f5f"
          },
          "geo": {
           "bgcolor": "white",
           "lakecolor": "white",
           "landcolor": "#E5ECF6",
           "showlakes": true,
           "showland": true,
           "subunitcolor": "white"
          },
          "hoverlabel": {
           "align": "left"
          },
          "hovermode": "closest",
          "mapbox": {
           "style": "light"
          },
          "paper_bgcolor": "white",
          "plot_bgcolor": "#E5ECF6",
          "polar": {
           "angularaxis": {
            "gridcolor": "white",
            "linecolor": "white",
            "ticks": ""
           },
           "bgcolor": "#E5ECF6",
           "radialaxis": {
            "gridcolor": "white",
            "linecolor": "white",
            "ticks": ""
           }
          },
          "scene": {
           "xaxis": {
            "backgroundcolor": "#E5ECF6",
            "gridcolor": "white",
            "gridwidth": 2,
            "linecolor": "white",
            "showbackground": true,
            "ticks": "",
            "zerolinecolor": "white"
           },
           "yaxis": {
            "backgroundcolor": "#E5ECF6",
            "gridcolor": "white",
            "gridwidth": 2,
            "linecolor": "white",
            "showbackground": true,
            "ticks": "",
            "zerolinecolor": "white"
           },
           "zaxis": {
            "backgroundcolor": "#E5ECF6",
            "gridcolor": "white",
            "gridwidth": 2,
            "linecolor": "white",
            "showbackground": true,
            "ticks": "",
            "zerolinecolor": "white"
           }
          },
          "shapedefaults": {
           "line": {
            "color": "#2a3f5f"
           }
          },
          "ternary": {
           "aaxis": {
            "gridcolor": "white",
            "linecolor": "white",
            "ticks": ""
           },
           "baxis": {
            "gridcolor": "white",
            "linecolor": "white",
            "ticks": ""
           },
           "bgcolor": "#E5ECF6",
           "caxis": {
            "gridcolor": "white",
            "linecolor": "white",
            "ticks": ""
           }
          },
          "title": {
           "x": 0.05
          },
          "xaxis": {
           "automargin": true,
           "gridcolor": "white",
           "linecolor": "white",
           "ticks": "",
           "title": {
            "standoff": 15
           },
           "zerolinecolor": "white",
           "zerolinewidth": 2
          },
          "yaxis": {
           "automargin": true,
           "gridcolor": "white",
           "linecolor": "white",
           "ticks": "",
           "title": {
            "standoff": 15
           },
           "zerolinecolor": "white",
           "zerolinewidth": 2
          }
         }
        },
        "title": {
         "text": "Imputation Comparison Results"
        },
        "xaxis": {
         "anchor": "y",
         "domain": [
          0,
          1
         ],
         "title": {
          "text": "n"
         }
        },
        "yaxis": {
         "anchor": "x",
         "domain": [
          0,
          1
         ],
         "title": {
          "text": "value"
         }
        }
       }
      }
     },
     "metadata": {},
     "output_type": "display_data"
    }
   ],
   "source": [
    "fig = plot_imputation_results(agg_result)\n",
    "fig\n",
    "\n",
    "fig.write_html(\"imputation_plot_4_19_2025.html\")\n",
    "# Next steps: \n",
    "# Include standard deviation and confidence intervals\n",
    "# Include seasonal decomposition methods\n",
    "# Extend imputation window to as much as 5 days, but reduce granularity"
   ]
  },
  {
   "cell_type": "code",
   "execution_count": 64,
   "metadata": {},
   "outputs": [
    {
     "data": {
      "application/vnd.microsoft.datawrangler.viewer.v0+json": {
       "columns": [
        {
         "name": "index",
         "rawType": "int64",
         "type": "integer"
        },
        {
         "name": "n",
         "rawType": "int64",
         "type": "integer"
        },
        {
         "name": "lin_nearest_mae_mean",
         "rawType": "float64",
         "type": "float"
        },
        {
         "name": "lin_nearest_mae_std",
         "rawType": "float64",
         "type": "float"
        },
        {
         "name": "lin_linear_mae_mean",
         "rawType": "float64",
         "type": "float"
        },
        {
         "name": "lin_linear_mae_std",
         "rawType": "float64",
         "type": "float"
        },
        {
         "name": "spline_mae_mean",
         "rawType": "float64",
         "type": "float"
        },
        {
         "name": "spline_mae_std",
         "rawType": "float64",
         "type": "float"
        },
        {
         "name": "weekday_actuals_mae_mean",
         "rawType": "float64",
         "type": "float"
        },
        {
         "name": "weekday_actuals_mae_std",
         "rawType": "float64",
         "type": "float"
        },
        {
         "name": "fcst_mae_mean",
         "rawType": "float64",
         "type": "float"
        },
        {
         "name": "fcst_mae_std",
         "rawType": "float64",
         "type": "float"
        },
        {
         "name": "prophet_fcst_mae_mean",
         "rawType": "float64",
         "type": "float"
        },
        {
         "name": "prophet_fcst_mae_std",
         "rawType": "float64",
         "type": "float"
        },
        {
         "name": "fcst_smooth_mae_mean",
         "rawType": "float64",
         "type": "float"
        },
        {
         "name": "fcst_smooth_mae_std",
         "rawType": "float64",
         "type": "float"
        },
        {
         "name": "prophet_fcst_smooth_mae_mean",
         "rawType": "float64",
         "type": "float"
        },
        {
         "name": "prophet_fcst_smooth_mae_std",
         "rawType": "float64",
         "type": "float"
        }
       ],
       "ref": "6e3fcbb9-ca27-4098-b97c-aec0aef4491c",
       "rows": [
        [
         "0",
         "2",
         "32.433",
         "25.853",
         "17.869",
         "13.929",
         "18.059",
         "15.374",
         "636.211",
         "380.82",
         "229.925",
         "181.807",
         "177.866",
         "134.162",
         "249.403",
         "190.519",
         "188.752",
         "135.144"
        ],
        [
         "1",
         "6",
         "95.011",
         "70.636",
         "53.065",
         "29.233",
         "44.783",
         "38.232",
         "610.087",
         "343.085",
         "373.924",
         "292.911",
         "292.63",
         "213.562",
         "390.38",
         "306.904",
         "296.585",
         "209.367"
        ],
        [
         "2",
         "10",
         "159.321",
         "94.259",
         "101.027",
         "69.363",
         "75.152",
         "51.339",
         "594.924",
         "329.557",
         "429.378",
         "337.786",
         "343.792",
         "238.589",
         "442.661",
         "355.463",
         "341.358",
         "236.037"
        ],
        [
         "3",
         "14",
         "221.066",
         "131.863",
         "160.419",
         "113.779",
         "145.768",
         "104.84",
         "582.617",
         "325.494",
         "451.844",
         "364.575",
         "374.591",
         "252.753",
         "460.903",
         "378.137",
         "365.667",
         "248.27"
        ],
        [
         "4",
         "18",
         "288.971",
         "156.199",
         "220.905",
         "149.209",
         "228.159",
         "205.575",
         "571.805",
         "318.247",
         "461.291",
         "381.329",
         "385.122",
         "256.657",
         "467.552",
         "387.144",
         "373.978",
         "250.526"
        ],
        [
         "5",
         "22",
         "364.646",
         "158.265",
         "302.456",
         "187.176",
         "258.641",
         "158.118",
         "565.418",
         "304.268",
         "467.432",
         "386.947",
         "392.195",
         "259.093",
         "471.769",
         "385.783",
         "380.436",
         "250.976"
        ],
        [
         "6",
         "26",
         "412.216",
         "200.5",
         "349.942",
         "238.135",
         "424.956",
         "427.905",
         "552.982",
         "291.894",
         "466.838",
         "379.363",
         "396.957",
         "259.506",
         "471.825",
         "374.346",
         "389.032",
         "248.826"
        ],
        [
         "7",
         "30",
         "476.12",
         "210.3",
         "426.07",
         "244.388",
         "403.114",
         "252.409",
         "544.503",
         "287.481",
         "465.907",
         "371.692",
         "402.714",
         "259.735",
         "471.009",
         "367.149",
         "399.089",
         "249.428"
        ],
        [
         "8",
         "34",
         "496.924",
         "202.616",
         "473.59",
         "230.744",
         "478.347",
         "318.448",
         "534.763",
         "285.506",
         "470.139",
         "362.319",
         "411.456",
         "257.416",
         "474.561",
         "359.37",
         "408.911",
         "248.037"
        ],
        [
         "9",
         "38",
         "557.615",
         "200.498",
         "531.193",
         "241.171",
         "437.068",
         "230.014",
         "526.111",
         "278.88",
         "474.784",
         "356.276",
         "419.072",
         "250.609",
         "477.815",
         "355.752",
         "417.441",
         "242.979"
        ],
        [
         "10",
         "42",
         "571.551",
         "234.974",
         "551.344",
         "256.515",
         "568.401",
         "339.572",
         "518.688",
         "273.044",
         "479.27",
         "354.919",
         "424.367",
         "244.207",
         "481.97",
         "355.018",
         "423.647",
         "238.341"
        ],
        [
         "11",
         "46",
         "590.984",
         "238.075",
         "591.645",
         "242.627",
         "729.459",
         "434.941",
         "514.625",
         "269.792",
         "483.523",
         "355.028",
         "426.979",
         "238.312",
         "487.124",
         "355.235",
         "426.734",
         "233.897"
        ],
        [
         "12",
         "50",
         "615.851",
         "253.542",
         "612.867",
         "254.627",
         "785.557",
         "451.088",
         "514.943",
         "273.077",
         "489.606",
         "354.581",
         "428.12",
         "233.656",
         "493.417",
         "354.783",
         "428.841",
         "230.463"
        ],
        [
         "13",
         "54",
         "657.554",
         "297.28",
         "645.778",
         "280.571",
         "740.673",
         "337.523",
         "514.134",
         "277.748",
         "497.273",
         "354.02",
         "433.028",
         "230.757",
         "501.194",
         "354.823",
         "434.595",
         "228.881"
        ],
        [
         "14",
         "58",
         "701.883",
         "295.019",
         "692.775",
         "284.182",
         "842.234",
         "443.233",
         "513.769",
         "282.985",
         "502.959",
         "354.899",
         "440.675",
         "233.752",
         "507.241",
         "355.099",
         "442.739",
         "232.062"
        ],
        [
         "15",
         "62",
         "742.097",
         "313.226",
         "739.129",
         "306.928",
         "795.283",
         "335.19",
         "510.859",
         "285.245",
         "509.12",
         "356.456",
         "450.629",
         "240.664",
         "513.168",
         "355.867",
         "451.742",
         "238.981"
        ],
        [
         "16",
         "66",
         "810.504",
         "334.059",
         "796.653",
         "353.038",
         "868.97",
         "602.185",
         "507.379",
         "286.047",
         "515.926",
         "357.775",
         "458.607",
         "246.181",
         "518.755",
         "357.471",
         "459.605",
         "244.613"
        ],
        [
         "17",
         "70",
         "884.835",
         "341.562",
         "842.236",
         "377.511",
         "841.742",
         "464.752",
         "506.371",
         "282.931",
         "522.828",
         "361.206",
         "460.994",
         "251.225",
         "524.042",
         "361.296",
         "462.63",
         "248.966"
        ],
        [
         "18",
         "74",
         "901.065",
         "402.869",
         "883.693",
         "413.966",
         "1026.015",
         "686.279",
         "505.761",
         "278.011",
         "528.092",
         "366.369",
         "462.19",
         "254.188",
         "528.804",
         "365.209",
         "465.442",
         "251.714"
        ],
        [
         "19",
         "78",
         "910.165",
         "402.398",
         "911.491",
         "399.395",
         "1277.758",
         "753.641",
         "503.887",
         "274.606",
         "533.254",
         "370.813",
         "464.142",
         "256.764",
         "534.547",
         "369.069",
         "467.997",
         "254.524"
        ],
        [
         "20",
         "82",
         "961.495",
         "424.514",
         "973.982",
         "411.02",
         "1191.295",
         "776.296",
         "502.787",
         "272.56",
         "539.391",
         "375.906",
         "464.674",
         "259.724",
         "541.277",
         "373.334",
         "469.263",
         "256.885"
        ],
        [
         "21",
         "86",
         "993.675",
         "422.372",
         "1000.23",
         "411.992",
         "1255.98",
         "960.161",
         "503.762",
         "271.959",
         "545.868",
         "380.698",
         "464.567",
         "262.259",
         "549.118",
         "378.119",
         "469.749",
         "259.508"
        ],
        [
         "22",
         "90",
         "1016.727",
         "427.025",
         "1020.724",
         "424.325",
         "1211.169",
         "720.63",
         "505.346",
         "272.77",
         "553.049",
         "384.34",
         "465.459",
         "264.683",
         "556.555",
         "381.422",
         "470.942",
         "260.946"
        ],
        [
         "23",
         "94",
         "1004.776",
         "428.927",
         "1008.677",
         "426.224",
         "1524.318",
         "893.289",
         "507.661",
         "274.246",
         "558.685",
         "386.505",
         "467.052",
         "267.282",
         "562.397",
         "383.351",
         "472.522",
         "262.848"
        ]
       ],
       "shape": {
        "columns": 17,
        "rows": 24
       }
      },
      "text/html": [
       "<div>\n",
       "<style scoped>\n",
       "    .dataframe tbody tr th:only-of-type {\n",
       "        vertical-align: middle;\n",
       "    }\n",
       "\n",
       "    .dataframe tbody tr th {\n",
       "        vertical-align: top;\n",
       "    }\n",
       "\n",
       "    .dataframe thead th {\n",
       "        text-align: right;\n",
       "    }\n",
       "</style>\n",
       "<table border=\"1\" class=\"dataframe\">\n",
       "  <thead>\n",
       "    <tr style=\"text-align: right;\">\n",
       "      <th></th>\n",
       "      <th>n</th>\n",
       "      <th>lin_nearest_mae_mean</th>\n",
       "      <th>lin_nearest_mae_std</th>\n",
       "      <th>lin_linear_mae_mean</th>\n",
       "      <th>lin_linear_mae_std</th>\n",
       "      <th>spline_mae_mean</th>\n",
       "      <th>spline_mae_std</th>\n",
       "      <th>weekday_actuals_mae_mean</th>\n",
       "      <th>weekday_actuals_mae_std</th>\n",
       "      <th>fcst_mae_mean</th>\n",
       "      <th>fcst_mae_std</th>\n",
       "      <th>prophet_fcst_mae_mean</th>\n",
       "      <th>prophet_fcst_mae_std</th>\n",
       "      <th>fcst_smooth_mae_mean</th>\n",
       "      <th>fcst_smooth_mae_std</th>\n",
       "      <th>prophet_fcst_smooth_mae_mean</th>\n",
       "      <th>prophet_fcst_smooth_mae_std</th>\n",
       "    </tr>\n",
       "  </thead>\n",
       "  <tbody>\n",
       "    <tr>\n",
       "      <th>0</th>\n",
       "      <td>2</td>\n",
       "      <td>32.433</td>\n",
       "      <td>25.853</td>\n",
       "      <td>17.869</td>\n",
       "      <td>13.929</td>\n",
       "      <td>18.059</td>\n",
       "      <td>15.374</td>\n",
       "      <td>636.211</td>\n",
       "      <td>380.820</td>\n",
       "      <td>229.925</td>\n",
       "      <td>181.807</td>\n",
       "      <td>177.866</td>\n",
       "      <td>134.162</td>\n",
       "      <td>249.403</td>\n",
       "      <td>190.519</td>\n",
       "      <td>188.752</td>\n",
       "      <td>135.144</td>\n",
       "    </tr>\n",
       "    <tr>\n",
       "      <th>1</th>\n",
       "      <td>6</td>\n",
       "      <td>95.011</td>\n",
       "      <td>70.636</td>\n",
       "      <td>53.065</td>\n",
       "      <td>29.233</td>\n",
       "      <td>44.783</td>\n",
       "      <td>38.232</td>\n",
       "      <td>610.087</td>\n",
       "      <td>343.085</td>\n",
       "      <td>373.924</td>\n",
       "      <td>292.911</td>\n",
       "      <td>292.630</td>\n",
       "      <td>213.562</td>\n",
       "      <td>390.380</td>\n",
       "      <td>306.904</td>\n",
       "      <td>296.585</td>\n",
       "      <td>209.367</td>\n",
       "    </tr>\n",
       "    <tr>\n",
       "      <th>2</th>\n",
       "      <td>10</td>\n",
       "      <td>159.321</td>\n",
       "      <td>94.259</td>\n",
       "      <td>101.027</td>\n",
       "      <td>69.363</td>\n",
       "      <td>75.152</td>\n",
       "      <td>51.339</td>\n",
       "      <td>594.924</td>\n",
       "      <td>329.557</td>\n",
       "      <td>429.378</td>\n",
       "      <td>337.786</td>\n",
       "      <td>343.792</td>\n",
       "      <td>238.589</td>\n",
       "      <td>442.661</td>\n",
       "      <td>355.463</td>\n",
       "      <td>341.358</td>\n",
       "      <td>236.037</td>\n",
       "    </tr>\n",
       "    <tr>\n",
       "      <th>3</th>\n",
       "      <td>14</td>\n",
       "      <td>221.066</td>\n",
       "      <td>131.863</td>\n",
       "      <td>160.419</td>\n",
       "      <td>113.779</td>\n",
       "      <td>145.768</td>\n",
       "      <td>104.840</td>\n",
       "      <td>582.617</td>\n",
       "      <td>325.494</td>\n",
       "      <td>451.844</td>\n",
       "      <td>364.575</td>\n",
       "      <td>374.591</td>\n",
       "      <td>252.753</td>\n",
       "      <td>460.903</td>\n",
       "      <td>378.137</td>\n",
       "      <td>365.667</td>\n",
       "      <td>248.270</td>\n",
       "    </tr>\n",
       "    <tr>\n",
       "      <th>4</th>\n",
       "      <td>18</td>\n",
       "      <td>288.971</td>\n",
       "      <td>156.199</td>\n",
       "      <td>220.905</td>\n",
       "      <td>149.209</td>\n",
       "      <td>228.159</td>\n",
       "      <td>205.575</td>\n",
       "      <td>571.805</td>\n",
       "      <td>318.247</td>\n",
       "      <td>461.291</td>\n",
       "      <td>381.329</td>\n",
       "      <td>385.122</td>\n",
       "      <td>256.657</td>\n",
       "      <td>467.552</td>\n",
       "      <td>387.144</td>\n",
       "      <td>373.978</td>\n",
       "      <td>250.526</td>\n",
       "    </tr>\n",
       "    <tr>\n",
       "      <th>5</th>\n",
       "      <td>22</td>\n",
       "      <td>364.646</td>\n",
       "      <td>158.265</td>\n",
       "      <td>302.456</td>\n",
       "      <td>187.176</td>\n",
       "      <td>258.641</td>\n",
       "      <td>158.118</td>\n",
       "      <td>565.418</td>\n",
       "      <td>304.268</td>\n",
       "      <td>467.432</td>\n",
       "      <td>386.947</td>\n",
       "      <td>392.195</td>\n",
       "      <td>259.093</td>\n",
       "      <td>471.769</td>\n",
       "      <td>385.783</td>\n",
       "      <td>380.436</td>\n",
       "      <td>250.976</td>\n",
       "    </tr>\n",
       "    <tr>\n",
       "      <th>6</th>\n",
       "      <td>26</td>\n",
       "      <td>412.216</td>\n",
       "      <td>200.500</td>\n",
       "      <td>349.942</td>\n",
       "      <td>238.135</td>\n",
       "      <td>424.956</td>\n",
       "      <td>427.905</td>\n",
       "      <td>552.982</td>\n",
       "      <td>291.894</td>\n",
       "      <td>466.838</td>\n",
       "      <td>379.363</td>\n",
       "      <td>396.957</td>\n",
       "      <td>259.506</td>\n",
       "      <td>471.825</td>\n",
       "      <td>374.346</td>\n",
       "      <td>389.032</td>\n",
       "      <td>248.826</td>\n",
       "    </tr>\n",
       "    <tr>\n",
       "      <th>7</th>\n",
       "      <td>30</td>\n",
       "      <td>476.120</td>\n",
       "      <td>210.300</td>\n",
       "      <td>426.070</td>\n",
       "      <td>244.388</td>\n",
       "      <td>403.114</td>\n",
       "      <td>252.409</td>\n",
       "      <td>544.503</td>\n",
       "      <td>287.481</td>\n",
       "      <td>465.907</td>\n",
       "      <td>371.692</td>\n",
       "      <td>402.714</td>\n",
       "      <td>259.735</td>\n",
       "      <td>471.009</td>\n",
       "      <td>367.149</td>\n",
       "      <td>399.089</td>\n",
       "      <td>249.428</td>\n",
       "    </tr>\n",
       "    <tr>\n",
       "      <th>8</th>\n",
       "      <td>34</td>\n",
       "      <td>496.924</td>\n",
       "      <td>202.616</td>\n",
       "      <td>473.590</td>\n",
       "      <td>230.744</td>\n",
       "      <td>478.347</td>\n",
       "      <td>318.448</td>\n",
       "      <td>534.763</td>\n",
       "      <td>285.506</td>\n",
       "      <td>470.139</td>\n",
       "      <td>362.319</td>\n",
       "      <td>411.456</td>\n",
       "      <td>257.416</td>\n",
       "      <td>474.561</td>\n",
       "      <td>359.370</td>\n",
       "      <td>408.911</td>\n",
       "      <td>248.037</td>\n",
       "    </tr>\n",
       "    <tr>\n",
       "      <th>9</th>\n",
       "      <td>38</td>\n",
       "      <td>557.615</td>\n",
       "      <td>200.498</td>\n",
       "      <td>531.193</td>\n",
       "      <td>241.171</td>\n",
       "      <td>437.068</td>\n",
       "      <td>230.014</td>\n",
       "      <td>526.111</td>\n",
       "      <td>278.880</td>\n",
       "      <td>474.784</td>\n",
       "      <td>356.276</td>\n",
       "      <td>419.072</td>\n",
       "      <td>250.609</td>\n",
       "      <td>477.815</td>\n",
       "      <td>355.752</td>\n",
       "      <td>417.441</td>\n",
       "      <td>242.979</td>\n",
       "    </tr>\n",
       "    <tr>\n",
       "      <th>10</th>\n",
       "      <td>42</td>\n",
       "      <td>571.551</td>\n",
       "      <td>234.974</td>\n",
       "      <td>551.344</td>\n",
       "      <td>256.515</td>\n",
       "      <td>568.401</td>\n",
       "      <td>339.572</td>\n",
       "      <td>518.688</td>\n",
       "      <td>273.044</td>\n",
       "      <td>479.270</td>\n",
       "      <td>354.919</td>\n",
       "      <td>424.367</td>\n",
       "      <td>244.207</td>\n",
       "      <td>481.970</td>\n",
       "      <td>355.018</td>\n",
       "      <td>423.647</td>\n",
       "      <td>238.341</td>\n",
       "    </tr>\n",
       "    <tr>\n",
       "      <th>11</th>\n",
       "      <td>46</td>\n",
       "      <td>590.984</td>\n",
       "      <td>238.075</td>\n",
       "      <td>591.645</td>\n",
       "      <td>242.627</td>\n",
       "      <td>729.459</td>\n",
       "      <td>434.941</td>\n",
       "      <td>514.625</td>\n",
       "      <td>269.792</td>\n",
       "      <td>483.523</td>\n",
       "      <td>355.028</td>\n",
       "      <td>426.979</td>\n",
       "      <td>238.312</td>\n",
       "      <td>487.124</td>\n",
       "      <td>355.235</td>\n",
       "      <td>426.734</td>\n",
       "      <td>233.897</td>\n",
       "    </tr>\n",
       "    <tr>\n",
       "      <th>12</th>\n",
       "      <td>50</td>\n",
       "      <td>615.851</td>\n",
       "      <td>253.542</td>\n",
       "      <td>612.867</td>\n",
       "      <td>254.627</td>\n",
       "      <td>785.557</td>\n",
       "      <td>451.088</td>\n",
       "      <td>514.943</td>\n",
       "      <td>273.077</td>\n",
       "      <td>489.606</td>\n",
       "      <td>354.581</td>\n",
       "      <td>428.120</td>\n",
       "      <td>233.656</td>\n",
       "      <td>493.417</td>\n",
       "      <td>354.783</td>\n",
       "      <td>428.841</td>\n",
       "      <td>230.463</td>\n",
       "    </tr>\n",
       "    <tr>\n",
       "      <th>13</th>\n",
       "      <td>54</td>\n",
       "      <td>657.554</td>\n",
       "      <td>297.280</td>\n",
       "      <td>645.778</td>\n",
       "      <td>280.571</td>\n",
       "      <td>740.673</td>\n",
       "      <td>337.523</td>\n",
       "      <td>514.134</td>\n",
       "      <td>277.748</td>\n",
       "      <td>497.273</td>\n",
       "      <td>354.020</td>\n",
       "      <td>433.028</td>\n",
       "      <td>230.757</td>\n",
       "      <td>501.194</td>\n",
       "      <td>354.823</td>\n",
       "      <td>434.595</td>\n",
       "      <td>228.881</td>\n",
       "    </tr>\n",
       "    <tr>\n",
       "      <th>14</th>\n",
       "      <td>58</td>\n",
       "      <td>701.883</td>\n",
       "      <td>295.019</td>\n",
       "      <td>692.775</td>\n",
       "      <td>284.182</td>\n",
       "      <td>842.234</td>\n",
       "      <td>443.233</td>\n",
       "      <td>513.769</td>\n",
       "      <td>282.985</td>\n",
       "      <td>502.959</td>\n",
       "      <td>354.899</td>\n",
       "      <td>440.675</td>\n",
       "      <td>233.752</td>\n",
       "      <td>507.241</td>\n",
       "      <td>355.099</td>\n",
       "      <td>442.739</td>\n",
       "      <td>232.062</td>\n",
       "    </tr>\n",
       "    <tr>\n",
       "      <th>15</th>\n",
       "      <td>62</td>\n",
       "      <td>742.097</td>\n",
       "      <td>313.226</td>\n",
       "      <td>739.129</td>\n",
       "      <td>306.928</td>\n",
       "      <td>795.283</td>\n",
       "      <td>335.190</td>\n",
       "      <td>510.859</td>\n",
       "      <td>285.245</td>\n",
       "      <td>509.120</td>\n",
       "      <td>356.456</td>\n",
       "      <td>450.629</td>\n",
       "      <td>240.664</td>\n",
       "      <td>513.168</td>\n",
       "      <td>355.867</td>\n",
       "      <td>451.742</td>\n",
       "      <td>238.981</td>\n",
       "    </tr>\n",
       "    <tr>\n",
       "      <th>16</th>\n",
       "      <td>66</td>\n",
       "      <td>810.504</td>\n",
       "      <td>334.059</td>\n",
       "      <td>796.653</td>\n",
       "      <td>353.038</td>\n",
       "      <td>868.970</td>\n",
       "      <td>602.185</td>\n",
       "      <td>507.379</td>\n",
       "      <td>286.047</td>\n",
       "      <td>515.926</td>\n",
       "      <td>357.775</td>\n",
       "      <td>458.607</td>\n",
       "      <td>246.181</td>\n",
       "      <td>518.755</td>\n",
       "      <td>357.471</td>\n",
       "      <td>459.605</td>\n",
       "      <td>244.613</td>\n",
       "    </tr>\n",
       "    <tr>\n",
       "      <th>17</th>\n",
       "      <td>70</td>\n",
       "      <td>884.835</td>\n",
       "      <td>341.562</td>\n",
       "      <td>842.236</td>\n",
       "      <td>377.511</td>\n",
       "      <td>841.742</td>\n",
       "      <td>464.752</td>\n",
       "      <td>506.371</td>\n",
       "      <td>282.931</td>\n",
       "      <td>522.828</td>\n",
       "      <td>361.206</td>\n",
       "      <td>460.994</td>\n",
       "      <td>251.225</td>\n",
       "      <td>524.042</td>\n",
       "      <td>361.296</td>\n",
       "      <td>462.630</td>\n",
       "      <td>248.966</td>\n",
       "    </tr>\n",
       "    <tr>\n",
       "      <th>18</th>\n",
       "      <td>74</td>\n",
       "      <td>901.065</td>\n",
       "      <td>402.869</td>\n",
       "      <td>883.693</td>\n",
       "      <td>413.966</td>\n",
       "      <td>1026.015</td>\n",
       "      <td>686.279</td>\n",
       "      <td>505.761</td>\n",
       "      <td>278.011</td>\n",
       "      <td>528.092</td>\n",
       "      <td>366.369</td>\n",
       "      <td>462.190</td>\n",
       "      <td>254.188</td>\n",
       "      <td>528.804</td>\n",
       "      <td>365.209</td>\n",
       "      <td>465.442</td>\n",
       "      <td>251.714</td>\n",
       "    </tr>\n",
       "    <tr>\n",
       "      <th>19</th>\n",
       "      <td>78</td>\n",
       "      <td>910.165</td>\n",
       "      <td>402.398</td>\n",
       "      <td>911.491</td>\n",
       "      <td>399.395</td>\n",
       "      <td>1277.758</td>\n",
       "      <td>753.641</td>\n",
       "      <td>503.887</td>\n",
       "      <td>274.606</td>\n",
       "      <td>533.254</td>\n",
       "      <td>370.813</td>\n",
       "      <td>464.142</td>\n",
       "      <td>256.764</td>\n",
       "      <td>534.547</td>\n",
       "      <td>369.069</td>\n",
       "      <td>467.997</td>\n",
       "      <td>254.524</td>\n",
       "    </tr>\n",
       "    <tr>\n",
       "      <th>20</th>\n",
       "      <td>82</td>\n",
       "      <td>961.495</td>\n",
       "      <td>424.514</td>\n",
       "      <td>973.982</td>\n",
       "      <td>411.020</td>\n",
       "      <td>1191.295</td>\n",
       "      <td>776.296</td>\n",
       "      <td>502.787</td>\n",
       "      <td>272.560</td>\n",
       "      <td>539.391</td>\n",
       "      <td>375.906</td>\n",
       "      <td>464.674</td>\n",
       "      <td>259.724</td>\n",
       "      <td>541.277</td>\n",
       "      <td>373.334</td>\n",
       "      <td>469.263</td>\n",
       "      <td>256.885</td>\n",
       "    </tr>\n",
       "    <tr>\n",
       "      <th>21</th>\n",
       "      <td>86</td>\n",
       "      <td>993.675</td>\n",
       "      <td>422.372</td>\n",
       "      <td>1000.230</td>\n",
       "      <td>411.992</td>\n",
       "      <td>1255.980</td>\n",
       "      <td>960.161</td>\n",
       "      <td>503.762</td>\n",
       "      <td>271.959</td>\n",
       "      <td>545.868</td>\n",
       "      <td>380.698</td>\n",
       "      <td>464.567</td>\n",
       "      <td>262.259</td>\n",
       "      <td>549.118</td>\n",
       "      <td>378.119</td>\n",
       "      <td>469.749</td>\n",
       "      <td>259.508</td>\n",
       "    </tr>\n",
       "    <tr>\n",
       "      <th>22</th>\n",
       "      <td>90</td>\n",
       "      <td>1016.727</td>\n",
       "      <td>427.025</td>\n",
       "      <td>1020.724</td>\n",
       "      <td>424.325</td>\n",
       "      <td>1211.169</td>\n",
       "      <td>720.630</td>\n",
       "      <td>505.346</td>\n",
       "      <td>272.770</td>\n",
       "      <td>553.049</td>\n",
       "      <td>384.340</td>\n",
       "      <td>465.459</td>\n",
       "      <td>264.683</td>\n",
       "      <td>556.555</td>\n",
       "      <td>381.422</td>\n",
       "      <td>470.942</td>\n",
       "      <td>260.946</td>\n",
       "    </tr>\n",
       "    <tr>\n",
       "      <th>23</th>\n",
       "      <td>94</td>\n",
       "      <td>1004.776</td>\n",
       "      <td>428.927</td>\n",
       "      <td>1008.677</td>\n",
       "      <td>426.224</td>\n",
       "      <td>1524.318</td>\n",
       "      <td>893.289</td>\n",
       "      <td>507.661</td>\n",
       "      <td>274.246</td>\n",
       "      <td>558.685</td>\n",
       "      <td>386.505</td>\n",
       "      <td>467.052</td>\n",
       "      <td>267.282</td>\n",
       "      <td>562.397</td>\n",
       "      <td>383.351</td>\n",
       "      <td>472.522</td>\n",
       "      <td>262.848</td>\n",
       "    </tr>\n",
       "  </tbody>\n",
       "</table>\n",
       "</div>"
      ],
      "text/plain": [
       "     n  lin_nearest_mae_mean  lin_nearest_mae_std  lin_linear_mae_mean  \\\n",
       "0    2                32.433               25.853               17.869   \n",
       "1    6                95.011               70.636               53.065   \n",
       "2   10               159.321               94.259              101.027   \n",
       "3   14               221.066              131.863              160.419   \n",
       "4   18               288.971              156.199              220.905   \n",
       "5   22               364.646              158.265              302.456   \n",
       "6   26               412.216              200.500              349.942   \n",
       "7   30               476.120              210.300              426.070   \n",
       "8   34               496.924              202.616              473.590   \n",
       "9   38               557.615              200.498              531.193   \n",
       "10  42               571.551              234.974              551.344   \n",
       "11  46               590.984              238.075              591.645   \n",
       "12  50               615.851              253.542              612.867   \n",
       "13  54               657.554              297.280              645.778   \n",
       "14  58               701.883              295.019              692.775   \n",
       "15  62               742.097              313.226              739.129   \n",
       "16  66               810.504              334.059              796.653   \n",
       "17  70               884.835              341.562              842.236   \n",
       "18  74               901.065              402.869              883.693   \n",
       "19  78               910.165              402.398              911.491   \n",
       "20  82               961.495              424.514              973.982   \n",
       "21  86               993.675              422.372             1000.230   \n",
       "22  90              1016.727              427.025             1020.724   \n",
       "23  94              1004.776              428.927             1008.677   \n",
       "\n",
       "    lin_linear_mae_std  spline_mae_mean  spline_mae_std  \\\n",
       "0               13.929           18.059          15.374   \n",
       "1               29.233           44.783          38.232   \n",
       "2               69.363           75.152          51.339   \n",
       "3              113.779          145.768         104.840   \n",
       "4              149.209          228.159         205.575   \n",
       "5              187.176          258.641         158.118   \n",
       "6              238.135          424.956         427.905   \n",
       "7              244.388          403.114         252.409   \n",
       "8              230.744          478.347         318.448   \n",
       "9              241.171          437.068         230.014   \n",
       "10             256.515          568.401         339.572   \n",
       "11             242.627          729.459         434.941   \n",
       "12             254.627          785.557         451.088   \n",
       "13             280.571          740.673         337.523   \n",
       "14             284.182          842.234         443.233   \n",
       "15             306.928          795.283         335.190   \n",
       "16             353.038          868.970         602.185   \n",
       "17             377.511          841.742         464.752   \n",
       "18             413.966         1026.015         686.279   \n",
       "19             399.395         1277.758         753.641   \n",
       "20             411.020         1191.295         776.296   \n",
       "21             411.992         1255.980         960.161   \n",
       "22             424.325         1211.169         720.630   \n",
       "23             426.224         1524.318         893.289   \n",
       "\n",
       "    weekday_actuals_mae_mean  weekday_actuals_mae_std  fcst_mae_mean  \\\n",
       "0                    636.211                  380.820        229.925   \n",
       "1                    610.087                  343.085        373.924   \n",
       "2                    594.924                  329.557        429.378   \n",
       "3                    582.617                  325.494        451.844   \n",
       "4                    571.805                  318.247        461.291   \n",
       "5                    565.418                  304.268        467.432   \n",
       "6                    552.982                  291.894        466.838   \n",
       "7                    544.503                  287.481        465.907   \n",
       "8                    534.763                  285.506        470.139   \n",
       "9                    526.111                  278.880        474.784   \n",
       "10                   518.688                  273.044        479.270   \n",
       "11                   514.625                  269.792        483.523   \n",
       "12                   514.943                  273.077        489.606   \n",
       "13                   514.134                  277.748        497.273   \n",
       "14                   513.769                  282.985        502.959   \n",
       "15                   510.859                  285.245        509.120   \n",
       "16                   507.379                  286.047        515.926   \n",
       "17                   506.371                  282.931        522.828   \n",
       "18                   505.761                  278.011        528.092   \n",
       "19                   503.887                  274.606        533.254   \n",
       "20                   502.787                  272.560        539.391   \n",
       "21                   503.762                  271.959        545.868   \n",
       "22                   505.346                  272.770        553.049   \n",
       "23                   507.661                  274.246        558.685   \n",
       "\n",
       "    fcst_mae_std  prophet_fcst_mae_mean  prophet_fcst_mae_std  \\\n",
       "0        181.807                177.866               134.162   \n",
       "1        292.911                292.630               213.562   \n",
       "2        337.786                343.792               238.589   \n",
       "3        364.575                374.591               252.753   \n",
       "4        381.329                385.122               256.657   \n",
       "5        386.947                392.195               259.093   \n",
       "6        379.363                396.957               259.506   \n",
       "7        371.692                402.714               259.735   \n",
       "8        362.319                411.456               257.416   \n",
       "9        356.276                419.072               250.609   \n",
       "10       354.919                424.367               244.207   \n",
       "11       355.028                426.979               238.312   \n",
       "12       354.581                428.120               233.656   \n",
       "13       354.020                433.028               230.757   \n",
       "14       354.899                440.675               233.752   \n",
       "15       356.456                450.629               240.664   \n",
       "16       357.775                458.607               246.181   \n",
       "17       361.206                460.994               251.225   \n",
       "18       366.369                462.190               254.188   \n",
       "19       370.813                464.142               256.764   \n",
       "20       375.906                464.674               259.724   \n",
       "21       380.698                464.567               262.259   \n",
       "22       384.340                465.459               264.683   \n",
       "23       386.505                467.052               267.282   \n",
       "\n",
       "    fcst_smooth_mae_mean  fcst_smooth_mae_std  prophet_fcst_smooth_mae_mean  \\\n",
       "0                249.403              190.519                       188.752   \n",
       "1                390.380              306.904                       296.585   \n",
       "2                442.661              355.463                       341.358   \n",
       "3                460.903              378.137                       365.667   \n",
       "4                467.552              387.144                       373.978   \n",
       "5                471.769              385.783                       380.436   \n",
       "6                471.825              374.346                       389.032   \n",
       "7                471.009              367.149                       399.089   \n",
       "8                474.561              359.370                       408.911   \n",
       "9                477.815              355.752                       417.441   \n",
       "10               481.970              355.018                       423.647   \n",
       "11               487.124              355.235                       426.734   \n",
       "12               493.417              354.783                       428.841   \n",
       "13               501.194              354.823                       434.595   \n",
       "14               507.241              355.099                       442.739   \n",
       "15               513.168              355.867                       451.742   \n",
       "16               518.755              357.471                       459.605   \n",
       "17               524.042              361.296                       462.630   \n",
       "18               528.804              365.209                       465.442   \n",
       "19               534.547              369.069                       467.997   \n",
       "20               541.277              373.334                       469.263   \n",
       "21               549.118              378.119                       469.749   \n",
       "22               556.555              381.422                       470.942   \n",
       "23               562.397              383.351                       472.522   \n",
       "\n",
       "    prophet_fcst_smooth_mae_std  \n",
       "0                       135.144  \n",
       "1                       209.367  \n",
       "2                       236.037  \n",
       "3                       248.270  \n",
       "4                       250.526  \n",
       "5                       250.976  \n",
       "6                       248.826  \n",
       "7                       249.428  \n",
       "8                       248.037  \n",
       "9                       242.979  \n",
       "10                      238.341  \n",
       "11                      233.897  \n",
       "12                      230.463  \n",
       "13                      228.881  \n",
       "14                      232.062  \n",
       "15                      238.981  \n",
       "16                      244.613  \n",
       "17                      248.966  \n",
       "18                      251.714  \n",
       "19                      254.524  \n",
       "20                      256.885  \n",
       "21                      259.508  \n",
       "22                      260.946  \n",
       "23                      262.848  "
      ]
     },
     "execution_count": 64,
     "metadata": {},
     "output_type": "execute_result"
    }
   ],
   "source": [
    "agg_result"
   ]
  },
  {
   "cell_type": "markdown",
   "metadata": {},
   "source": [
    "For this data, the best imputation method depends on the size of NA groups. A NA gap size near 30 missing values shows alternative imputation methods being preferable, such as the constructed forecast and weekday actuals methods.\n",
    "\n",
    "Importantly, the std of the forecasting and weekday actuals imputation methods are greater around n=30 than linear interpolation.\n",
    "\n",
    "\n"
   ]
  },
  {
   "cell_type": "markdown",
   "metadata": {},
   "source": [
    "### Large gap imputation test"
   ]
  },
  {
   "cell_type": "code",
   "execution_count": 37,
   "metadata": {},
   "outputs": [],
   "source": [
    "%%capture\n",
    "import ray\n",
    "\n",
    "ray.shutdown()\n",
    "### --- ray metrics launch-prometheus\n",
    "ray.init(num_cpus=7, num_gpus=0)\n",
    "impute_data = create_impute_data.remote(country_actuals)\n",
    "input_data = ray.get(impute_data)\n",
    "impute_windows = ray.get(create_window_idx.remote(input_data))\n",
    "weekday_impute = create_weekday_impute.remote(input_data)\n",
    "\n",
    "imputation_results = imputation_comparison.remote(\n",
    "    input_data, \n",
    "    impute_windows,\n",
    "    start=100,\n",
    "    end=500, # just over 2 days\n",
    "    increment=25,\n",
    "    )\n",
    "\n",
    "# retrieve results\n",
    "result = ray.get(imputation_results)\n",
    "# Write results locally as backup\n",
    "result.to_csv('imputation_results_large_gaps.csv')\n",
    "ray.shutdown()"
   ]
  },
  {
   "cell_type": "markdown",
   "metadata": {},
   "source": [
    "Large Gap Results"
   ]
  },
  {
   "cell_type": "code",
   "execution_count": 11,
   "metadata": {},
   "outputs": [
    {
     "data": {
      "application/vnd.plotly.v1+json": {
       "config": {
        "plotlyServerURL": "https://plot.ly"
       },
       "data": [
        {
         "hovertemplate": "variable=lin_nearest_mae_mean<br>n=%{x}<br>value=%{y}<extra></extra>",
         "legendgroup": "lin_nearest_mae_mean",
         "line": {
          "color": "#636efa",
          "dash": "solid"
         },
         "marker": {
          "symbol": "circle"
         },
         "mode": "lines",
         "name": "lin_nearest_mae_mean",
         "orientation": "v",
         "showlegend": true,
         "type": "scatter",
         "x": {
          "bdata": "ZAB9AJYArwDIAOEA+gATASwBRQFeAXcBkAGpAcIB2wE=",
          "dtype": "i2"
         },
         "xaxis": "x",
         "y": {
          "bdata": "ObTIdr5ckEDpJjEILDeTQEJg5dAiGpNA8KfGS7fGkkCoxks3CeaRQBKDwMqhkpBAy6FFtvPUkECyne+nxpuSQO58PzXetpNAbef7qXFAk0BKDAIrB1aTQHWTGARWQ5NAxSCwcmhUlEBYObTIdryTQKjGSzcJmJJAyXa+n5okk0A=",
          "dtype": "f8"
         },
         "yaxis": "y"
        },
        {
         "hovertemplate": "variable=lin_linear_mae_mean<br>n=%{x}<br>value=%{y}<extra></extra>",
         "legendgroup": "lin_linear_mae_mean",
         "line": {
          "color": "#EF553B",
          "dash": "solid"
         },
         "marker": {
          "symbol": "circle"
         },
         "mode": "lines",
         "name": "lin_linear_mae_mean",
         "orientation": "v",
         "showlegend": true,
         "type": "scatter",
         "x": {
          "bdata": "ZAB9AJYArwDIAOEA+gATASwBRQFeAXcBkAGpAcIB2wE=",
          "dtype": "i2"
         },
         "xaxis": "x",
         "y": {
          "bdata": "Urgeheuej0CgGi/dJEyOQOf7qfHSKI5A+FPjpRswkUBeukkMAs+RQIGVQ4tso49AJzEIrBw2kEA1XrpJDEmSQAisHFrkmJJAL90kBoHXkEA9CtejcGiRQPCnxks3bJJA001iENgBk0Av3SQGgbqRQKjGSzeJUpFAAAAAAIDVkkA=",
          "dtype": "f8"
         },
         "yaxis": "y"
        },
        {
         "hovertemplate": "variable=spline_mae_mean<br>n=%{x}<br>value=%{y}<extra></extra>",
         "legendgroup": "spline_mae_mean",
         "line": {
          "color": "#00cc96",
          "dash": "solid"
         },
         "marker": {
          "symbol": "circle"
         },
         "mode": "lines",
         "name": "spline_mae_mean",
         "orientation": "v",
         "showlegend": true,
         "type": "scatter",
         "x": {
          "bdata": "ZAB9AJYArwDIAOEA+gATASwBRQFeAXcBkAGpAcIB2wE=",
          "dtype": "i2"
         },
         "xaxis": "x",
         "y": {
          "bdata": "AAAAAIALmkCNl24SAyeZQJ7vp8ZLyqBAukkMAmtVokD0/dR4aUWpQMuhRbbzrKdAFK5H4XrwrUBCYOXQwo6xQJzEILDyzalA7FG4HoUIsUDHSzeJgbmwQLpJDAILFLZAO99PjdfGtECNl24SI9mwQFCNl27yv7hArBxaZLvtuUA=",
          "dtype": "f8"
         },
         "yaxis": "y"
        },
        {
         "hovertemplate": "variable=weekday_actuals_mae_mean<br>n=%{x}<br>value=%{y}<extra></extra>",
         "legendgroup": "weekday_actuals_mae_mean",
         "line": {
          "color": "#ab63fa",
          "dash": "solid"
         },
         "marker": {
          "symbol": "circle"
         },
         "mode": "lines",
         "name": "weekday_actuals_mae_mean",
         "orientation": "v",
         "showlegend": true,
         "type": "scatter",
         "x": {
          "bdata": "ZAB9AJYArwDIAOEA+gATASwBRQFeAXcBkAGpAcIB2wE=",
          "dtype": "i2"
         },
         "xaxis": "x",
         "y": {
          "bdata": "vp8aL93Uf0A9CtejcLN/QFYOLbKdQ39AnMQgsHLqf0AMAiuHFhGAQLbz/dR4r39AtMh2vp+yf0C8dJMYBAOAQGq8dJMYOoBARIts5/tHgED+1HjpJkOAQPp+arx0LIBAFK5H4XodgEB7FK5H4QOAQNEi2/l+2H9AKVyPwvWOf0A=",
          "dtype": "f8"
         },
         "yaxis": "y"
        },
        {
         "hovertemplate": "variable=fcst_mae_mean<br>n=%{x}<br>value=%{y}<extra></extra>",
         "legendgroup": "fcst_mae_mean",
         "line": {
          "color": "#FFA15A",
          "dash": "solid"
         },
         "marker": {
          "symbol": "circle"
         },
         "mode": "lines",
         "name": "fcst_mae_mean",
         "orientation": "v",
         "showlegend": true,
         "type": "scatter",
         "x": {
          "bdata": "ZAB9AJYArwDIAOEA+gATASwBRQFeAXcBkAGpAcIB2wE=",
          "dtype": "i2"
         },
         "xaxis": "x",
         "y": {
          "bdata": "j8L1KFy6gUBGtvP91NyCQJhuEoPAnINAsp3vp8a6hED6fmq8dKqFQJHtfD81nYZAMzMzMzNbh0Cmm8QgsCuIQJ7vp8ZL7YhAuB6F61HriUDNzMzMzIuKQJqZmZmZGItAukkMAit2i0CwcmiR7QSMQBsv3SQGZ4xAN4lBYOW8jEA=",
          "dtype": "f8"
         },
         "yaxis": "y"
        },
        {
         "hovertemplate": "variable=prophet_fcst_mae_mean<br>n=%{x}<br>value=%{y}<extra></extra>",
         "legendgroup": "prophet_fcst_mae_mean",
         "line": {
          "color": "#19d3f3",
          "dash": "solid"
         },
         "marker": {
          "symbol": "circle"
         },
         "mode": "lines",
         "name": "prophet_fcst_mae_mean",
         "orientation": "v",
         "showlegend": true,
         "type": "scatter",
         "x": {
          "bdata": "ZAB9AJYArwDIAOEA+gATASwBRQFeAXcBkAGpAcIB2wE=",
          "dtype": "i2"
         },
         "xaxis": "x",
         "y": {
          "bdata": "ObTIdr5lfUDZzvdT4zd+QC2yne+nF4BAnu+nxktzgUCWQ4ts52KCQLgehetRY4NA5/up8dLMhEB9PzVeum6GQKrx0k1iz4dA5dAi2/lviUB3vp8aLzmLQE5iEFg5toxAiUFg5dAfjkDRItv5ftKPQLbz/dR45pBABoGVQwvmkUA=",
          "dtype": "f8"
         },
         "yaxis": "y"
        },
        {
         "hovertemplate": "variable=fcst_smooth_mae_mean<br>n=%{x}<br>value=%{y}<extra></extra>",
         "legendgroup": "fcst_smooth_mae_mean",
         "line": {
          "color": "#FF6692",
          "dash": "solid"
         },
         "marker": {
          "symbol": "circle"
         },
         "mode": "lines",
         "name": "fcst_smooth_mae_mean",
         "orientation": "v",
         "showlegend": true,
         "type": "scatter",
         "x": {
          "bdata": "ZAB9AJYArwDIAOEA+gATASwBRQFeAXcBkAGpAcIB2wE=",
          "dtype": "i2"
         },
         "xaxis": "x",
         "y": {
          "bdata": "+n5qvHTagUBxPQrXoxqDQH0/NV662YNArkfhehTzhEC0yHa+n+OFQO58PzVe1YZAHVpkO9+Rh0Bt5/up8V+IQDMzMzMzJIlAO99PjZccikAnMQisHLWKQKrx0k1iRItARIts5/uli0CTGARWDjKMQFpkO99PjYxAxSCwcmjejEA=",
          "dtype": "f8"
         },
         "yaxis": "y"
        },
        {
         "hovertemplate": "variable=prophet_fcst_smooth_mae_mean<br>n=%{x}<br>value=%{y}<extra></extra>",
         "legendgroup": "prophet_fcst_smooth_mae_mean",
         "line": {
          "color": "#B6E880",
          "dash": "solid"
         },
         "marker": {
          "symbol": "circle"
         },
         "mode": "lines",
         "name": "prophet_fcst_smooth_mae_mean",
         "orientation": "v",
         "showlegend": true,
         "type": "scatter",
         "x": {
          "bdata": "ZAB9AJYArwDIAOEA+gATASwBRQFeAXcBkAGpAcIB2wE=",
          "dtype": "i2"
         },
         "xaxis": "x",
         "y": {
          "bdata": "/tR46Sa7fUDHSzeJQaR+QCUGgZVDSoBAxSCwcmiegUDNzMzMzJWCQGq8dJMYmINAoBov3ST/hEDZzvdT45qGQN9PjZdu/IdAVOOlm8SkiUAOLbKd72OLQOkmMQis24xAK4cW2c5FjkCsHFpkO/+PQNNNYhDY+JBArkfhepT0kUA=",
          "dtype": "f8"
         },
         "yaxis": "y"
        }
       ],
       "layout": {
        "legend": {
         "title": {
          "text": "variable"
         },
         "tracegroupgap": 0
        },
        "template": {
         "data": {
          "bar": [
           {
            "error_x": {
             "color": "#2a3f5f"
            },
            "error_y": {
             "color": "#2a3f5f"
            },
            "marker": {
             "line": {
              "color": "#E5ECF6",
              "width": 0.5
             },
             "pattern": {
              "fillmode": "overlay",
              "size": 10,
              "solidity": 0.2
             }
            },
            "type": "bar"
           }
          ],
          "barpolar": [
           {
            "marker": {
             "line": {
              "color": "#E5ECF6",
              "width": 0.5
             },
             "pattern": {
              "fillmode": "overlay",
              "size": 10,
              "solidity": 0.2
             }
            },
            "type": "barpolar"
           }
          ],
          "carpet": [
           {
            "aaxis": {
             "endlinecolor": "#2a3f5f",
             "gridcolor": "white",
             "linecolor": "white",
             "minorgridcolor": "white",
             "startlinecolor": "#2a3f5f"
            },
            "baxis": {
             "endlinecolor": "#2a3f5f",
             "gridcolor": "white",
             "linecolor": "white",
             "minorgridcolor": "white",
             "startlinecolor": "#2a3f5f"
            },
            "type": "carpet"
           }
          ],
          "choropleth": [
           {
            "colorbar": {
             "outlinewidth": 0,
             "ticks": ""
            },
            "type": "choropleth"
           }
          ],
          "contour": [
           {
            "colorbar": {
             "outlinewidth": 0,
             "ticks": ""
            },
            "colorscale": [
             [
              0,
              "#0d0887"
             ],
             [
              0.1111111111111111,
              "#46039f"
             ],
             [
              0.2222222222222222,
              "#7201a8"
             ],
             [
              0.3333333333333333,
              "#9c179e"
             ],
             [
              0.4444444444444444,
              "#bd3786"
             ],
             [
              0.5555555555555556,
              "#d8576b"
             ],
             [
              0.6666666666666666,
              "#ed7953"
             ],
             [
              0.7777777777777778,
              "#fb9f3a"
             ],
             [
              0.8888888888888888,
              "#fdca26"
             ],
             [
              1,
              "#f0f921"
             ]
            ],
            "type": "contour"
           }
          ],
          "contourcarpet": [
           {
            "colorbar": {
             "outlinewidth": 0,
             "ticks": ""
            },
            "type": "contourcarpet"
           }
          ],
          "heatmap": [
           {
            "colorbar": {
             "outlinewidth": 0,
             "ticks": ""
            },
            "colorscale": [
             [
              0,
              "#0d0887"
             ],
             [
              0.1111111111111111,
              "#46039f"
             ],
             [
              0.2222222222222222,
              "#7201a8"
             ],
             [
              0.3333333333333333,
              "#9c179e"
             ],
             [
              0.4444444444444444,
              "#bd3786"
             ],
             [
              0.5555555555555556,
              "#d8576b"
             ],
             [
              0.6666666666666666,
              "#ed7953"
             ],
             [
              0.7777777777777778,
              "#fb9f3a"
             ],
             [
              0.8888888888888888,
              "#fdca26"
             ],
             [
              1,
              "#f0f921"
             ]
            ],
            "type": "heatmap"
           }
          ],
          "histogram": [
           {
            "marker": {
             "pattern": {
              "fillmode": "overlay",
              "size": 10,
              "solidity": 0.2
             }
            },
            "type": "histogram"
           }
          ],
          "histogram2d": [
           {
            "colorbar": {
             "outlinewidth": 0,
             "ticks": ""
            },
            "colorscale": [
             [
              0,
              "#0d0887"
             ],
             [
              0.1111111111111111,
              "#46039f"
             ],
             [
              0.2222222222222222,
              "#7201a8"
             ],
             [
              0.3333333333333333,
              "#9c179e"
             ],
             [
              0.4444444444444444,
              "#bd3786"
             ],
             [
              0.5555555555555556,
              "#d8576b"
             ],
             [
              0.6666666666666666,
              "#ed7953"
             ],
             [
              0.7777777777777778,
              "#fb9f3a"
             ],
             [
              0.8888888888888888,
              "#fdca26"
             ],
             [
              1,
              "#f0f921"
             ]
            ],
            "type": "histogram2d"
           }
          ],
          "histogram2dcontour": [
           {
            "colorbar": {
             "outlinewidth": 0,
             "ticks": ""
            },
            "colorscale": [
             [
              0,
              "#0d0887"
             ],
             [
              0.1111111111111111,
              "#46039f"
             ],
             [
              0.2222222222222222,
              "#7201a8"
             ],
             [
              0.3333333333333333,
              "#9c179e"
             ],
             [
              0.4444444444444444,
              "#bd3786"
             ],
             [
              0.5555555555555556,
              "#d8576b"
             ],
             [
              0.6666666666666666,
              "#ed7953"
             ],
             [
              0.7777777777777778,
              "#fb9f3a"
             ],
             [
              0.8888888888888888,
              "#fdca26"
             ],
             [
              1,
              "#f0f921"
             ]
            ],
            "type": "histogram2dcontour"
           }
          ],
          "mesh3d": [
           {
            "colorbar": {
             "outlinewidth": 0,
             "ticks": ""
            },
            "type": "mesh3d"
           }
          ],
          "parcoords": [
           {
            "line": {
             "colorbar": {
              "outlinewidth": 0,
              "ticks": ""
             }
            },
            "type": "parcoords"
           }
          ],
          "pie": [
           {
            "automargin": true,
            "type": "pie"
           }
          ],
          "scatter": [
           {
            "fillpattern": {
             "fillmode": "overlay",
             "size": 10,
             "solidity": 0.2
            },
            "type": "scatter"
           }
          ],
          "scatter3d": [
           {
            "line": {
             "colorbar": {
              "outlinewidth": 0,
              "ticks": ""
             }
            },
            "marker": {
             "colorbar": {
              "outlinewidth": 0,
              "ticks": ""
             }
            },
            "type": "scatter3d"
           }
          ],
          "scattercarpet": [
           {
            "marker": {
             "colorbar": {
              "outlinewidth": 0,
              "ticks": ""
             }
            },
            "type": "scattercarpet"
           }
          ],
          "scattergeo": [
           {
            "marker": {
             "colorbar": {
              "outlinewidth": 0,
              "ticks": ""
             }
            },
            "type": "scattergeo"
           }
          ],
          "scattergl": [
           {
            "marker": {
             "colorbar": {
              "outlinewidth": 0,
              "ticks": ""
             }
            },
            "type": "scattergl"
           }
          ],
          "scattermap": [
           {
            "marker": {
             "colorbar": {
              "outlinewidth": 0,
              "ticks": ""
             }
            },
            "type": "scattermap"
           }
          ],
          "scattermapbox": [
           {
            "marker": {
             "colorbar": {
              "outlinewidth": 0,
              "ticks": ""
             }
            },
            "type": "scattermapbox"
           }
          ],
          "scatterpolar": [
           {
            "marker": {
             "colorbar": {
              "outlinewidth": 0,
              "ticks": ""
             }
            },
            "type": "scatterpolar"
           }
          ],
          "scatterpolargl": [
           {
            "marker": {
             "colorbar": {
              "outlinewidth": 0,
              "ticks": ""
             }
            },
            "type": "scatterpolargl"
           }
          ],
          "scatterternary": [
           {
            "marker": {
             "colorbar": {
              "outlinewidth": 0,
              "ticks": ""
             }
            },
            "type": "scatterternary"
           }
          ],
          "surface": [
           {
            "colorbar": {
             "outlinewidth": 0,
             "ticks": ""
            },
            "colorscale": [
             [
              0,
              "#0d0887"
             ],
             [
              0.1111111111111111,
              "#46039f"
             ],
             [
              0.2222222222222222,
              "#7201a8"
             ],
             [
              0.3333333333333333,
              "#9c179e"
             ],
             [
              0.4444444444444444,
              "#bd3786"
             ],
             [
              0.5555555555555556,
              "#d8576b"
             ],
             [
              0.6666666666666666,
              "#ed7953"
             ],
             [
              0.7777777777777778,
              "#fb9f3a"
             ],
             [
              0.8888888888888888,
              "#fdca26"
             ],
             [
              1,
              "#f0f921"
             ]
            ],
            "type": "surface"
           }
          ],
          "table": [
           {
            "cells": {
             "fill": {
              "color": "#EBF0F8"
             },
             "line": {
              "color": "white"
             }
            },
            "header": {
             "fill": {
              "color": "#C8D4E3"
             },
             "line": {
              "color": "white"
             }
            },
            "type": "table"
           }
          ]
         },
         "layout": {
          "annotationdefaults": {
           "arrowcolor": "#2a3f5f",
           "arrowhead": 0,
           "arrowwidth": 1
          },
          "autotypenumbers": "strict",
          "coloraxis": {
           "colorbar": {
            "outlinewidth": 0,
            "ticks": ""
           }
          },
          "colorscale": {
           "diverging": [
            [
             0,
             "#8e0152"
            ],
            [
             0.1,
             "#c51b7d"
            ],
            [
             0.2,
             "#de77ae"
            ],
            [
             0.3,
             "#f1b6da"
            ],
            [
             0.4,
             "#fde0ef"
            ],
            [
             0.5,
             "#f7f7f7"
            ],
            [
             0.6,
             "#e6f5d0"
            ],
            [
             0.7,
             "#b8e186"
            ],
            [
             0.8,
             "#7fbc41"
            ],
            [
             0.9,
             "#4d9221"
            ],
            [
             1,
             "#276419"
            ]
           ],
           "sequential": [
            [
             0,
             "#0d0887"
            ],
            [
             0.1111111111111111,
             "#46039f"
            ],
            [
             0.2222222222222222,
             "#7201a8"
            ],
            [
             0.3333333333333333,
             "#9c179e"
            ],
            [
             0.4444444444444444,
             "#bd3786"
            ],
            [
             0.5555555555555556,
             "#d8576b"
            ],
            [
             0.6666666666666666,
             "#ed7953"
            ],
            [
             0.7777777777777778,
             "#fb9f3a"
            ],
            [
             0.8888888888888888,
             "#fdca26"
            ],
            [
             1,
             "#f0f921"
            ]
           ],
           "sequentialminus": [
            [
             0,
             "#0d0887"
            ],
            [
             0.1111111111111111,
             "#46039f"
            ],
            [
             0.2222222222222222,
             "#7201a8"
            ],
            [
             0.3333333333333333,
             "#9c179e"
            ],
            [
             0.4444444444444444,
             "#bd3786"
            ],
            [
             0.5555555555555556,
             "#d8576b"
            ],
            [
             0.6666666666666666,
             "#ed7953"
            ],
            [
             0.7777777777777778,
             "#fb9f3a"
            ],
            [
             0.8888888888888888,
             "#fdca26"
            ],
            [
             1,
             "#f0f921"
            ]
           ]
          },
          "colorway": [
           "#636efa",
           "#EF553B",
           "#00cc96",
           "#ab63fa",
           "#FFA15A",
           "#19d3f3",
           "#FF6692",
           "#B6E880",
           "#FF97FF",
           "#FECB52"
          ],
          "font": {
           "color": "#2a3f5f"
          },
          "geo": {
           "bgcolor": "white",
           "lakecolor": "white",
           "landcolor": "#E5ECF6",
           "showlakes": true,
           "showland": true,
           "subunitcolor": "white"
          },
          "hoverlabel": {
           "align": "left"
          },
          "hovermode": "closest",
          "mapbox": {
           "style": "light"
          },
          "paper_bgcolor": "white",
          "plot_bgcolor": "#E5ECF6",
          "polar": {
           "angularaxis": {
            "gridcolor": "white",
            "linecolor": "white",
            "ticks": ""
           },
           "bgcolor": "#E5ECF6",
           "radialaxis": {
            "gridcolor": "white",
            "linecolor": "white",
            "ticks": ""
           }
          },
          "scene": {
           "xaxis": {
            "backgroundcolor": "#E5ECF6",
            "gridcolor": "white",
            "gridwidth": 2,
            "linecolor": "white",
            "showbackground": true,
            "ticks": "",
            "zerolinecolor": "white"
           },
           "yaxis": {
            "backgroundcolor": "#E5ECF6",
            "gridcolor": "white",
            "gridwidth": 2,
            "linecolor": "white",
            "showbackground": true,
            "ticks": "",
            "zerolinecolor": "white"
           },
           "zaxis": {
            "backgroundcolor": "#E5ECF6",
            "gridcolor": "white",
            "gridwidth": 2,
            "linecolor": "white",
            "showbackground": true,
            "ticks": "",
            "zerolinecolor": "white"
           }
          },
          "shapedefaults": {
           "line": {
            "color": "#2a3f5f"
           }
          },
          "ternary": {
           "aaxis": {
            "gridcolor": "white",
            "linecolor": "white",
            "ticks": ""
           },
           "baxis": {
            "gridcolor": "white",
            "linecolor": "white",
            "ticks": ""
           },
           "bgcolor": "#E5ECF6",
           "caxis": {
            "gridcolor": "white",
            "linecolor": "white",
            "ticks": ""
           }
          },
          "title": {
           "x": 0.05
          },
          "xaxis": {
           "automargin": true,
           "gridcolor": "white",
           "linecolor": "white",
           "ticks": "",
           "title": {
            "standoff": 15
           },
           "zerolinecolor": "white",
           "zerolinewidth": 2
          },
          "yaxis": {
           "automargin": true,
           "gridcolor": "white",
           "linecolor": "white",
           "ticks": "",
           "title": {
            "standoff": 15
           },
           "zerolinecolor": "white",
           "zerolinewidth": 2
          }
         }
        },
        "title": {
         "text": "Imputation Comparison Results"
        },
        "xaxis": {
         "anchor": "y",
         "domain": [
          0,
          1
         ],
         "title": {
          "text": "n"
         }
        },
        "yaxis": {
         "anchor": "x",
         "domain": [
          0,
          1
         ],
         "title": {
          "text": "value"
         }
        }
       }
      }
     },
     "metadata": {},
     "output_type": "display_data"
    }
   ],
   "source": [
    "cd = Path.cwd()\n",
    "data_dir = str(cd.parents[0])\n",
    "filepath = data_dir + '\\\\load_forecasting_analysis\\\\imputation_results_large_gaps.csv'\n",
    "\n",
    "impute_results = pd.read_csv(filepath)\n",
    "\n",
    "agg_result = agg_results(impute_results)\n",
    "\n",
    "fig = plot_imputation_results(agg_result)\n",
    "fig\n",
    "fig.write_html(\"imputation_plot_large_gaps_4_19_2025.html\")"
   ]
  },
  {
   "cell_type": "code",
   "execution_count": 12,
   "metadata": {},
   "outputs": [
    {
     "data": {
      "application/vnd.microsoft.datawrangler.viewer.v0+json": {
       "columns": [
        {
         "name": "index",
         "rawType": "int64",
         "type": "integer"
        },
        {
         "name": "n",
         "rawType": "int64",
         "type": "integer"
        },
        {
         "name": "lin_nearest_mae_mean",
         "rawType": "float64",
         "type": "float"
        },
        {
         "name": "lin_nearest_mae_std",
         "rawType": "float64",
         "type": "float"
        },
        {
         "name": "lin_linear_mae_mean",
         "rawType": "float64",
         "type": "float"
        },
        {
         "name": "lin_linear_mae_std",
         "rawType": "float64",
         "type": "float"
        },
        {
         "name": "spline_mae_mean",
         "rawType": "float64",
         "type": "float"
        },
        {
         "name": "spline_mae_std",
         "rawType": "float64",
         "type": "float"
        },
        {
         "name": "weekday_actuals_mae_mean",
         "rawType": "float64",
         "type": "float"
        },
        {
         "name": "weekday_actuals_mae_std",
         "rawType": "float64",
         "type": "float"
        },
        {
         "name": "fcst_mae_mean",
         "rawType": "float64",
         "type": "float"
        },
        {
         "name": "fcst_mae_std",
         "rawType": "float64",
         "type": "float"
        },
        {
         "name": "prophet_fcst_mae_mean",
         "rawType": "float64",
         "type": "float"
        },
        {
         "name": "prophet_fcst_mae_std",
         "rawType": "float64",
         "type": "float"
        },
        {
         "name": "fcst_smooth_mae_mean",
         "rawType": "float64",
         "type": "float"
        },
        {
         "name": "fcst_smooth_mae_std",
         "rawType": "float64",
         "type": "float"
        },
        {
         "name": "prophet_fcst_smooth_mae_mean",
         "rawType": "float64",
         "type": "float"
        },
        {
         "name": "prophet_fcst_smooth_mae_std",
         "rawType": "float64",
         "type": "float"
        }
       ],
       "ref": "80e3a0c9-680a-4081-a0ce-1c7275ebf089",
       "rows": [
        [
         "0",
         "100",
         "1047.186",
         "416.224",
         "1011.865",
         "416.924",
         "1666.875",
         "1457.53",
         "509.304",
         "275.218",
         "567.295",
         "387.851",
         "470.359",
         "272.404",
         "571.307",
         "384.795",
         "475.697",
         "266.977"
        ],
        [
         "1",
         "125",
         "1229.793",
         "430.922",
         "969.518",
         "277.503",
         "1609.753",
         "841.829",
         "507.215",
         "264.166",
         "603.604",
         "404.418",
         "483.493",
         "288.265",
         "611.33",
         "399.764",
         "490.266",
         "282.273"
        ],
        [
         "2",
         "150",
         "1222.534",
         "334.148",
         "965.103",
         "250.328",
         "2149.148",
         "1140.891",
         "500.226",
         "261.032",
         "627.594",
         "423.143",
         "514.957",
         "331.701",
         "635.216",
         "419.673",
         "521.283",
         "329.878"
        ],
        [
         "3",
         "175",
         "1201.679",
         "346.268",
         "1100.027",
         "339.392",
         "2346.709",
         "1886.111",
         "510.653",
         "255.384",
         "663.347",
         "445.01",
         "558.412",
         "374.177",
         "670.385",
         "438.708",
         "563.801",
         "373.506"
        ],
        [
         "4",
         "200",
         "1145.509",
         "336.709",
         "1139.752",
         "335.768",
         "3234.706",
         "3923.942",
         "514.136",
         "262.429",
         "693.307",
         "454.222",
         "588.363",
         "397.469",
         "700.453",
         "447.98",
         "594.725",
         "394.402"
        ],
        [
         "5",
         "225",
         "1060.658",
         "273.3",
         "1012.428",
         "227.652",
         "3030.476",
         "2595.992",
         "506.967",
         "262.621",
         "723.651",
         "456.649",
         "620.415",
         "417.049",
         "730.671",
         "451.315",
         "627.012",
         "413.606"
        ],
        [
         "6",
         "250",
         "1077.238",
         "339.485",
         "1037.528",
         "282.461",
         "3832.24",
         "3591.187",
         "507.164",
         "259.783",
         "747.4",
         "461.443",
         "665.603",
         "453.26",
         "754.234",
         "457.017",
         "671.893",
         "451.734"
        ],
        [
         "7",
         "275",
         "1190.944",
         "389.669",
         "1170.262",
         "370.96",
         "4494.761",
         "3639.887",
         "512.377",
         "255.097",
         "773.461",
         "456.844",
         "717.841",
         "487.633",
         "779.993",
         "451.511",
         "723.361",
         "486.348"
        ],
        [
         "8",
         "300",
         "1261.717",
         "383.653",
         "1190.223",
         "365.691",
         "3302.974",
         "2062.827",
         "519.262",
         "257.244",
         "797.662",
         "445.016",
         "761.923",
         "514.188",
         "804.525",
         "439.926",
         "767.554",
         "511.479"
        ],
        [
         "9",
         "325",
         "1232.111",
         "291.693",
         "1077.876",
         "241.993",
         "4360.52",
         "3843.375",
         "520.998",
         "255.008",
         "829.415",
         "427.691",
         "813.997",
         "543.125",
         "835.574",
         "423.867",
         "820.596",
         "540.22"
        ],
        [
         "10",
         "350",
         "1237.507",
         "311.931",
         "1114.11",
         "273.501",
         "4281.506",
         "3239.254",
         "520.394",
         "253.412",
         "849.475",
         "413.52",
         "871.148",
         "580.337",
         "854.639",
         "410.422",
         "876.492",
         "577.04"
        ],
        [
         "11",
         "375",
         "1232.834",
         "279.427",
         "1179.054",
         "302.476",
         "5652.043",
         "6002.813",
         "517.557",
         "249.082",
         "867.075",
         "397.177",
         "918.778",
         "608.314",
         "872.548",
         "394.261",
         "923.459",
         "605.415"
        ],
        [
         "12",
         "400",
         "1301.102",
         "318.852",
         "1216.461",
         "262.288",
         "5318.842",
         "3828.213",
         "515.685",
         "246.566",
         "878.771",
         "387.937",
         "963.977",
         "640.894",
         "884.748",
         "384.596",
         "968.726",
         "636.844"
        ],
        [
         "13",
         "425",
         "1263.116",
         "264.249",
         "1134.626",
         "194.625",
         "4313.137",
         "3141.113",
         "512.485",
         "247.656",
         "896.616",
         "375.142",
         "1018.312",
         "682.985",
         "902.257",
         "372.446",
         "1023.904",
         "678.781"
        ],
        [
         "14",
         "450",
         "1190.009",
         "257.542",
         "1108.634",
         "192.71",
         "6335.947",
         "4785.105",
         "509.531",
         "248.946",
         "908.878",
         "357.64",
         "1081.618",
         "724.3",
         "913.664",
         "355.859",
         "1086.211",
         "719.924"
        ],
        [
         "15",
         "475",
         "1225.151",
         "323.921",
         "1205.375",
         "318.262",
         "6637.732",
         "6112.8",
         "504.935",
         "248.032",
         "919.612",
         "346.137",
         "1145.511",
         "770.672",
         "923.801",
         "344.289",
         "1149.145",
         "767.318"
        ]
       ],
       "shape": {
        "columns": 17,
        "rows": 16
       }
      },
      "text/html": [
       "<div>\n",
       "<style scoped>\n",
       "    .dataframe tbody tr th:only-of-type {\n",
       "        vertical-align: middle;\n",
       "    }\n",
       "\n",
       "    .dataframe tbody tr th {\n",
       "        vertical-align: top;\n",
       "    }\n",
       "\n",
       "    .dataframe thead th {\n",
       "        text-align: right;\n",
       "    }\n",
       "</style>\n",
       "<table border=\"1\" class=\"dataframe\">\n",
       "  <thead>\n",
       "    <tr style=\"text-align: right;\">\n",
       "      <th></th>\n",
       "      <th>n</th>\n",
       "      <th>lin_nearest_mae_mean</th>\n",
       "      <th>lin_nearest_mae_std</th>\n",
       "      <th>lin_linear_mae_mean</th>\n",
       "      <th>lin_linear_mae_std</th>\n",
       "      <th>spline_mae_mean</th>\n",
       "      <th>spline_mae_std</th>\n",
       "      <th>weekday_actuals_mae_mean</th>\n",
       "      <th>weekday_actuals_mae_std</th>\n",
       "      <th>fcst_mae_mean</th>\n",
       "      <th>fcst_mae_std</th>\n",
       "      <th>prophet_fcst_mae_mean</th>\n",
       "      <th>prophet_fcst_mae_std</th>\n",
       "      <th>fcst_smooth_mae_mean</th>\n",
       "      <th>fcst_smooth_mae_std</th>\n",
       "      <th>prophet_fcst_smooth_mae_mean</th>\n",
       "      <th>prophet_fcst_smooth_mae_std</th>\n",
       "    </tr>\n",
       "  </thead>\n",
       "  <tbody>\n",
       "    <tr>\n",
       "      <th>0</th>\n",
       "      <td>100</td>\n",
       "      <td>1047.186</td>\n",
       "      <td>416.224</td>\n",
       "      <td>1011.865</td>\n",
       "      <td>416.924</td>\n",
       "      <td>1666.875</td>\n",
       "      <td>1457.530</td>\n",
       "      <td>509.304</td>\n",
       "      <td>275.218</td>\n",
       "      <td>567.295</td>\n",
       "      <td>387.851</td>\n",
       "      <td>470.359</td>\n",
       "      <td>272.404</td>\n",
       "      <td>571.307</td>\n",
       "      <td>384.795</td>\n",
       "      <td>475.697</td>\n",
       "      <td>266.977</td>\n",
       "    </tr>\n",
       "    <tr>\n",
       "      <th>1</th>\n",
       "      <td>125</td>\n",
       "      <td>1229.793</td>\n",
       "      <td>430.922</td>\n",
       "      <td>969.518</td>\n",
       "      <td>277.503</td>\n",
       "      <td>1609.753</td>\n",
       "      <td>841.829</td>\n",
       "      <td>507.215</td>\n",
       "      <td>264.166</td>\n",
       "      <td>603.604</td>\n",
       "      <td>404.418</td>\n",
       "      <td>483.493</td>\n",
       "      <td>288.265</td>\n",
       "      <td>611.330</td>\n",
       "      <td>399.764</td>\n",
       "      <td>490.266</td>\n",
       "      <td>282.273</td>\n",
       "    </tr>\n",
       "    <tr>\n",
       "      <th>2</th>\n",
       "      <td>150</td>\n",
       "      <td>1222.534</td>\n",
       "      <td>334.148</td>\n",
       "      <td>965.103</td>\n",
       "      <td>250.328</td>\n",
       "      <td>2149.148</td>\n",
       "      <td>1140.891</td>\n",
       "      <td>500.226</td>\n",
       "      <td>261.032</td>\n",
       "      <td>627.594</td>\n",
       "      <td>423.143</td>\n",
       "      <td>514.957</td>\n",
       "      <td>331.701</td>\n",
       "      <td>635.216</td>\n",
       "      <td>419.673</td>\n",
       "      <td>521.283</td>\n",
       "      <td>329.878</td>\n",
       "    </tr>\n",
       "    <tr>\n",
       "      <th>3</th>\n",
       "      <td>175</td>\n",
       "      <td>1201.679</td>\n",
       "      <td>346.268</td>\n",
       "      <td>1100.027</td>\n",
       "      <td>339.392</td>\n",
       "      <td>2346.709</td>\n",
       "      <td>1886.111</td>\n",
       "      <td>510.653</td>\n",
       "      <td>255.384</td>\n",
       "      <td>663.347</td>\n",
       "      <td>445.010</td>\n",
       "      <td>558.412</td>\n",
       "      <td>374.177</td>\n",
       "      <td>670.385</td>\n",
       "      <td>438.708</td>\n",
       "      <td>563.801</td>\n",
       "      <td>373.506</td>\n",
       "    </tr>\n",
       "    <tr>\n",
       "      <th>4</th>\n",
       "      <td>200</td>\n",
       "      <td>1145.509</td>\n",
       "      <td>336.709</td>\n",
       "      <td>1139.752</td>\n",
       "      <td>335.768</td>\n",
       "      <td>3234.706</td>\n",
       "      <td>3923.942</td>\n",
       "      <td>514.136</td>\n",
       "      <td>262.429</td>\n",
       "      <td>693.307</td>\n",
       "      <td>454.222</td>\n",
       "      <td>588.363</td>\n",
       "      <td>397.469</td>\n",
       "      <td>700.453</td>\n",
       "      <td>447.980</td>\n",
       "      <td>594.725</td>\n",
       "      <td>394.402</td>\n",
       "    </tr>\n",
       "    <tr>\n",
       "      <th>5</th>\n",
       "      <td>225</td>\n",
       "      <td>1060.658</td>\n",
       "      <td>273.300</td>\n",
       "      <td>1012.428</td>\n",
       "      <td>227.652</td>\n",
       "      <td>3030.476</td>\n",
       "      <td>2595.992</td>\n",
       "      <td>506.967</td>\n",
       "      <td>262.621</td>\n",
       "      <td>723.651</td>\n",
       "      <td>456.649</td>\n",
       "      <td>620.415</td>\n",
       "      <td>417.049</td>\n",
       "      <td>730.671</td>\n",
       "      <td>451.315</td>\n",
       "      <td>627.012</td>\n",
       "      <td>413.606</td>\n",
       "    </tr>\n",
       "    <tr>\n",
       "      <th>6</th>\n",
       "      <td>250</td>\n",
       "      <td>1077.238</td>\n",
       "      <td>339.485</td>\n",
       "      <td>1037.528</td>\n",
       "      <td>282.461</td>\n",
       "      <td>3832.240</td>\n",
       "      <td>3591.187</td>\n",
       "      <td>507.164</td>\n",
       "      <td>259.783</td>\n",
       "      <td>747.400</td>\n",
       "      <td>461.443</td>\n",
       "      <td>665.603</td>\n",
       "      <td>453.260</td>\n",
       "      <td>754.234</td>\n",
       "      <td>457.017</td>\n",
       "      <td>671.893</td>\n",
       "      <td>451.734</td>\n",
       "    </tr>\n",
       "    <tr>\n",
       "      <th>7</th>\n",
       "      <td>275</td>\n",
       "      <td>1190.944</td>\n",
       "      <td>389.669</td>\n",
       "      <td>1170.262</td>\n",
       "      <td>370.960</td>\n",
       "      <td>4494.761</td>\n",
       "      <td>3639.887</td>\n",
       "      <td>512.377</td>\n",
       "      <td>255.097</td>\n",
       "      <td>773.461</td>\n",
       "      <td>456.844</td>\n",
       "      <td>717.841</td>\n",
       "      <td>487.633</td>\n",
       "      <td>779.993</td>\n",
       "      <td>451.511</td>\n",
       "      <td>723.361</td>\n",
       "      <td>486.348</td>\n",
       "    </tr>\n",
       "    <tr>\n",
       "      <th>8</th>\n",
       "      <td>300</td>\n",
       "      <td>1261.717</td>\n",
       "      <td>383.653</td>\n",
       "      <td>1190.223</td>\n",
       "      <td>365.691</td>\n",
       "      <td>3302.974</td>\n",
       "      <td>2062.827</td>\n",
       "      <td>519.262</td>\n",
       "      <td>257.244</td>\n",
       "      <td>797.662</td>\n",
       "      <td>445.016</td>\n",
       "      <td>761.923</td>\n",
       "      <td>514.188</td>\n",
       "      <td>804.525</td>\n",
       "      <td>439.926</td>\n",
       "      <td>767.554</td>\n",
       "      <td>511.479</td>\n",
       "    </tr>\n",
       "    <tr>\n",
       "      <th>9</th>\n",
       "      <td>325</td>\n",
       "      <td>1232.111</td>\n",
       "      <td>291.693</td>\n",
       "      <td>1077.876</td>\n",
       "      <td>241.993</td>\n",
       "      <td>4360.520</td>\n",
       "      <td>3843.375</td>\n",
       "      <td>520.998</td>\n",
       "      <td>255.008</td>\n",
       "      <td>829.415</td>\n",
       "      <td>427.691</td>\n",
       "      <td>813.997</td>\n",
       "      <td>543.125</td>\n",
       "      <td>835.574</td>\n",
       "      <td>423.867</td>\n",
       "      <td>820.596</td>\n",
       "      <td>540.220</td>\n",
       "    </tr>\n",
       "    <tr>\n",
       "      <th>10</th>\n",
       "      <td>350</td>\n",
       "      <td>1237.507</td>\n",
       "      <td>311.931</td>\n",
       "      <td>1114.110</td>\n",
       "      <td>273.501</td>\n",
       "      <td>4281.506</td>\n",
       "      <td>3239.254</td>\n",
       "      <td>520.394</td>\n",
       "      <td>253.412</td>\n",
       "      <td>849.475</td>\n",
       "      <td>413.520</td>\n",
       "      <td>871.148</td>\n",
       "      <td>580.337</td>\n",
       "      <td>854.639</td>\n",
       "      <td>410.422</td>\n",
       "      <td>876.492</td>\n",
       "      <td>577.040</td>\n",
       "    </tr>\n",
       "    <tr>\n",
       "      <th>11</th>\n",
       "      <td>375</td>\n",
       "      <td>1232.834</td>\n",
       "      <td>279.427</td>\n",
       "      <td>1179.054</td>\n",
       "      <td>302.476</td>\n",
       "      <td>5652.043</td>\n",
       "      <td>6002.813</td>\n",
       "      <td>517.557</td>\n",
       "      <td>249.082</td>\n",
       "      <td>867.075</td>\n",
       "      <td>397.177</td>\n",
       "      <td>918.778</td>\n",
       "      <td>608.314</td>\n",
       "      <td>872.548</td>\n",
       "      <td>394.261</td>\n",
       "      <td>923.459</td>\n",
       "      <td>605.415</td>\n",
       "    </tr>\n",
       "    <tr>\n",
       "      <th>12</th>\n",
       "      <td>400</td>\n",
       "      <td>1301.102</td>\n",
       "      <td>318.852</td>\n",
       "      <td>1216.461</td>\n",
       "      <td>262.288</td>\n",
       "      <td>5318.842</td>\n",
       "      <td>3828.213</td>\n",
       "      <td>515.685</td>\n",
       "      <td>246.566</td>\n",
       "      <td>878.771</td>\n",
       "      <td>387.937</td>\n",
       "      <td>963.977</td>\n",
       "      <td>640.894</td>\n",
       "      <td>884.748</td>\n",
       "      <td>384.596</td>\n",
       "      <td>968.726</td>\n",
       "      <td>636.844</td>\n",
       "    </tr>\n",
       "    <tr>\n",
       "      <th>13</th>\n",
       "      <td>425</td>\n",
       "      <td>1263.116</td>\n",
       "      <td>264.249</td>\n",
       "      <td>1134.626</td>\n",
       "      <td>194.625</td>\n",
       "      <td>4313.137</td>\n",
       "      <td>3141.113</td>\n",
       "      <td>512.485</td>\n",
       "      <td>247.656</td>\n",
       "      <td>896.616</td>\n",
       "      <td>375.142</td>\n",
       "      <td>1018.312</td>\n",
       "      <td>682.985</td>\n",
       "      <td>902.257</td>\n",
       "      <td>372.446</td>\n",
       "      <td>1023.904</td>\n",
       "      <td>678.781</td>\n",
       "    </tr>\n",
       "    <tr>\n",
       "      <th>14</th>\n",
       "      <td>450</td>\n",
       "      <td>1190.009</td>\n",
       "      <td>257.542</td>\n",
       "      <td>1108.634</td>\n",
       "      <td>192.710</td>\n",
       "      <td>6335.947</td>\n",
       "      <td>4785.105</td>\n",
       "      <td>509.531</td>\n",
       "      <td>248.946</td>\n",
       "      <td>908.878</td>\n",
       "      <td>357.640</td>\n",
       "      <td>1081.618</td>\n",
       "      <td>724.300</td>\n",
       "      <td>913.664</td>\n",
       "      <td>355.859</td>\n",
       "      <td>1086.211</td>\n",
       "      <td>719.924</td>\n",
       "    </tr>\n",
       "    <tr>\n",
       "      <th>15</th>\n",
       "      <td>475</td>\n",
       "      <td>1225.151</td>\n",
       "      <td>323.921</td>\n",
       "      <td>1205.375</td>\n",
       "      <td>318.262</td>\n",
       "      <td>6637.732</td>\n",
       "      <td>6112.800</td>\n",
       "      <td>504.935</td>\n",
       "      <td>248.032</td>\n",
       "      <td>919.612</td>\n",
       "      <td>346.137</td>\n",
       "      <td>1145.511</td>\n",
       "      <td>770.672</td>\n",
       "      <td>923.801</td>\n",
       "      <td>344.289</td>\n",
       "      <td>1149.145</td>\n",
       "      <td>767.318</td>\n",
       "    </tr>\n",
       "  </tbody>\n",
       "</table>\n",
       "</div>"
      ],
      "text/plain": [
       "      n  lin_nearest_mae_mean  lin_nearest_mae_std  lin_linear_mae_mean  \\\n",
       "0   100              1047.186              416.224             1011.865   \n",
       "1   125              1229.793              430.922              969.518   \n",
       "2   150              1222.534              334.148              965.103   \n",
       "3   175              1201.679              346.268             1100.027   \n",
       "4   200              1145.509              336.709             1139.752   \n",
       "5   225              1060.658              273.300             1012.428   \n",
       "6   250              1077.238              339.485             1037.528   \n",
       "7   275              1190.944              389.669             1170.262   \n",
       "8   300              1261.717              383.653             1190.223   \n",
       "9   325              1232.111              291.693             1077.876   \n",
       "10  350              1237.507              311.931             1114.110   \n",
       "11  375              1232.834              279.427             1179.054   \n",
       "12  400              1301.102              318.852             1216.461   \n",
       "13  425              1263.116              264.249             1134.626   \n",
       "14  450              1190.009              257.542             1108.634   \n",
       "15  475              1225.151              323.921             1205.375   \n",
       "\n",
       "    lin_linear_mae_std  spline_mae_mean  spline_mae_std  \\\n",
       "0              416.924         1666.875        1457.530   \n",
       "1              277.503         1609.753         841.829   \n",
       "2              250.328         2149.148        1140.891   \n",
       "3              339.392         2346.709        1886.111   \n",
       "4              335.768         3234.706        3923.942   \n",
       "5              227.652         3030.476        2595.992   \n",
       "6              282.461         3832.240        3591.187   \n",
       "7              370.960         4494.761        3639.887   \n",
       "8              365.691         3302.974        2062.827   \n",
       "9              241.993         4360.520        3843.375   \n",
       "10             273.501         4281.506        3239.254   \n",
       "11             302.476         5652.043        6002.813   \n",
       "12             262.288         5318.842        3828.213   \n",
       "13             194.625         4313.137        3141.113   \n",
       "14             192.710         6335.947        4785.105   \n",
       "15             318.262         6637.732        6112.800   \n",
       "\n",
       "    weekday_actuals_mae_mean  weekday_actuals_mae_std  fcst_mae_mean  \\\n",
       "0                    509.304                  275.218        567.295   \n",
       "1                    507.215                  264.166        603.604   \n",
       "2                    500.226                  261.032        627.594   \n",
       "3                    510.653                  255.384        663.347   \n",
       "4                    514.136                  262.429        693.307   \n",
       "5                    506.967                  262.621        723.651   \n",
       "6                    507.164                  259.783        747.400   \n",
       "7                    512.377                  255.097        773.461   \n",
       "8                    519.262                  257.244        797.662   \n",
       "9                    520.998                  255.008        829.415   \n",
       "10                   520.394                  253.412        849.475   \n",
       "11                   517.557                  249.082        867.075   \n",
       "12                   515.685                  246.566        878.771   \n",
       "13                   512.485                  247.656        896.616   \n",
       "14                   509.531                  248.946        908.878   \n",
       "15                   504.935                  248.032        919.612   \n",
       "\n",
       "    fcst_mae_std  prophet_fcst_mae_mean  prophet_fcst_mae_std  \\\n",
       "0        387.851                470.359               272.404   \n",
       "1        404.418                483.493               288.265   \n",
       "2        423.143                514.957               331.701   \n",
       "3        445.010                558.412               374.177   \n",
       "4        454.222                588.363               397.469   \n",
       "5        456.649                620.415               417.049   \n",
       "6        461.443                665.603               453.260   \n",
       "7        456.844                717.841               487.633   \n",
       "8        445.016                761.923               514.188   \n",
       "9        427.691                813.997               543.125   \n",
       "10       413.520                871.148               580.337   \n",
       "11       397.177                918.778               608.314   \n",
       "12       387.937                963.977               640.894   \n",
       "13       375.142               1018.312               682.985   \n",
       "14       357.640               1081.618               724.300   \n",
       "15       346.137               1145.511               770.672   \n",
       "\n",
       "    fcst_smooth_mae_mean  fcst_smooth_mae_std  prophet_fcst_smooth_mae_mean  \\\n",
       "0                571.307              384.795                       475.697   \n",
       "1                611.330              399.764                       490.266   \n",
       "2                635.216              419.673                       521.283   \n",
       "3                670.385              438.708                       563.801   \n",
       "4                700.453              447.980                       594.725   \n",
       "5                730.671              451.315                       627.012   \n",
       "6                754.234              457.017                       671.893   \n",
       "7                779.993              451.511                       723.361   \n",
       "8                804.525              439.926                       767.554   \n",
       "9                835.574              423.867                       820.596   \n",
       "10               854.639              410.422                       876.492   \n",
       "11               872.548              394.261                       923.459   \n",
       "12               884.748              384.596                       968.726   \n",
       "13               902.257              372.446                      1023.904   \n",
       "14               913.664              355.859                      1086.211   \n",
       "15               923.801              344.289                      1149.145   \n",
       "\n",
       "    prophet_fcst_smooth_mae_std  \n",
       "0                       266.977  \n",
       "1                       282.273  \n",
       "2                       329.878  \n",
       "3                       373.506  \n",
       "4                       394.402  \n",
       "5                       413.606  \n",
       "6                       451.734  \n",
       "7                       486.348  \n",
       "8                       511.479  \n",
       "9                       540.220  \n",
       "10                      577.040  \n",
       "11                      605.415  \n",
       "12                      636.844  \n",
       "13                      678.781  \n",
       "14                      719.924  \n",
       "15                      767.318  "
      ]
     },
     "execution_count": 12,
     "metadata": {},
     "output_type": "execute_result"
    }
   ],
   "source": [
    "agg_result"
   ]
  },
  {
   "cell_type": "markdown",
   "metadata": {},
   "source": [
    "As a group of NAs exceeds 150, weekday_actuals is a preferably imptation method. Prior to that, the prophet forecast gives the lowest mae"
   ]
  },
  {
   "cell_type": "markdown",
   "metadata": {},
   "source": [
    "### TimeSeriesImpute \n",
    "\n",
    "Given experiment, developed TimeSeriesImpute. Results are compared to linear interpolation.\n"
   ]
  },
  {
   "cell_type": "code",
   "execution_count": 5,
   "metadata": {},
   "outputs": [],
   "source": [
    "from forecast_pipeline.TimeSeriesImpute import *"
   ]
  },
  {
   "cell_type": "code",
   "execution_count": null,
   "metadata": {},
   "outputs": [],
   "source": [
    "ts_imp = TimeSeriesImpute()\n",
    "prepped_data = ts_imp.create_impute_data(country_actuals, country='LU')\n",
    "test = ts_imp.impute_timeseries_gaps(prepped_data, 'load_actual_entsoe_transparency')\n",
    "test.head()"
   ]
  },
  {
   "cell_type": "code",
   "execution_count": 11,
   "metadata": {},
   "outputs": [
    {
     "name": "stdout",
     "output_type": "stream",
     "text": [
      "Ensure imputation is occuring correctly:\n",
      "\n",
      "DF number NAs: 2664, Num NAs after imputation: 1\n",
      "\n",
      "prepped_data.shape = (151779, 6), test.shape = (151779, 6)\n"
     ]
    }
   ],
   "source": [
    "print('Ensure imputation is occuring correctly:')\n",
    "print(f\"\\nDF number NAs: {sum(prepped_data['load_actual_entsoe_transparency'].isna())}, Num NAs after imputation: {sum(test['load_actual_entsoe_transparency'].isna())}\")\n",
    "print(f\"\\n{prepped_data.shape = }, {test.shape = }\")"
   ]
  }
 ],
 "metadata": {
  "kernelspec": {
   "display_name": "venv",
   "language": "python",
   "name": "python3"
  },
  "language_info": {
   "codemirror_mode": {
    "name": "ipython",
    "version": 3
   },
   "file_extension": ".py",
   "mimetype": "text/x-python",
   "name": "python",
   "nbconvert_exporter": "python",
   "pygments_lexer": "ipython3",
   "version": "3.12.0"
  }
 },
 "nbformat": 4,
 "nbformat_minor": 2
}
