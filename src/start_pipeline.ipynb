{
 "cells": [
  {
   "cell_type": "code",
   "execution_count": null,
   "id": "191825cb",
   "metadata": {},
   "outputs": [],
   "source": [
    "import os\n",
    "import sys\n",
    "import importlib.util\n",
    "\n",
    "def import_script(script_path):\n",
    "    \"\"\"Import a Python script as a module.\"\"\"\n",
    "    spec = importlib.util.spec_from_file_location(\"module\", script_path)\n",
    "    module = importlib.util.module_from_spec(spec)\n",
    "    spec.loader.exec_module(module)\n",
    "    return module\n",
    "\n",
    "def run_pipeline(script_paths):\n",
    "    \"\"\"Run multiple Python scripts sequentially in the same environment.\"\"\"\n",
    "    # Import and run each script\n",
    "    for i, script_path in enumerate(script_paths):\n",
    "        print(f\"Running script {i+1}/{len(script_paths)}: {script_path}\")\n",
    "        try:\n",
    "            # Import script as module and keep it in global namespace\n",
    "            module = import_script(script_path)\n",
    "            # Add module's globals to our globals\n",
    "            globals().update(module.__dict__)\n",
    "            print(f\"Successfully executed {script_path}\")\n",
    "        except Exception as e:\n",
    "            print(f\"Error executing {script_path}: {e}\")\n",
    "            return False\n",
    "    \n",
    "    return True\n",
    "\n",
    "### Automate Data Preparation ###\n",
    "if __name__ == \"__main__\":\n",
    "    # Define script paths - update these with your actual script paths\n",
    "    scripts = [\n",
    "        \"src/setup_packages.py\", # is this needed?\n",
    "        \"src/energy_dt_prep.py\", \n",
    "        \"src/weather_dt_prep.py\",\n",
    "        \"src/model_dt_prep.py\"\n",
    "        #\"src/lightgbm_mlflow_model_build.py\"\n",
    "    ]\n",
    "    \n",
    "    # Run the pipeline\n",
    "    success = run_pipeline(scripts)\n",
    "    \n",
    "    if success:\n",
    "        print(\"Pipeline executed successfully!\")\n",
    "    else:\n",
    "        print(\"Pipeline execution failed.\")"
   ]
  }
 ],
 "metadata": {
  "kernelspec": {
   "display_name": "venv",
   "language": "python",
   "name": "python3"
  },
  "language_info": {
   "name": "python",
   "version": "3.12.0"
  }
 },
 "nbformat": 4,
 "nbformat_minor": 5
}
